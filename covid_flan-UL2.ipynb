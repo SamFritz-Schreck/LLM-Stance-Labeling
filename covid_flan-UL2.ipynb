{
 "cells": [
  {
   "cell_type": "markdown",
   "id": "5b37c7bb-c037-4504-a2e2-4010b3726ac8",
   "metadata": {},
   "source": [
    "# Stance Classification for CovidLies\n",
    "- read in the data and pre-process\n",
    "- set up an LLM\n",
    "- Investigate different prompting schemes\n",
    "    - just context\n",
    "    - context + few-shot learning\n",
    "    - content + few-shot learning + reasoning"
   ]
  },
  {
   "cell_type": "code",
   "execution_count": 1,
   "id": "5b436af4-75ff-4598-a9e3-70e746e1f99d",
   "metadata": {
    "scrolled": true,
    "tags": []
   },
   "outputs": [
    {
     "name": "stdout",
     "output_type": "stream",
     "text": [
      "Collecting transformers\n",
      "  Using cached transformers-4.33.1-py3-none-any.whl (7.6 MB)\n",
      "Requirement already satisfied: filelock in /usr/local/lib/python3.10/dist-packages (from transformers) (3.9.0)\n",
      "Collecting huggingface-hub<1.0,>=0.15.1 (from transformers)\n",
      "  Using cached huggingface_hub-0.17.1-py3-none-any.whl (294 kB)\n",
      "Requirement already satisfied: numpy>=1.17 in /usr/local/lib/python3.10/dist-packages (from transformers) (1.23.5)\n",
      "Requirement already satisfied: packaging>=20.0 in /usr/local/lib/python3.10/dist-packages (from transformers) (23.1)\n",
      "Requirement already satisfied: pyyaml>=5.1 in /usr/local/lib/python3.10/dist-packages (from transformers) (6.0)\n",
      "Collecting regex!=2019.12.17 (from transformers)\n",
      "  Using cached regex-2023.8.8-cp310-cp310-manylinux_2_17_x86_64.manylinux2014_x86_64.whl (771 kB)\n",
      "Requirement already satisfied: requests in /usr/local/lib/python3.10/dist-packages (from transformers) (2.30.0)\n",
      "Collecting tokenizers!=0.11.3,<0.14,>=0.11.1 (from transformers)\n",
      "  Using cached tokenizers-0.13.3-cp310-cp310-manylinux_2_17_x86_64.manylinux2014_x86_64.whl (7.8 MB)\n",
      "Collecting safetensors>=0.3.1 (from transformers)\n",
      "  Using cached safetensors-0.3.3-cp310-cp310-manylinux_2_17_x86_64.manylinux2014_x86_64.whl (1.3 MB)\n",
      "Requirement already satisfied: tqdm>=4.27 in /usr/local/lib/python3.10/dist-packages (from transformers) (4.65.0)\n",
      "Requirement already satisfied: fsspec in /usr/local/lib/python3.10/dist-packages (from huggingface-hub<1.0,>=0.15.1->transformers) (2023.5.0)\n",
      "Requirement already satisfied: typing-extensions>=3.7.4.3 in /usr/local/lib/python3.10/dist-packages (from huggingface-hub<1.0,>=0.15.1->transformers) (4.5.0)\n",
      "Requirement already satisfied: charset-normalizer<4,>=2 in /usr/local/lib/python3.10/dist-packages (from requests->transformers) (3.1.0)\n",
      "Requirement already satisfied: idna<4,>=2.5 in /usr/local/lib/python3.10/dist-packages (from requests->transformers) (3.4)\n",
      "Requirement already satisfied: urllib3<3,>=1.21.1 in /usr/local/lib/python3.10/dist-packages (from requests->transformers) (1.26.15)\n",
      "Requirement already satisfied: certifi>=2017.4.17 in /usr/local/lib/python3.10/dist-packages (from requests->transformers) (2023.5.7)\n",
      "Installing collected packages: tokenizers, safetensors, regex, huggingface-hub, transformers\n",
      "Successfully installed huggingface-hub-0.17.1 regex-2023.8.8 safetensors-0.3.3 tokenizers-0.13.3 transformers-4.33.1\n",
      "\n",
      "\u001b[1m[\u001b[0m\u001b[34;49mnotice\u001b[0m\u001b[1;39;49m]\u001b[0m\u001b[39;49m A new release of pip is available: \u001b[0m\u001b[31;49m23.1.2\u001b[0m\u001b[39;49m -> \u001b[0m\u001b[32;49m23.2.1\u001b[0m\n",
      "\u001b[1m[\u001b[0m\u001b[34;49mnotice\u001b[0m\u001b[1;39;49m]\u001b[0m\u001b[39;49m To update, run: \u001b[0m\u001b[32;49mpython -m pip install --upgrade pip\u001b[0m\n",
      "Requirement already satisfied: langchain in /home/jovyan/.local/lib/python3.10/site-packages (0.0.158)\n",
      "Requirement already satisfied: PyYAML>=5.4.1 in /usr/local/lib/python3.10/dist-packages (from langchain) (6.0)\n",
      "Requirement already satisfied: SQLAlchemy<3,>=1.3 in /usr/local/lib/python3.10/dist-packages (from langchain) (2.0.13)\n",
      "Requirement already satisfied: aiohttp<4.0.0,>=3.8.3 in /usr/local/lib/python3.10/dist-packages (from langchain) (3.8.4)\n",
      "Requirement already satisfied: async-timeout<5.0.0,>=4.0.0 in /usr/local/lib/python3.10/dist-packages (from langchain) (4.0.2)\n",
      "Requirement already satisfied: dataclasses-json<0.6.0,>=0.5.7 in /home/jovyan/.local/lib/python3.10/site-packages (from langchain) (0.5.7)\n",
      "Requirement already satisfied: numexpr<3.0.0,>=2.8.4 in /usr/local/lib/python3.10/dist-packages (from langchain) (2.8.4)\n",
      "Requirement already satisfied: numpy<2,>=1 in /usr/local/lib/python3.10/dist-packages (from langchain) (1.23.5)\n",
      "Requirement already satisfied: openapi-schema-pydantic<2.0,>=1.2 in /home/jovyan/.local/lib/python3.10/site-packages (from langchain) (1.2.4)\n",
      "Requirement already satisfied: pydantic<2,>=1 in /home/jovyan/.local/lib/python3.10/site-packages (from langchain) (1.10.8)\n",
      "Requirement already satisfied: requests<3,>=2 in /usr/local/lib/python3.10/dist-packages (from langchain) (2.30.0)\n",
      "Requirement already satisfied: tenacity<9.0.0,>=8.1.0 in /home/jovyan/.local/lib/python3.10/site-packages (from langchain) (8.2.2)\n",
      "Requirement already satisfied: tqdm>=4.48.0 in /usr/local/lib/python3.10/dist-packages (from langchain) (4.65.0)\n",
      "Requirement already satisfied: attrs>=17.3.0 in /usr/local/lib/python3.10/dist-packages (from aiohttp<4.0.0,>=3.8.3->langchain) (23.1.0)\n",
      "Requirement already satisfied: charset-normalizer<4.0,>=2.0 in /usr/local/lib/python3.10/dist-packages (from aiohttp<4.0.0,>=3.8.3->langchain) (3.1.0)\n",
      "Requirement already satisfied: multidict<7.0,>=4.5 in /usr/local/lib/python3.10/dist-packages (from aiohttp<4.0.0,>=3.8.3->langchain) (6.0.4)\n",
      "Requirement already satisfied: yarl<2.0,>=1.0 in /usr/local/lib/python3.10/dist-packages (from aiohttp<4.0.0,>=3.8.3->langchain) (1.9.2)\n",
      "Requirement already satisfied: frozenlist>=1.1.1 in /usr/local/lib/python3.10/dist-packages (from aiohttp<4.0.0,>=3.8.3->langchain) (1.3.3)\n",
      "Requirement already satisfied: aiosignal>=1.1.2 in /usr/local/lib/python3.10/dist-packages (from aiohttp<4.0.0,>=3.8.3->langchain) (1.3.1)\n",
      "Requirement already satisfied: marshmallow<4.0.0,>=3.3.0 in /home/jovyan/.local/lib/python3.10/site-packages (from dataclasses-json<0.6.0,>=0.5.7->langchain) (3.19.0)\n",
      "Requirement already satisfied: marshmallow-enum<2.0.0,>=1.5.1 in /home/jovyan/.local/lib/python3.10/site-packages (from dataclasses-json<0.6.0,>=0.5.7->langchain) (1.5.1)\n",
      "Requirement already satisfied: typing-inspect>=0.4.0 in /home/jovyan/.local/lib/python3.10/site-packages (from dataclasses-json<0.6.0,>=0.5.7->langchain) (0.8.0)\n",
      "Requirement already satisfied: typing-extensions>=4.2.0 in /usr/local/lib/python3.10/dist-packages (from pydantic<2,>=1->langchain) (4.5.0)\n",
      "Requirement already satisfied: idna<4,>=2.5 in /usr/local/lib/python3.10/dist-packages (from requests<3,>=2->langchain) (3.4)\n",
      "Requirement already satisfied: urllib3<3,>=1.21.1 in /usr/local/lib/python3.10/dist-packages (from requests<3,>=2->langchain) (1.26.15)\n",
      "Requirement already satisfied: certifi>=2017.4.17 in /usr/local/lib/python3.10/dist-packages (from requests<3,>=2->langchain) (2023.5.7)\n",
      "Requirement already satisfied: greenlet!=0.4.17 in /usr/local/lib/python3.10/dist-packages (from SQLAlchemy<3,>=1.3->langchain) (2.0.2)\n",
      "Requirement already satisfied: packaging>=17.0 in /usr/local/lib/python3.10/dist-packages (from marshmallow<4.0.0,>=3.3.0->dataclasses-json<0.6.0,>=0.5.7->langchain) (23.1)\n",
      "Requirement already satisfied: mypy-extensions>=0.3.0 in /usr/local/lib/python3.10/dist-packages (from typing-inspect>=0.4.0->dataclasses-json<0.6.0,>=0.5.7->langchain) (1.0.0)\n",
      "\n",
      "\u001b[1m[\u001b[0m\u001b[34;49mnotice\u001b[0m\u001b[1;39;49m]\u001b[0m\u001b[39;49m A new release of pip is available: \u001b[0m\u001b[31;49m23.1.2\u001b[0m\u001b[39;49m -> \u001b[0m\u001b[32;49m23.2.1\u001b[0m\n",
      "\u001b[1m[\u001b[0m\u001b[34;49mnotice\u001b[0m\u001b[1;39;49m]\u001b[0m\u001b[39;49m To update, run: \u001b[0m\u001b[32;49mpython -m pip install --upgrade pip\u001b[0m\n",
      "Collecting accelerate\n",
      "  Using cached accelerate-0.22.0-py3-none-any.whl (251 kB)\n",
      "Requirement already satisfied: numpy>=1.17 in /usr/local/lib/python3.10/dist-packages (from accelerate) (1.23.5)\n",
      "Requirement already satisfied: packaging>=20.0 in /usr/local/lib/python3.10/dist-packages (from accelerate) (23.1)\n",
      "Requirement already satisfied: psutil in /usr/local/lib/python3.10/dist-packages (from accelerate) (5.9.5)\n",
      "Requirement already satisfied: pyyaml in /usr/local/lib/python3.10/dist-packages (from accelerate) (6.0)\n",
      "Requirement already satisfied: torch>=1.10.0 in /usr/local/lib/python3.10/dist-packages (from accelerate) (2.0.1+cu118)\n",
      "Requirement already satisfied: filelock in /usr/local/lib/python3.10/dist-packages (from torch>=1.10.0->accelerate) (3.9.0)\n",
      "Requirement already satisfied: typing-extensions in /usr/local/lib/python3.10/dist-packages (from torch>=1.10.0->accelerate) (4.5.0)\n",
      "Requirement already satisfied: sympy in /usr/local/lib/python3.10/dist-packages (from torch>=1.10.0->accelerate) (1.12)\n",
      "Requirement already satisfied: networkx in /usr/local/lib/python3.10/dist-packages (from torch>=1.10.0->accelerate) (3.1)\n",
      "Requirement already satisfied: jinja2 in /usr/local/lib/python3.10/dist-packages (from torch>=1.10.0->accelerate) (3.1.2)\n",
      "Requirement already satisfied: triton==2.0.0 in /usr/local/lib/python3.10/dist-packages (from torch>=1.10.0->accelerate) (2.0.0)\n",
      "Requirement already satisfied: cmake in /usr/local/lib/python3.10/dist-packages (from triton==2.0.0->torch>=1.10.0->accelerate) (3.25.0)\n",
      "Requirement already satisfied: lit in /usr/local/lib/python3.10/dist-packages (from triton==2.0.0->torch>=1.10.0->accelerate) (15.0.7)\n",
      "Requirement already satisfied: MarkupSafe>=2.0 in /usr/local/lib/python3.10/dist-packages (from jinja2->torch>=1.10.0->accelerate) (2.1.2)\n",
      "Requirement already satisfied: mpmath>=0.19 in /usr/local/lib/python3.10/dist-packages (from sympy->torch>=1.10.0->accelerate) (1.3.0)\n",
      "Installing collected packages: accelerate\n",
      "Successfully installed accelerate-0.22.0\n",
      "\n",
      "\u001b[1m[\u001b[0m\u001b[34;49mnotice\u001b[0m\u001b[1;39;49m]\u001b[0m\u001b[39;49m A new release of pip is available: \u001b[0m\u001b[31;49m23.1.2\u001b[0m\u001b[39;49m -> \u001b[0m\u001b[32;49m23.2.1\u001b[0m\n",
      "\u001b[1m[\u001b[0m\u001b[34;49mnotice\u001b[0m\u001b[1;39;49m]\u001b[0m\u001b[39;49m To update, run: \u001b[0m\u001b[32;49mpython -m pip install --upgrade pip\u001b[0m\n",
      "Collecting einops\n",
      "  Using cached einops-0.6.1-py3-none-any.whl (42 kB)\n",
      "Installing collected packages: einops\n",
      "Successfully installed einops-0.6.1\n",
      "\n",
      "\u001b[1m[\u001b[0m\u001b[34;49mnotice\u001b[0m\u001b[1;39;49m]\u001b[0m\u001b[39;49m A new release of pip is available: \u001b[0m\u001b[31;49m23.1.2\u001b[0m\u001b[39;49m -> \u001b[0m\u001b[32;49m23.2.1\u001b[0m\n",
      "\u001b[1m[\u001b[0m\u001b[34;49mnotice\u001b[0m\u001b[1;39;49m]\u001b[0m\u001b[39;49m To update, run: \u001b[0m\u001b[32;49mpython -m pip install --upgrade pip\u001b[0m\n",
      "Collecting deepspeed\n",
      "  Downloading deepspeed-0.10.3.tar.gz (867 kB)\n",
      "\u001b[2K     \u001b[90m━━━━━━━━━━━━━━━━━━━━━━━━━━━━━━━━━━━━━━━\u001b[0m \u001b[32m867.3/867.3 kB\u001b[0m \u001b[31m1.5 MB/s\u001b[0m eta \u001b[36m0:00:00\u001b[0m00:01\u001b[0m00:01\u001b[0m\n",
      "\u001b[?25h  Preparing metadata (setup.py) ... \u001b[?25ldone\n",
      "\u001b[?25hCollecting hjson (from deepspeed)\n",
      "  Using cached hjson-3.1.0-py3-none-any.whl (54 kB)\n",
      "Collecting ninja (from deepspeed)\n",
      "  Using cached ninja-1.11.1-py2.py3-none-manylinux_2_12_x86_64.manylinux2010_x86_64.whl (145 kB)\n",
      "Requirement already satisfied: numpy in /usr/local/lib/python3.10/dist-packages (from deepspeed) (1.23.5)\n",
      "Requirement already satisfied: packaging>=20.0 in /usr/local/lib/python3.10/dist-packages (from deepspeed) (23.1)\n",
      "Requirement already satisfied: psutil in /usr/local/lib/python3.10/dist-packages (from deepspeed) (5.9.5)\n",
      "Requirement already satisfied: py-cpuinfo in /usr/local/lib/python3.10/dist-packages (from deepspeed) (9.0.0)\n",
      "Requirement already satisfied: pydantic<2.0.0 in /home/jovyan/.local/lib/python3.10/site-packages (from deepspeed) (1.10.8)\n",
      "Requirement already satisfied: torch in /usr/local/lib/python3.10/dist-packages (from deepspeed) (2.0.1+cu118)\n",
      "Requirement already satisfied: tqdm in /usr/local/lib/python3.10/dist-packages (from deepspeed) (4.65.0)\n",
      "Requirement already satisfied: typing-extensions>=4.2.0 in /usr/local/lib/python3.10/dist-packages (from pydantic<2.0.0->deepspeed) (4.5.0)\n",
      "Requirement already satisfied: filelock in /usr/local/lib/python3.10/dist-packages (from torch->deepspeed) (3.9.0)\n",
      "Requirement already satisfied: sympy in /usr/local/lib/python3.10/dist-packages (from torch->deepspeed) (1.12)\n",
      "Requirement already satisfied: networkx in /usr/local/lib/python3.10/dist-packages (from torch->deepspeed) (3.1)\n",
      "Requirement already satisfied: jinja2 in /usr/local/lib/python3.10/dist-packages (from torch->deepspeed) (3.1.2)\n",
      "Requirement already satisfied: triton==2.0.0 in /usr/local/lib/python3.10/dist-packages (from torch->deepspeed) (2.0.0)\n",
      "Requirement already satisfied: cmake in /usr/local/lib/python3.10/dist-packages (from triton==2.0.0->torch->deepspeed) (3.25.0)\n",
      "Requirement already satisfied: lit in /usr/local/lib/python3.10/dist-packages (from triton==2.0.0->torch->deepspeed) (15.0.7)\n",
      "Requirement already satisfied: MarkupSafe>=2.0 in /usr/local/lib/python3.10/dist-packages (from jinja2->torch->deepspeed) (2.1.2)\n",
      "Requirement already satisfied: mpmath>=0.19 in /usr/local/lib/python3.10/dist-packages (from sympy->torch->deepspeed) (1.3.0)\n",
      "Building wheels for collected packages: deepspeed\n",
      "  Building wheel for deepspeed (setup.py) ... \u001b[?25ldone\n",
      "\u001b[?25h  Created wheel for deepspeed: filename=deepspeed-0.10.3-py3-none-any.whl size=907844 sha256=80f29a77b2d210dee8b780173b263616307f3283a6bae255d6f1987e35e7461f\n",
      "  Stored in directory: /home/jovyan/.cache/pip/wheels/d8/8e/fe/bd6467e058672bf39888e67b763f706053f6f969fe0542423d\n",
      "Successfully built deepspeed\n",
      "Installing collected packages: ninja, hjson, deepspeed\n",
      "Successfully installed deepspeed-0.10.3 hjson-3.1.0 ninja-1.11.1\n",
      "\n",
      "\u001b[1m[\u001b[0m\u001b[34;49mnotice\u001b[0m\u001b[1;39;49m]\u001b[0m\u001b[39;49m A new release of pip is available: \u001b[0m\u001b[31;49m23.1.2\u001b[0m\u001b[39;49m -> \u001b[0m\u001b[32;49m23.2.1\u001b[0m\n",
      "\u001b[1m[\u001b[0m\u001b[34;49mnotice\u001b[0m\u001b[1;39;49m]\u001b[0m\u001b[39;49m To update, run: \u001b[0m\u001b[32;49mpython -m pip install --upgrade pip\u001b[0m\n"
     ]
    }
   ],
   "source": [
    "# Package installations to work on WIRE\n",
    "\n",
    "! pip install transformers\n",
    "! pip install langchain\n",
    "! pip install accelerate\n",
    "! pip install einops\n",
    "! pip install deepspeed"
   ]
  },
  {
   "cell_type": "code",
   "execution_count": 1,
   "id": "86e77263-062c-44bc-8ace-6cf3a638e014",
   "metadata": {
    "tags": []
   },
   "outputs": [
    {
     "name": "stderr",
     "output_type": "stream",
     "text": [
      "2023-09-13 12:34:59.983309: I tensorflow/core/platform/cpu_feature_guard.cc:182] This TensorFlow binary is optimized to use available CPU instructions in performance-critical operations.\n",
      "To enable the following instructions: AVX2 FMA, in other operations, rebuild TensorFlow with the appropriate compiler flags.\n",
      "2023-09-13 12:35:00.527537: W tensorflow/compiler/tf2tensorrt/utils/py_utils.cc:38] TF-TRT Warning: Could not find TensorRT\n"
     ]
    },
    {
     "name": "stdout",
     "output_type": "stream",
     "text": [
      "[2023-09-13 12:35:01,544] [INFO] [real_accelerator.py:158:get_accelerator] Setting ds_accelerator to cuda (auto detect)\n"
     ]
    }
   ],
   "source": [
    "import os, re, pandas as pd, numpy as np, ast, json\n",
    "from pprint import pprint\n",
    "from tqdm import tqdm  \n",
    "\n",
    "import torch\n",
    "from langchain import PromptTemplate, FewShotPromptTemplate, HuggingFacePipeline, LLMChain\n",
    "from transformers import AutoModelForCausalLM, AutoTokenizer, pipeline\n",
    "import deepspeed\n",
    "\n",
    "from sklearn.metrics import classification_report\n",
    "\n",
    "from matplotlib import pyplot as plt\n",
    "import seaborn as sns"
   ]
  },
  {
   "cell_type": "markdown",
   "id": "ca5057d3-9986-42e2-91f9-ccb0a8a782e5",
   "metadata": {},
   "source": [
    "# 1. Import and Preprocess Data"
   ]
  },
  {
   "cell_type": "code",
   "execution_count": 2,
   "id": "ab8789ed-ab80-429d-a03e-6c07ac91a9d6",
   "metadata": {
    "tags": []
   },
   "outputs": [],
   "source": [
    "file = os.path.join(\"covid-lies\",\"data_merged.csv\")"
   ]
  },
  {
   "cell_type": "code",
   "execution_count": 3,
   "id": "bdaa0228-553d-4169-a510-a8a974955d6b",
   "metadata": {
    "tags": []
   },
   "outputs": [],
   "source": [
    "df = pd.read_csv(file)\n",
    "df = df.rename(columns={'misconception': 'event'}) "
   ]
  },
  {
   "cell_type": "code",
   "execution_count": 4,
   "id": "4e771931-ba00-487c-8c7a-dc68a435f86f",
   "metadata": {
    "tags": []
   },
   "outputs": [
    {
     "data": {
      "text/html": [
       "<div>\n",
       "<style scoped>\n",
       "    .dataframe tbody tr th:only-of-type {\n",
       "        vertical-align: middle;\n",
       "    }\n",
       "\n",
       "    .dataframe tbody tr th {\n",
       "        vertical-align: top;\n",
       "    }\n",
       "\n",
       "    .dataframe thead th {\n",
       "        text-align: right;\n",
       "    }\n",
       "</style>\n",
       "<table border=\"1\" class=\"dataframe\">\n",
       "  <thead>\n",
       "    <tr style=\"text-align: right;\">\n",
       "      <th></th>\n",
       "      <th>tweet_id</th>\n",
       "      <th>stance</th>\n",
       "      <th>full_text</th>\n",
       "      <th>event</th>\n",
       "    </tr>\n",
       "  </thead>\n",
       "  <tbody>\n",
       "    <tr>\n",
       "      <th>0</th>\n",
       "      <td>1233907923765559296</td>\n",
       "      <td>neutral</td>\n",
       "      <td>Getting coronavirus and then coughing on peopl...</td>\n",
       "      <td>Blowing conch shells destroys coronavirus pote...</td>\n",
       "    </tr>\n",
       "    <tr>\n",
       "      <th>1</th>\n",
       "      <td>1233907923765559296</td>\n",
       "      <td>neutral</td>\n",
       "      <td>Getting coronavirus and then coughing on peopl...</td>\n",
       "      <td>Eating cabbage prevents coronavirus infection.</td>\n",
       "    </tr>\n",
       "    <tr>\n",
       "      <th>2</th>\n",
       "      <td>1233911842910720000</td>\n",
       "      <td>neutral</td>\n",
       "      <td>@Barioth_a_bot そう…ですね…私は常時深海に居ります故…ふわふわ、という感触で...</td>\n",
       "      <td>Swans and dolphins swimming in Venice canals f...</td>\n",
       "    </tr>\n",
       "    <tr>\n",
       "      <th>3</th>\n",
       "      <td>1233947734094290944</td>\n",
       "      <td>neutral</td>\n",
       "      <td>RT @TabascoHOY: #Coronavirus☣\\n➡Los infectados...</td>\n",
       "      <td>Cocaine cures coronavirus.</td>\n",
       "    </tr>\n",
       "    <tr>\n",
       "      <th>4</th>\n",
       "      <td>1233947734094290944</td>\n",
       "      <td>neutral</td>\n",
       "      <td>RT @TabascoHOY: #Coronavirus☣\\n➡Los infectados...</td>\n",
       "      <td>Avocado and mint tea cures coronavirus.</td>\n",
       "    </tr>\n",
       "  </tbody>\n",
       "</table>\n",
       "</div>"
      ],
      "text/plain": [
       "              tweet_id   stance   \n",
       "0  1233907923765559296  neutral  \\\n",
       "1  1233907923765559296  neutral   \n",
       "2  1233911842910720000  neutral   \n",
       "3  1233947734094290944  neutral   \n",
       "4  1233947734094290944  neutral   \n",
       "\n",
       "                                           full_text   \n",
       "0  Getting coronavirus and then coughing on peopl...  \\\n",
       "1  Getting coronavirus and then coughing on peopl...   \n",
       "2  @Barioth_a_bot そう…ですね…私は常時深海に居ります故…ふわふわ、という感触で...   \n",
       "3  RT @TabascoHOY: #Coronavirus☣\\n➡Los infectados...   \n",
       "4  RT @TabascoHOY: #Coronavirus☣\\n➡Los infectados...   \n",
       "\n",
       "                                               event  \n",
       "0  Blowing conch shells destroys coronavirus pote...  \n",
       "1     Eating cabbage prevents coronavirus infection.  \n",
       "2  Swans and dolphins swimming in Venice canals f...  \n",
       "3                         Cocaine cures coronavirus.  \n",
       "4            Avocado and mint tea cures coronavirus.  "
      ]
     },
     "execution_count": 4,
     "metadata": {},
     "output_type": "execute_result"
    }
   ],
   "source": [
    "df.head()"
   ]
  },
  {
   "cell_type": "code",
   "execution_count": 5,
   "id": "b6ceb2cd-e7cc-4c58-aa8e-1b42f6f7e3ab",
   "metadata": {
    "tags": []
   },
   "outputs": [
    {
     "data": {
      "text/plain": [
       "(3196, 4)"
      ]
     },
     "execution_count": 5,
     "metadata": {},
     "output_type": "execute_result"
    }
   ],
   "source": [
    "df.shape"
   ]
  },
  {
   "cell_type": "markdown",
   "id": "a182cfb3-9a8d-4e44-8570-eb37c9a418a0",
   "metadata": {},
   "source": [
    "# 2. Connect to LLM\n",
    "- for standing up a smaller huggingface model\n",
    "```python\n",
    "llm = HuggingFacePipeline.from_model_id(model_id=\"declare-lab/flan-alpaca-gpt4-xl\", task = 'text2text-generation', device=0,\n",
    "                                      model_kwargs={\"max_length\":500, \"do_sample\":False})\n",
    "```\n",
    "- for a mid-sized, more modern, huggingface model. You can use accelerate and chance ``` device = \"auto\"``` to use multiple GPUs\n",
    "```python\n",
    "model = \"tiiuae/falcon-7b-instruct\"\n",
    "\n",
    "tokenizer = AutoTokenizer.from_pretrained(model)\n",
    "\n",
    "pipe = pipeline(\n",
    "    \"text-generation\",\n",
    "    model=model,\n",
    "    tokenizer=tokenizer,\n",
    "    torch_dtype=torch.bfloat16,\n",
    "    trust_remote_code=True,\n",
    "    device_map=0,\n",
    "    max_length=200,\n",
    "    do_sample=False,\n",
    "    num_return_sequences=1,\n",
    "    eos_token_id=tokenizer.eos_token_id,\n",
    "    pad_token_id=tokenizer.eos_token_id,\n",
    ")\n",
    "\n",
    "llm = HuggingFacePipeline(pipeline=pipe)\n",
    "```\n"
   ]
  },
  {
   "cell_type": "code",
   "execution_count": 6,
   "id": "a845955d-162c-4531-a774-231a465372f6",
   "metadata": {
    "scrolled": true,
    "tags": []
   },
   "outputs": [
    {
     "data": {
      "application/vnd.jupyter.widget-view+json": {
       "model_id": "8e171eed4c6047218efc6ca71c196bfc",
       "version_major": 2,
       "version_minor": 0
      },
      "text/plain": [
       "Loading checkpoint shards:   0%|          | 0/8 [00:00<?, ?it/s]"
      ]
     },
     "metadata": {},
     "output_type": "display_data"
    }
   ],
   "source": [
    "model = \"google/flan-ul2\"\n",
    "\n",
    "tokenizer = AutoTokenizer.from_pretrained(model)\n",
    "\n",
    "pipe = pipeline(\n",
    "    \"text2text-generation\",\n",
    "    model=model,\n",
    "    tokenizer=tokenizer,\n",
    "    trust_remote_code=True,\n",
    "    device_map=\"auto\",\n",
    "    max_length=1000,\n",
    "    do_sample=False,\n",
    "    num_return_sequences=1,\n",
    "    eos_token_id=tokenizer.eos_token_id,\n",
    "    pad_token_id=tokenizer.eos_token_id\n",
    ")\n",
    "\n",
    "llm = HuggingFacePipeline(pipeline=pipe)"
   ]
  },
  {
   "cell_type": "markdown",
   "id": "403fdd62-677d-467f-b0d6-ef232fc9ca70",
   "metadata": {},
   "source": [
    "look at a few examples"
   ]
  },
  {
   "cell_type": "code",
   "execution_count": 7,
   "id": "750d3b59-d13a-45ce-8f09-ee1680c395a8",
   "metadata": {
    "tags": []
   },
   "outputs": [
    {
     "data": {
      "text/plain": [
       "'AGAINST'"
      ]
     },
     "execution_count": 7,
     "metadata": {},
     "output_type": "execute_result"
    }
   ],
   "source": [
    "question = '''What is the stance of of the following social media post toward the U.S. Army. Give the stance as either 'FOR', \"AGAINST', or 'NEUTRAL'. Only return the stance:\n",
    "\"@vondeveen If the Army wants to actually recruit people, maybe stop breaking people and actually prosecute sexual assualt #nomorewar.\"\n",
    "'''\n",
    "llm(question)"
   ]
  },
  {
   "cell_type": "code",
   "execution_count": 8,
   "id": "8539ac1f-1155-4e53-9837-2f311a898965",
   "metadata": {
    "tags": []
   },
   "outputs": [
    {
     "data": {
      "text/plain": [
       "'NEUTRAL'"
      ]
     },
     "execution_count": 8,
     "metadata": {},
     "output_type": "execute_result"
    }
   ],
   "source": [
    "question = '''What is the stance of of the following social media post toward the U.S. Army. Give the stance as either 'FOR', \"AGAINST', or 'NEUTRAL'. Only return the stance:\n",
    "\"@artfulask I have never seen a pink-eared duck before. #Army\"\n",
    "'''\n",
    "llm(question)"
   ]
  },
  {
   "cell_type": "code",
   "execution_count": 9,
   "id": "283a5080-d9f4-4e95-81be-da898da57990",
   "metadata": {
    "tags": []
   },
   "outputs": [
    {
     "data": {
      "text/plain": [
       "'FOR'"
      ]
     },
     "execution_count": 9,
     "metadata": {},
     "output_type": "execute_result"
    }
   ],
   "source": [
    "question = '''What is the stance of of the following social media post toward the U.S. Army. Give the stance as either 'FOR', \"AGAINST', or 'NEUTRAL'. Only return the stance:\n",
    "\"I think the @Army helped me become disciplined. I would have surely flunked out of college chasing tail if I didn't get some discipline there. #SFL\"\n",
    "'''\n",
    "llm(question)"
   ]
  },
  {
   "cell_type": "markdown",
   "id": "20c99f07-4c5d-49a7-bac9-36a3399c2927",
   "metadata": {},
   "source": [
    "# 3. Prompt Engineering for Stance Classification"
   ]
  },
  {
   "cell_type": "markdown",
   "id": "e692217e-d8cb-44c8-ab54-21c3c076d6ee",
   "metadata": {},
   "source": [
    "## 3(a). Task-only prompt"
   ]
  },
  {
   "cell_type": "code",
   "execution_count": 10,
   "id": "f5cefeed-4bcb-48a9-815f-7e02011e417a",
   "metadata": {
    "tags": []
   },
   "outputs": [],
   "source": [
    "# task-only prompt\n",
    "\n",
    "task_template = '''\n",
    "Classify the statement as to whether it is 'SUPPORTS', 'DENIES', 'NEUTRAL', or 'UNRELATED'. Only return the classification label for the statement, and no other text.\n",
    "\n",
    "statement: {statement}\n",
    "'''\n",
    "\n",
    "task_prompt = PromptTemplate(\n",
    "    input_variables=[\"statement\"],\n",
    "    template=task_template\n",
    ")"
   ]
  },
  {
   "cell_type": "markdown",
   "id": "b0486f1e-b948-4cf8-921b-756139394b11",
   "metadata": {},
   "source": [
    "### Run an example"
   ]
  },
  {
   "cell_type": "code",
   "execution_count": 11,
   "id": "a23f26eb-0ade-4a4e-9a99-5f91c9075438",
   "metadata": {
    "tags": []
   },
   "outputs": [],
   "source": [
    "# Create a sample for all examples\n",
    "\n",
    "random_sample_df = df.sample(100)\n",
    "y_true = random_sample_df['stance'].tolist()"
   ]
  },
  {
   "cell_type": "code",
   "execution_count": 12,
   "id": "d5a3a1f4-aac6-48be-8364-6e190ed49366",
   "metadata": {
    "tags": []
   },
   "outputs": [
    {
     "name": "stderr",
     "output_type": "stream",
     "text": [
      "/usr/local/lib/python3.10/dist-packages/transformers/pipelines/base.py:1101: UserWarning: You seem to be using the pipelines sequentially on GPU. In order to maximize efficiency please use a dataset\n",
      "  warnings.warn(\n"
     ]
    }
   ],
   "source": [
    "llm_chain = LLMChain(prompt=task_prompt, llm=llm)\n",
    "\n",
    "results=[]\n",
    "for row in random_sample_df.iterrows():\n",
    "    results.append(llm_chain.run(event=row[1]['event'], statement=row[1]['full_text']))"
   ]
  },
  {
   "cell_type": "code",
   "execution_count": 13,
   "id": "9e436eb7-c2f2-41cd-b484-cc9160c4b1f5",
   "metadata": {
    "tags": []
   },
   "outputs": [
    {
     "name": "stdout",
     "output_type": "stream",
     "text": [
      "              precision    recall  f1-score   support\n",
      "\n",
      "       agree       0.00      0.00      0.00         1\n",
      "    disagree       0.00      0.00      0.00         1\n",
      "     neutral       0.98      1.00      0.99        98\n",
      "\n",
      "    accuracy                           0.98       100\n",
      "   macro avg       0.33      0.33      0.33       100\n",
      "weighted avg       0.96      0.98      0.97       100\n",
      "\n"
     ]
    },
    {
     "name": "stderr",
     "output_type": "stream",
     "text": [
      "/usr/local/lib/python3.10/dist-packages/sklearn/metrics/_classification.py:1344: UndefinedMetricWarning: Precision and F-score are ill-defined and being set to 0.0 in labels with no predicted samples. Use `zero_division` parameter to control this behavior.\n",
      "  _warn_prf(average, modifier, msg_start, len(result))\n",
      "/usr/local/lib/python3.10/dist-packages/sklearn/metrics/_classification.py:1344: UndefinedMetricWarning: Precision and F-score are ill-defined and being set to 0.0 in labels with no predicted samples. Use `zero_division` parameter to control this behavior.\n",
      "  _warn_prf(average, modifier, msg_start, len(result))\n",
      "/usr/local/lib/python3.10/dist-packages/sklearn/metrics/_classification.py:1344: UndefinedMetricWarning: Precision and F-score are ill-defined and being set to 0.0 in labels with no predicted samples. Use `zero_division` parameter to control this behavior.\n",
      "  _warn_prf(average, modifier, msg_start, len(result))\n"
     ]
    }
   ],
   "source": [
    "# converting to given labels for comparison\n",
    "\n",
    "y_true = [str.lower(i) for i in y_true]\n",
    "y_pred = []  \n",
    "  \n",
    "for word in results:  \n",
    "    lower_word = word.lower()  \n",
    "    if 'for' in lower_word:  \n",
    "        y_pred.append('agree')  \n",
    "    elif 'against' in lower_word:  \n",
    "        y_pred.append('disagree')  \n",
    "    elif 'neutral' in lower_word or 'unrelated' in lower_word:  \n",
    "        y_pred.append('neutral')  \n",
    "    else:  \n",
    "        y_pred.append('neutral')\n",
    "\n",
    "# generating the classification report\n",
    "report = classification_report(y_true, y_pred)\n",
    "\n",
    "print(report)"
   ]
  },
  {
   "cell_type": "markdown",
   "id": "477aed9a-deec-40f1-85a3-fda877fb86c3",
   "metadata": {},
   "source": [
    "### Run on all Data"
   ]
  },
  {
   "cell_type": "code",
   "execution_count": 14,
   "id": "2a3aa074-0261-4e3d-a57c-7313d9679bc4",
   "metadata": {
    "tags": []
   },
   "outputs": [
    {
     "name": "stderr",
     "output_type": "stream",
     "text": [
      "0it [00:00, ?it/s]/usr/local/lib/python3.10/dist-packages/transformers/pipelines/base.py:1101: UserWarning: You seem to be using the pipelines sequentially on GPU. In order to maximize efficiency please use a dataset\n",
      "  warnings.warn(\n",
      "3196it [28:08,  1.89it/s]\n"
     ]
    }
   ],
   "source": [
    "# Running across the whole dataset\n",
    "\n",
    "results = []\n",
    "for index, row in tqdm(df.iterrows()):\n",
    "    results.append(llm_chain.run(event=row['event'], statement=row['full_text']))"
   ]
  },
  {
   "cell_type": "code",
   "execution_count": 15,
   "id": "a09701d3-cf5d-4d70-9179-8c6dc888411b",
   "metadata": {
    "tags": []
   },
   "outputs": [
    {
     "data": {
      "text/plain": [
       "(array(['DENIES', 'NEUTRAL', 'SUPPORTS', 'UNRELATED'], dtype='<U9'),\n",
       " array([ 559, 2072,  198,  367]))"
      ]
     },
     "execution_count": 15,
     "metadata": {},
     "output_type": "execute_result"
    }
   ],
   "source": [
    "np.unique(results, return_counts=True)"
   ]
  },
  {
   "cell_type": "code",
   "execution_count": 16,
   "id": "c4cf24d7-ca26-4735-9a57-9cf826e0a286",
   "metadata": {
    "tags": []
   },
   "outputs": [],
   "source": [
    "y_pred = []  \n",
    "  \n",
    "for word in results:  \n",
    "    lower_word = word.lower()  \n",
    "    if 'support' in lower_word:  \n",
    "        y_pred.append('agree')  \n",
    "    elif 'denies' in lower_word:  \n",
    "        y_pred.append('disagree')  \n",
    "    elif 'neutral' in lower_word or 'unrelated' in lower_word:  \n",
    "        y_pred.append('neutral')  \n",
    "    else:  \n",
    "        y_pred.append('neutral')\n",
    "        \n",
    "df['task_preds'] = y_pred"
   ]
  },
  {
   "cell_type": "code",
   "execution_count": 17,
   "id": "e334043f-4a5f-4a40-813f-0021570ae054",
   "metadata": {
    "tags": []
   },
   "outputs": [
    {
     "data": {
      "text/plain": [
       "(array(['agree', 'disagree', 'neutral'], dtype=object),\n",
       " array([ 198,  559, 2439]))"
      ]
     },
     "execution_count": 17,
     "metadata": {},
     "output_type": "execute_result"
    }
   ],
   "source": [
    "np.unique(df['task_preds'], return_counts=True)"
   ]
  },
  {
   "cell_type": "code",
   "execution_count": 18,
   "id": "906f54ca-301b-442e-9c0e-776598a98063",
   "metadata": {
    "tags": []
   },
   "outputs": [
    {
     "name": "stdout",
     "output_type": "stream",
     "text": [
      "              precision    recall  f1-score   support\n",
      "\n",
      "       agree       0.01      0.02      0.01       100\n",
      "    disagree       0.04      0.28      0.07        85\n",
      "     neutral       0.95      0.77      0.85      3011\n",
      "\n",
      "    accuracy                           0.73      3196\n",
      "   macro avg       0.33      0.36      0.31      3196\n",
      "weighted avg       0.89      0.73      0.80      3196\n",
      "\n"
     ]
    }
   ],
   "source": [
    "report = classification_report(df['stance'], df['task_preds'])\n",
    "\n",
    "print(report)"
   ]
  },
  {
   "cell_type": "markdown",
   "id": "753eac3e-fba1-4615-bc84-6b576814fd28",
   "metadata": {
    "tags": []
   },
   "source": [
    "## 3(b). Context prompt"
   ]
  },
  {
   "cell_type": "code",
   "execution_count": 19,
   "id": "f23b18b6-82f8-4498-b9e1-5dbfb4662996",
   "metadata": {
    "tags": []
   },
   "outputs": [],
   "source": [
    "# context prompt\n",
    "\n",
    "context_template = '''\n",
    "The following statement is social media post about COVID or Coronavirus. Classify the statement as to whether it 'SUPPORTS', 'DENIES', is 'NEUTRAL', or is 'UNRELATED' to the belief below being true. Only return the classification label for the statement toward the belief, and no other text.\n",
    "\n",
    "belief: {event}\n",
    "statement: {statement}\n",
    "'''\n",
    "\n",
    "context_prompt = PromptTemplate(\n",
    "    input_variables=[\"event\",\"statement\"],\n",
    "    template=context_template\n",
    ")"
   ]
  },
  {
   "cell_type": "markdown",
   "id": "b76cda91-c949-4268-bfc8-39d3999eef46",
   "metadata": {},
   "source": [
    "### Run an example"
   ]
  },
  {
   "cell_type": "code",
   "execution_count": 20,
   "id": "13ee5e07-ca7f-4ccc-98c3-29b230284adf",
   "metadata": {
    "tags": []
   },
   "outputs": [
    {
     "name": "stderr",
     "output_type": "stream",
     "text": [
      "/usr/local/lib/python3.10/dist-packages/transformers/pipelines/base.py:1101: UserWarning: You seem to be using the pipelines sequentially on GPU. In order to maximize efficiency please use a dataset\n",
      "  warnings.warn(\n"
     ]
    }
   ],
   "source": [
    "llm_chain = LLMChain(prompt=context_prompt, llm=llm)\n",
    "\n",
    "results=[]\n",
    "for row in random_sample_df.iterrows():\n",
    "    results.append(llm_chain.run(event=row[1]['event'], statement=row[1]['full_text']))"
   ]
  },
  {
   "cell_type": "code",
   "execution_count": 21,
   "id": "88aefc12-a867-4975-9340-46ec79d49122",
   "metadata": {
    "tags": []
   },
   "outputs": [
    {
     "name": "stdout",
     "output_type": "stream",
     "text": [
      "              precision    recall  f1-score   support\n",
      "\n",
      "       agree       0.00      0.00      0.00         1\n",
      "    disagree       0.00      0.00      0.00         1\n",
      "     neutral       0.96      0.55      0.70        98\n",
      "\n",
      "    accuracy                           0.54       100\n",
      "   macro avg       0.32      0.18      0.23       100\n",
      "weighted avg       0.94      0.54      0.69       100\n",
      "\n"
     ]
    },
    {
     "name": "stderr",
     "output_type": "stream",
     "text": [
      "/usr/local/lib/python3.10/dist-packages/sklearn/metrics/_classification.py:1344: UndefinedMetricWarning: Precision and F-score are ill-defined and being set to 0.0 in labels with no predicted samples. Use `zero_division` parameter to control this behavior.\n",
      "  _warn_prf(average, modifier, msg_start, len(result))\n",
      "/usr/local/lib/python3.10/dist-packages/sklearn/metrics/_classification.py:1344: UndefinedMetricWarning: Precision and F-score are ill-defined and being set to 0.0 in labels with no predicted samples. Use `zero_division` parameter to control this behavior.\n",
      "  _warn_prf(average, modifier, msg_start, len(result))\n",
      "/usr/local/lib/python3.10/dist-packages/sklearn/metrics/_classification.py:1344: UndefinedMetricWarning: Precision and F-score are ill-defined and being set to 0.0 in labels with no predicted samples. Use `zero_division` parameter to control this behavior.\n",
      "  _warn_prf(average, modifier, msg_start, len(result))\n"
     ]
    }
   ],
   "source": [
    "# converting to given labels for comparison\n",
    "\n",
    "y_true = [str.lower(i) for i in y_true]\n",
    "y_pred = []  \n",
    "  \n",
    "for word in results:  \n",
    "    lower_word = word.lower()  \n",
    "    if 'support' in lower_word:  \n",
    "        y_pred.append('agree')  \n",
    "    elif 'denies' in lower_word:  \n",
    "        y_pred.append('disagree')  \n",
    "    elif 'neutral' in lower_word or 'unrelated' in lower_word:  \n",
    "        y_pred.append('neutral')  \n",
    "    else:  \n",
    "        y_pred.append('neutral')\n",
    "\n",
    "# generating the classification report  \n",
    "report = classification_report(y_true, y_pred)  \n",
    "  \n",
    "print(report)  "
   ]
  },
  {
   "cell_type": "markdown",
   "id": "d122fe57-c6a0-4f9f-88f2-ab3b033d4969",
   "metadata": {},
   "source": [
    "### Run on all Data"
   ]
  },
  {
   "cell_type": "code",
   "execution_count": 22,
   "id": "20dbad2c-32b1-4d2d-a7be-ed3833768633",
   "metadata": {
    "tags": []
   },
   "outputs": [
    {
     "name": "stderr",
     "output_type": "stream",
     "text": [
      "0it [00:00, ?it/s]/usr/local/lib/python3.10/dist-packages/transformers/pipelines/base.py:1101: UserWarning: You seem to be using the pipelines sequentially on GPU. In order to maximize efficiency please use a dataset\n",
      "  warnings.warn(\n",
      "3196it [30:31,  1.74it/s]\n"
     ]
    }
   ],
   "source": [
    "# Running across the whole dataset\n",
    "\n",
    "results = []\n",
    "for index, row in tqdm(df.iterrows()):\n",
    "    results.append(llm_chain.run(event=row['event'], statement=row['full_text']))"
   ]
  },
  {
   "cell_type": "code",
   "execution_count": 23,
   "id": "a246726a-9a9c-4e8a-9e4c-f5e61777acfe",
   "metadata": {
    "tags": []
   },
   "outputs": [
    {
     "data": {
      "text/plain": [
       "(array(['DENIES', 'NEUTRAL', 'SUPPORTS', 'UNRELATED'], dtype='<U9'),\n",
       " array([1243, 1600,   24,  329]))"
      ]
     },
     "execution_count": 23,
     "metadata": {},
     "output_type": "execute_result"
    }
   ],
   "source": [
    "np.unique(results, return_counts=True)"
   ]
  },
  {
   "cell_type": "code",
   "execution_count": 24,
   "id": "0da70805-b9b7-4840-9dbb-a31897733630",
   "metadata": {
    "tags": []
   },
   "outputs": [],
   "source": [
    "y_pred = []  \n",
    "  \n",
    "for word in results:  \n",
    "    lower_word = word.lower()  \n",
    "    if 'support' in lower_word:  \n",
    "        y_pred.append('agree')  \n",
    "    elif 'denies' in lower_word:  \n",
    "        y_pred.append('disagree')  \n",
    "    elif 'neutral' in lower_word or 'unrelated' in lower_word:  \n",
    "        y_pred.append('neutral')  \n",
    "    else:  \n",
    "        y_pred.append('neutral')\n",
    "        \n",
    "df['context_preds'] = y_pred"
   ]
  },
  {
   "cell_type": "code",
   "execution_count": 25,
   "id": "4a9b196d-2158-40eb-9adb-84c62c5dcd53",
   "metadata": {
    "tags": []
   },
   "outputs": [
    {
     "data": {
      "text/plain": [
       "(array(['agree', 'disagree', 'neutral'], dtype=object),\n",
       " array([  24, 1243, 1929]))"
      ]
     },
     "execution_count": 25,
     "metadata": {},
     "output_type": "execute_result"
    }
   ],
   "source": [
    "np.unique(df['context_preds'], return_counts=True)"
   ]
  },
  {
   "cell_type": "code",
   "execution_count": 26,
   "id": "e999ba12-0fa0-4204-bb0a-84376a5ab041",
   "metadata": {
    "tags": []
   },
   "outputs": [
    {
     "name": "stdout",
     "output_type": "stream",
     "text": [
      "              precision    recall  f1-score   support\n",
      "\n",
      "       agree       0.58      0.14      0.23       100\n",
      "    disagree       0.04      0.64      0.08        85\n",
      "     neutral       0.96      0.62      0.75      3011\n",
      "\n",
      "    accuracy                           0.60      3196\n",
      "   macro avg       0.53      0.46      0.35      3196\n",
      "weighted avg       0.93      0.60      0.72      3196\n",
      "\n"
     ]
    }
   ],
   "source": [
    "report = classification_report(df['stance'], df['context_preds'])\n",
    "\n",
    "print(report)"
   ]
  },
  {
   "cell_type": "markdown",
   "id": "f4a8755d-d895-49b1-bc13-1965215392fd",
   "metadata": {
    "tags": []
   },
   "source": [
    "## 3(c). Context + FSP"
   ]
  },
  {
   "cell_type": "code",
   "execution_count": 27,
   "id": "0407c388-7977-443d-beba-03c0faa2ab64",
   "metadata": {
    "tags": []
   },
   "outputs": [],
   "source": [
    "# Create an example template\n",
    "\n",
    "example_template = '''\n",
    "belief: {belief}\n",
    "statement: {statement}\n",
    "stance: {stance}\n",
    "'''\n",
    "\n",
    "example_prompt = PromptTemplate(\n",
    "    input_variables=[\"belief\",\"statement\", \"stance\"],\n",
    "    template=example_template\n",
    ")"
   ]
  },
  {
   "cell_type": "code",
   "execution_count": 28,
   "id": "1cfae949-c846-4f0f-b31a-f84d30e54be9",
   "metadata": {
    "tags": []
   },
   "outputs": [],
   "source": [
    "# Give some examples\n",
    "\n",
    "examples = [\n",
    "    {'belief':\"Africans are more resistant to coronavirus.\",\n",
    "     'statement':'''Happen now Blacks are Immune to the coronavirus ' there is a GOD https://t.co/LRq7SZYK0G''',\n",
    "     'stance': 'SUPPORTS'},\n",
    "    {'belief':\"Alex Jones' silver-infused toothpaste kills COVID-19\",\n",
    "     'statement':'''#China #COVID-19 As work resumes in outbreak, brand-new 'normal' emerges https://t.co/VENOSSOnx5 https://t.co/RQoeSWoaHH''',\n",
    "     'stance': 'UNRELATED'},\n",
    "    {'belief':\"COVID-19 is only as deadly as the seasonal flu.\",\n",
    "     'statement':'''@islandmonk @Stonekettle Closer to 650,000 people will die of the flu this year. The figure of 30,000 is just in the U.S. \\nBut the flu has approximately 0.1% mortality vs 2% for COVID-19. Do the math.''',\n",
    "     'stance': 'DENIES'},\n",
    "    {'belief':\"Coronavirus is genetically engineered.\",\n",
    "     'statement':'''@TheMadKiwi3 @goodfoodgal nah. A biological warfare agent would kill 99% of its victims, not 2% like the corona virus. This is a naturally occurring virus.''',\n",
    "     'stance': 'DENIES'},\n",
    "    {'belief':\"SARS-CoV-2 can survive for weeks on surfaces.\",\n",
    "     'statement':'''Coronavirus could survive up to 9 days outside the body, study says https://t.co/JUzdJgc5Dz''',\n",
    "     'stance': 'SUPPORTS'}\n",
    "]"
   ]
  },
  {
   "cell_type": "code",
   "execution_count": 29,
   "id": "6ec3f4a3-be9d-46df-bed7-8b2afa937000",
   "metadata": {
    "tags": []
   },
   "outputs": [],
   "source": [
    "prefix = \"\"\"\n",
    "The following statements are social media posts about COVID or Coronavirus. The statements can support, deny, be neutral, or be unrelated toward its associated COVID belief.\"\"\"\n",
    "\n",
    "suffix = '''\n",
    "Now, classify the following statement as to whether 'SUPPORTS', 'DENIES', is 'NEUTRAL', or is 'UNRELATED' toward the belief below being true. Only return the classification for the statement toward the belief, and no other text.\n",
    "\n",
    "belief: {event}\n",
    "statement: {statement}\n",
    "'''\n",
    "\n",
    "few_shot_prompt = FewShotPromptTemplate(\n",
    "    examples=examples,\n",
    "    example_prompt=example_prompt,\n",
    "    prefix=prefix,\n",
    "    suffix=suffix,\n",
    "    input_variables=[\"event\", \"statement\"],\n",
    "    example_separator=\"\\n\"\n",
    ")"
   ]
  },
  {
   "cell_type": "markdown",
   "id": "fc6c9f10-3438-446e-9812-f4d1a1e70c1b",
   "metadata": {},
   "source": [
    "### Run an example"
   ]
  },
  {
   "cell_type": "code",
   "execution_count": 30,
   "id": "14e63860-b15e-4b0f-89be-16ef75f83c3e",
   "metadata": {
    "tags": []
   },
   "outputs": [
    {
     "name": "stderr",
     "output_type": "stream",
     "text": [
      "/usr/local/lib/python3.10/dist-packages/transformers/pipelines/base.py:1101: UserWarning: You seem to be using the pipelines sequentially on GPU. In order to maximize efficiency please use a dataset\n",
      "  warnings.warn(\n"
     ]
    }
   ],
   "source": [
    "llm_chain = LLMChain(prompt=few_shot_prompt, llm=llm)\n",
    "\n",
    "results=[]\n",
    "for row in random_sample_df.iterrows():\n",
    "    results.append(llm_chain.run(event=row[1]['event'], statement=row[1]['full_text']))"
   ]
  },
  {
   "cell_type": "code",
   "execution_count": 31,
   "id": "48e8de6c-a692-4a13-a94a-a94ce0404006",
   "metadata": {
    "tags": []
   },
   "outputs": [
    {
     "name": "stdout",
     "output_type": "stream",
     "text": [
      "              precision    recall  f1-score   support\n",
      "\n",
      "       agree       0.00      0.00      0.00         1\n",
      "    disagree       0.00      0.00      0.00         1\n",
      "     neutral       0.96      0.54      0.69        98\n",
      "\n",
      "    accuracy                           0.53       100\n",
      "   macro avg       0.32      0.18      0.23       100\n",
      "weighted avg       0.94      0.53      0.68       100\n",
      "\n"
     ]
    },
    {
     "name": "stderr",
     "output_type": "stream",
     "text": [
      "/usr/local/lib/python3.10/dist-packages/sklearn/metrics/_classification.py:1344: UndefinedMetricWarning: Precision and F-score are ill-defined and being set to 0.0 in labels with no predicted samples. Use `zero_division` parameter to control this behavior.\n",
      "  _warn_prf(average, modifier, msg_start, len(result))\n",
      "/usr/local/lib/python3.10/dist-packages/sklearn/metrics/_classification.py:1344: UndefinedMetricWarning: Precision and F-score are ill-defined and being set to 0.0 in labels with no predicted samples. Use `zero_division` parameter to control this behavior.\n",
      "  _warn_prf(average, modifier, msg_start, len(result))\n",
      "/usr/local/lib/python3.10/dist-packages/sklearn/metrics/_classification.py:1344: UndefinedMetricWarning: Precision and F-score are ill-defined and being set to 0.0 in labels with no predicted samples. Use `zero_division` parameter to control this behavior.\n",
      "  _warn_prf(average, modifier, msg_start, len(result))\n"
     ]
    }
   ],
   "source": [
    "# converting to given labels for comparison\n",
    "\n",
    "y_true = [str.lower(i) for i in y_true]\n",
    "y_pred = []  \n",
    "  \n",
    "for word in results:  \n",
    "    lower_word = word.lower()  \n",
    "    if 'support' in lower_word:  \n",
    "        y_pred.append('agree')  \n",
    "    elif 'denies' in lower_word:  \n",
    "        y_pred.append('disagree')  \n",
    "    elif 'neutral' in lower_word or 'unrelated' in lower_word:  \n",
    "        y_pred.append('neutral')  \n",
    "    else:  \n",
    "        y_pred.append('neutral')\n",
    "\n",
    "# generating the classification report  \n",
    "report = classification_report(y_true, y_pred)  \n",
    "  \n",
    "print(report)  "
   ]
  },
  {
   "cell_type": "markdown",
   "id": "0622d58d-9df3-4a17-8d22-244df05436de",
   "metadata": {},
   "source": [
    "### Run on all Data"
   ]
  },
  {
   "cell_type": "code",
   "execution_count": 32,
   "id": "bc5169c2-4b07-4237-baf3-af889bdf11e7",
   "metadata": {
    "tags": []
   },
   "outputs": [
    {
     "name": "stderr",
     "output_type": "stream",
     "text": [
      "0it [00:00, ?it/s]/usr/local/lib/python3.10/dist-packages/transformers/pipelines/base.py:1101: UserWarning: You seem to be using the pipelines sequentially on GPU. In order to maximize efficiency please use a dataset\n",
      "  warnings.warn(\n",
      "3196it [1:14:35,  1.40s/it]\n"
     ]
    }
   ],
   "source": [
    "# Running across the whole dataset\n",
    "\n",
    "results = []\n",
    "for index, row in tqdm(df.iterrows()):\n",
    "    results.append(llm_chain.run(event=row['event'], statement=row['full_text']))"
   ]
  },
  {
   "cell_type": "code",
   "execution_count": 33,
   "id": "9fdfadd5-b241-408a-b586-dfe993a3ec72",
   "metadata": {
    "tags": []
   },
   "outputs": [
    {
     "data": {
      "text/plain": [
       "(array(['DENIES', 'NEUTRAL', 'SUPPORTS', 'stance: DENIES',\n",
       "        'stance: NEUTRAL', 'stance: SUPPORTS', 'stance: UNRELATED'],\n",
       "       dtype='<U17'),\n",
       " array([  60,   10,    1, 1416,  740,   46,  923]))"
      ]
     },
     "execution_count": 33,
     "metadata": {},
     "output_type": "execute_result"
    }
   ],
   "source": [
    "np.unique(results, return_counts=True)"
   ]
  },
  {
   "cell_type": "code",
   "execution_count": 34,
   "id": "7dc5c63a-b901-4541-81dd-e69985f36460",
   "metadata": {
    "tags": []
   },
   "outputs": [],
   "source": [
    "y_pred = []  \n",
    "  \n",
    "for word in results:  \n",
    "    lower_word = word.lower()  \n",
    "    if 'support' in lower_word:  \n",
    "        y_pred.append('agree')  \n",
    "    elif 'denies' in lower_word:  \n",
    "        y_pred.append('disagree')  \n",
    "    elif 'neutral' in lower_word or 'unrelated' in lower_word:  \n",
    "        y_pred.append('neutral')  \n",
    "    else:  \n",
    "        y_pred.append('neutral')\n",
    "        \n",
    "df['fsp_preds'] = y_pred"
   ]
  },
  {
   "cell_type": "code",
   "execution_count": 35,
   "id": "a1521a68-6865-496e-87e1-5990887725a6",
   "metadata": {
    "tags": []
   },
   "outputs": [
    {
     "data": {
      "text/plain": [
       "(array(['agree', 'disagree', 'neutral'], dtype=object),\n",
       " array([  47, 1476, 1673]))"
      ]
     },
     "execution_count": 35,
     "metadata": {},
     "output_type": "execute_result"
    }
   ],
   "source": [
    "np.unique(df['fsp_preds'], return_counts=True)"
   ]
  },
  {
   "cell_type": "code",
   "execution_count": 36,
   "id": "050cbe93-765c-4b30-bd7a-c8d293b99dff",
   "metadata": {
    "tags": []
   },
   "outputs": [
    {
     "name": "stdout",
     "output_type": "stream",
     "text": [
      "              precision    recall  f1-score   support\n",
      "\n",
      "       agree       0.49      0.23      0.31       100\n",
      "    disagree       0.04      0.72      0.08        85\n",
      "     neutral       0.98      0.54      0.70      3011\n",
      "\n",
      "    accuracy                           0.54      3196\n",
      "   macro avg       0.50      0.50      0.36      3196\n",
      "weighted avg       0.94      0.54      0.67      3196\n",
      "\n"
     ]
    }
   ],
   "source": [
    "report = classification_report(df['stance'], df['fsp_preds'])\n",
    "\n",
    "print(report)"
   ]
  },
  {
   "cell_type": "markdown",
   "id": "b658afe0-4555-496c-b244-b00039433330",
   "metadata": {
    "tags": []
   },
   "source": [
    "## 3(d). Context + FSP + Reasoning"
   ]
  },
  {
   "cell_type": "code",
   "execution_count": 37,
   "id": "940202db-ae18-42ca-9f75-2061b4281e44",
   "metadata": {
    "tags": []
   },
   "outputs": [],
   "source": [
    "# Create an example template\n",
    "\n",
    "example_and_reason_template = '''\n",
    "belief: {belief}\n",
    "statement: {statement}\n",
    "stance: {stance}\n",
    "reason: {reason}\n",
    "'''\n",
    "\n",
    "example_and_reason_prompt = PromptTemplate(\n",
    "    input_variables=[\"belief\",\"statement\", \"stance\", \"reason\"],\n",
    "    template=example_and_reason_template\n",
    ")"
   ]
  },
  {
   "cell_type": "code",
   "execution_count": 38,
   "id": "32e90a11-7697-4ee8-abd1-7dedbc3c0f47",
   "metadata": {
    "tags": []
   },
   "outputs": [],
   "source": [
    "# Give some examples\n",
    "\n",
    "examples = [\n",
    "    {'belief':\"Africans are more resistant to coronavirus.\",\n",
    "     'statement':'''Happen now Blacks are Immune to the coronavirus ' there is a GOD https://t.co/LRq7SZYK0G''',\n",
    "     'stance': 'SUPPORTS',\n",
    "     'reason': 'The statement supports the beleif that Africans are more resistant to COVID, as it claims black people are immune to COVID, and most people in Africa are black.'\n",
    "    },\n",
    "    {'belief':\"Alex Jones' silver-infused toothpaste kills COVID-19\",\n",
    "     'statement':'''#China #COVID-19 As work resumes in outbreak, brand-new 'normal' emerges https://t.co/VENOSSOnx5 https://t.co/RQoeSWoaHH''',\n",
    "     'stance': 'UNRELATED',\n",
    "     'reason': 'The statement is unrelated to the belief Alex Jones toothpaste as the statement does not talk about it.'\n",
    "    },\n",
    "    {'belief':\"COVID-19 is only as deadly as the seasonal flu.\",\n",
    "     'statement':'''@islandmonk @Stonekettle Closer to 650,000 people will die of the flu this year. The figure of 30,000 is just in the U.S. \\nBut the flu has approximately 0.1% mortality vs 2% for COVID-19. Do the math.''',\n",
    "     'stance': 'DENIES',\n",
    "     'reason': 'The statement denies COVID being only as deadly as the flu as it cites numbers that refute this belief.'\n",
    "    },\n",
    "    {'belief':\"Coronavirus is genetically engineered.\",\n",
    "     'statement':'''@TheMadKiwi3 @goodfoodgal nah. A biological warfare agent would kill 99% of its victims, not 2% like the corona virus. This is a naturally occurring virus.''',\n",
    "     'stance': 'DENIES',\n",
    "     'reason': 'The statement denies COVID being genetically engineered as it claims if COVID was an engineered bioweapon, it would have killed much more people than it actually did.'\n",
    "    },\n",
    "    {'belief':\"SARS-CoV-2 can survive for weeks on surfaces.\",\n",
    "     'statement':'''Coronavirus could survive up to 9 days outside the body, study says https://t.co/JUzdJgc5Dz''',\n",
    "     'stance': 'SUPPORTS',\n",
    "     'reason': 'The statement supports the belief that COVID can survive for weeks on surfaces because it claims COVID can survive outside of a body, which implies on a surface, for over a week.'\n",
    "    }\n",
    "]"
   ]
  },
  {
   "cell_type": "code",
   "execution_count": 39,
   "id": "58c0a06d-0604-445e-89b3-7807b6a60685",
   "metadata": {
    "tags": []
   },
   "outputs": [],
   "source": [
    "prefix = \"\"\"\n",
    "The following statements are social media posts about COVID or Coronavirus. Each statement can support, deny, be neutral, or be unrelated toward its associated COVID belief and Each statement has the reason for that stance.\n",
    "\"\"\"\n",
    "\n",
    "suffix = '''\n",
    "Now, classify the following statement as to whether 'SUPPORTS', 'DENIES', is 'NEUTRAL', or is 'UNRELATED' toward the belief below being true, and give your reason for the classification. Only return the classification for the statement toward the belief and the reasoning for the classification in the form of:'stance: STANCE, reason: REASON'\n",
    "\n",
    "belief: {event}\n",
    "statement: {statement}\n",
    "'''\n",
    "\n",
    "few_shot_and_reason_prompt = FewShotPromptTemplate(\n",
    "    examples=examples,\n",
    "    example_prompt=example_and_reason_prompt,\n",
    "    prefix=prefix,\n",
    "    suffix=suffix,\n",
    "    input_variables=[\"event\", \"statement\"],\n",
    "    example_separator=\"\\n\"\n",
    ")"
   ]
  },
  {
   "cell_type": "markdown",
   "id": "13aabfb6-da64-4d33-b501-d24e5e0c41e8",
   "metadata": {},
   "source": [
    "### Run an example"
   ]
  },
  {
   "cell_type": "code",
   "execution_count": 40,
   "id": "0b2606a6-dc35-45a4-aa4c-a9d0cdb733e5",
   "metadata": {
    "tags": []
   },
   "outputs": [
    {
     "name": "stderr",
     "output_type": "stream",
     "text": [
      "/usr/local/lib/python3.10/dist-packages/transformers/pipelines/base.py:1101: UserWarning: You seem to be using the pipelines sequentially on GPU. In order to maximize efficiency please use a dataset\n",
      "  warnings.warn(\n"
     ]
    }
   ],
   "source": [
    "llm_chain = LLMChain(prompt=few_shot_and_reason_prompt, llm=llm)\n",
    "\n",
    "results=[]\n",
    "for row in random_sample_df.iterrows():\n",
    "    results.append(llm_chain.run(event=row[1]['event'], statement=row[1]['full_text']))"
   ]
  },
  {
   "cell_type": "code",
   "execution_count": 41,
   "id": "711e81c2-c074-4a35-8c93-a0b2575f8bb4",
   "metadata": {
    "tags": []
   },
   "outputs": [
    {
     "name": "stdout",
     "output_type": "stream",
     "text": [
      "              precision    recall  f1-score   support\n",
      "\n",
      "       agree       0.00      0.00      0.00         1\n",
      "    disagree       0.00      0.00      0.00         1\n",
      "     neutral       0.95      0.41      0.57        98\n",
      "\n",
      "    accuracy                           0.40       100\n",
      "   macro avg       0.32      0.14      0.19       100\n",
      "weighted avg       0.93      0.40      0.56       100\n",
      "\n"
     ]
    }
   ],
   "source": [
    "y_pred = []  \n",
    "reasons = []  \n",
    "  \n",
    "for result in results:  \n",
    "    split_result = result.split('reason:')  \n",
    "    if len(split_result) == 2:  \n",
    "        # Extract stance and reason, remove leading/trailing whitespace and convert stance to lowercase  \n",
    "        stance, reason = split_result\n",
    "        stance = stance.replace('stance:', '').replace(',', '').strip().lower()\n",
    "        reason = reason.strip()\n",
    "        reasons.append(reason)\n",
    "    else:\n",
    "        # model did not give a reason\n",
    "        stance = split_result[0]\n",
    "        stance = stance.replace('stance:', '').replace(',', '').strip().lower()\n",
    "        reasons.append('')\n",
    "    if 'support' in stance:  \n",
    "        y_pred.append('agree')  \n",
    "    elif 'denies' in stance:  \n",
    "        y_pred.append('disagree')  \n",
    "    elif 'neutral' in stance or 'unrelated' in stance:  \n",
    "        y_pred.append('neutral')  \n",
    "\n",
    "y_true = [str.lower(i) for i in y_true]\n",
    "\n",
    "# generating the classification report\n",
    "report = classification_report(y_true, y_pred)\n",
    "print(report)"
   ]
  },
  {
   "cell_type": "markdown",
   "id": "9e47e691-8ef2-4cae-adf7-4e0211f04e5a",
   "metadata": {},
   "source": [
    "### Run on all Data"
   ]
  },
  {
   "cell_type": "code",
   "execution_count": 42,
   "id": "2d04c4ca-471d-46a1-896b-c26d61ba93e1",
   "metadata": {
    "tags": []
   },
   "outputs": [
    {
     "name": "stderr",
     "output_type": "stream",
     "text": [
      "0it [00:00, ?it/s]/usr/local/lib/python3.10/dist-packages/transformers/pipelines/base.py:1101: UserWarning: You seem to be using the pipelines sequentially on GPU. In order to maximize efficiency please use a dataset\n",
      "  warnings.warn(\n",
      "3196it [4:41:22,  5.28s/it]\n"
     ]
    }
   ],
   "source": [
    "# Running across the whole dataset\n",
    "\n",
    "results = []\n",
    "for index, row in tqdm(df.iterrows()):\n",
    "    results.append(llm_chain.run(event=row['event'], statement=row['full_text']))"
   ]
  },
  {
   "cell_type": "code",
   "execution_count": 47,
   "id": "8cb11e0d-7693-4af9-854a-dcedb52cbbfe",
   "metadata": {
    "tags": []
   },
   "outputs": [
    {
     "data": {
      "text/plain": [
       "['stance: DENIES, reason: REASON: This is unrelated to the topic.',\n",
       " 'stance: DENIES, reason: REASON: Cabbage is not related to the COVID.',\n",
       " 'stance: UNRELATED, reason: The statement is unrelated to the COVID-19 lockdown.',\n",
       " 'stance: DENIES, reason: REASON: Cocaine is not a cure for COVID.',\n",
       " 'stance: DENIES, reason: REASON: This is not true and there is no cure for this virus.',\n",
       " 'stance: UNRELATED, reason: The statement is unrelated to the belief that Vitamin D cures coronavirus.',\n",
       " 'stance: UNRELATED, reason: REASON: RT @TabascoHOY: #Coronavirus Los infectados por #COVID19 en el mundo asciende a 83 mil 652 casos, los muertos llegan a 2 mil 791 en #Chin...',\n",
       " 'stance: UNRELATED, reason: Fennel tea is not a cure for COVID.',\n",
       " 'stance: UNRELATED, reason: REASON: Essential oils are not related to the flu.',\n",
       " 'stance: UNRELATED',\n",
       " 'stance: DENIES, reason: REASON: COVID-19 is more dangerous than the seasonal flu.',\n",
       " 'stance: DENIES reason: The statement denies COVID being only as deadly as the flu as it cites numbers that refute this belief.',\n",
       " 'stance: DENIES, reason: REASON: COVID-19 is a virus that is not related to cannabis.',\n",
       " 'stance: DENIES, reason: The statement is unrelated to the belief that drinking Corona-brand beer causes COVID-19.',\n",
       " 'stance: DENIES, reason: REASON: There is no cure for the virus.',\n",
       " 'stance: DENIES, reason: REASON: There is no evidence that vitamin D pills prevent COVID-19.',\n",
       " 'stance: NEUTRAL, reason: REASON: The statement is unrelated to the belief Observing janata curfew will result in the reduction of covid-19 cases by 40%.',\n",
       " 'stance: DENIES, reason: REASON: The statement denies that it is safe for individuals infected with COVID-19 to go to work because 15-20% of people with COVID-19 may require hospitalization.',\n",
       " 'stance: UNRELATED, reason: Lions are not used to keep people off the streets in Moscow.',\n",
       " 'stance: UNRELATED reason: The first person infected is unknown.',\n",
       " 'stance: DENIES, reason: REASON: The statement is unrelated to the belief that Actor Keith Lawrence Middlebrook has a cure for COVID-19.',\n",
       " \"stance: DENIES, reason: REASON: The CDC and hospital told the man to take public transportation home because they didn't want to test him.\",\n",
       " 'stance: DENIES, reason: The first person infected is a researcher named Huang Yanling.',\n",
       " 'stance: DENIES reason: The statement denies COVID being genetically engineered as it claims if COVID was an engineered bioweapon, it would have killed much more people than it actually did.',\n",
       " 'stance: DENIES, reason: REASON: The statement is unrelated to the belief that viruses are wastes from cells that are poisoned by electromagnetic fields.',\n",
       " 'stance: DENIES reason: The statement denies COVID being genetically engineered as it claims if COVID was an engineered bioweapon, it would have killed much more people than it actually did.',\n",
       " 'stance: DENIES reason: The statement denies COVID being genetically engineered as it claims if COVID was an engineered bioweapon, it would have killed much more people than it actually did.',\n",
       " 'stance: DENIES, reason: The statement denies the belief that COVID can only survive in cold temperatures because it states that COVID can survive in 40 F, high humidity, and no sunlight.',\n",
       " 'stance: DENIES, reason: REASON: The statement is unrelated to the belief that drinking Corona-brand beer causes COVID-19.',\n",
       " \"stance: DENIES, reason: REASON: Qur'an verses worn on clothes can prevent coronavirus\",\n",
       " 'stance: DENIES, reason: The statement is unrelated to the belief that boiled ginger can cure coronavirus.',\n",
       " 'stance: DENIES, reason: REASON: The CDC has stated that the risk to the general public is low.',\n",
       " 'stance: NEUTRAL, reason: The statement is neutral because it is not known if indomethacin will work against COVID.',\n",
       " 'stance: UNRELATED reason: The statement is unrelated to the belief that cannabis protects against COVID-19.',\n",
       " 'stance: UNRELATED, reason: The Malabar civet is not a pet.',\n",
       " 'stance: DENIES, reason: REASON: The statement is unrelated to the belief that methanol consumption cures or protects against coronavirus.',\n",
       " 'stance: NEUTRAL, reason: The statement is neutral as it does not state whether hand sanitizers will be in short supply.',\n",
       " 'stance: DENIES, reason: REASON: The statement is unrelated to the belief that Lions were freed to keep people off the streets in Moscow.',\n",
       " 'stance: DENIES, reason: REASON: Clapping does not kill coronavirus.',\n",
       " 'stance: DENIES, reason: REASON: There are no medical studies that avocado and mint tea cures coronavirus.',\n",
       " 'stance: DENIES, reason: REASON: There are no medical studies that show that vitamin D cures coronavirus.',\n",
       " 'stance: DENIES, reason: REASON: There are no medical studies that support this claim.',\n",
       " 'stance: DENIES, reason: REASON: There are no medical studies that show that vitamin C cures COVID.',\n",
       " 'stance: DENIES, reason: REASON: Cocaine is not a cure for coronavirus.',\n",
       " 'stance: DENIES, reason: REASON: There are no medical studies that show essential oils cure COVID.',\n",
       " 'stance: DENIES, reason: REASON: Prevention starts with practicing good personal health habits: Wash your hands often with soap and water, Stay home when you’re sick, Cover your coughs and sneezes with a tissue, Clean frequently touched surfaces and objects.',\n",
       " 'stance: DENIES, reason: REASON: There is no evidence that cannabis protects against COVID-19.',\n",
       " 'stance: DENIES, reason: REASON: There is no cure for COVID-19, but there are ways to prevent it.',\n",
       " 'stance: DENIES, reason: REASON: Namaste is a greeting, not a preventative measure against COVID-19.',\n",
       " 'stance: DENIES, reason: REASON: There is no evidence that vitamin D pills prevent COVID-19.',\n",
       " 'stance: NEUTRAL, reason: The Archdiocese of Galveston-Houston is suspending the distribution of Holy Communion.',\n",
       " 'stance: DENIES, reason: REASON: The statement is unrelated to the belief that essential oils cure coronavirus.',\n",
       " 'stance: DENIES, reason: REASON: The statement is unrelated to the belief that fennel tea cures coronavirus.',\n",
       " 'stance: DENIES, reason: REASON: This is unrelated to the topic.',\n",
       " 'stance: DENIES, reason: REASON: This is a joke.',\n",
       " 'stance: DENIES, reason: REASON: Celebrating Vedic Holi does not prevent COVID.',\n",
       " 'stance: DENIES, reason: REASON: This is not a cure for COVID, but a way to prevent it.',\n",
       " 'stance: NEUTRAL, reason: The statement is neutral as it does not state the number of cases or the percentage of reduction in cases.',\n",
       " 'stance: DENIES, reason: REASON: The lockdown did not affect water pollution.',\n",
       " 'stance: UNRELATED, reason: REASON: This is not related to COVID.',\n",
       " 'stance: UNRELATED, reason: The tweet is about a decision, not about COVID.',\n",
       " 'stance: UNRELATED, reason: The statement is unrelated to the belief that Holy communion cannot be the cause of the spread of coronavirus.',\n",
       " 'stance: DENIES, reason: REASON: MERS was a Coronavirus and had a mortality rate of 34+%',\n",
       " 'stance: DENIES, reason: The statement denies COVID being only as deadly as the flu as it cites numbers that refute this belief.',\n",
       " 'stance: DENIES, reason: REASON: This is not a cure for coronavirus.',\n",
       " 'stance: DENIES, reason: REASON: The statement is unrelated to the belief that fennel tea cures coronavirus.',\n",
       " 'stance: DENIES, reason: REASON: This is unrelated to the topic.',\n",
       " 'stance: DENIES, reason: REASON: The statement is unrelated to the belief that essential oils cure coronavirus.',\n",
       " 'stance: DENIES, reason: REASON: This is not a cure for coronavirus.',\n",
       " 'stance: DENIES, reason: REASON: This is not a cure for coronavirus.',\n",
       " 'stance: UNRELATED reason: The statement is unrelated to the belief that Vitamin D pills prevent COVID-19.',\n",
       " 'stance: DENIES, reason: REASON: Masks are not a way to prevent the spread of COVID.',\n",
       " 'stance: UNRELATED reason: The statement is unrelated to the belief that COVID is genetically engineered.',\n",
       " 'stance: DENIES, reason: REASON: The conclusion is in line with several reports from doctors who self-administered HIV drugs after testing positive for coronavirus,',\n",
       " 'stance: DENIES, reason: REASON: The conclusion is in line with several reports from doctors who self-administered HIV drugs after testing positive for coronavirus,',\n",
       " 'stance: DENIES, reason: REASON: There is no cure for coronavirus, but there are drugs that can help.',\n",
       " 'stance: DENIES, reason: REASON: Fennel tea is not a therapeutic drug.',\n",
       " 'stance: DENIES, reason: REASON: Cocaine is not a therapeutic drug.',\n",
       " 'stance: DENIES, reason: REASON: The conclusion is in line with several reports from doctors who self-administered HIV drugs after testing positive for coronavirus,',\n",
       " 'stance: DENIES, reason: REASON: Viruses are not wastes from cells that are poisoned by electromagnetic fields.',\n",
       " 'stance: DENIES, reason: REASON: The statement denies Africans are more resistant to COVID, as it claims black people are immune to COVID, and most people in Africa are black.',\n",
       " 'stance: DENIES, reason: REASON: This is unrelated to the statement',\n",
       " 'stance: UNRELATED, reason: The whales are in the Indian ocean which is not the same as the Arabian Sea.',\n",
       " 'stance: DENIES, reason: The statement denies the belief that Kenneth Copeland on Victory Channel can cure COVID-19 through the TV.',\n",
       " 'stance: DENIES, reason: REASON: The statement is unrelated to the belief that the Bank of England £20 banknotes contain a picture of a 5G mast and the SARS-CoV-2 virus.',\n",
       " 'stance: DENIES, reason: REASON: SARS, MERS and even the common cold is a part of the coronavirus family.',\n",
       " 'stance: DENIES, reason: REASON: COVID-19 is a new virus that has not been around long enough for people to find a cure.',\n",
       " 'stance: DENIES, reason: The statement is unrelated to the belief that drinking Corona-brand beer causes COVID-19.',\n",
       " 'stance: NEUTRAL, reason: REASON: Essential oils are not known to cure COVID.',\n",
       " 'stance: NEUTRAL, reason: The statement is neutral because it does not state whether avocado and mint tea cures COVID.',\n",
       " 'stance: NEUTRAL, reason: Fennel tea is not a cure for COVID.',\n",
       " 'stance: DENIES, reason: Cocaine is not a cure for COVID.',\n",
       " 'stance: NEUTRAL, reason: i dont know',\n",
       " 'stance: NEUTRAL, reason: i dont know',\n",
       " 'stance: DENIES, reason: REASON: It is not true that blowing conch shells destroys coronavirus potency.',\n",
       " 'stance: DENIES, reason: REASON: There is no way to tell if someone has COVID by holding their breath.',\n",
       " 'stance: DENIES, reason: The statement is unrelated to the belief Alex Jones toothpaste as the statement does not talk about it.',\n",
       " 'stance: NEUTRAL, reason: REASON: The statement is neutral because there is no evidence that blowing conch shells destroys coronavirus potency.',\n",
       " \"stance: NEUTRAL, reason: REASON: I don't think cabbage has anything to do with washing hands.\",\n",
       " 'stance: DENIES, reason: REASON: The statement is unrelated to the belief that methanol consumption cures or protects against coronavirus.',\n",
       " 'stance: DENIES, reason: REASON: Acetic acid is the main ingredient in lysol.',\n",
       " 'stance: UNRELATED reason: The statement is unrelated to the belief that eating cabbage prevents coronavirus infection.',\n",
       " 'stance: NEUTRAL, reason: The statement is neutral because it does not state whether or not vitamin C can prevent COVID.',\n",
       " 'stance: NEUTRAL, reason: The statement is neutral as it does not state whether hand sanitiser is effective or not.',\n",
       " 'stance: DENIES, reason: REASON: I don\\'t want that crap in me either, but maybe they\\'re using this whole \"outbreak\" to break the idea into the scene. And maybe they\\'ll advertise the \"answer\" to the \"pandemic\" is a tech-biology interface too. We are free to refuse. This is downright biblical, mark of the beast.',\n",
       " 'stance: DENIES, reason: The virus can spread through commercial airlines and is not temperature dependent.',\n",
       " 'stance: DENIES, reason: REASON: Masks do not prevent the spread of COVID.',\n",
       " \"stance: DENIES, reason: REASON: You can't tell if you have COVID by holding your breath.\",\n",
       " 'stance: DENIES, reason: REASON: Wearing a mask will not protect you if you are not sick.',\n",
       " 'stance: DENIES, reason: REASON: The Malabar civet is not a coronavirus.',\n",
       " 'stance: DENIES, reason: REASON: The virus can survive in many temperatures.',\n",
       " 'stance: UNRELATED, reason: REASON: This is not about COVID.',\n",
       " 'stance: UNRELATED reason: The statement is unrelated to the belief that hand sanitiser sold commercially does not destroy the coronavirus.',\n",
       " 'stance: UNRELATED reason: Acetic acid is not a COVID.',\n",
       " 'stance: DENIES, reason: REASON: methanol is not a cure for coronavirus.',\n",
       " 'stance: UNRELATED reason: The statement is unrelated to the belief that boiled ginger can cure coronavirus.',\n",
       " 'stance: UNRELATED reason: The statement is unrelated to the belief that Vitamin C can prevent coronavirus circulation because it is a random retweet of a number.',\n",
       " 'stance: UNRELATED reason: The tweet is about a number and not about a mattress.',\n",
       " 'stance: SUPPORTS, reason: REASON: Chloroquine is an antimalarial drug that has shown some efficacy against COVID-19.',\n",
       " 'stance: NEUTRAL, reason: Chloroquine is not FDA approved for COVID-19.',\n",
       " 'stance: DENIES, reason: The statement denies the belief that CBD oil is a cure for COVID-19 because it cites numbers that refute this belief.',\n",
       " 'stance: DENIES, reason: REASON: There exists a misunderstanding that COVID-19 is a self-limited disease, so it does not require treatment, which is wrong,\" he said, calling on people to go to hospitals once infected with the virus to avoid the risk of deterioration and further spread of the disease.',\n",
       " 'stance: DENIES, reason: REASON',\n",
       " 'stance: DENIES reason: The statement denies COVID being genetically engineered as it claims if COVID was an engineered bioweapon, it would have killed much more people than it actually did.',\n",
       " 'stance: DENIES, reason: REASON: The statement is unrelated to the belief that shaking hands cannot spread coronavirus.',\n",
       " 'stance: DENIES, reason: REASON: Hot pepper is not a cure for COVID.',\n",
       " 'stance: DENIES, reason: REASON: Hot pepper will not kill the coronavirus.',\n",
       " 'stance: DENIES, reason: REASON: This is unrelated to the janata curfew',\n",
       " 'stance: DENIES reason: The statement denies COVID being only as deadly as the flu as it cites numbers that refute this belief.',\n",
       " 'stance: DENIES, reason: The statement is unrelated to the belief CBD oil is a cure for COVID-19.',\n",
       " 'stance: DENIES, reason: The statement is unrelated to the belief that chloroquine is a Food and Drug Administration (FDA) approved treatment for COVID-19.',\n",
       " \"stance: DENIES, reason: The statement is unrelated to the belief Jim Bakker's colloidal silver solution as it does not talk about it.\",\n",
       " 'stance: UNRELATED reason: The statement is unrelated to the belief that Vitamin D pills prevent COVID-19 because it is talking about a clinical trial of remdesivir to treat COVID-19.',\n",
       " 'stance: DENIES, reason: The statement is unrelated to the belief that chloroquine can cure coronavirus.',\n",
       " 'stance: NEUTRAL, reason: The statement is neutral because it does not state how many people will die.',\n",
       " 'stance: UNRELATED reason: The statement is unrelated to the belief that cannabis protects against COVID-19.',\n",
       " 'stance: UNRELATED reason: The statement is unrelated to the belief that Vitamin D pills prevent COVID-19.',\n",
       " \"stance: UNRELATED, reason: The statement is unrelated to the belief that Jim Bakker's colloidal silver solution is a remedy for COVID-19.\",\n",
       " 'stance: DENIES, reason: REASON: The statement is unrelated to the belief that drinking Corona-brand beer causes COVID-19.',\n",
       " 'stance: UNRELATED, reason: REASON: The statement is unrelated to the belief that CBD oil is a cure for COVID-19.',\n",
       " 'stance: DENIES, reason: REASON: Actor Keith Lawrence Middlebrook has not been credited with a cure for COVID-19.',\n",
       " 'stance: NEUTRAL, reason: The statement is unrelated to the belief that Africans are more resistant to coronavirus.',\n",
       " 'stance: NEUTRAL, reason: REASON: The word outbreak is deceiving since they have not tested positive yet. There can be one more than one illness going around a nursing home at a time.',\n",
       " 'stance: DENIES, reason: REASON: There is no way to tell if someone has COVID by holding their breath.',\n",
       " 'stance: UNRELATED reason: The statement is unrelated to the belief that Kyriakos Velopoulos sells a hand cream which completely kills covid-19.',\n",
       " 'stance: UNRELATED reason: The statement is unrelated to the belief that using namaste as a greeting prevents transmission of covid-19.',\n",
       " 'stance: SUPPORTS reason: The novel was published in 1981 and the outbreak happened in 2018.',\n",
       " 'stance: UNRELATED reason: The statement is unrelated to the belief that cannabis protects against COVID-19.',\n",
       " 'stance: NEUTRAL, reason: The statement is neutral because it does not state whether Africans are more resistant to coronavirus.',\n",
       " 'stance: UNRELATED reason: The statement is unrelated to the belief that whiskey and honey cure coronavirus.',\n",
       " 'stance: UNRELATED reason: The statement is unrelated to the belief Alex Jones toothpaste as the statement does not talk about it.',\n",
       " 'stance: UNRELATED reason: The statement is unrelated to the belief that whiskey and honey cure coronavirus.',\n",
       " 'stance: DENIES, reason: REASON: Hand sanitizer is not a cure-all for the virus.',\n",
       " 'stance: DENIES, reason: REASON: Hand sanitizer does not kill the virus.',\n",
       " 'stance: DENIES, reason: REASON: CBD oil is not a drug.',\n",
       " 'stance: DENIES, reason: REASON: The statement is unrelated to the belief that Vitamin D pills prevent COVID-19.',\n",
       " 'stance: DENIES, reason: REASON: Chloroquine is not an FDA approved treatment for COVID-19.',\n",
       " \"stance: DENIES, reason: The statement is unrelated to the belief Jim Bakker's colloidal silver solution as it does not talk about it.\",\n",
       " 'stance: DENIES, reason: The drug is not available for use.',\n",
       " 'stance: DENIES, reason: REASON: The statement is unrelated to the belief that fennel tea cures coronavirus.',\n",
       " 'stance: DENIES, reason: REASON: This is not a cure for coronavirus.',\n",
       " 'stance: DENIES, reason: REASON: This is unrelated to the topic.',\n",
       " 'stance: DENIES, reason: REASON: Celebrating Vedic Holi inspired by Sant Shri Asharamji Bapu is not a way to prevent COVID.',\n",
       " 'stance: DENIES, reason: REASON: This is not a cure for COVID, but a way to prevent it.',\n",
       " 'stance: DENIES, reason: REASON: The statement is unrelated to the belief that essential oils cure coronavirus.',\n",
       " 'stance: DENIES, reason: REASON: The sentence is about the name of the virus and not about its properties.',\n",
       " 'stance: DENIES, reason: REASON: Viruses are not wastes from cells that are poisoned by electromagnetic fields.',\n",
       " 'stance: DENIES, reason: The statement denies COVID being genetically engineered as it claims if COVID was an engineered bioweapon, it would have killed much more people than it actually did.',\n",
       " 'stance: UNRELATED reason: The statement is unrelated to the belief as it is about a COVID death in the US.',\n",
       " 'stance: UNRELATED, reason: The Victory Channel is not a news source.',\n",
       " 'stance: DENIES, reason: REASON: The government is not doing enough to contain the virus.',\n",
       " 'stance: UNRELATED reason: The statement is unrelated to the belief as it is about jobs lost due to COVID-19.',\n",
       " 'stance: UNRELATED reason: The statement is unrelated to the belief Miracle Mineral Suppliment (MMS) will prevent and cure COVID-19 as it does not talk about it.',\n",
       " 'stance: DENIES, reason: REASON: Clapping does not kill coronavirus.',\n",
       " 'stance: DENIES, reason: REASON: The virus that causes COVID-19 is SARS-CoV-2',\n",
       " 'stance: DENIES, reason: REASON: COVID-19 is not a mineral, but a virus.',\n",
       " 'stance: DENIES, reason: REASON: The virus that causes COVID-19 is SARS-CoV-2',\n",
       " 'stance: DENIES, reason: REASON: The virus that causes COVID-19 is not a Coronavirus.',\n",
       " 'stance: NEUTRAL, reason: The statement is neutral because it does not state whether Dean Koontz predicted the pandemic or not.',\n",
       " 'stance: DENIES, reason: The statement is unrelated to the belief that drinking Corona-brand beer causes COVID-19.',\n",
       " 'stance: UNRELATED reason: The statement is unrelated to the belief as it is about pollution and not the virus.',\n",
       " 'stance: UNRELATED reason: The statement is unrelated to the belief Observing janata curfew will result in the reduction of covid-19 cases by 40%.',\n",
       " 'stance: UNRELATED reason: The statement is unrelated to the belief that chloroquine can cure coronavirus.',\n",
       " 'stance: DENIES, reason: The statement is unrelated to the belief that shuanghuanglian is cured because it is about a different topic.',\n",
       " 'stance: UNRELATED reason: The statement is unrelated to the belief Swans and dolphins swimming in Venice canals following COVID-19 lockdown.',\n",
       " 'stance: UNRELATED reason: The statement is unrelated to the belief that drinking Corona-brand beer causes COVID-19 as it does not talk about it.',\n",
       " 'stance: UNRELATED reason: The Victory Channel is not a news channel.',\n",
       " 'stance: DENIES, reason: REASON: There is no flu to resist.',\n",
       " 'stance: DENIES, reason: REASON: There is no flu to resist.',\n",
       " 'stance: DENIES, reason: REASON: Cocaine is not a cure for COVID.',\n",
       " 'stance: DENIES, reason: REASON: There is no flu to resist.',\n",
       " 'stance: DENIES, reason: REASON: There is no flu to resist.',\n",
       " 'stance: DENIES, reason: REASON: There is no flu to resist.',\n",
       " 'stance: DENIES, reason: REASON: There is no flu to resist.',\n",
       " 'stance: DENIES, reason: REASON: There is no flu to resist.',\n",
       " 'stance: DENIES, reason: REASON:                                                                                                                                                                                                                                                                                                                                                                                                                                                                                                             ',\n",
       " 'stance: NEUTRAL, reason: RNA viruses are known to mutate extremely rapidly',\n",
       " 'stance: NEUTRAL, reason: REASON: Viruses are not wastes from cells that are poisoned by electromagnetic fields.',\n",
       " 'stance: DENIES, reason: REASON',\n",
       " 'stance: DENIES, reason: REASON',\n",
       " 'stance: DENIES, reason: REASON',\n",
       " 'stance: SUPPORTS, reason: REASON',\n",
       " 'stance: DENIES, reason: REASON',\n",
       " 'stance: NEUTRAL, reason: REASON: The statement is unrelated to the belief that Dean Koontz predicted the pandemic in his 1981 novel The Eyes of Darkness.',\n",
       " 'stance: NEUTRAL, reason: REASON: The statement is neutral because it does not state a number.',\n",
       " 'stance: DENIES, reason: REASON: Chloroquine is not a proper treatment for COVID.',\n",
       " 'stance: DENIES, reason: REASON: The statement is unrelated to the belief that it is safe for individuals infected with COVID-19 to go to work.',\n",
       " 'stance: DENIES, reason: REASON: Namaste is a greeting, not a treatment.',\n",
       " 'stance: DENIES, reason: The statement is unrelated to the belief that Actor Keith Lawrence Middlebrook has a cure for COVID-19.',\n",
       " \"stance: UNRELATED reason: The statement is unrelated to the belief that Jim Bakker's colloidal silver solution is a remedy for COVID-19 as it does not talk about it.\",\n",
       " \"stance: DENIES, reason: REASON: Doctor Jiang Xueqing, also a winner of China's top medical worker award, passed away on Sunday in #Wuhan after infected with #COVID19 when fighting the epidemic on the frontline. Jiang was 55. #RIP\",\n",
       " 'stance: DENIES, reason: REASON: Early diagnosis is crucial for disease treatment and control, but not for MMS.',\n",
       " 'stance: DENIES, reason: REASON: This is unrelated to the topic.',\n",
       " 'stance: DENIES, reason: REASON: The CDC does not recommend drinking cow urine.',\n",
       " 'stance: DENIES, reason: REASON: The CDC does not recommend masks for healthcare workers.',\n",
       " 'stance: UNRELATED, reason: REASON: The CDC does not recommend masks for everyone.',\n",
       " 'stance: DENIES, reason: REASON: The CDC does not recommend masks for everyone.',\n",
       " 'stance: DENIES, reason: REASON: CDC does not recommend masks for healthcare workers',\n",
       " 'stance: DENIES, reason: REASON: The CDC does not recommend masks for everyone.',\n",
       " 'stance: DENIES, reason: REASON: CDC does not recommend masks for healthcare workers',\n",
       " 'stance: DENIES, reason: REASON: CDC recommends masks for healthcare workers,those w/symptoms of COVID-19 to prevent infection of others,& otherwise only if a healthcare professional recommends it',\n",
       " 'stance: DENIES, reason: REASON: The first person infected is a researcher named Huang Yanling.',\n",
       " 'stance: NEUTRAL, reason: The CPC is not a person.',\n",
       " 'stance: DENIES reason: The statement denies COVID being genetically engineered as it claims if COVID was an engineered bioweapon, it would have killed much more people than it actually did.',\n",
       " 'stance: NEUTRAL, reason: REASON: The CPC is not the cause of the outbreak.',\n",
       " 'stance: DENIES, reason: REASON: Wuhan-400 is a fictional virus in a book written in 1981.',\n",
       " 'stance: DENIES, reason: REASON: Cabbage is not related to preventing coronavirus.',\n",
       " 'stance: DENIES, reason: REASON: Washing hands is the only way to prevent COVID.',\n",
       " 'stance: DENIES, reason: The map is an updated map of the outbreak.',\n",
       " 'stance: UNRELATED, reason: The village is under quarantine for COVID.',\n",
       " 'stance: UNRELATED, reason: The whales are not in the Arabian Sea.',\n",
       " 'stance: DENIES, reason: REASON: Miracle Mineral Suppliment (MMS) is a hoax.',\n",
       " 'stance: NEUTRAL, reason: REASON: Jamaat is a religious organization.',\n",
       " 'stance: DENIES, reason: REASON: Namaste is a greeting, not a treatment.',\n",
       " 'stance: NEUTRAL, reason: The statement is unrelated to the person infected.',\n",
       " 'stance: UNRELATED, reason: This is not about COVID.',\n",
       " 'stance: UNRELATED, reason: The statement is unrelated to the COVID-19 because it is unrelated to fog studies.',\n",
       " 'stance: UNRELATED, reason: REASON: This is not about COVID-19',\n",
       " 'stance: UNRELATED, reason: REASON',\n",
       " 'stance: UNRELATED, reason: The statement is unrelated to the COVID-19 outbreak.',\n",
       " 'stance: UNRELATED reason: The statement is unrelated to the belief because it is about a lung transplant for a coronavirus patient.',\n",
       " 'stance: DENIES reason: The statement denies COVID being only as deadly as the flu as it cites numbers that refute this belief.',\n",
       " 'stance: DENIES, reason: REASON: The statement denies COVID being only as deadly as the flu as it cites numbers that refute this belief.',\n",
       " 'stance: DENIES, reason: The WHO published a map for the 2020 outbreak.',\n",
       " 'stance: DENIES, reason: REASON: Swabs from a single dog in China tested weakly positive to the virus; dog showed no symptoms. May have just been residue picked up from infected owner.',\n",
       " 'stance: UNRELATED reason: The statement is unrelated to the belief about the Bank of England £20 banknotes.',\n",
       " 'stance: DENIES, reason: REASON: The Malabar civet is a species of civet found in India.',\n",
       " 'stance: UNRELATED, reason: The statement is unrelated to the belief that a pod of humpback whales returned to the Arabian Sea offshore from Mumbai, India following the COVID-19 lockdown.',\n",
       " 'stance: DENIES, reason: REASON: The doctor said that there are two cures, but they are not essential oils.',\n",
       " 'stance: DENIES, reason: REASON: Avocado and mint tea is not a real cure.',\n",
       " 'stance: DENIES, reason: REASON: Twitter doctor is not a doctor',\n",
       " \"stance: NEUTRAL, reason: REASON: I don't believe in the cures.\",\n",
       " 'stance: DENIES, reason: REASON: Cocaine is not a cure for COVID.',\n",
       " 'stance: DENIES, reason: REASON: There is no cure for COVID.',\n",
       " 'stance: DENIES, reason: REASON: There is no cure for COVID.',\n",
       " 'stance: DENIES, reason: REASON',\n",
       " 'stance: DENIES, reason: REASON: COVID-19 is a serious disease that requires treatment.',\n",
       " \"stance: DENIES, reason: REASON: It is wrong to equate COVID-19 with a disease that doesn't require treatment.\",\n",
       " 'stance: UNRELATED reason: The curfew has not been enacted yet.',\n",
       " 'stance: UNRELATED, reason: REASON: This is not related to the coronavirus.',\n",
       " 'stance: DENIES, reason: The statement is unrelated to the belief Miracle Mineral Suppliment (MMS) will prevent and cure COVID-19.',\n",
       " 'stance: UNRELATED reason: The statement is unrelated to the belief that Vitamin D pills prevent COVID-19.',\n",
       " 'stance: DENIES, reason: The statement is unrelated to the belief that chloroquine is a Food and Drug Administration (FDA) approved treatment for COVID-19.',\n",
       " 'stance: DENIES, reason: The statement is unrelated to the belief that chloroquine can cure coronavirus.',\n",
       " 'stance: DENIES, reason: The NIH is not a source for information on a cure for COVID-19.',\n",
       " \"stance: DENIES, reason: The statement is unrelated to the belief Jim Bakker's colloidal silver solution as it does not talk about it.\",\n",
       " 'stance: UNRELATED reason: The statement is unrelated to the belief because it is about a warning against a stimulus program.',\n",
       " 'stance: DENIES, reason: REASON: This is not a cure, but a way to prevent the virus.',\n",
       " 'stance: DENIES, reason: REASON: The statement is unrelated to the belief that fennel tea cures coronavirus.',\n",
       " 'stance: DENIES, reason: REASON: This is not a cure for coronavirus.',\n",
       " 'stance: DENIES, reason: REASON: This is not a cure for coronavirus.',\n",
       " 'stance: DENIES, reason: REASON: This is unrelated to the topic.',\n",
       " 'stance: DENIES, reason: REASON: This is not a cure for coronavirus.',\n",
       " \"stance: DENIES, reason: The statement denies the belief that Jim Bakker's colloidal silver solution is a remedy for COVID-19 because it does not mention any remedies.\",\n",
       " 'stance: DENIES, reason: REASON: There is no cure for coronavirus.',\n",
       " 'stance: DENIES, reason: REASON: There is no cure for COVID-19.',\n",
       " 'stance: DENIES, reason: REASON: Chloroquine is not an FDA approved treatment for COVID-19.',\n",
       " 'stance: DENIES, reason: REASON: There are no specific therapeutic drugs or vaccines for COVID-19.',\n",
       " 'stance: DENIES, reason: REASON: There are no drugs or vaccines for COVID-19.',\n",
       " 'stance: DENIES, reason: REASON: There is no cure for COVID-19.',\n",
       " 'stance: DENIES, reason: REASON: There are no drugs or vaccines for COVID-19.',\n",
       " 'stance: DENIES, reason: REASON: Prayer and faith will not protect from COVID.',\n",
       " 'stance: DENIES, reason: REASON: Prayer and faith will not protect against COVID.',\n",
       " 'stance: UNRELATED reason: The statement is unrelated to the belief that whiskey and honey cure coronavirus.',\n",
       " 'stance: DENIES, reason: REASON: Clapping will not kill the virus, but washing your hands will.',\n",
       " 'stance: DENIES reason: The statement is a joke and is not true.',\n",
       " 'stance: DENIES, reason: REASON: It is not true that blowing conch shells destroys the potency of the coronavirus.',\n",
       " 'stance: UNRELATED reason: The statement is unrelated to the belief that whiskey and honey cure coronavirus.',\n",
       " 'stance: UNRELATED, reason: The spread of the coronavirus has nothing to do with wearing shoes.',\n",
       " 'stance: DENIES, reason: REASON: The president is urging people to not travel to areas affected by the coronavirus.',\n",
       " 'stance: NEUTRAL, reason: REASON: Dua is a prayer, not a salt water solution.',\n",
       " 'stance: NEUTRAL, reason: The statement is neutral because it does not state whether Vitamin C can prevent COVID.',\n",
       " 'stance: NEUTRAL, reason: The statement is neutral because it does not state whether acetic acid is effective against COVID.',\n",
       " 'stance: NEUTRAL, reason: REASON: The WHO is not a health organization and does not have the authority to make that determination.',\n",
       " 'stance: UNRELATED, reason: REASON: The Bank of England £20 banknotes contain a picture of a 5G mast.',\n",
       " 'stance: DENIES, reason: REASON: This is a joke and not a valid suggestion.',\n",
       " 'stance: DENIES, reason: REASON: This is a joke and not a valid way to prevent the spread of COVID.',\n",
       " 'stance: DENIES, reason: REASON: This is a joke and not a valid way to prevent the spread of COVID.',\n",
       " 'stance: DENIES, reason: REASON: This is a joke and not true.',\n",
       " 'stance: DENIES reason: The statement denies COVID being genetically engineered as it claims if COVID was an engineered bioweapon, it would have killed much more people than it actually did.',\n",
       " 'stance: DENIES, reason: REASON: The statement is unrelated to the belief that observing janata curfew will result in the reduction of covid-19 cases by 40%.',\n",
       " 'stance: DENIES, reason: REASON: The statement denies COVID being only as deadly as the flu as it cites numbers that refute this belief.',\n",
       " 'stance: DENIES, reason: The statement denies COVID being only as deadly as the flu as it cites numbers that refute this belief.',\n",
       " 'stance: UNRELATED, reason: The statement is unrelated to the belief that Chloroquine is a Food and Drug Administration (FDA) approved treatment for COVID-19.',\n",
       " 'stance: NEUTRAL, reason: The CDC is not a medical professional and cannot give medical advice.',\n",
       " 'stance: UNRELATED reason: The statement is unrelated to the belief that Dean Koontz predicted the pandemic in his 1981 novel The Eyes of Darkness.',\n",
       " 'stance: DENIES, reason: REASON: The statement is unrelated to the belief that fennel tea cures coronavirus.',\n",
       " 'stance: DENIES, reason: REASON: This is not about COVID',\n",
       " 'stance: DENIES, reason: REASON: This is not a cure for COVID.',\n",
       " 'stance: DENIES, reason: REASON: This is not a cure for coronavirus, but a way to prevent it.',\n",
       " 'stance: DENIES, reason: REASON: This is not a cure for coronavirus.',\n",
       " 'stance: DENIES, reason: REASON: This is unrelated to the topic.',\n",
       " \"stance: UNRELATED, reason: REASON: The statement is unrelated to the belief that wearing shoes at one's home is the reason behind the spread of the coronavirus in italy.\",\n",
       " 'stance: NEUTRAL, reason: The first person infected is unknown.',\n",
       " 'stance: NEUTRAL, reason: REASON: The vaccine is still in the research phase.',\n",
       " 'stance: UNRELATED reason: The statement is unrelated to the belief that COVID is genetically engineered because it is a news update about COVID.',\n",
       " 'stance: NEUTRAL, reason: The first person infected is unknown.',\n",
       " 'stance: DENIES, reason: The statement is unrelated to the belief that Coronavirus is cured by shuanghuanglian.',\n",
       " 'stance: DENIES, reason: REASON: The CDC and John Hopkins are the best sources for information on COVID-19.',\n",
       " 'stance: UNRELATED, reason: REASON: Namaste is a greeting, not a treatment.',\n",
       " 'stance: NEUTRAL, reason: The statement is neutral because it does not state that chloroquine was used to treat the individuals.',\n",
       " \"stance: DENIES, reason: The statement denies the claim that Jim Bakker's colloidal silver solution is a remedy for COVID-19 because it states that @KKMPutrajaya successfully treated 22 individuals with COVID-19.\",\n",
       " 'stance: DENIES, reason: REASON: The article is about the COVID-19 outbreak in China, not about 5G.',\n",
       " 'stance: UNRELATED reason: The statement is unrelated to the belief because it is about the 2019 outbreak.',\n",
       " 'stance: DENIES, reason: REASON: This is unrelated to the statement',\n",
       " 'stance: DENIES reason: The statement denies COVID being genetically engineered as it claims if COVID was an engineered bioweapon, it would have killed much more people than it actually did.',\n",
       " 'stance: DENIES, reason: REASON: This is unrelated to the topic.',\n",
       " 'stance: NEUTRAL, reason: REASON: Vitamin B6 is not the same as vitamin C.',\n",
       " 'stance: DENIES, reason: REASON: Vitamin B6 is not a water based vitamin.',\n",
       " 'stance: NEUTRAL, reason: The statement is neutral because it does not state whether or not holy communion is the cause of the spread of coronavirus.',\n",
       " 'stance: DENIES, reason: Bleach is not a natural substance and would not be effective against COVID.',\n",
       " 'stance: DENIES, reason: Bleach is not methanol.',\n",
       " 'stance: DENIES, reason: Bleach is not a cure for COVID.',\n",
       " 'stance: DENIES, reason: Bleach is not a food and would not prevent COVID.',\n",
       " 'stance: DENIES, reason: Bleach is not a liquid that can be consumed.',\n",
       " 'stance: NEUTRAL, reason: The statement is neutral because it does not state whether Kyriakos Velopoulos sells a hand cream which kills covid-19.',\n",
       " 'stance: DENIES, reason: REASON: COVID-19 is still affecting mostly people in China with some outbreaks in other countries.',\n",
       " 'stance: DENIES, reason: REASON: Most people who become infected experience mild illness and recover, but it can be more severe for others',\n",
       " 'stance: NEUTRAL, reason: The number of deaths is unknown.',\n",
       " 'stance: NEUTRAL, reason: The number of deaths is unknown.',\n",
       " 'stance: UNRELATED reason: The lifetime of SARS-CoV-2 is not mentioned in the article.',\n",
       " 'stance: SUPPORTS, reason: REASON: I understand Israel will have a vaccine for coronavirus in a few weeks.',\n",
       " 'stance: DENIES, reason: The statement is unrelated to the belief that drinking Corona-brand beer causes COVID-19.',\n",
       " 'stance: DENIES, reason: REASON: Actor Keith Lawrence Middlebrook has not been linked to COVID-19.',\n",
       " 'stance: UNRELATED, reason: The statement is unrelated to the belief that a Malabar civet was spotted walking the streets of Meppayur, India following COVID-19 lockdown.',\n",
       " 'stance: UNRELATED, reason: REASON: Qatar is not in India.',\n",
       " 'stance: DENIES, reason: REASON: 5G is not a cause of coronavirus.',\n",
       " 'stance: DENIES, reason: REASON: We need more information before we say anything about why 11% of COVID-19 cases die in one place, and only 3% die in other places.',\n",
       " 'stance: UNRELATED reason: The statement is unrelated to the belief that Kyriakos Velopoulos sells a hand cream which completely kills covid-19.',\n",
       " 'stance: UNRELATED, reason: REASON: The Eyes of Darkness was published in 1981, long before the current outbreak.',\n",
       " 'stance: DENIES, reason: REASON: The NHS has confirmed that the coronavirus cannot survive outside of the body for very long.',\n",
       " 'stance: DENIES, reason: REASON: The NHS has said that the virus can survive in tap water for a short time.',\n",
       " 'stance: NEUTRAL, reason: The statement is neutral because it is not known if COVID can survive on surfaces for weeks.',\n",
       " 'stance: DENIES, reason: REASON: It is not known if COVID19 can survive on hard surfaces and if so, for how long.',\n",
       " 'stance: UNRELATED reason: The statement is unrelated to the belief that Dean Koontz predicted the pandemic in his 1981 novel The Eyes of Darkness.',\n",
       " 'stance: DENIES, reason: REASON: There is no evidence that pets can be infected with COVID-19.',\n",
       " 'stance: DENIES, reason: REASON: The dog was not infected with the virus.',\n",
       " 'stance: DENIES, reason: REASON: There is no evidence that pets can be infected with COVID-19.',\n",
       " 'stance: DENIES, reason: Clapping does not kill coronavirus.',\n",
       " 'stance: UNRELATED, reason: REASON: The statement is unrelated to the belief that Chloroquine is a Food and Drug Administration (FDA) approved treatment for COVID-19.',\n",
       " 'stance: DENIES, reason: REASON: The CDC has a problem with the test and only 12 labs can test.',\n",
       " \"stance: UNRELATED, reason: The statement is unrelated to the belief Jim Bakker's colloidal silver solution as it does not talk about it.\",\n",
       " 'stance: UNRELATED, reason: The statement is unrelated to the belief that chloroquine can cure coronavirus.',\n",
       " 'stance: DENIES, reason: REASON: The statement is unrelated to the belief that Actor Keith Lawrence Middlebrook has a cure for COVID-19.',\n",
       " 'stance: SUPPORTS reason: The statement supports the belief that COVID can survive for weeks on surfaces because it claims COVID can survive outside of a body, which implies on a surface, for over a week.',\n",
       " 'stance: DENIES, reason: REASON: SARS and MERs can survive on surfaces up to nine days.',\n",
       " 'stance: NEUTRAL, reason: The corona virus is a naturally occurring virus.',\n",
       " 'stance: DENIES, reason: Viruses are not made by governments.',\n",
       " 'stance: DENIES, reason: The corona virus is a naturally occurring virus.',\n",
       " 'stance: UNRELATED, reason: The statement is unrelated to the belief that Chloroquine is a Food and Drug Administration (FDA) approved treatment for COVID-19.',\n",
       " 'stance: DENIES, reason: REASON: Actor Keith Lawrence Middlebrook has not been mentioned in relation to COVID-19.',\n",
       " 'stance: DENIES, reason: REASON: There is no evidence that drinking cow urine or applying cow dung can cure COVID.',\n",
       " 'stance: NEUTRAL, reason: REASON: This is not related to the topic',\n",
       " 'stance: DENIES, reason: REASON: This is not true and there is no way to tell if you have the virus just by holding your breath.',\n",
       " 'stance: UNRELATED reason: The statement is unrelated to the belief that COVID is genetically engineered.',\n",
       " 'stance: UNRELATED reason: The lockdown has not affected water pollution.',\n",
       " 'stance: UNRELATED, reason: The village in China is not in quarantine.',\n",
       " 'stance: UNRELATED, reason: The statement is unrelated to the belief that Coronavirus is cured by shuanghuanglian.',\n",
       " 'stance: UNRELATED reason: The lockdown in China has nothing to do with water pollution in Venice.',\n",
       " 'stance: DENIES, reason: The statement is unrelated to the belief that 5G is the cause of COVID.',\n",
       " 'stance: NEUTRAL, reason: The statement is unrelated to the belief that hand sanitizer sold commercially does not destroy the coronavirus.',\n",
       " 'stance: NEUTRAL reason: The statement is neutral because it does not state whether Africans are more resistant to COVID.',\n",
       " 'stance: DENIES, reason: The statement is unrelated to the belief that 5G is the cause of COVID.',\n",
       " 'stance: DENIES, reason: The virus can survive for a week on a hard surface but not on liquid nitrogen.',\n",
       " 'stance: DENIES, reason: REASON: The virus can survive on a hard surface for less than 7 days.',\n",
       " 'stance: UNRELATED reason: The statement is unrelated to the belief that cannabis protects against COVID-19 as it does not talk about it.',\n",
       " 'stance: UNRELATED, reason: The statement is unrelated to the belief that a pod of humpback whales returned to the Arabian Sea offshore from Mumbai, India following the COVID-19 lockdown.',\n",
       " 'stance: DENIES, reason: REASON: Flu kills 46,000 people in 5 months. No one bats an eye. No one buys Costco out of bleach and bottled water. Coronavirus kills THREE PEOPLE and the nation collectively freaks the fuck out. Fuck people, man.',\n",
       " 'stance: DENIES, reason: REASON: Fennel tea is not a cure for COVID.',\n",
       " 'stance: DENIES, reason: REASON: Flu kills 46,000 people in 5 months. No one bats an eye. No one buys Costco out of bleach and bottled water. Coronavirus kills THREE PEOPLE and the nation collectively freaks the fuck out. Fuck people, man.',\n",
       " 'stance: DENIES, reason: REASON: Flu kills 46,000 people in 5 months. No one bats an eye. No one buys Costco out of bleach and bottled water. Coronavirus kills THREE PEOPLE and the nation collectively freaks the fuck out. Fuck people, man.',\n",
       " 'stance: DENIES, reason: REASON: The flu kills more people than COVID.',\n",
       " 'stance: DENIES, reason: REASON: Flu kills 46,000 people in 5 months. No one bats an eye. No one buys Costco out of bleach and bottled water. Coronavirus kills THREE PEOPLE and the nation collectively freaks the fuck out. Fuck people, man.',\n",
       " \"stance: DENIES, reason: The statement is unrelated to the belief Jim Bakker's colloidal silver solution as it does not talk about it.\",\n",
       " 'stance: SUPPORTS, reason: Chloroquine phosphate has shown apparent efficacy in treatment of COVID-19 associated pneumonia in clinical studies',\n",
       " 'stance: DENIES, reason: The statement is unrelated to the belief CBD oil is a cure for COVID-19.',\n",
       " 'stance: NEUTRAL, reason: Chloroquine is not an FDA approved treatment for COVID-19.',\n",
       " 'stance: DENIES, reason: The statement is unrelated to the belief that Vitamin D pills prevent COVID-19.',\n",
       " \"stance: DENIES, reason: REASON: I assume it's the same for other coronaviruses like SARS & MERS, as well as other reportable diseases.\",\n",
       " 'stance: NEUTRAL, reason: The statement is neutral because it does not state whether Africans are more resistant to COVID.',\n",
       " 'stance: DENIES, reason: REASON: Namaste is a type of yoga, not a greeting.',\n",
       " 'stance: UNRELATED reason: The statement is unrelated to the belief that cannabis protects against COVID-19.',\n",
       " 'stance: DENIES, reason: Clapping does not kill coronavirus.',\n",
       " 'stance: DENIES reason: The statement denies COVID being genetically engineered as it claims if COVID was an engineered bioweapon, it would have killed much more people than it actually did.',\n",
       " 'stance: DENIES, reason: REASON: This is untrue and there is no way to tell if you have COVID.',\n",
       " 'stance: DENIES, reason: REASON: The tweet is about a conch shell and not about COVID.',\n",
       " 'stance: UNRELATED reason: The statement is unrelated to the belief that eating cabbage prevents coronavirus infection.',\n",
       " 'stance: NEUTRAL, reason: The statement is neutral because it does not state whether hand sanitiser is effective or not.',\n",
       " 'stance: DENIES, reason: The statement is unrelated to the belief that Coronavirus is cured by shuanghuanglian as it does not talk about it.',\n",
       " 'stance: DENIES, reason: REASON: Doctor Jiang Xueqing is not the first person infected with COVID.',\n",
       " 'stance: DENIES, reason: The statement is unrelated to the belief that drinking Corona-brand beer causes COVID-19.',\n",
       " 'stance: NEUTRAL, reason: REASON: Wuhan cremations are not reported.',\n",
       " 'stance: DENIES, reason: REASON: The statement denies the belief that Africans are more resistant to COVID, as it claims black people are immune to COVID, and most people in Africa are black.',\n",
       " 'stance: DENIES, reason: REASON: The statement is unrelated to the belief that 5G is the cause of COVID.',\n",
       " 'stance: DENIES, reason: REASON: The statement is unrelated to the belief as it is about the 2019 outbreak.',\n",
       " 'stance: UNRELATED, reason: REASON: The Bank of England £20 banknotes contain a picture of a 5G mast.',\n",
       " 'stance: DENIES, reason: REASON: There is no FDA approved treatment for COVID-19.',\n",
       " 'stance: UNRELATED reason: The statement is unrelated to the belief that Vitamin D pills prevent COVID-19.',\n",
       " 'stance: DENIES, reason: REASON: The NIH is conducting a clinical trial for a drug to treat COVID-19, not an FDA approved treatment.',\n",
       " \"stance: DENIES, reason: The statement is unrelated to the belief Jim Bakker's colloidal silver solution as it does not talk about it.\",\n",
       " 'stance: DENIES, reason: The statement is unrelated to the belief CBD oil is a cure for COVID-19.',\n",
       " \"stance: UNRELATED reason: The statement is unrelated to the belief that a pack of elephants descended on a village under quarantine in China's Yunnan, got drunk on corn wine, and passed out in a tea garden.\",\n",
       " 'stance: UNRELATED, reason: The Malabar civet is not a human.',\n",
       " \"stance: NEUTRAL, reason: REASON: I don't know who Kyriakos Velopoulos is.\",\n",
       " 'stance: DENIES, reason: REASON: This is d time where everyone is on synergy to defeat Covid-19... Why this hatred? Nigeria will succeed',\n",
       " 'stance: NEUTRAL, reason: REASON: The post is about the spread of the virus and not about holy communion.',\n",
       " 'stance: DENIES, reason: The statement is unrelated to the belief that Coronavirus is cured by shuanghuanglian.',\n",
       " 'stance: UNRELATED reason: The cremation number is not related to the number of people who died.',\n",
       " 'stance: DENIES, reason: REASON: There is no cure for COVID-19.',\n",
       " \"stance: DENIES, reason: The statement denies the remedy being Jim Bakker's colloidal silver solution.\",\n",
       " 'stance: DENIES, reason: REASON: The statement is unrelated to the belief that Chloroquine is a Food and Drug Administration (FDA) approved treatment for COVID-19.',\n",
       " 'stance: DENIES, reason: REASON: Influenza is not the same as COVID.',\n",
       " 'stance: DENIES, reason: The statement denies COVID being genetically engineered as it claims if COVID was an engineered bioweapon, it would have killed much more people than it actually did.',\n",
       " 'stance: DENIES, reason: REASON: Salt water is not a protection against coronavirus.',\n",
       " 'stance: DENIES, reason: REASON: Influenza is not as contagious as COVID.',\n",
       " 'stance: DENIES, reason: REASON: Influenza is not as contagious as coronavirus.',\n",
       " 'stance: UNRELATED, reason: The statement is unrelated to the belief that COVID is genetically engineered.',\n",
       " 'stance: UNRELATED reason: The quarantine of the Diamond Princess cruise ship is unrelated to the return of humpback whales.',\n",
       " 'stance: DENIES, reason: REASON: The Diamond Princess cruise ship quarantine likely resulted in more COVID-19 infections than if the ship had been immediately evacuated upon arrival. The evacuation of all passengers would have been associated with only 76 infected persons instead of 619.',\n",
       " 'stance: NEUTRAL, reason: REASON: The statement is neutral because it does not state whether Dean Koontz predicted the pandemic or not.',\n",
       " 'stance: NEUTRAL, reason: REASON: It is impossible to say how many people will die.',\n",
       " 'stance: UNRELATED reason: The statement is unrelated to the belief that Holy communion cannot be the cause of the spread of coronavirus.',\n",
       " 'stance: DENIES, reason: The statement is unrelated to the belief that 5G is the cause of COVID.',\n",
       " 'stance: DENIES, reason: Procold tabs are not cold, they are a fever reducer.',\n",
       " 'stance: UNRELATED reason: The statement is unrelated to the belief that COVID is genetically engineered.',\n",
       " 'stance: UNRELATED reason: The statement is unrelated to the belief Alex Jones toothpaste as the statement does not talk about it.',\n",
       " 'stance: DENIES, reason: REASON: Lysol is a brand name of a cleaning product.',\n",
       " 'stance: DENIES, reason: REASON: The Surgeon General has not said that methanol consumption protects against COVID.',\n",
       " 'stance: DENIES, reason: The statement denies the belief that boiled ginger can cure coronavirus because it is a joke.',\n",
       " 'stance: UNRELATED reason: The statement is unrelated to the belief that COVID is genetically engineered as it is a news article about the COVID outbreak.',\n",
       " 'stance: DENIES, reason: REASON: This is untrue and can not be done.',\n",
       " \"stance: DENIES, reason: REASON: The statement is unrelated to the belief that wearing shoes at one's home is the reason behind the spread of the coronavirus in italy.\",\n",
       " 'stance: DENIES, reason: The statement denies COVID being only as deadly as the flu as it cites numbers that refute this belief.',\n",
       " 'stance: NEUTRAL, reason: REASON: China has not observed a janata curfew.',\n",
       " 'stance: DENIES, reason: The passage in Revelations refers to the end of the world, not the beginning of a new season.',\n",
       " 'stance: DENIES, reason: REASON: There is no cure for coronavirus.',\n",
       " 'stance: NEUTRAL, reason: REASON: This is not related to the topic.',\n",
       " 'stance: NEUTRAL, reason: The lifetime of SARS-CoV-2 is unknown.',\n",
       " \"stance: DENIES, reason: REASON: The statement is unrelated to the belief that wearing shoes at one's home is the reason behind the spread of the coronavirus in italy.\",\n",
       " 'stance: DENIES, reason: REASON: The statement is unrelated to the belief as it is about a simulation.',\n",
       " 'stance: DENIES, reason: REASON: The statement is unrelated to the belief that chloroquine is a Food and Drug Administration (FDA) approved treatment for COVID-19.',\n",
       " 'stance: DENIES, reason: REASON: Laundry is not a cure for COVID.',\n",
       " 'stance: DENIES, reason: REASON: The statement is unrelated to the belief that CBD oil is a cure for COVID-19.',\n",
       " \"stance: DENIES, reason: The statement denies the belief that Jim Bakker's colloidal silver solution is a remedy for COVID-19.\",\n",
       " 'stance: DENIES, reason: REASON: Laundry is not a miracle mineral supplement.',\n",
       " 'stance: UNRELATED reason: The tweet is about a mattress, not the coronavirus.',\n",
       " 'stance: UNRELATED reason: The statement is unrelated to the belief that boiled ginger can cure coronavirus.',\n",
       " 'stance: NEUTRAL, reason: The statement is neutral as it does not state whether the virus kills one fourth of the earths population or not.',\n",
       " 'stance: DENIES, reason: REASON: The 5th horse is the Lord, and he is not the cause of the plague.',\n",
       " 'stance: DENIES, reason: REASON: Washing your hands is the best way to prevent COVID-19.',\n",
       " 'stance: DENIES, reason: REASON: Washing your hands is one of the best ways to prevent COVID-19.',\n",
       " 'stance: DENIES, reason: REASON: Washing your hands is the best way to prevent COVID-19.',\n",
       " 'stance: DENIES, reason: REASON: Washing your hands is the best way to prevent COVID-19.',\n",
       " 'stance: DENIES, reason: REASON',\n",
       " 'stance: DENIES, reason: REASON: The Simpsons is a cartoon and does not make predictions about real world events.',\n",
       " 'stance: DENIES, reason: The statement denies COVID being only as deadly as the flu as it cites numbers that refute this belief.',\n",
       " 'stance: DENIES, reason: REASON: Early efforts to prevent COVID-19 by anti-VAXers have not proven highly effective.',\n",
       " 'stance: DENIES, reason: REASON: Namaste is a greeting, not a vaccine.',\n",
       " 'stance: DENIES, reason: The statement denies the claim that chloroquine can cure COVID.',\n",
       " 'stance: DENIES, reason: The statement denies the belief that Miracle Mineral Suppliment (MMS) will prevent and cure COVID-19 because early efforts to prevent COVID-19 by anti-VAXers have not proven highly effective.',\n",
       " 'stance: DENIES, reason: REASON: Early efforts to prevent COVID-19 by anti-VAXers have not proven highly effective.',\n",
       " 'stance: UNRELATED, reason: The statement is unrelated to the belief that Chloroquine is a Food and Drug Administration (FDA) approved treatment for COVID-19.',\n",
       " \"stance: DENIES, reason: The statement denies the belief that Jim Bakker's colloidal silver solution is a remedy for COVID-19 because it does not mention it.\",\n",
       " 'stance: UNRELATED reason: The statement is unrelated to the belief that cannabis protects against COVID-19 as it is about a negative test for COVID-19.',\n",
       " 'stance: UNRELATED, reason: The first person infected is not a bear.',\n",
       " 'stance: UNRELATED, reason: The statement is unrelated to the belief that COVID is cured by shuanghuanglian.',\n",
       " 'stance: SUPPORTS, reason: The statement supports the belief that COVID can survive for weeks on surfaces because it claims COVID can survive outside of a body, which implies on a surface, for over a week.',\n",
       " 'stance: DENIES, reason: REASON: The WHO has not labeled Covid-19 as a pandemic.',\n",
       " 'stance: DENIES, reason: REASON: The statement denies the belief that COVID can survive for weeks on surfaces because it claims COVID can survive outside of a body, which implies on a surface, for over a week.',\n",
       " 'stance: DENIES, reason: REASON: It is not true that COVID can only survive in cold temperatures.',\n",
       " 'stance: DENIES, reason: REASON: Holding your breath will not help you determine if you have COVID.',\n",
       " 'stance: DENIES, reason: REASON: Viruses are not wastes from cells.',\n",
       " \"stance: DENIES, reason: REASON: We don't have a vaccine for COVID-19, but we *do* have the cure for ignorance\",\n",
       " 'stance: DENIES, reason: REASON: Actor Keith Lawrence Middlebrook does not have a cure for COVID-19.',\n",
       " \"stance: DENIES, reason: The statement is unrelated to the belief that Jim Bakker's colloidal silver solution is a remedy for COVID-19.\",\n",
       " \"stance: DENIES, reason: REASON: We don't have a vaccine for COVID-19, but we *do* have the cure for ignorance!\",\n",
       " 'stance: DENIES, reason: REASON: Idiots are people who think that eating cabbage prevents COVID.',\n",
       " 'stance: DENIES, reason: REASON: I heard this, from him, at the UCD basketball game today. Call UCD Med Ctr to verify?',\n",
       " 'stance: DENIES, reason: REASON: I heard this, from him, at the UCD basketball game today. Call UCD Med Ctr to verify?',\n",
       " 'stance: UNRELATED, reason: REASON: I heard from him, at the UCD basketball game today. Call UCD Med Ctr to verify?',\n",
       " 'stance: DENIES, reason: REASON: Actor Keith Lawrence Middlebrook has not been credited with a cure for COVID-19.',\n",
       " 'stance: NEUTRAL, reason: REASON: The lifetime of SARS-CoV-2 is unknown.',\n",
       " 'stance: UNRELATED reason: The statement is unrelated to the belief that using namaste as a greeting prevents transmission of covid-19.',\n",
       " 'stance: NEUTRAL, reason: REASON: The Simpsons is a TV show, not a news organization.',\n",
       " 'stance: UNRELATED, reason: The statement is unrelated to the belief that chloroquine can cure coronavirus.',\n",
       " 'stance: NEUTRAL, reason: REASON: The statement is neutral because it does not state whether the janata curfew will result in the reduction of covid-19 cases by 40%.',\n",
       " 'stance: DENIES, reason: REASON: The statement is unrelated to the belief that drinking Corona-brand beer causes COVID-19.',\n",
       " 'stance: DENIES, reason: The statement denies COVID being genetically engineered as it claims if COVID was an engineered bioweapon, it would have killed much more people than it actually did.',\n",
       " 'stance: NEUTRAL, reason: The statement is unrelated to the belief.',\n",
       " 'stance: DENIES, reason: REASON: 5G is not a cause of coronavirus.',\n",
       " 'stance: DENIES, reason: REASON: Essential oils, herbs, and hot baths are not proven to cure COVID.',\n",
       " 'stance: DENIES, reason: REASON: Essential oils are not a cure for COVID.',\n",
       " 'stance: DENIES, reason: REASON: This is unrelated to the topic.',\n",
       " 'stance: DENIES, reason: REASON: Essential oils, herbs, and hot baths are not proven to cure COVID.',\n",
       " 'stance: DENIES, reason: REASON: This is a joke.',\n",
       " 'stance: DENIES, reason: REASON: This is a joke.',\n",
       " 'stance: DENIES, reason: REASON: This is not a cure for COVID, but a way to prevent it.',\n",
       " 'stance: DENIES, reason: REASON: This is not a cure for coronavirus.',\n",
       " 'stance: DENIES, reason: REASON: The statement is unrelated to the belief that fennel tea cures coronavirus.',\n",
       " 'stance: DENIES, reason: REASON: Celebrating Vedic Holi inspired by Sant Shri Asharamji Bapu is not a way to prevent COVID.',\n",
       " 'stance: DENIES, reason: REASON: The statement is unrelated to the belief that essential oils cure coronavirus.',\n",
       " 'stance: DENIES, reason: REASON: This is not a cure for coronavirus.',\n",
       " 'stance: DENIES, reason: The virus can survive in many different environmental conditions.',\n",
       " 'stance: NEUTRAL reason: The statement is neutral because it does not state whether the virus can survive for weeks on surfaces.',\n",
       " 'stance: NEUTRAL, reason: The statement is neutral because it does not state whether acetic acid is effective against coronavirus.',\n",
       " 'stance: NEUTRAL, reason: The statement is neutral because it does not state whether boiled ginger can cure COVID.',\n",
       " 'stance: UNRELATED reason: The statement is unrelated to the belief that Vitamin C can prevent coronavirus circulation.',\n",
       " 'stance: NEUTRAL reason: The statement is neutral because it does not state whether methanol consumption cures or protects against coronavirus.',\n",
       " 'stance: UNRELATED, reason: Cabbage is not a sanitizing agent.',\n",
       " 'stance: DENIES, reason: REASON: Hand sanitizers contain alcohol and kill germs.',\n",
       " 'stance: DENIES, reason: REASON: 5G is not a cause of coronavirus.',\n",
       " 'stance: UNRELATED, reason: The Victory Channel is not a TV station.',\n",
       " 'stance: UNRELATED reason: The statement is unrelated to the belief that cannabis protects against COVID-19.',\n",
       " 'stance: DENIES, reason: REASON: This is a different coronavirus than the usual seasonal flu. It has a different R0 (R naught) and mortality rate. Some health professionals are warning this could infect 40 to 70% of populations',\n",
       " 'stance: DENIES, reason: REASON: This is a different coronavirus than the usual seasonal flu. It has a different R0 (R naught) and mortality rate.',\n",
       " 'stance: DENIES, reason: The statement denies COVID being only as deadly as the flu as it cites numbers that refute this belief.',\n",
       " 'stance: DENIES, reason: REASON: Chloroquine is not an FDA approved treatment for COVID-19.',\n",
       " 'stance: DENIES, reason: REASON: The statement is unrelated to the belief that fennel tea cures coronavirus.',\n",
       " 'stance: DENIES, reason: REASON: This is not a cure for COVID, but a way to prevent it.',\n",
       " 'stance: DENIES, reason: REASON: The statement is unrelated to the belief that essential oils cure coronavirus.',\n",
       " 'stance: DENIES, reason: REASON: Celebrating Vedic Holi inspired by Sant Shri Asharamji Bapu is not a way to prevent COVID.',\n",
       " 'stance: DENIES, reason: REASON: This is not a cure for coronavirus.',\n",
       " 'stance: DENIES, reason: REASON: This is unrelated to the topic.',\n",
       " 'stance: UNRELATED reason: The statement is unrelated to the COVID-19 lockdown.',\n",
       " 'stance: UNRELATED reason: The statement is unrelated to the belief that whiskey and honey cure coronavirus.',\n",
       " 'stance: NEUTRAL, reason: The statement is neutral because it does not state whether chloroquine is an FDA approved treatment for COVID-19.',\n",
       " 'stance: UNRELATED, reason: The statement is unrelated to the belief that Kyriakos Velopoulos sells a hand cream which completely kills covid-19.',\n",
       " \"stance: NEUTRAL, reason: REASON: I don't know if it's true or not.\",\n",
       " \"stance: NEUTRAL, reason: REASON: I don't know if there is a mattress that can fight the coronavirus.\",\n",
       " 'stance: DENIES, reason: The statement is unrelated to the belief that 5G is the cause of COVID.',\n",
       " 'stance: DENIES, reason: REASON: The husband did not buy any Vitamin C.',\n",
       " 'stance: DENIES, reason: REASON: Whiskey is not a basic medication.',\n",
       " 'stance: DENIES, reason: REASON: Whiskey is not an essential oil.',\n",
       " 'stance: DENIES, reason: REASON: Whiskey is not a cure for COVID.',\n",
       " 'stance: UNRELATED, reason: REASON: The husband did not buy fennel tea.',\n",
       " 'stance: DENIES, reason: REASON: Whiskey is not a basic medication.',\n",
       " 'stance: NEUTRAL, reason: REASON: The statement is neutral because it does not state that the Jamaat cannot become a source of infection.',\n",
       " 'stance: DENIES, reason: The statement denies COVID being only as deadly as the flu as it cites numbers that refute this belief.',\n",
       " 'stance: DENIES, reason: REASON: Water is not salty.',\n",
       " 'stance: NEUTRAL, reason: The statement is neutral because it does not state whether boiled ginger can cure COVID.',\n",
       " 'stance: SUPPORTS, reason: REASON: Drinking water always to avoid corona virus. Protection is better than cure. Stay strong.',\n",
       " 'stance: NEUTRAL, reason: The statement is unrelated to the belief that hand sanitizer sold commercially does not destroy the coronavirus.',\n",
       " 'stance: UNRELATED, reason: The village is not under quarantine.',\n",
       " 'stance: DENIES, reason: REASON: There is no vaccine for COVID-19',\n",
       " \"stance: DENIES, reason: REASON: There is no vaccine for COVID-19, and it won't be for 8-14 months.\",\n",
       " 'stance: DENIES, reason: REASON: Cabbage is not a COVID preventative.',\n",
       " 'stance: DENIES, reason: The statement is unrelated to the belief that COVID is caused by 5G.',\n",
       " 'stance: DENIES, reason: REASON: Cabbage is not a way to avoid COVID.',\n",
       " 'stance: DENIES, reason: REASON: The statement is unrelated to the belief that Vitamin C can prevent coronavirus circulation.',\n",
       " 'stance: DENIES, reason: REASON: Drinking large amounts of water will not protect against COVID.',\n",
       " 'stance: UNRELATED reason: The statement is unrelated to the belief that salt water protects from coronavirus.',\n",
       " 'stance: DENIES reason: The statement denies COVID being only as deadly as the flu as it cites numbers that refute this belief.',\n",
       " 'stance: DENIES, reason: REASON: 20,000 people die in China every day, so 500 deaths would be a small fraction.',\n",
       " 'stance: UNRELATED, reason: REASON: Rainbow Six Quarantine is a video game, not a medical science.',\n",
       " 'stance: UNRELATED reason: Rainbow Six Quarantine is a video game, not a real virus.',\n",
       " 'stance: UNRELATED, reason: The conch shells have nothing to do with the coronavirus.',\n",
       " 'stance: UNRELATED, reason: The game was released before the outbreak.',\n",
       " 'stance: UNRELATED, reason: The game was released before the virus.',\n",
       " 'stance: NEUTRAL, reason: The book was written before the COVID pandemic.',\n",
       " 'stance: UNRELATED reason: The tweet is about girls, not about COVID.',\n",
       " 'stance: UNRELATED reason: Actor Keith Lawrence Middlebrook has not been mentioned in relation to COVID-19.',\n",
       " 'stance: UNRELATED reason: The statement is unrelated to the belief that salt water protects from coronavirus.',\n",
       " 'stance: DENIES, reason: REASON: Prayer and faith will not protect against COVID.',\n",
       " 'stance: UNRELATED reason: The statement is unrelated to the belief as it is about a different virus.',\n",
       " 'stance: DENIES, reason: REASON: Doctors are not able to save people from the corona virus today because they are not god.',\n",
       " 'stance: DENIES, reason: REASON: The fact that 100% are contagious means that anyone can become a source of infection.',\n",
       " 'stance: DENIES reason: The statement denies COVID being genetically engineered as it claims if COVID was an engineered bioweapon, it would have killed much more people than it actually did.',\n",
       " 'stance: UNRELATED, reason: The statement is unrelated to the belief Swans and dolphins swimming in Venice canals following COVID-19 lockdown because it is about pollution.',\n",
       " 'stance: DENIES, reason: REASON: The COVID-19 lockdown did not affect water pollution.',\n",
       " 'stance: UNRELATED reason: The statement is unrelated to the belief that hand sanitiser sold commercially does not destroy the coronavirus.',\n",
       " 'stance: UNRELATED, reason: The sentence is unrelated to the COVID because it is about a prisoner.',\n",
       " 'stance: UNRELATED reason: The statement is unrelated to the belief that methanol consumption cures or protects against coronavirus.',\n",
       " 'stance: UNRELATED reason: The statement is unrelated to the belief that drinking large amounts of water will protect against coronavirus.',\n",
       " 'stance: DENIES, reason: The statement is unrelated to the belief that Kenneth Copeland on Victory Channel can cure COVID-19 through the TV.',\n",
       " 'stance: NEUTRAL reason: Colloidal silver is not a cure for COVID-19.',\n",
       " 'stance: UNRELATED reason: The statement is unrelated to the belief that acetic acid is effective against coronavirus.',\n",
       " 'stance: UNRELATED reason: This is unrelated to the COVID',\n",
       " 'stance: UNRELATED reason: This is unrelated to the COVID',\n",
       " 'stance: UNRELATED reason: Elmy is not a cure for COVID.',\n",
       " 'stance: UNRELATED, reason: The statement is unrelated to the belief that shuanghuanglian is a cure for COVID.',\n",
       " 'stance: UNRELATED, reason: Fennel tea is not the best.',\n",
       " 'stance: UNRELATED, reason: This is unrelated to the COVID',\n",
       " 'stance: UNRELATED reason: Cocaine is not related to coronavirus.',\n",
       " 'stance: DENIES, reason: REASON: Antibacterial hand sanitizers and antibiotics will not help if you have Coronavirus',\n",
       " 'stance: DENIES, reason: REASON: Antibacterial hand sanitizers and antibiotics will not help if you have Coronavirus',\n",
       " 'stance: SUPPORTS, reason: REASON: Antibacterial hand sanitizers and antibiotics will not help if you have Coronavirus',\n",
       " 'stance: DENIES, reason: REASON: Antibacterial hand sanitizers and antibiotics will not help if you have Coronavirus',\n",
       " 'stance: DENIES, reason: REASON: Antibacterial hand sanitizers and antibiotics will not help if you have Coronavirus',\n",
       " 'stance: DENIES, reason: REASON: Antibacterial hand sanitizers and antibiotics will not help if you have Coronavirus',\n",
       " 'stance: DENIES, reason: REASON: Antibacterial hand sanitizers and antibiotics will not help if you have Coronavirus',\n",
       " 'stance: UNRELATED, reason: The statement is unrelated to the belief that hand sanitiser sold commercially does not destroy the coronavirus.',\n",
       " 'stance: UNRELATED, reason: The statement is unrelated to the belief because it is about a twitter post and not about cremations.',\n",
       " 'stance: UNRELATED, reason: REASON: This is not related to the coronavirus.',\n",
       " 'stance: UNRELATED, reason: The statement is unrelated to the belief because it is about a different country and different currency.',\n",
       " 'stance: DENIES, reason: REASON: The uninsured are more likely to stay home and not go to work.',\n",
       " 'stance: DENIES, reason: REASON: The statement is unrelated to the belief that 5G is caused by COVID.',\n",
       " 'stance: NEUTRAL, reason: REASON: The lockdown did not affect water pollution.',\n",
       " 'stance: DENIES, reason: REASON: Jamaat is a religious organization, not a person.',\n",
       " 'stance: DENIES, reason: REASON: Ginger and turmeric are not essential oils.',\n",
       " 'stance: DENIES, reason: REASON: Ginger and turmeric are not the only things that can boost your immunity.',\n",
       " \"stance: DENIES, reason: REASON: I don't think it's true.\",\n",
       " 'stance: DENIES, reason: REASON: Ginger and turmeric are natural remedies for COVID.',\n",
       " 'stance: DENIES, reason: REASON: Ginger and turmeric are not the only things that can boost your immunity.',\n",
       " 'stance: NEUTRAL, reason: REASON: Ginger and turmeric are good for your health but not for curing coronavirus.',\n",
       " 'stance: DENIES, reason: REASON: Sneezing people can spread coronavirus. They don\\'t have to be really sick to spread it. Some may have very mild symptoms. That\\'s how the \"community acquired\" cases are happening',\n",
       " 'stance: DENIES, reason: REASON: This is untrue and there is no way to tell if you have COVID.',\n",
       " 'stance: NEUTRAL, reason: REASON: It is not clear how much spread is due to children, who are less likely to develop illness',\n",
       " 'stance: UNRELATED reason: The statement is unrelated to the belief Swans and dolphins swimming in Venice canals following COVID-19 lockdown.',\n",
       " 'stance: UNRELATED reason: The statement is unrelated to the belief Alex Jones toothpaste as the statement does not talk about it.',\n",
       " 'stance: UNRELATED, reason: REASON: Actor Keith Lawrence Middlebrook has not been linked to COVID-19.',\n",
       " 'stance: UNRELATED, reason: REASON: My mother came to hug me and tell me I love you, how do you react in these moments?',\n",
       " 'stance: DENIES reason: The statement denies COVID being genetically engineered as it claims if COVID was an engineered bioweapon, it would have killed much more people than it actually did.',\n",
       " 'stance: DENIES, reason: The statement is unrelated to the belief Alex Jones toothpaste as the statement does not talk about it.',\n",
       " 'stance: DENIES, reason: REASON: The bible was referring to Nigerians, not the spread of COVID.',\n",
       " 'stance: UNRELATED reason: The Simpsons is a TV show and not a news organization.',\n",
       " 'stance: DENIES, reason: The statement is unrelated to the belief Kenneth Copeland on Victory Channel can cure COVID-19 through the TV.',\n",
       " 'stance: UNRELATED, reason: REASON: This is not about COVID',\n",
       " 'stance: DENIES, reason: REASON: The statement is unrelated to the belief that drinking Corona-brand beer causes COVID-19.',\n",
       " 'stance: DENIES, reason: REASON: The statement is unrelated to the belief that methanol consumption cures or protects against coronavirus.',\n",
       " 'stance: UNRELATED, reason: REASON: The Bank of England £20 banknotes do not contain a picture of a 5G mast and the SARS-CoV-2 virus.',\n",
       " 'stance: NEUTRAL, reason: REASON: The statement is unrelated to the belief that the lifetime of SARS-CoV-2 is only 12 hours.',\n",
       " 'stance: DENIES, reason: REASON: The statement is unrelated to the belief that 5G is the cause of COVID.',\n",
       " 'stance: UNRELATED reason: The Malabar civet is not a human disease.',\n",
       " 'stance: UNRELATED reason: The COVID outbreak in Iran has nothing to do with whales.',\n",
       " 'stance: DENIES, reason: The statement is unrelated to the belief that Holy communion cannot be the cause of the spread of coronavirus.',\n",
       " 'stance: DENIES, reason: REASON: Garlic has no effect on the immune system.',\n",
       " 'stance: DENIES, reason: REASON: It is not true and there is no evidence of it being true.',\n",
       " 'stance: DENIES, reason: REASON: Garlic is not a vitamin.',\n",
       " 'stance: DENIES, reason: REASON: Cabbage is not a health tip to prevent COVID.',\n",
       " 'stance: DENIES, reason: REASON: Garlic is not a natural remedy for COVID.',\n",
       " 'stance: DENIES, reason: REASON: Garlic is not an effective way to prevent COVID.',\n",
       " 'stance: DENIES, reason: REASON: Methanol is not a cure or preventative for COVID.',\n",
       " 'stance: UNRELATED, reason: The lions were not released to keep people off the streets in Moscow.',\n",
       " 'stance: DENIES reason: The statement denies COVID being genetically engineered as it claims if COVID was an engineered bioweapon, it would have killed much more people than it actually did.',\n",
       " \"stance: DENIES, reason: REASON: I don't know anyone named Kyriakos Velopoulos.\",\n",
       " \"stance: DENIES, reason: REASON: I don't believe in miracle mineral supplements.\",\n",
       " 'stance: UNRELATED reason: The statement is unrelated to the belief that Vitamin C cures coronavirus because it is talking about antibiotics and insecticides.',\n",
       " 'stance: UNRELATED reason: The statement is unrelated to the belief that fennel tea cures coronavirus.',\n",
       " 'stance: UNRELATED reason: The statement is unrelated to the belief that Vitamin D cures coronavirus because it is talking about antibiotics and insecticides.',\n",
       " 'stance: UNRELATED reason: The statement is unrelated to the belief that cocaine cures coronavirus.',\n",
       " 'stance: UNRELATED reason: The statement is unrelated to the belief that avocado and mint tea cures coronavirus.',\n",
       " 'stance: UNRELATED reason: The statement is unrelated to the belief essential oils cure coronavirus because it is about India starting hunt for alternatives to China to source over 1k items.',\n",
       " 'stance: DENIES, reason: REASON: COVID-19 goes for the lungs',\n",
       " 'stance: DENIES, reason: REASON: Lysol is a brand of hand sanitizer that claims to kill the coronavirus.',\n",
       " 'stance: UNRELATED, reason: The statement is unrelated to the belief that the Bank of England £20 banknotes contain a picture of a 5G mast and the SARS-CoV-2 virus.',\n",
       " 'stance: UNRELATED reason: The statement is unrelated to the belief that chloroquine can cure coronavirus.',\n",
       " 'stance: DENIES, reason: REASON: Actor Keith Lawrence Middlebrook has not been associated with the COVID-19 outbreak.',\n",
       " \"stance: NEUTRAL, reason: REASON: I believe it's time the entire world should pray to there God to have a cure for the Coronavirus. It's affecting not only the health of people, but, also the health of the worlds economy.\",\n",
       " 'stance: DENIES, reason: REASON: Fennel tea is not a necessity in life.',\n",
       " 'stance: DENIES, reason: Cocaine is not a necessity in life.',\n",
       " 'stance: DENIES, reason: REASON: Essential oils are not necessary for survival.',\n",
       " 'stance: DENIES, reason: REASON: These are not true necessities, and they are not related to the coronavirus.',\n",
       " \"stance: DENIES, reason: REASON: I'm looking to stock up on coffee, peanut butter, chocolate and toilet paper... the only true necessities in life.\",\n",
       " 'stance: DENIES, reason: REASON: These are not true necessities, and they are not related to the coronavirus.',\n",
       " 'stance: DENIES, reason: REASON: The statement is unrelated to the belief that drinking Corona-brand beer causes COVID-19.',\n",
       " 'stance: UNRELATED reason: The Bank of England £20 banknotes contain a picture of a 5G mast and the SARS-CoV-2 virus.',\n",
       " 'stance: DENIES, reason: REASON: The statement is unrelated to the belief that 5G is caused by Coronavirus.',\n",
       " 'stance: UNRELATED reason: The statement is unrelated to the belief that whiskey and honey cure coronavirus.',\n",
       " 'stance: DENIES, reason: REASON: COVID-19 is not a beer-related disease.',\n",
       " 'stance: UNRELATED, reason: The statement is unrelated to the belief that Actor Keith Lawrence Middlebrook has a cure for COVID-19.',\n",
       " 'stance: UNRELATED reason: The statement is unrelated to the belief that Vitamin D pills prevent COVID-19 because it is talking about COVID-19 cases in other countries.',\n",
       " 'stance: DENIES, reason: REASON: I have never heard of Jim Bakker or his colloidal silver solution.',\n",
       " 'stance: DENIES, reason: The statement is unrelated to the belief as it is about beer.',\n",
       " 'stance: DENIES, reason: REASON: Celebrating Vedic Holi inspired by Sant Shri Asharamji Bapu is not a way to prevent COVID.',\n",
       " 'stance: DENIES, reason: REASON: The statement is unrelated to the belief that fennel tea cures coronavirus.',\n",
       " 'stance: DENIES, reason: REASON: This is not a cure for coronavirus.',\n",
       " 'stance: DENIES, reason: REASON: The statement is unrelated to the belief that essential oils cure coronavirus.',\n",
       " 'stance: DENIES, reason: REASON: This is unrelated to the topic.',\n",
       " 'stance: DENIES, reason: REASON: This is not a cure for coronavirus.',\n",
       " \"stance: DENIES, reason: The statement is unrelated to the belief that Jim Bakker's colloidal silver solution is a remedy for COVID-19.\",\n",
       " 'stance: NEUTRAL, reason: REASON: This is not related to the janata curfew',\n",
       " 'stance: DENIES, reason: REASON: There is no cure for COVID-19.',\n",
       " 'stance: DENIES, reason: REASON: There is no cure for COVID-19.',\n",
       " 'stance: UNRELATED reason: The statement is unrelated to the belief that cannabis protects against COVID-19.',\n",
       " 'stance: DENIES, reason: REASON: There is no cure for COVID-19.',\n",
       " 'stance: NEUTRAL, reason: REASON: The church is modifying communion or encouraging congregants to stay home, if they feel sick, because of the COVID outbreak.',\n",
       " \"stance: UNRELATED, reason: REASON: The statement is unrelated to the belief that wearing shoes at one's home is the reason behind the spread of the coronavirus in italy.\",\n",
       " 'stance: NEUTRAL, reason: The statement is neutral because it does not state whether or not COVID can survive on surfaces for a week.',\n",
       " \"stance: NEUTRAL, reason: The statement is neutral because it doesn't state whether or not COVID can survive for weeks on surfaces.\",\n",
       " 'stance: DENIES, reason: REASON: Ebola was contained and not a pandemic.',\n",
       " 'stance: UNRELATED reason: The statement is unrelated to the belief that Africans are more resistant to coronavirus.',\n",
       " 'stance: NEUTRAL, reason: The statement is neutral because it is not known if hand sanitizer works on the coronavirus.',\n",
       " 'stance: UNRELATED, reason: The statement is unrelated to the belief that there is an \"anti-coronavirus\" mattress that could fight the coronavirus.',\n",
       " 'stance: UNRELATED reason: The flu shot does not protect from COVID.',\n",
       " 'stance: UNRELATED, reason: The plague is not making a comeback, and there has only been one COVID fatality.',\n",
       " 'stance: DENIES, reason: REASON: The plague is not the coronavirus.',\n",
       " 'stance: DENIES, reason: REASON: The statement is unrelated to the belief that shaking hands cannot spread coronavirus.',\n",
       " 'stance: UNRELATED reason: The statement is unrelated to the belief that Jamaat cannot become a source of infection.',\n",
       " 'stance: DENIES, reason: The statement is unrelated to the belief that 5G is the cause of COVID.',\n",
       " 'stance: DENIES, reason: REASON: It is not true that COVID can only survive in cold temperatures.',\n",
       " 'stance: DENIES, reason: REASON: Avocado and mint tea is not a cure for coronavirus.',\n",
       " 'stance: DENIES, reason: REASON: Cocaine is not a cure for coronavirus.',\n",
       " 'stance: DENIES, reason: REASON: Panic buying has started over fear of the coronavirus. Toilet paper, bottled water, and face masks are the biggest sellers. A virus is small. A face mask will not stop it. Tap water has chemicals that kill germs. Bottled water doesn’t. Toilet paper... ??? Get a grip people!',\n",
       " 'stance: DENIES, reason: REASON: Panic buying has started over fear of the coronavirus. Toilet paper, bottled water, and face masks are the biggest sellers. A virus is small. A face mask will not stop it. Tap water has chemicals that kill germs. Bottled water doesn’t. Toilet paper... ??? Get a grip people!',\n",
       " 'stance: DENIES, reason: REASON: Panic buying has started over fear of the coronavirus. Toilet paper, bottled water, and face masks are the biggest sellers. A virus is small. A face mask will not stop it. Tap water has chemicals that kill germs. Bottled water doesn’t. Toilet paper... ??? Get a grip people!',\n",
       " 'stance: DENIES, reason: REASON: Panic buying has started over fear of the coronavirus. Toilet paper, bottled water, and face masks are the biggest sellers. A virus is small. A face mask will not stop it. Tap water has chemicals that kill germs. Bottled water doesn’t. Toilet paper... ??? Get a grip people!',\n",
       " 'stance: UNRELATED, reason: The statement is unrelated to the belief that Holy communion cannot be the cause of the spread of coronavirus.',\n",
       " 'stance: UNRELATED reason: The statement is unrelated to the belief as it is about a celebrity.',\n",
       " 'stance: UNRELATED, reason: The statement is unrelated to the belief that it is safe for individuals infected with COVID-19 to go to work.',\n",
       " 'stance: NEUTRAL, reason: The statement is neutral because it does not state whether or not COVID is genetically engineered.',\n",
       " 'stance: DENIES, reason: The statement is unrelated to the belief Miracle Mineral Suppliment (MMS) will prevent and cure COVID-19.',\n",
       " 'stance: DENIES, reason: The statement is unrelated to the belief that chloroquine can cure coronavirus.',\n",
       " 'stance: DENIES, reason: REASON: There is no evidence that Covid-19 was altered.',\n",
       " 'stance: NEUTRAL, reason: REASON: I see no difference between the flu and COVID.',\n",
       " 'stance: NEUTRAL, reason: The Simpsons has not predicted the COVID-19 pandemic.',\n",
       " 'stance: DENIES, reason: REASON: @claudiareyna6g1 @diegote3000 Es un asesino, el y Vidal autores intelectuales de la muerte de Favaloro',\n",
       " 'stance: DENIES, reason: The statement denies the beleif that Africans are more resistant to COVID, as it claims black people are immune to COVID, and most people in Africa are black.',\n",
       " 'stance: UNRELATED, reason: The dog in Hong Kong is not a Malabar civet.',\n",
       " 'stance: DENIES, reason: REASON: There is no cure for COVID-19.',\n",
       " 'stance: DENIES, reason: REASON: There is no FDA approved treatment for COVID-19.',\n",
       " 'stance: DENIES, reason: REASON: There is currently no therapeutic treatment for #Covid19.',\n",
       " 'stance: DENIES, reason: REASON: There is no treatment for COVID-19.',\n",
       " \"stance: DENIES, reason: The statement is unrelated to the belief Jim Bakker's colloidal silver solution as it does not talk about it.\",\n",
       " 'stance: DENIES, reason: REASON: There is no treatment for COVID-19.',\n",
       " 'stance: DENIES, reason: The lifetime of SARS-CoV-2 is only 12 hours.',\n",
       " 'stance: DENIES, reason: The statement is unrelated to the belief Alex Jones toothpaste as the statement does not talk about it.',\n",
       " 'stance: DENIES, reason: The statement denies the belief that CBD oil is a cure for COVID-19 because it does not mention CBD oil.',\n",
       " 'stance: DENIES, reason: The statement denies the belief that Miracle Mineral Suppliment (MMS) will prevent and cure COVID-19 because it does not talk about MMS.',\n",
       " 'stance: UNRELATED reason: The statement is unrelated to the belief that Africans are more resistant to coronavirus.',\n",
       " 'stance: UNRELATED reason: The statement is unrelated to the belief that Africans are more resistant to coronavirus.',\n",
       " 'stance: DENIES, reason: REASON: The statement is unrelated to the belief that water polution decreased in Venice canals following COVID-19 lockdown.',\n",
       " 'stance: DENIES, reason: REASON: There is no cure for COVID.',\n",
       " \"stance: NEUTRAL, reason: REASON: I don't know if it will, but I'm prepared just in case.\",\n",
       " 'stance: DENIES, reason: REASON: Cocaine is not a medicine and has nothing to do with coronavirus.',\n",
       " 'stance: DENIES, reason: REASON: Essential oils are not used to treat COVID.',\n",
       " \"stance: DENIES, reason: REASON: I don't think that is true.\",\n",
       " 'stance: DENIES, reason: REASON: Fennel tea is not a cure for COVID.',\n",
       " 'stance: NEUTRAL, reason: The statement is neutral because it does not state whether or not holy communion is the cause of the spread of coronavirus.',\n",
       " 'stance: UNRELATED reason: The statement is unrelated to the belief Wuhan cremations.',\n",
       " 'stance: UNRELATED reason: The statement is unrelated to the belief that cannabis protects against COVID-19.',\n",
       " 'stance: NEUTRAL, reason: The statement is neutral because it does not state whether Africans are more resistant to COVID.',\n",
       " 'stance: DENIES reason: The statement denies COVID being only as deadly as the flu as it cites numbers that refute this belief.',\n",
       " 'stance: DENIES, reason: REASON: The statement is unrelated to the belief that cannabis protects against COVID-19.',\n",
       " 'stance: UNRELATED, reason: REASON: The statement is unrelated to the belief that Chloroquine is a Food and Drug Administration (FDA) approved treatment for COVID-19.',\n",
       " 'stance: DENIES, reason: REASON: quarantined',\n",
       " 'stance: NEUTRAL, reason: REASON: The statement is unrelated to the belief that chloroquine can cure coronavirus.',\n",
       " 'stance: DENIES, reason: REASON: The statement is unrelated to the actor Keith Lawrence Middlebrook.',\n",
       " 'stance: DENIES, reason: REASON: The first person infected is a researcher named Huang Yanling.',\n",
       " 'stance: DENIES, reason: REASON: The outbreak of COVID-19 is unrelated to the plot of the 2011 movie Contagion.',\n",
       " 'stance: DENIES, reason: REASON: The wall is not related to the coronavirus.',\n",
       " 'stance: UNRELATED reason: The wall does not stop the coronavirus.',\n",
       " 'stance: DENIES, reason: Common cold is a type of coronavirus. So is SARS & MERS.',\n",
       " 'stance: DENIES, reason: REASON: There is a cure for the flu, but we refuse to take it.',\n",
       " 'stance: UNRELATED reason: The mask is for dogs, not humans.',\n",
       " 'stance: UNRELATED reason: The statement is unrelated to the belief that salt water protects from coronavirus.',\n",
       " 'stance: SUPPORTS, reason: The statement supports the belief that COVID can survive for weeks on surfaces because it claims COVID can survive outside of a body, which implies on a surface, for over a week.',\n",
       " 'stance: DENIES, reason: The statement supports the belief that COVID can survive for weeks on surfaces because it claims COVID can survive outside of a body, which implies on a surface, for over a week.',\n",
       " \"stance: DENIES, reason: REASON: It is not possible to suck COVID-19 out of a person's lungs.\",\n",
       " 'stance: DENIES, reason: REASON: The WHO is not sold on the idea of aerosol transmission.',\n",
       " 'stance: SUPPORTS, reason: REASON',\n",
       " 'stance: DENIES, reason: REASON: This is unrelated to the topic.',\n",
       " 'stance: DENIES, reason: REASON: The statement is unrelated to the belief that fennel tea cures coronavirus.',\n",
       " 'stance: DENIES, reason: REASON: This is not a cure for coronavirus.',\n",
       " 'stance: DENIES, reason: REASON: This is not a cure for COVID.',\n",
       " 'stance: DENIES, reason: REASON: This is not a cure for coronavirus.',\n",
       " 'stance: DENIES, reason: REASON: The statement is unrelated to the belief that essential oils cure coronavirus.',\n",
       " \"stance: NEUTRAL, reason: REASON: I don't know the exact number of cremations in Wuhan.\",\n",
       " \"stance: UNRELATED reason: The statement is unrelated to the belief that a pack of elephants descended on a village under quarantine in China's Yunnan, got drunk on corn wine, and passed out in a tea garden.\",\n",
       " 'stance: UNRELATED reason: The statement is unrelated to the belief as it talks about a different country.',\n",
       " 'stance: UNRELATED reason: The statement is unrelated to the belief that a pod of humpback whales returned to the Arabian Sea offshore from Mumbai, India following the COVID-19 lockdown.',\n",
       " 'stance: DENIES, reason: REASON: There is no cure for COVID-19.',\n",
       " 'stance: DENIES, reason: REASON: There is no cure for COVID-19.',\n",
       " 'stance: DENIES, reason: REASON: The statement is unrelated to the belief that blowing conch shells destroys coronavirus potency.',\n",
       " 'stance: DENIES, reason: REASON: The statement is unrelated to the belief that boiled ginger can cure coronavirus.',\n",
       " 'stance: UNRELATED reason: The statement is unrelated to the belief that COVID is cured by shuanghuanglian because it is a joke.',\n",
       " 'stance: UNRELATED reason: The first person infected is a researcher named Huang Yanling.',\n",
       " 'stance: UNRELATED reason: The statement is unrelated to the belief that Jamaat cannot become a source of infection because it is a joke.',\n",
       " 'stance: DENIES, reason: REASON: Boring is not a way to protect against COVID.',\n",
       " 'stance: DENIES, reason: REASON: The person who passed away from COVID-19 was a male.',\n",
       " 'stance: DENIES, reason: REASON: Washing hands is effective not just against Coronavirus, but against most viruses',\n",
       " 'stance: NEUTRAL, reason: REASON: The number of deaths will vary depending on the transmissibility of the virus.',\n",
       " 'stance: NEUTRAL, reason: REASON: The Simpsons has not predicted the COVID-19 pandemic.',\n",
       " 'stance: DENIES, reason: REASON: There is no cure for COVID-19.',\n",
       " 'stance: NEUTRAL, reason: REASON: The Bank of England £20 banknotes contain a picture of a 5G mast and the SARS-CoV-2 virus.',\n",
       " 'stance: DENIES, reason: REASON: Bill Gates is not a scientist and therefore would not know if COVID was caused by 5G.',\n",
       " 'stance: NEUTRAL, reason: REASON: Hand sanitizer is not the only way to prevent the spread of COVID.',\n",
       " 'stance: UNRELATED, reason: The statement is unrelated to the belief that Vitamin D pills prevent COVID-19.',\n",
       " 'stance: UNRELATED, reason: The statement is unrelated to the belief that CBD oil is a cure for COVID-19.',\n",
       " 'stance: UNRELATED, reason: REASON',\n",
       " 'stance: DENIES, reason: REASON: US Patent 10130701 is not about acetic acid.',\n",
       " 'stance: UNRELATED, reason: REASON: Patents are not about wastes from cells.',\n",
       " 'stance: DENIES, reason: The statement denies COVID being genetically engineered as it claims if COVID was an engineered bioweapon, it would have killed much more people than it actually did.',\n",
       " 'stance: NEUTRAL, reason: REASON: There is no evidence that drinking water will protect against COVID.',\n",
       " 'stance: DENIES, reason: REASON: Febreeze is not a cure for COVID.',\n",
       " 'stance: DENIES, reason: Febreeze contains acetic acid, but it is not known to be effective against COVID.',\n",
       " 'stance: DENIES, reason: REASON: Febreeze is not a medicine and cannot cure anything.',\n",
       " 'stance: DENIES, reason: Febreeze contains methanol, but does not contain any methanol that would be ingested.',\n",
       " 'stance: DENIES, reason: REASON: Febreeze is not a medical product.',\n",
       " 'stance: DENIES, reason: REASON: It is not possible to cure COVID-19 with chloroquine.',\n",
       " \"stance: DENIES, reason: REASON: The statement is unrelated to the belief that Jim Bakker's colloidal silver solution is a remedy for COVID-19.\",\n",
       " 'stance: DENIES, reason: REASON: It is not possible to cure COVID-19 with cow urine.',\n",
       " 'stance: DENIES, reason: REASON: It is not known if vitamin D pills prevent COVID-19.',\n",
       " 'stance: DENIES, reason: REASON: It is not a cure but a treatment.',\n",
       " 'stance: DENIES, reason: REASON: The statement is unrelated to the belief that using namaste as a greeting prevents transmission of covid-19.',\n",
       " 'stance: NEUTRAL, reason: REASON: It is not clear if the liver damage is due to the infection or the side effect of the anti-virals.',\n",
       " 'stance: DENIES, reason: REASON: It is not possible to cure COVID-19 with Miracle Mineral Suppliment.',\n",
       " 'stance: NEUTRAL, reason: The statement is neutral because it does not state whether chloroquine can cure COVID.',\n",
       " 'stance: DENIES, reason: REASON: Miracle Mineral Suppliment (MMS) is not a procedure.',\n",
       " 'stance: DENIES, reason: REASON: COVID-19 is a serious disease and there is no cure for it.',\n",
       " 'stance: DENIES, reason: REASON: The statement is unrelated to the belief that 5G is the cause of COVID.',\n",
       " 'stance: NEUTRAL, reason: The statement is neutral because it does not state whether or not holy communion is the cause of the spread of coronavirus.',\n",
       " 'stance: DENIES, reason: REASON: This is untrue and there is no way to tell if you have COVID just by holding your breath.',\n",
       " 'stance: NEUTRAL, reason: REASON: There is no evidence that hand sanitizers kill the coronavirus.',\n",
       " 'stance: UNRELATED, reason: REASON: There is no mattress that can fight the coronavirus.',\n",
       " 'stance: DENIES, reason: REASON: There is no evidence that drinking large amounts of water will protect against COVID.',\n",
       " 'stance: DENIES, reason: The statement denies COVID being only as deadly as the flu as it cites numbers that refute this belief.',\n",
       " 'stance: DENIES, reason: REASON: The statement is unrelated to the belief that observing janata curfew will result in the reduction of covid-19 cases by 40%.',\n",
       " 'stance: DENIES, reason: REASON: The U.S. surgeon general is not in Italy.',\n",
       " \"stance: DENIES, reason: REASON: The novel coronavirus disease is a self-limited disease, which refers to some special virus infections and autoimmune diseases that can be cured through one's own immune regulation.\",\n",
       " 'stance: UNRELATED, reason: The statement is unrelated to the belief that Lions were freed to keep people off the streets in Moscow.',\n",
       " 'stance: DENIES, reason: REASON: Clapping does not kill coronavirus.',\n",
       " 'stance: DENIES, reason: The statement denies the belief that Kenneth Copeland on Victory Channel can cure COVID-19 through the TV.',\n",
       " 'stance: UNRELATED reason: The statement is unrelated to the belief that salt water protects from coronavirus.',\n",
       " \"stance: UNRELATED, reason: REASON: I don't think people who are worried about COVID are nerds.\",\n",
       " 'stance: UNRELATED, reason: The conch shells have nothing to do with coronavirus.',\n",
       " 'stance: DENIES, reason: Viruses are not caused by electromagnetic fields.',\n",
       " 'stance: DENIES, reason: REASON: Clapping does not kill coronavirus.',\n",
       " \"stance: DENIES, reason: REASON: I'm tired of seeing claims burning cow dung is a cure.\",\n",
       " \"stance: DENIES, reason: REASON: I'm tired of seeing claims burning cow dung is a cure.\",\n",
       " 'stance: DENIES, reason: REASON: The lifetime of SARS-CoV-2 is only 12 hours.',\n",
       " 'stance: DENIES, reason: REASON: The article is about a study on patients with COVID-19.',\n",
       " 'stance: DENIES reason: The statement denies COVID being genetically engineered as it claims if COVID was an engineered bioweapon, it would have killed much more people than it actually did.',\n",
       " 'stance: DENIES reason: The statement denies COVID being only as deadly as the flu as it cites numbers that refute this belief.',\n",
       " 'stance: NEUTRAL, reason: The lifetime of SARS-CoV-2 is unknown.',\n",
       " 'stance: DENIES, reason: REASON: The virus can survive in hot weather, but it is less common.',\n",
       " 'stance: UNRELATED, reason: The Eyes of Darkness was written in 1981 and the COVID-19 pandemic has only been going on since December of 2018.',\n",
       " 'stance: DENIES, reason: REASON: The virus is not a person and does not obey orders.',\n",
       " 'stance: UNRELATED, reason: REASON: This is not related to COVID-19',\n",
       " 'stance: DENIES, reason: The statement is unrelated to the belief that 5G is the cause of COVID.',\n",
       " 'stance: DENIES, reason: The virus can live on surfaces for nine days, so it can survive in warm temperatures.',\n",
       " 'stance: SUPPORTS reason: The statement supports the belief that COVID can survive for weeks on surfaces because it claims COVID can survive outside of a body, which implies on a surface, for over a week.',\n",
       " 'stance: SUPPORTS, reason: REASON: Dean Koontz wrote a novel in 1981 about a virus that would affect the entire planet.',\n",
       " 'stance: NEUTRAL, reason: REASON: The Simpsons is a TV show, not a news organization.',\n",
       " 'stance: DENIES, reason: REASON: Jamaat is a community of people.',\n",
       " 'stance: DENIES, reason: The statement is unrelated to the belief that 5G is the cause of Coronavirus.',\n",
       " \"stance: NEUTRAL, reason: REASON: I don't know what chloroquine is.\",\n",
       " \"stance: DENIES, reason: REASON: The statement is unrelated to the belief that Jim Bakker's colloidal silver solution is a remedy for COVID-19.\",\n",
       " 'stance: DENIES, reason: REASON: COVID-19 is a virus that has no cure.',\n",
       " 'stance: DENIES, reason: REASON: The statement is unrelated to the belief that Vitamin D pills prevent COVID-19.',\n",
       " 'stance: DENIES, reason: REASON: There is no evidence that vitamin D pills prevent COVID-19.',\n",
       " 'stance: DENIES, reason: REASON: There is no cure for COVID-19.',\n",
       " 'stance: DENIES, reason: REASON: The US is charging 3,000+ to get tested for COVID-19.',\n",
       " 'stance: NEUTRAL, reason: The statement is neutral because it does not state the lifetime of SARS-CoV-2.',\n",
       " 'stance: DENIES, reason: REASON: Clapping does not kill coronavirus.',\n",
       " 'stance: DENIES, reason: REASON: Clapping does not kill coronavirus.',\n",
       " 'stance: DENIES, reason: REASON: Masks are not a reliable way to prevent COVID.',\n",
       " 'stance: DENIES, reason: REASON: Masks are not a good way to prevent COVID.',\n",
       " 'stance: DENIES, reason: REASON: Masks are not a good way to prevent COVID.',\n",
       " 'stance: DENIES, reason: REASON: Wearing a mask will not prevent you from getting the coronavirus.',\n",
       " 'stance: DENIES, reason: REASON',\n",
       " 'stance: NEUTRAL reason: The statement is neutral because it does not state whether hand sanitisers destroy the coronavirus.',\n",
       " 'stance: NEUTRAL, reason: The statement is neutral because it does not state whether acetic acid is effective against coronavirus.',\n",
       " 'stance: UNRELATED, reason: REASON: The tweet is about a campaign, not about COVID.',\n",
       " 'stance: UNRELATED reason: The statement is unrelated to the belief Alex Jones toothpaste as the statement does not talk about it.',\n",
       " 'stance: UNRELATED reason: The statement is unrelated to the belief that a pod of humpback whales returned to the Arabian Sea offshore from Mumbai, India following the COVID-19 lockdown.',\n",
       " 'stance: UNRELATED, reason: REASON: This is not a COVID related post.',\n",
       " 'stance: NEUTRAL, reason: The water pollution in Venice canals is not the same as the air pollution in China.',\n",
       " 'stance: NEUTRAL, reason: REASON',\n",
       " 'stance: DENIES, reason: Clapping will not kill the virus.',\n",
       " 'stance: NEUTRAL, reason: REASON: Chloroquine is not acetic acid.',\n",
       " 'stance: NEUTRAL reason: Chloroquine is not FDA approved for COVID-19.',\n",
       " 'stance: NEUTRAL reason: Chloroquine is not a cure for COVID but it can help with symptoms.',\n",
       " 'stance: NEUTRAL, reason: The statement is neutral because it does not state the lifetime of SARS-CoV-2.',\n",
       " 'stance: UNRELATED reason: The statement is unrelated to the belief that fennel tea cures coronavirus.',\n",
       " 'stance: DENIES, reason: The statement is unrelated to the belief essential oils cure coronavirus.',\n",
       " 'stance: DENIES, reason: REASON: This is unrelated to the topic.',\n",
       " 'stance: UNRELATED reason: The statement is unrelated to the belief that Vitamin C cures coronavirus as it does not talk about it.',\n",
       " 'stance: UNRELATED reason: The statement is unrelated to the belief that Vitamin D cures coronavirus.',\n",
       " 'stance: UNRELATED reason: The statement is unrelated to the belief that cocaine cures coronavirus.',\n",
       " 'stance: UNRELATED, reason: The statement is unrelated to the belief Swans and dolphins swimming in Venice canals following COVID-19 lockdown.',\n",
       " 'stance: NEUTRAL, reason: REASON: Cabbage is not known to prevent the spread of COVID.',\n",
       " 'stance: DENIES, reason: REASON: This is unrelated to the topic.',\n",
       " 'stance: DENIES, reason: REASON: Essential oils are not a medicine.',\n",
       " 'stance: NEUTRAL, reason: REASON: This is not a cure for the virus, but rather a way to prepare for an emergency.',\n",
       " 'stance: NEUTRAL, reason: REASON: This is not a cure for the virus, but a way to prepare for an emergency.',\n",
       " 'stance: NEUTRAL, reason: REASON: There is no cure for coronavirus.',\n",
       " 'stance: NEUTRAL, reason: REASON: There is no cure for coronavirus.',\n",
       " 'stance: UNRELATED reason: The statement is unrelated to the belief that cannabis protects against COVID-19 because it is a DM.',\n",
       " 'stance: UNRELATED reason: The statement is unrelated to the belief that salt water protects from coronavirus.',\n",
       " 'stance: NEUTRAL, reason: The World Population Project is not a government agency.',\n",
       " 'stance: NEUTRAL, reason: REASON: I have a cough. Probs have coronavirus.',\n",
       " 'stance: NEUTRAL, reason: REASON: I have a cough. Probs have coronavirus.',\n",
       " 'stance: NEUTRAL, reason: REASON: I have a cough. Probs have coronavirus.',\n",
       " 'stance: NEUTRAL, reason: REASON: I have a cough. Probs have coronavirus.',\n",
       " 'stance: NEUTRAL, reason: REASON: Clapping will not kill the coronavirus.',\n",
       " 'stance: DENIES, reason: The Simpsons is a TV show and not a virus.',\n",
       " 'stance: DENIES, reason: The statement denies COVID being genetically engineered as it claims if COVID was an engineered bioweapon, it would have killed much more people than it actually did.',\n",
       " 'stance: NEUTRAL, reason: REASON: The statement is neutral because it does not state whether Dean Koontz predicted the pandemic or not.',\n",
       " \"stance: DENIES, reason: REASON: The statement is unrelated to the belief that we're very close to a vaccine.\",\n",
       " 'stance: UNRELATED reason: The lockdown did not affect water pollution.',\n",
       " 'stance: NEUTRAL, reason: The statement is neutral because it does not state whether the animals are swimming or not.',\n",
       " 'stance: UNRELATED, reason: REASON: There is no mattress that can fight the coronavirus.',\n",
       " 'stance: DENIES, reason: REASON: Xenleta is an antibiotic, not a silver solution.',\n",
       " 'stance: DENIES, reason: REASON: Xenleta is an antibiotic, not a vitamin.',\n",
       " 'stance: DENIES, reason: REASON: Chloroquine is not an antibiotic.',\n",
       " 'stance: DENIES, reason: REASON: Xenleta is an antibiotic. It does not eork on Covid 19.',\n",
       " 'stance: UNRELATED reason: The village in China is not in Australia.',\n",
       " 'stance: UNRELATED reason: The statement is unrelated to the belief because it is about a patient in Australia, not a pod of whales in India.',\n",
       " 'stance: DENIES, reason: The statement denies the belief that chloroquine is a Food and Drug Administration (FDA) approved treatment for COVID-19 because it is not true.',\n",
       " 'stance: DENIES, reason: The statement is unrelated to the belief that Vitamin D pills prevent COVID-19.',\n",
       " 'stance: DENIES, reason: The WHO reports that more than 20 vaccines are already being developed for COVID-19.',\n",
       " 'stance: DENIES, reason: The statement is unrelated to the belief that Actor Keith Lawrence Middlebrook has a cure for COVID-19.',\n",
       " 'stance: DENIES, reason: The World Health Organization reports that more than 20 vaccines are already being developed for COVID-19.',\n",
       " 'stance: DENIES, reason: The statement is unrelated to the belief that CBD oil is a cure for COVID-19.',\n",
       " 'stance: DENIES, reason: The statement is unrelated to the belief that boiled ginger can cure coronavirus.',\n",
       " 'stance: DENIES, reason: REASON: People are buying everything they can store does not imply that they are buying Vitamin D.',\n",
       " 'stance: DENIES, reason: REASON: Cocaine is not a cure for coronavirus.',\n",
       " 'stance: DENIES, reason: REASON: People are buying everything they can store does not imply that they are buying vitamin C.',\n",
       " 'stance: DENIES, reason: REASON: Hysteria is a normal reaction to a threat.',\n",
       " 'stance: DENIES, reason: REASON: Avocado and mint tea is not a cure for coronavirus.',\n",
       " 'stance: DENIES, reason: REASON: Essential oils are not a cure for coronavirus.',\n",
       " 'stance: DENIES, reason: REASON: Soap is not acidic and therefore would not be effective against COVID.',\n",
       " 'stance: DENIES, reason: REASON: The plastic film is not a virus and it is not spread by shaking hands.',\n",
       " \"stance: DENIES, reason: REASON: Masks can't stop the coronavirus in the US, but hysteria has led to bulk-buying, price-gouging and serious fear for the future\",\n",
       " 'stance: UNRELATED reason: The statement is unrelated to the belief that Vitamin C cures coronavirus.',\n",
       " 'stance: DENIES, reason: REASON: Cocaine is not a disinfectant.',\n",
       " 'stance: DENIES, reason: REASON: Fennel tea is not a disinfectant.',\n",
       " 'stance: DENIES, reason: REASON: Is ultraviolet light (in the right wavelengths) useful for disinfection against a Corona virus? Say, when scrubbing something down is impractical or impossible? Or should we just stick with alcohol, bleach, soap and water, or other disinfectants?',\n",
       " 'stance: DENIES, reason: REASON: Is ultraviolet light (in the right wavelengths) useful for disinfection against a Corona virus? Say, when scrubbing something down is impractical or impossible?',\n",
       " 'stance: DENIES, reason: REASON: Is ultraviolet light (in the right wavelengths) useful for disinfection against a Corona virus? Say, when scrubbing something down is impractical or impossible?',\n",
       " \"stance: DENIES, reason: REASON: I'm not catching the #Coronavirus\",\n",
       " \"stance: DENIES, reason: REASON: I'm not catching the #Coronavirus\",\n",
       " \"stance: DENIES, reason: REASON: I'm not catching the #Coronavirus\",\n",
       " 'stance: DENIES, reason: REASON: I can see the bone , the pain is an 8 after cbd topical, 3 500mg Tylenol, 4 blunts, a snow foot bath and a hot tea!! No I won’t go to the hospital  I’m not catching the #Coronavirus',\n",
       " 'stance: DENIES, reason: REASON: Cocaine is not a treatment for coronavirus.',\n",
       " 'stance: DENIES, reason: REASON: The person is not catching the coronavirus because they are taking care of their foot.',\n",
       " 'stance: NEUTRAL, reason: REASON: It is impossible to say how many people will die.',\n",
       " 'stance: DENIES, reason: REASON: The statement is unrelated to the belief as it cites numbers that refute this belief.',\n",
       " 'stance: DENIES, reason: The statement denies COVID being only as deadly as the flu as it cites numbers that refute this belief.',\n",
       " 'stance: DENIES, reason: REASON: Wuhan is a city in China.',\n",
       " 'stance: DENIES, reason: REASON: This is a completely unrelated statement.',\n",
       " 'stance: UNRELATED reason: The statement is unrelated to the belief that Africans are more resistant to coronavirus.',\n",
       " 'stance: UNRELATED, reason: REASON: Jamaat is not a city.',\n",
       " 'stance: NEUTRAL, reason: The statement is neutral because it does not state whether or not shuanghuanglian is a cure.',\n",
       " 'stance: DENIES, reason: REASON: I think it means some people are disgusting. Have the United States or China made huge environmental efforts to stop climate change? NO. Protesting is not a solution.',\n",
       " 'stance: UNRELATED reason: The statement is unrelated to the belief that Africans are more resistant to coronavirus.',\n",
       " 'stance: NEUTRAL, reason: The statement is unrelated to the belief as it is about car sales in 2020.',\n",
       " 'stance: UNRELATED reason: The statement is unrelated to the belief Alex Jones toothpaste as the statement does not talk about it.',\n",
       " 'stance: DENIES, reason: The Makers Mark Manhattan is a different beverage than Corona-brand beer.',\n",
       " 'stance: DENIES, reason: The statement is unrelated to the belief that CBD oil is a cure for COVID-19.',\n",
       " \"stance: DENIES, reason: The statement is unrelated to the belief that Jim Bakker's colloidal silver solution is a remedy for COVID-19.\",\n",
       " 'stance: DENIES, reason: REASON: The surgeon general is not in Italy.',\n",
       " 'stance: UNRELATED, reason: The statement is unrelated to the belief that a Malabar civet was spotted walking the streets of Meppayur, India following COVID-19 lockdown.',\n",
       " 'stance: UNRELATED, reason: The COVID-19 lockdown is not in the Arabian Sea.',\n",
       " 'stance: NEUTRAL, reason: The statement is neutral because it does not state whether drinking large amounts of water will protect against coronavirus.',\n",
       " 'stance: NEUTRAL, reason: The statement is neutral because it does not state whether eating cabbage prevents COVID.',\n",
       " 'stance: NEUTRAL, reason: The statement is neutral because it does not state what preventive measures can be taken.',\n",
       " 'stance: NEUTRAL, reason: The statement is neutral because it does not state whether salt water protects from COVID.',\n",
       " 'stance: DENIES, reason: REASON: Methanol is not a preventive measure against coronavirus.',\n",
       " 'stance: UNRELATED, reason: REASON: Actor Keith Lawrence Middlebrook has not been a part of the COVID-19 outbreak.',\n",
       " 'stance: UNRELATED, reason: REASON: This is not about COVID-19',\n",
       " 'stance: UNRELATED, reason: REASON: This is not about COVID-19',\n",
       " 'stance: UNRELATED, reason: REASON: This is not about COVID-19',\n",
       " 'stance: NEUTRAL, reason: REASON: The Bank of England has not released any new banknotes.',\n",
       " 'stance: DENIES, reason: The statement denies COVID being genetically engineered as it claims if COVID was an engineered bioweapon, it would have killed much more people than it actually did.',\n",
       " 'stance: DENIES, reason: REASON: The statement is unrelated to the belief that Dean Koontz predicted the pandemic in his 1981 novel The Eyes of Darkness.',\n",
       " 'stance: UNRELATED, reason: The statement is unrelated to the belief because it is about a different outbreak.',\n",
       " 'stance: UNRELATED, reason: The first person infected is a researcher named Huang Yanling.',\n",
       " \"stance: DENIES, reason: The statement denies the belief that Jim Bakker's colloidal silver solution is a remedy for COVID-19 because it is unrelated to the belief.\",\n",
       " 'stance: DENIES, reason: REASON: The Shincheonji church is not the only place where holy communion is given.',\n",
       " 'stance: DENIES, reason: REASON: Cocaine is not a cure for COVID.',\n",
       " 'stance: DENIES, reason: REASON: Citron tea is not a cure for the coronavirus.',\n",
       " 'stance: DENIES, reason: REASON: Citron tea is not an essential oil.',\n",
       " 'stance: DENIES, reason: REASON: Citron tea is not a cure for the coronavirus.',\n",
       " 'stance: DENIES, reason: REASON: Citron tea is not a cure for the coronavirus.',\n",
       " 'stance: DENIES, reason: REASON: Citron tea is not fennel tea.',\n",
       " 'stance: UNRELATED reason: The Simpsons is a cartoon and has no bearing on real world events.',\n",
       " 'stance: DENIES, reason: REASON: The average temperature in Wuhan is 5 degrees, but the average temperature in sub Saharan Africa is 27 degrees.',\n",
       " \"stance: DENIES, reason: REASON: Jim Bakker's colloidal silver solution is not a remedy for COVID-19.\",\n",
       " 'stance: DENIES, reason: REASON: Bloomberg is a financial news company, not a medical one.',\n",
       " 'stance: DENIES, reason: The statement is unrelated to the belief that Kenneth Copeland on Victory Channel can cure COVID-19 through the TV.',\n",
       " 'stance: DENIES, reason: The statement is unrelated to the belief that Kyriakos Velopoulos sells a hand cream which completely kills covid-19.',\n",
       " 'stance: DENIES, reason: REASON: Actor Keith Lawrence Middlebrook has not found a cure for COVID-19.',\n",
       " 'stance: DENIES, reason: REASON',\n",
       " 'stance: DENIES, reason: REASON: There is no evidence that pets can be infected with Covid-19.',\n",
       " 'stance: DENIES, reason: REASON: There is no evidence that pets can be infected with Covid-19.',\n",
       " 'stance: DENIES, reason: REASON: Washing hands and not touching your face will not keep you safe from Corona-Chan.',\n",
       " 'stance: DENIES, reason: REASON: The virus itself is lifeless,a part of DNA n has no existence but when it contacts a living cell, it becomes active.',\n",
       " 'stance: NEUTRAL, reason: The statement is neutral because it does not state whether or not blowing conch shells helps build up the immune system.',\n",
       " 'stance: NEUTRAL, reason: The statement is neutral because it does not state whether or not holy communion is the cause of the spread of coronavirus.',\n",
       " ...]"
      ]
     },
     "execution_count": 47,
     "metadata": {},
     "output_type": "execute_result"
    }
   ],
   "source": [
    "results"
   ]
  },
  {
   "cell_type": "code",
   "execution_count": 43,
   "id": "97157b49-ef39-4c4d-9e1f-782eeafd3d9a",
   "metadata": {
    "tags": []
   },
   "outputs": [],
   "source": [
    "y_pred = []  \n",
    "reasons = []  \n",
    "  \n",
    "for result in results:  \n",
    "    split_result = result.split('reason:')  \n",
    "    if len(split_result) == 2:  \n",
    "        # Extract stance and reason, remove leading/trailing whitespace and convert stance to lowercase  \n",
    "        stance, reason = split_result\n",
    "        stance = stance.replace('stance:', '').replace(',', '').strip().lower()\n",
    "        reason = reason.strip()\n",
    "        reasons.append(reason)\n",
    "    else:\n",
    "        # model did not give a reason\n",
    "        stance = split_result[0]\n",
    "        stance = stance.replace('stance:', '').replace(',', '').strip().lower()\n",
    "        reasons.append('')\n",
    "    if 'support' in stance:  \n",
    "        y_pred.append('agree')  \n",
    "    elif 'denies' in stance:  \n",
    "        y_pred.append('disagree')  \n",
    "    elif 'neutral' in stance or 'unrelated' in stance:  \n",
    "        y_pred.append('neutral')  \n",
    "        \n",
    "df['fsp_reason_preds'] = y_pred\n",
    "df['fsp_reason_reasons'] = reasons"
   ]
  },
  {
   "cell_type": "code",
   "execution_count": 44,
   "id": "b02b73fb-2ec0-49f1-b0a2-baeef114f4cc",
   "metadata": {},
   "outputs": [
    {
     "data": {
      "text/plain": [
       "(array(['agree', 'disagree', 'neutral'], dtype=object),\n",
       " array([  38, 1845, 1313]))"
      ]
     },
     "execution_count": 44,
     "metadata": {},
     "output_type": "execute_result"
    }
   ],
   "source": [
    "np.unique(df['fsp_reason_preds'], return_counts=True)"
   ]
  },
  {
   "cell_type": "code",
   "execution_count": 45,
   "id": "e44d2f6c-78b5-4740-9415-65c460ee3220",
   "metadata": {
    "tags": []
   },
   "outputs": [
    {
     "name": "stdout",
     "output_type": "stream",
     "text": [
      "              precision    recall  f1-score   support\n",
      "\n",
      "       agree       0.50      0.19      0.28       100\n",
      "    disagree       0.04      0.80      0.07        85\n",
      "     neutral       0.97      0.42      0.59      3011\n",
      "\n",
      "    accuracy                           0.43      3196\n",
      "   macro avg       0.50      0.47      0.31      3196\n",
      "weighted avg       0.93      0.43      0.57      3196\n",
      "\n"
     ]
    }
   ],
   "source": [
    "report = classification_report(df['stance'], df['fsp_reason_preds'])\n",
    "\n",
    "print(report)"
   ]
  },
  {
   "cell_type": "code",
   "execution_count": 46,
   "id": "d03aa11f-e001-4907-bd66-e989a653c0f3",
   "metadata": {},
   "outputs": [],
   "source": [
    "df.to_csv(\"covid-lies_flan-UL2_results.csv\")"
   ]
  },
  {
   "cell_type": "code",
   "execution_count": null,
   "id": "94de7d2f-b6db-4714-8efe-f7cc1357b831",
   "metadata": {},
   "outputs": [],
   "source": []
  }
 ],
 "metadata": {
  "kernelspec": {
   "display_name": "Python 3 (ipykernel)",
   "language": "python",
   "name": "python3"
  },
  "language_info": {
   "codemirror_mode": {
    "name": "ipython",
    "version": 3
   },
   "file_extension": ".py",
   "mimetype": "text/x-python",
   "name": "python",
   "nbconvert_exporter": "python",
   "pygments_lexer": "ipython3",
   "version": "3.10.6"
  }
 },
 "nbformat": 4,
 "nbformat_minor": 5
}
