{
 "cells": [
  {
   "cell_type": "code",
   "execution_count": 11,
   "id": "0722fc5b-8f2d-421a-adac-68cd61fff4c1",
   "metadata": {
    "tags": []
   },
   "outputs": [],
   "source": [
    "import pandas as pd, os, numpy as np\n",
    "from sklearn.metrics import f1_score, accuracy_score\n",
    "from transformers import pipeline"
   ]
  },
  {
   "cell_type": "code",
   "execution_count": 2,
   "id": "0543a1b8-9f31-4c68-8f6c-cde2b9b384ef",
   "metadata": {
    "tags": []
   },
   "outputs": [],
   "source": [
    "# Load the trained model into Hugging Face pipeline\n",
    "model_path = 'bias results/supervised_stance_model'\n",
    "classifier = pipeline('text-classification', model=model_path, tokenizer=\"bert-base-cased\", device_map=0,\n",
    "                     truncation=True, max_length=512)"
   ]
  },
  {
   "cell_type": "code",
   "execution_count": 29,
   "id": "103d79a2-4c27-4b1c-acfa-d1ad49e37e16",
   "metadata": {
    "tags": []
   },
   "outputs": [],
   "source": [
    "# Read the dataframe from the pickle file\n",
    "DATASET = 'basil'\n",
    "\n",
    "df = pd.read_csv(os.path.join(DATASET, \"data_merged.csv\"))\n",
    "\n",
    "if DATASET != 'basil':\n",
    "    df = df[df['train_stance'].isin(['against', 'for', 'neutral', 'denies', 'supports'])]\n",
    "    df['train_stance'] = df['train_stance'].replace({'for': 'supports', 'denies': 'against'})\n",
    "else:\n",
    "    df['train_stance'] = df['stance']"
   ]
  },
  {
   "cell_type": "code",
   "execution_count": 30,
   "id": "6989f946-f0f4-4ba5-9e1f-f46a53f397ee",
   "metadata": {
    "tags": []
   },
   "outputs": [],
   "source": [
    "# Modify the data based on the 'dataset' column\n",
    "df['formatted_text'] = df.apply(lambda row: f\"target: {row['event']} [SEP] statement: {row['full_text']}\", axis=1)"
   ]
  },
  {
   "cell_type": "code",
   "execution_count": 31,
   "id": "d1159982-4fc4-430e-be5a-d5ebe85e7adf",
   "metadata": {
    "tags": []
   },
   "outputs": [],
   "source": [
    "# Run each example through the pipeline and track the results\n",
    "results = classifier(df['formatted_text'].tolist())"
   ]
  },
  {
   "cell_type": "code",
   "execution_count": 32,
   "id": "87e625c4-8a4c-4722-a710-82f60596a497",
   "metadata": {
    "tags": []
   },
   "outputs": [
    {
     "data": {
      "text/plain": [
       "[{'label': 'against', 'score': 0.3994285762310028},\n",
       " {'label': 'against', 'score': 0.39923912286758423},\n",
       " {'label': 'against', 'score': 0.4041491448879242},\n",
       " {'label': 'against', 'score': 0.40471965074539185},\n",
       " {'label': 'against', 'score': 0.4045639634132385},\n",
       " {'label': 'against', 'score': 0.4003814458847046},\n",
       " {'label': 'against', 'score': 0.39940518140792847},\n",
       " {'label': 'against', 'score': 0.39904874563217163},\n",
       " {'label': 'against', 'score': 0.3990795910358429},\n",
       " {'label': 'against', 'score': 0.399034321308136}]"
      ]
     },
     "execution_count": 32,
     "metadata": {},
     "output_type": "execute_result"
    }
   ],
   "source": [
    "results[0:10]"
   ]
  },
  {
   "cell_type": "code",
   "execution_count": 33,
   "id": "33a1af35-6372-4f02-94dd-ee4c3f439297",
   "metadata": {
    "tags": []
   },
   "outputs": [],
   "source": [
    "df['preds'] = [result['label'] for result in results]\n",
    "df['pred_scores'] = [result['score'] for result in results]"
   ]
  },
  {
   "cell_type": "code",
   "execution_count": 34,
   "id": "2fc9a30a-7f8c-4268-9856-a7ad485c7f42",
   "metadata": {
    "tags": []
   },
   "outputs": [
    {
     "data": {
      "text/plain": [
       "(array(['against', 'for'], dtype=object), array([609,   3]))"
      ]
     },
     "execution_count": 34,
     "metadata": {},
     "output_type": "execute_result"
    }
   ],
   "source": [
    "np.unique(df['preds'], return_counts=True)"
   ]
  },
  {
   "cell_type": "code",
   "execution_count": 35,
   "id": "6f486a14-934a-4f1f-b8be-632bc461b702",
   "metadata": {
    "tags": []
   },
   "outputs": [
    {
     "data": {
      "text/html": [
       "<div>\n",
       "<style scoped>\n",
       "    .dataframe tbody tr th:only-of-type {\n",
       "        vertical-align: middle;\n",
       "    }\n",
       "\n",
       "    .dataframe tbody tr th {\n",
       "        vertical-align: top;\n",
       "    }\n",
       "\n",
       "    .dataframe thead th {\n",
       "        text-align: right;\n",
       "    }\n",
       "</style>\n",
       "<table border=\"1\" class=\"dataframe\">\n",
       "  <thead>\n",
       "    <tr style=\"text-align: right;\">\n",
       "      <th></th>\n",
       "      <th>full_text</th>\n",
       "      <th>event</th>\n",
       "      <th>train_stance</th>\n",
       "      <th>preds</th>\n",
       "      <th>pred_scores</th>\n",
       "    </tr>\n",
       "  </thead>\n",
       "  <tbody>\n",
       "    <tr>\n",
       "      <th>529</th>\n",
       "      <td>House Panel Seeks Private Talk With Hillary Cl...</td>\n",
       "      <td>Hillary Clinton</td>\n",
       "      <td>neutral</td>\n",
       "      <td>against</td>\n",
       "      <td>0.398989</td>\n",
       "    </tr>\n",
       "    <tr>\n",
       "      <th>210</th>\n",
       "      <td>Nebraska, Oklahoma File Federal Suit Against C...</td>\n",
       "      <td>Nebraska officials</td>\n",
       "      <td>neutral</td>\n",
       "      <td>against</td>\n",
       "      <td>0.398943</td>\n",
       "    </tr>\n",
       "    <tr>\n",
       "      <th>253</th>\n",
       "      <td>Facing Congress, Clinton Defends Her Actions B...</td>\n",
       "      <td>Republican Lawmakers</td>\n",
       "      <td>neutral</td>\n",
       "      <td>against</td>\n",
       "      <td>0.400303</td>\n",
       "    </tr>\n",
       "    <tr>\n",
       "      <th>604</th>\n",
       "      <td>Defense Secretary James Mattis to leave as of ...</td>\n",
       "      <td>Donald Trump</td>\n",
       "      <td>agree</td>\n",
       "      <td>against</td>\n",
       "      <td>0.399271</td>\n",
       "    </tr>\n",
       "    <tr>\n",
       "      <th>132</th>\n",
       "      <td>Obama and Boehner Talk Deficits at the White H...</td>\n",
       "      <td>Barack Obama</td>\n",
       "      <td>neutral</td>\n",
       "      <td>against</td>\n",
       "      <td>0.398997</td>\n",
       "    </tr>\n",
       "    <tr>\n",
       "      <th>12</th>\n",
       "      <td>Supreme Court Hears Argument In Wal-Mart Sex B...</td>\n",
       "      <td>Walmart</td>\n",
       "      <td>neutral</td>\n",
       "      <td>against</td>\n",
       "      <td>0.402297</td>\n",
       "    </tr>\n",
       "    <tr>\n",
       "      <th>517</th>\n",
       "      <td>Susan Rice calls Netanyahu's Capitol Hill spee...</td>\n",
       "      <td>Susan Rice</td>\n",
       "      <td>neutral</td>\n",
       "      <td>against</td>\n",
       "      <td>0.399278</td>\n",
       "    </tr>\n",
       "    <tr>\n",
       "      <th>161</th>\n",
       "      <td>Senate Republicans Vow to Block Dem Legislatio...</td>\n",
       "      <td>Republicans</td>\n",
       "      <td>neutral</td>\n",
       "      <td>against</td>\n",
       "      <td>0.399114</td>\n",
       "    </tr>\n",
       "    <tr>\n",
       "      <th>332</th>\n",
       "      <td>GOP Whip Steve Scalise, Others Shot At Early M...</td>\n",
       "      <td>Democratic Lawmakers</td>\n",
       "      <td>neutral</td>\n",
       "      <td>for</td>\n",
       "      <td>0.388322</td>\n",
       "    </tr>\n",
       "    <tr>\n",
       "      <th>27</th>\n",
       "      <td>Perry TV Ad: I Can Defend Faith from Obama’s “...</td>\n",
       "      <td>Rick Perry</td>\n",
       "      <td>neutral</td>\n",
       "      <td>against</td>\n",
       "      <td>0.399879</td>\n",
       "    </tr>\n",
       "    <tr>\n",
       "      <th>35</th>\n",
       "      <td>Trump Bows Out as Moderator of GOP Debate, Res...</td>\n",
       "      <td>Donald Trump</td>\n",
       "      <td>neutral</td>\n",
       "      <td>against</td>\n",
       "      <td>0.398576</td>\n",
       "    </tr>\n",
       "    <tr>\n",
       "      <th>264</th>\n",
       "      <td>White House Releases Benghazi Emails WASHINGTO...</td>\n",
       "      <td>Victoria Nuland</td>\n",
       "      <td>neutral</td>\n",
       "      <td>against</td>\n",
       "      <td>0.398184</td>\n",
       "    </tr>\n",
       "    <tr>\n",
       "      <th>334</th>\n",
       "      <td>Trump calls Flynn treatment 'unfair,' claims C...</td>\n",
       "      <td>Michael Flynn</td>\n",
       "      <td>neutral</td>\n",
       "      <td>against</td>\n",
       "      <td>0.399731</td>\n",
       "    </tr>\n",
       "    <tr>\n",
       "      <th>500</th>\n",
       "      <td>Did Ruth Bader Ginsburg Cross The Line With He...</td>\n",
       "      <td>Ruth Bader Ginsburg</td>\n",
       "      <td>neutral</td>\n",
       "      <td>against</td>\n",
       "      <td>0.401990</td>\n",
       "    </tr>\n",
       "    <tr>\n",
       "      <th>487</th>\n",
       "      <td>Obama Will Meet With Sanders On Thursday WASHI...</td>\n",
       "      <td>Barack Obama</td>\n",
       "      <td>neutral</td>\n",
       "      <td>against</td>\n",
       "      <td>0.399357</td>\n",
       "    </tr>\n",
       "    <tr>\n",
       "      <th>310</th>\n",
       "      <td>Senate intel panel subpoenas two Flynn busines...</td>\n",
       "      <td>Donald Trump</td>\n",
       "      <td>neutral</td>\n",
       "      <td>against</td>\n",
       "      <td>0.400353</td>\n",
       "    </tr>\n",
       "    <tr>\n",
       "      <th>402</th>\n",
       "      <td>As Mueller findings released, 2020 Dems demand...</td>\n",
       "      <td>House Democrats</td>\n",
       "      <td>neutral</td>\n",
       "      <td>against</td>\n",
       "      <td>0.399977</td>\n",
       "    </tr>\n",
       "    <tr>\n",
       "      <th>438</th>\n",
       "      <td>Trump Offers Temporary Protections for ‘Dreame...</td>\n",
       "      <td>Republican lawmakers</td>\n",
       "      <td>neutral</td>\n",
       "      <td>against</td>\n",
       "      <td>0.399402</td>\n",
       "    </tr>\n",
       "    <tr>\n",
       "      <th>583</th>\n",
       "      <td>President Wants to Use Executive Order to End ...</td>\n",
       "      <td>birthright citizenship</td>\n",
       "      <td>agree</td>\n",
       "      <td>against</td>\n",
       "      <td>0.399688</td>\n",
       "    </tr>\n",
       "    <tr>\n",
       "      <th>172</th>\n",
       "      <td>N.A.A.C.P. Challenges Tea Party on Racism One ...</td>\n",
       "      <td>Tea Party</td>\n",
       "      <td>neutral</td>\n",
       "      <td>against</td>\n",
       "      <td>0.398114</td>\n",
       "    </tr>\n",
       "  </tbody>\n",
       "</table>\n",
       "</div>"
      ],
      "text/plain": [
       "                                             full_text  \\\n",
       "529  House Panel Seeks Private Talk With Hillary Cl...   \n",
       "210  Nebraska, Oklahoma File Federal Suit Against C...   \n",
       "253  Facing Congress, Clinton Defends Her Actions B...   \n",
       "604  Defense Secretary James Mattis to leave as of ...   \n",
       "132  Obama and Boehner Talk Deficits at the White H...   \n",
       "12   Supreme Court Hears Argument In Wal-Mart Sex B...   \n",
       "517  Susan Rice calls Netanyahu's Capitol Hill spee...   \n",
       "161  Senate Republicans Vow to Block Dem Legislatio...   \n",
       "332  GOP Whip Steve Scalise, Others Shot At Early M...   \n",
       "27   Perry TV Ad: I Can Defend Faith from Obama’s “...   \n",
       "35   Trump Bows Out as Moderator of GOP Debate, Res...   \n",
       "264  White House Releases Benghazi Emails WASHINGTO...   \n",
       "334  Trump calls Flynn treatment 'unfair,' claims C...   \n",
       "500  Did Ruth Bader Ginsburg Cross The Line With He...   \n",
       "487  Obama Will Meet With Sanders On Thursday WASHI...   \n",
       "310  Senate intel panel subpoenas two Flynn busines...   \n",
       "402  As Mueller findings released, 2020 Dems demand...   \n",
       "438  Trump Offers Temporary Protections for ‘Dreame...   \n",
       "583  President Wants to Use Executive Order to End ...   \n",
       "172  N.A.A.C.P. Challenges Tea Party on Racism One ...   \n",
       "\n",
       "                      event train_stance    preds  pred_scores  \n",
       "529         Hillary Clinton      neutral  against     0.398989  \n",
       "210      Nebraska officials      neutral  against     0.398943  \n",
       "253    Republican Lawmakers      neutral  against     0.400303  \n",
       "604            Donald Trump        agree  against     0.399271  \n",
       "132            Barack Obama      neutral  against     0.398997  \n",
       "12                  Walmart      neutral  against     0.402297  \n",
       "517              Susan Rice      neutral  against     0.399278  \n",
       "161             Republicans      neutral  against     0.399114  \n",
       "332    Democratic Lawmakers      neutral      for     0.388322  \n",
       "27               Rick Perry      neutral  against     0.399879  \n",
       "35             Donald Trump      neutral  against     0.398576  \n",
       "264         Victoria Nuland      neutral  against     0.398184  \n",
       "334           Michael Flynn      neutral  against     0.399731  \n",
       "500     Ruth Bader Ginsburg      neutral  against     0.401990  \n",
       "487            Barack Obama      neutral  against     0.399357  \n",
       "310            Donald Trump      neutral  against     0.400353  \n",
       "402         House Democrats      neutral  against     0.399977  \n",
       "438    Republican lawmakers      neutral  against     0.399402  \n",
       "583  birthright citizenship        agree  against     0.399688  \n",
       "172               Tea Party      neutral  against     0.398114  "
      ]
     },
     "execution_count": 35,
     "metadata": {},
     "output_type": "execute_result"
    }
   ],
   "source": [
    "df[['full_text', 'event','train_stance','preds','pred_scores']].sample(20)"
   ]
  },
  {
   "cell_type": "code",
   "execution_count": 36,
   "id": "20622d39-52ca-46ea-9259-c54b06af14e4",
   "metadata": {
    "tags": []
   },
   "outputs": [
    {
     "name": "stdout",
     "output_type": "stream",
     "text": [
      "Unweighted F1 Score: 0.0\n"
     ]
    }
   ],
   "source": [
    "# Get the unweighted F1 score\n",
    "f1 = f1_score(df['train_stance'], df['preds'], average='macro')\n",
    "\n",
    "# Display the F1 score\n",
    "print(f\"Unweighted F1 Score: {f1}\")"
   ]
  },
  {
   "cell_type": "code",
   "execution_count": null,
   "id": "05e38776-ed55-41b2-9ce6-da0452e8fc5b",
   "metadata": {},
   "outputs": [],
   "source": [
    "df.to_csv(os.path.join(\"bias results\",DATASET+\"_supervised.csv\"))"
   ]
  }
 ],
 "metadata": {
  "kernelspec": {
   "display_name": "Python 3 (ipykernel)",
   "language": "python",
   "name": "python3"
  },
  "language_info": {
   "codemirror_mode": {
    "name": "ipython",
    "version": 3
   },
   "file_extension": ".py",
   "mimetype": "text/x-python",
   "name": "python",
   "nbconvert_exporter": "python",
   "pygments_lexer": "ipython3",
   "version": "3.10.12"
  }
 },
 "nbformat": 4,
 "nbformat_minor": 5
}
