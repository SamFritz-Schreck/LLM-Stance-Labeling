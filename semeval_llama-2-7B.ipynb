{
 "cells": [
  {
   "cell_type": "markdown",
   "id": "5b37c7bb-c037-4504-a2e2-4010b3726ac8",
   "metadata": {},
   "source": [
    "# Stance Classification for SemEval2016\n",
    "- read in the data and pre-process\n",
    "- set up an LLM\n",
    "- Investigate different prompting schemes\n",
    "    - just context\n",
    "    - context + few-shot learning\n",
    "    - content + few-shot learning + reasoning"
   ]
  },
  {
   "cell_type": "code",
   "execution_count": 1,
   "id": "5b436af4-75ff-4598-a9e3-70e746e1f99d",
   "metadata": {
    "scrolled": true,
    "tags": []
   },
   "outputs": [
    {
     "name": "stdout",
     "output_type": "stream",
     "text": [
      "Collecting transformers\n",
      "  Using cached transformers-4.33.1-py3-none-any.whl (7.6 MB)\n",
      "Requirement already satisfied: filelock in /usr/local/lib/python3.10/dist-packages (from transformers) (3.9.0)\n",
      "Collecting huggingface-hub<1.0,>=0.15.1 (from transformers)\n",
      "  Using cached huggingface_hub-0.17.1-py3-none-any.whl (294 kB)\n",
      "Requirement already satisfied: numpy>=1.17 in /usr/local/lib/python3.10/dist-packages (from transformers) (1.23.5)\n",
      "Requirement already satisfied: packaging>=20.0 in /usr/local/lib/python3.10/dist-packages (from transformers) (23.1)\n",
      "Requirement already satisfied: pyyaml>=5.1 in /usr/local/lib/python3.10/dist-packages (from transformers) (6.0)\n",
      "Collecting regex!=2019.12.17 (from transformers)\n",
      "  Using cached regex-2023.8.8-cp310-cp310-manylinux_2_17_x86_64.manylinux2014_x86_64.whl (771 kB)\n",
      "Requirement already satisfied: requests in /usr/local/lib/python3.10/dist-packages (from transformers) (2.30.0)\n",
      "Collecting tokenizers!=0.11.3,<0.14,>=0.11.1 (from transformers)\n",
      "  Using cached tokenizers-0.13.3-cp310-cp310-manylinux_2_17_x86_64.manylinux2014_x86_64.whl (7.8 MB)\n",
      "Collecting safetensors>=0.3.1 (from transformers)\n",
      "  Using cached safetensors-0.3.3-cp310-cp310-manylinux_2_17_x86_64.manylinux2014_x86_64.whl (1.3 MB)\n",
      "Requirement already satisfied: tqdm>=4.27 in /usr/local/lib/python3.10/dist-packages (from transformers) (4.65.0)\n",
      "Requirement already satisfied: fsspec in /usr/local/lib/python3.10/dist-packages (from huggingface-hub<1.0,>=0.15.1->transformers) (2023.5.0)\n",
      "Requirement already satisfied: typing-extensions>=3.7.4.3 in /usr/local/lib/python3.10/dist-packages (from huggingface-hub<1.0,>=0.15.1->transformers) (4.5.0)\n",
      "Requirement already satisfied: charset-normalizer<4,>=2 in /usr/local/lib/python3.10/dist-packages (from requests->transformers) (3.1.0)\n",
      "Requirement already satisfied: idna<4,>=2.5 in /usr/local/lib/python3.10/dist-packages (from requests->transformers) (3.4)\n",
      "Requirement already satisfied: urllib3<3,>=1.21.1 in /usr/local/lib/python3.10/dist-packages (from requests->transformers) (1.26.15)\n",
      "Requirement already satisfied: certifi>=2017.4.17 in /usr/local/lib/python3.10/dist-packages (from requests->transformers) (2023.5.7)\n",
      "Installing collected packages: tokenizers, safetensors, regex, huggingface-hub, transformers\n",
      "Successfully installed huggingface-hub-0.17.1 regex-2023.8.8 safetensors-0.3.3 tokenizers-0.13.3 transformers-4.33.1\n",
      "\n",
      "\u001b[1m[\u001b[0m\u001b[34;49mnotice\u001b[0m\u001b[1;39;49m]\u001b[0m\u001b[39;49m A new release of pip is available: \u001b[0m\u001b[31;49m23.1.2\u001b[0m\u001b[39;49m -> \u001b[0m\u001b[32;49m23.2.1\u001b[0m\n",
      "\u001b[1m[\u001b[0m\u001b[34;49mnotice\u001b[0m\u001b[1;39;49m]\u001b[0m\u001b[39;49m To update, run: \u001b[0m\u001b[32;49mpython -m pip install --upgrade pip\u001b[0m\n",
      "Requirement already satisfied: langchain in /home/jovyan/.local/lib/python3.10/site-packages (0.0.158)\n",
      "Requirement already satisfied: PyYAML>=5.4.1 in /usr/local/lib/python3.10/dist-packages (from langchain) (6.0)\n",
      "Requirement already satisfied: SQLAlchemy<3,>=1.3 in /usr/local/lib/python3.10/dist-packages (from langchain) (2.0.13)\n",
      "Requirement already satisfied: aiohttp<4.0.0,>=3.8.3 in /usr/local/lib/python3.10/dist-packages (from langchain) (3.8.4)\n",
      "Requirement already satisfied: async-timeout<5.0.0,>=4.0.0 in /usr/local/lib/python3.10/dist-packages (from langchain) (4.0.2)\n",
      "Requirement already satisfied: dataclasses-json<0.6.0,>=0.5.7 in /home/jovyan/.local/lib/python3.10/site-packages (from langchain) (0.5.7)\n",
      "Requirement already satisfied: numexpr<3.0.0,>=2.8.4 in /usr/local/lib/python3.10/dist-packages (from langchain) (2.8.4)\n",
      "Requirement already satisfied: numpy<2,>=1 in /usr/local/lib/python3.10/dist-packages (from langchain) (1.23.5)\n",
      "Requirement already satisfied: openapi-schema-pydantic<2.0,>=1.2 in /home/jovyan/.local/lib/python3.10/site-packages (from langchain) (1.2.4)\n",
      "Requirement already satisfied: pydantic<2,>=1 in /home/jovyan/.local/lib/python3.10/site-packages (from langchain) (1.10.8)\n",
      "Requirement already satisfied: requests<3,>=2 in /usr/local/lib/python3.10/dist-packages (from langchain) (2.30.0)\n",
      "Requirement already satisfied: tenacity<9.0.0,>=8.1.0 in /home/jovyan/.local/lib/python3.10/site-packages (from langchain) (8.2.2)\n",
      "Requirement already satisfied: tqdm>=4.48.0 in /usr/local/lib/python3.10/dist-packages (from langchain) (4.65.0)\n",
      "Requirement already satisfied: attrs>=17.3.0 in /usr/local/lib/python3.10/dist-packages (from aiohttp<4.0.0,>=3.8.3->langchain) (23.1.0)\n",
      "Requirement already satisfied: charset-normalizer<4.0,>=2.0 in /usr/local/lib/python3.10/dist-packages (from aiohttp<4.0.0,>=3.8.3->langchain) (3.1.0)\n",
      "Requirement already satisfied: multidict<7.0,>=4.5 in /usr/local/lib/python3.10/dist-packages (from aiohttp<4.0.0,>=3.8.3->langchain) (6.0.4)\n",
      "Requirement already satisfied: yarl<2.0,>=1.0 in /usr/local/lib/python3.10/dist-packages (from aiohttp<4.0.0,>=3.8.3->langchain) (1.9.2)\n",
      "Requirement already satisfied: frozenlist>=1.1.1 in /usr/local/lib/python3.10/dist-packages (from aiohttp<4.0.0,>=3.8.3->langchain) (1.3.3)\n",
      "Requirement already satisfied: aiosignal>=1.1.2 in /usr/local/lib/python3.10/dist-packages (from aiohttp<4.0.0,>=3.8.3->langchain) (1.3.1)\n",
      "Requirement already satisfied: marshmallow<4.0.0,>=3.3.0 in /home/jovyan/.local/lib/python3.10/site-packages (from dataclasses-json<0.6.0,>=0.5.7->langchain) (3.19.0)\n",
      "Requirement already satisfied: marshmallow-enum<2.0.0,>=1.5.1 in /home/jovyan/.local/lib/python3.10/site-packages (from dataclasses-json<0.6.0,>=0.5.7->langchain) (1.5.1)\n",
      "Requirement already satisfied: typing-inspect>=0.4.0 in /home/jovyan/.local/lib/python3.10/site-packages (from dataclasses-json<0.6.0,>=0.5.7->langchain) (0.8.0)\n",
      "Requirement already satisfied: typing-extensions>=4.2.0 in /usr/local/lib/python3.10/dist-packages (from pydantic<2,>=1->langchain) (4.5.0)\n",
      "Requirement already satisfied: idna<4,>=2.5 in /usr/local/lib/python3.10/dist-packages (from requests<3,>=2->langchain) (3.4)\n",
      "Requirement already satisfied: urllib3<3,>=1.21.1 in /usr/local/lib/python3.10/dist-packages (from requests<3,>=2->langchain) (1.26.15)\n",
      "Requirement already satisfied: certifi>=2017.4.17 in /usr/local/lib/python3.10/dist-packages (from requests<3,>=2->langchain) (2023.5.7)\n",
      "Requirement already satisfied: greenlet!=0.4.17 in /usr/local/lib/python3.10/dist-packages (from SQLAlchemy<3,>=1.3->langchain) (2.0.2)\n",
      "Requirement already satisfied: packaging>=17.0 in /usr/local/lib/python3.10/dist-packages (from marshmallow<4.0.0,>=3.3.0->dataclasses-json<0.6.0,>=0.5.7->langchain) (23.1)\n",
      "Requirement already satisfied: mypy-extensions>=0.3.0 in /usr/local/lib/python3.10/dist-packages (from typing-inspect>=0.4.0->dataclasses-json<0.6.0,>=0.5.7->langchain) (1.0.0)\n",
      "\n",
      "\u001b[1m[\u001b[0m\u001b[34;49mnotice\u001b[0m\u001b[1;39;49m]\u001b[0m\u001b[39;49m A new release of pip is available: \u001b[0m\u001b[31;49m23.1.2\u001b[0m\u001b[39;49m -> \u001b[0m\u001b[32;49m23.2.1\u001b[0m\n",
      "\u001b[1m[\u001b[0m\u001b[34;49mnotice\u001b[0m\u001b[1;39;49m]\u001b[0m\u001b[39;49m To update, run: \u001b[0m\u001b[32;49mpython -m pip install --upgrade pip\u001b[0m\n",
      "Collecting accelerate\n",
      "  Using cached accelerate-0.22.0-py3-none-any.whl (251 kB)\n",
      "Requirement already satisfied: numpy>=1.17 in /usr/local/lib/python3.10/dist-packages (from accelerate) (1.23.5)\n",
      "Requirement already satisfied: packaging>=20.0 in /usr/local/lib/python3.10/dist-packages (from accelerate) (23.1)\n",
      "Requirement already satisfied: psutil in /usr/local/lib/python3.10/dist-packages (from accelerate) (5.9.5)\n",
      "Requirement already satisfied: pyyaml in /usr/local/lib/python3.10/dist-packages (from accelerate) (6.0)\n",
      "Requirement already satisfied: torch>=1.10.0 in /usr/local/lib/python3.10/dist-packages (from accelerate) (2.0.1+cu118)\n",
      "Requirement already satisfied: filelock in /usr/local/lib/python3.10/dist-packages (from torch>=1.10.0->accelerate) (3.9.0)\n",
      "Requirement already satisfied: typing-extensions in /usr/local/lib/python3.10/dist-packages (from torch>=1.10.0->accelerate) (4.5.0)\n",
      "Requirement already satisfied: sympy in /usr/local/lib/python3.10/dist-packages (from torch>=1.10.0->accelerate) (1.12)\n",
      "Requirement already satisfied: networkx in /usr/local/lib/python3.10/dist-packages (from torch>=1.10.0->accelerate) (3.1)\n",
      "Requirement already satisfied: jinja2 in /usr/local/lib/python3.10/dist-packages (from torch>=1.10.0->accelerate) (3.1.2)\n",
      "Requirement already satisfied: triton==2.0.0 in /usr/local/lib/python3.10/dist-packages (from torch>=1.10.0->accelerate) (2.0.0)\n",
      "Requirement already satisfied: cmake in /usr/local/lib/python3.10/dist-packages (from triton==2.0.0->torch>=1.10.0->accelerate) (3.25.0)\n",
      "Requirement already satisfied: lit in /usr/local/lib/python3.10/dist-packages (from triton==2.0.0->torch>=1.10.0->accelerate) (15.0.7)\n",
      "Requirement already satisfied: MarkupSafe>=2.0 in /usr/local/lib/python3.10/dist-packages (from jinja2->torch>=1.10.0->accelerate) (2.1.2)\n",
      "Requirement already satisfied: mpmath>=0.19 in /usr/local/lib/python3.10/dist-packages (from sympy->torch>=1.10.0->accelerate) (1.3.0)\n",
      "Installing collected packages: accelerate\n",
      "Successfully installed accelerate-0.22.0\n",
      "\n",
      "\u001b[1m[\u001b[0m\u001b[34;49mnotice\u001b[0m\u001b[1;39;49m]\u001b[0m\u001b[39;49m A new release of pip is available: \u001b[0m\u001b[31;49m23.1.2\u001b[0m\u001b[39;49m -> \u001b[0m\u001b[32;49m23.2.1\u001b[0m\n",
      "\u001b[1m[\u001b[0m\u001b[34;49mnotice\u001b[0m\u001b[1;39;49m]\u001b[0m\u001b[39;49m To update, run: \u001b[0m\u001b[32;49mpython -m pip install --upgrade pip\u001b[0m\n",
      "Collecting einops\n",
      "  Using cached einops-0.6.1-py3-none-any.whl (42 kB)\n",
      "Installing collected packages: einops\n",
      "Successfully installed einops-0.6.1\n",
      "\n",
      "\u001b[1m[\u001b[0m\u001b[34;49mnotice\u001b[0m\u001b[1;39;49m]\u001b[0m\u001b[39;49m A new release of pip is available: \u001b[0m\u001b[31;49m23.1.2\u001b[0m\u001b[39;49m -> \u001b[0m\u001b[32;49m23.2.1\u001b[0m\n",
      "\u001b[1m[\u001b[0m\u001b[34;49mnotice\u001b[0m\u001b[1;39;49m]\u001b[0m\u001b[39;49m To update, run: \u001b[0m\u001b[32;49mpython -m pip install --upgrade pip\u001b[0m\n",
      "Collecting deepspeed\n",
      "  Using cached deepspeed-0.10.3-py3-none-any.whl\n",
      "Collecting hjson (from deepspeed)\n",
      "  Using cached hjson-3.1.0-py3-none-any.whl (54 kB)\n",
      "Collecting ninja (from deepspeed)\n",
      "  Using cached ninja-1.11.1-py2.py3-none-manylinux_2_12_x86_64.manylinux2010_x86_64.whl (145 kB)\n",
      "Requirement already satisfied: numpy in /usr/local/lib/python3.10/dist-packages (from deepspeed) (1.23.5)\n",
      "Requirement already satisfied: packaging>=20.0 in /usr/local/lib/python3.10/dist-packages (from deepspeed) (23.1)\n",
      "Requirement already satisfied: psutil in /usr/local/lib/python3.10/dist-packages (from deepspeed) (5.9.5)\n",
      "Requirement already satisfied: py-cpuinfo in /usr/local/lib/python3.10/dist-packages (from deepspeed) (9.0.0)\n",
      "Requirement already satisfied: pydantic<2.0.0 in /home/jovyan/.local/lib/python3.10/site-packages (from deepspeed) (1.10.8)\n",
      "Requirement already satisfied: torch in /usr/local/lib/python3.10/dist-packages (from deepspeed) (2.0.1+cu118)\n",
      "Requirement already satisfied: tqdm in /usr/local/lib/python3.10/dist-packages (from deepspeed) (4.65.0)\n",
      "Requirement already satisfied: typing-extensions>=4.2.0 in /usr/local/lib/python3.10/dist-packages (from pydantic<2.0.0->deepspeed) (4.5.0)\n",
      "Requirement already satisfied: filelock in /usr/local/lib/python3.10/dist-packages (from torch->deepspeed) (3.9.0)\n",
      "Requirement already satisfied: sympy in /usr/local/lib/python3.10/dist-packages (from torch->deepspeed) (1.12)\n",
      "Requirement already satisfied: networkx in /usr/local/lib/python3.10/dist-packages (from torch->deepspeed) (3.1)\n",
      "Requirement already satisfied: jinja2 in /usr/local/lib/python3.10/dist-packages (from torch->deepspeed) (3.1.2)\n",
      "Requirement already satisfied: triton==2.0.0 in /usr/local/lib/python3.10/dist-packages (from torch->deepspeed) (2.0.0)\n",
      "Requirement already satisfied: cmake in /usr/local/lib/python3.10/dist-packages (from triton==2.0.0->torch->deepspeed) (3.25.0)\n",
      "Requirement already satisfied: lit in /usr/local/lib/python3.10/dist-packages (from triton==2.0.0->torch->deepspeed) (15.0.7)\n",
      "Requirement already satisfied: MarkupSafe>=2.0 in /usr/local/lib/python3.10/dist-packages (from jinja2->torch->deepspeed) (2.1.2)\n",
      "Requirement already satisfied: mpmath>=0.19 in /usr/local/lib/python3.10/dist-packages (from sympy->torch->deepspeed) (1.3.0)\n",
      "Installing collected packages: ninja, hjson, deepspeed\n",
      "Successfully installed deepspeed-0.10.3 hjson-3.1.0 ninja-1.11.1\n",
      "\n",
      "\u001b[1m[\u001b[0m\u001b[34;49mnotice\u001b[0m\u001b[1;39;49m]\u001b[0m\u001b[39;49m A new release of pip is available: \u001b[0m\u001b[31;49m23.1.2\u001b[0m\u001b[39;49m -> \u001b[0m\u001b[32;49m23.2.1\u001b[0m\n",
      "\u001b[1m[\u001b[0m\u001b[34;49mnotice\u001b[0m\u001b[1;39;49m]\u001b[0m\u001b[39;49m To update, run: \u001b[0m\u001b[32;49mpython -m pip install --upgrade pip\u001b[0m\n"
     ]
    }
   ],
   "source": [
    "# Package installations to work on WIRE\n",
    "\n",
    "! pip install transformers\n",
    "! pip install langchain\n",
    "! pip install accelerate\n",
    "! pip install einops\n",
    "! pip install deepspeed"
   ]
  },
  {
   "cell_type": "code",
   "execution_count": 1,
   "id": "86e77263-062c-44bc-8ace-6cf3a638e014",
   "metadata": {
    "tags": []
   },
   "outputs": [
    {
     "name": "stderr",
     "output_type": "stream",
     "text": [
      "2023-09-14 14:02:47.782884: I tensorflow/core/platform/cpu_feature_guard.cc:182] This TensorFlow binary is optimized to use available CPU instructions in performance-critical operations.\n",
      "To enable the following instructions: AVX2 FMA, in other operations, rebuild TensorFlow with the appropriate compiler flags.\n",
      "2023-09-14 14:02:48.310328: W tensorflow/compiler/tf2tensorrt/utils/py_utils.cc:38] TF-TRT Warning: Could not find TensorRT\n"
     ]
    },
    {
     "name": "stdout",
     "output_type": "stream",
     "text": [
      "[2023-09-14 14:02:49,308] [INFO] [real_accelerator.py:158:get_accelerator] Setting ds_accelerator to cuda (auto detect)\n"
     ]
    }
   ],
   "source": [
    "import os, re, pandas as pd, numpy as np, ast, json\n",
    "from pprint import pprint\n",
    "from tqdm import tqdm  \n",
    "\n",
    "import torch\n",
    "from langchain import PromptTemplate, FewShotPromptTemplate, HuggingFacePipeline, LLMChain\n",
    "from transformers import AutoModelForCausalLM, AutoTokenizer, pipeline\n",
    "import deepspeed\n",
    "\n",
    "from sklearn.metrics import classification_report\n",
    "\n",
    "from matplotlib import pyplot as plt\n",
    "import seaborn as sns"
   ]
  },
  {
   "cell_type": "markdown",
   "id": "ca5057d3-9986-42e2-91f9-ccb0a8a782e5",
   "metadata": {},
   "source": [
    "# 1. Import and Preprocess Data"
   ]
  },
  {
   "cell_type": "code",
   "execution_count": 2,
   "id": "ab8789ed-ab80-429d-a03e-6c07ac91a9d6",
   "metadata": {
    "tags": []
   },
   "outputs": [],
   "source": [
    "file = os.path.join(\"semeval\",\"data_merged.csv\")"
   ]
  },
  {
   "cell_type": "code",
   "execution_count": 3,
   "id": "bdaa0228-553d-4169-a510-a8a974955d6b",
   "metadata": {
    "tags": []
   },
   "outputs": [],
   "source": [
    "df = pd.read_csv(file)"
   ]
  },
  {
   "cell_type": "code",
   "execution_count": 4,
   "id": "4e771931-ba00-487c-8c7a-dc68a435f86f",
   "metadata": {
    "tags": []
   },
   "outputs": [
    {
     "data": {
      "text/html": [
       "<div>\n",
       "<style scoped>\n",
       "    .dataframe tbody tr th:only-of-type {\n",
       "        vertical-align: middle;\n",
       "    }\n",
       "\n",
       "    .dataframe tbody tr th {\n",
       "        vertical-align: top;\n",
       "    }\n",
       "\n",
       "    .dataframe thead th {\n",
       "        text-align: right;\n",
       "    }\n",
       "</style>\n",
       "<table border=\"1\" class=\"dataframe\">\n",
       "  <thead>\n",
       "    <tr style=\"text-align: right;\">\n",
       "      <th></th>\n",
       "      <th>tweet_id</th>\n",
       "      <th>event</th>\n",
       "      <th>full_text</th>\n",
       "      <th>stance</th>\n",
       "    </tr>\n",
       "  </thead>\n",
       "  <tbody>\n",
       "    <tr>\n",
       "      <th>0</th>\n",
       "      <td>101</td>\n",
       "      <td>Atheism</td>\n",
       "      <td>dear lord thank u for all of ur blessings forg...</td>\n",
       "      <td>disagree</td>\n",
       "    </tr>\n",
       "    <tr>\n",
       "      <th>1</th>\n",
       "      <td>102</td>\n",
       "      <td>Atheism</td>\n",
       "      <td>Blessed are the peacemakers, for they shall be...</td>\n",
       "      <td>disagree</td>\n",
       "    </tr>\n",
       "    <tr>\n",
       "      <th>2</th>\n",
       "      <td>103</td>\n",
       "      <td>Atheism</td>\n",
       "      <td>I am not conformed to this world. I am transfo...</td>\n",
       "      <td>disagree</td>\n",
       "    </tr>\n",
       "    <tr>\n",
       "      <th>3</th>\n",
       "      <td>104</td>\n",
       "      <td>Atheism</td>\n",
       "      <td>Salah should be prayed with #focus and #unders...</td>\n",
       "      <td>disagree</td>\n",
       "    </tr>\n",
       "    <tr>\n",
       "      <th>4</th>\n",
       "      <td>105</td>\n",
       "      <td>Atheism</td>\n",
       "      <td>And stay in your houses and do not display you...</td>\n",
       "      <td>disagree</td>\n",
       "    </tr>\n",
       "  </tbody>\n",
       "</table>\n",
       "</div>"
      ],
      "text/plain": [
       "   tweet_id    event                                          full_text   \n",
       "0       101  Atheism  dear lord thank u for all of ur blessings forg...  \\\n",
       "1       102  Atheism  Blessed are the peacemakers, for they shall be...   \n",
       "2       103  Atheism  I am not conformed to this world. I am transfo...   \n",
       "3       104  Atheism  Salah should be prayed with #focus and #unders...   \n",
       "4       105  Atheism  And stay in your houses and do not display you...   \n",
       "\n",
       "     stance  \n",
       "0  disagree  \n",
       "1  disagree  \n",
       "2  disagree  \n",
       "3  disagree  \n",
       "4  disagree  "
      ]
     },
     "execution_count": 4,
     "metadata": {},
     "output_type": "execute_result"
    }
   ],
   "source": [
    "df.head()"
   ]
  },
  {
   "cell_type": "code",
   "execution_count": 5,
   "id": "b6ceb2cd-e7cc-4c58-aa8e-1b42f6f7e3ab",
   "metadata": {
    "tags": []
   },
   "outputs": [
    {
     "data": {
      "text/plain": [
       "(2814, 4)"
      ]
     },
     "execution_count": 5,
     "metadata": {},
     "output_type": "execute_result"
    }
   ],
   "source": [
    "df.shape"
   ]
  },
  {
   "cell_type": "markdown",
   "id": "a182cfb3-9a8d-4e44-8570-eb37c9a418a0",
   "metadata": {},
   "source": [
    "# 2. Connect to LLM\n",
    "- for standing up a smaller huggingface model\n",
    "```python\n",
    "llm = HuggingFacePipeline.from_model_id(model_id=\"declare-lab/flan-alpaca-gpt4-xl\", task = 'text2text-generation', device=0,\n",
    "                                      model_kwargs={\"max_length\":500, \"do_sample\":False})\n",
    "```\n",
    "- for a mid-sized, more modern, huggingface model. You can use accelerate and chance ``` device = \"auto\"``` to use multiple GPUs\n",
    "```python\n",
    "model = \"tiiuae/falcon-7b-instruct\"\n",
    "\n",
    "tokenizer = AutoTokenizer.from_pretrained(model)\n",
    "\n",
    "pipe = pipeline(\n",
    "    \"text-generation\",\n",
    "    model=model,\n",
    "    tokenizer=tokenizer,\n",
    "    torch_dtype=torch.bfloat16,\n",
    "    trust_remote_code=True,\n",
    "    device_map=0,\n",
    "    max_length=200,\n",
    "    do_sample=False,\n",
    "    num_return_sequences=1,\n",
    "    eos_token_id=tokenizer.eos_token_id,\n",
    "    pad_token_id=tokenizer.eos_token_id,\n",
    ")\n",
    "\n",
    "llm = HuggingFacePipeline(pipeline=pipe)\n",
    "```\n"
   ]
  },
  {
   "cell_type": "code",
   "execution_count": 6,
   "id": "3141e3aa-713e-4c03-8e8b-f461641a3621",
   "metadata": {
    "tags": []
   },
   "outputs": [],
   "source": [
    "# read in personal access token\n",
    "\n",
    "with open('personal_hugginface_token.txt', 'r') as file:  \n",
    "    token = file.read().strip()  "
   ]
  },
  {
   "cell_type": "code",
   "execution_count": 7,
   "id": "a845955d-162c-4531-a774-231a465372f6",
   "metadata": {
    "scrolled": true,
    "tags": []
   },
   "outputs": [
    {
     "data": {
      "application/vnd.jupyter.widget-view+json": {
       "model_id": "e91c0e0f43b4478997754fa4e9ddb6a1",
       "version_major": 2,
       "version_minor": 0
      },
      "text/plain": [
       "Loading checkpoint shards:   0%|          | 0/2 [00:00<?, ?it/s]"
      ]
     },
     "metadata": {},
     "output_type": "display_data"
    },
    {
     "name": "stderr",
     "output_type": "stream",
     "text": [
      "/usr/local/lib/python3.10/dist-packages/transformers/utils/hub.py:374: FutureWarning: The `use_auth_token` argument is deprecated and will be removed in v5 of Transformers.\n",
      "  warnings.warn(\n"
     ]
    }
   ],
   "source": [
    "model = \"meta-llama/Llama-2-7b-chat-hf\"\n",
    "\n",
    "tokenizer = AutoTokenizer.from_pretrained(model, token=token)\n",
    "\n",
    "pipe = pipeline(\n",
    "    \"text-generation\",\n",
    "    model=model,\n",
    "    tokenizer=tokenizer,\n",
    "    trust_remote_code=True,\n",
    "    token = token,\n",
    "    device_map=0,\n",
    "    max_length=1024,\n",
    "    eos_token_id=tokenizer.eos_token_id,\n",
    "    pad_token_id=tokenizer.eos_token_id,\n",
    "    repetition_penalty=2.0\n",
    ")\n",
    "\n",
    "llm = HuggingFacePipeline(pipeline=pipe)"
   ]
  },
  {
   "cell_type": "markdown",
   "id": "403fdd62-677d-467f-b0d6-ef232fc9ca70",
   "metadata": {},
   "source": [
    "look at a few examples"
   ]
  },
  {
   "cell_type": "code",
   "execution_count": 8,
   "id": "750d3b59-d13a-45ce-8f09-ee1680c395a8",
   "metadata": {
    "tags": []
   },
   "outputs": [
    {
     "data": {
      "text/plain": [
       "'Stances: For'"
      ]
     },
     "execution_count": 8,
     "metadata": {},
     "output_type": "execute_result"
    }
   ],
   "source": [
    "question = '''What is the stance of the following social media post given in quotes toward the U.S. Army? Give the stance as either for, against, or neutral. Only return the stance and no other text.\n",
    "\"@vondeveen If the Army wants to actually recruit people, maybe stop breaking people and actually prosecute sexual assualt #nomorewar.\"\n",
    "'''\n",
    "llm(question)"
   ]
  },
  {
   "cell_type": "code",
   "execution_count": 9,
   "id": "8539ac1f-1155-4e53-9837-2f311a898965",
   "metadata": {
    "tags": []
   },
   "outputs": [
    {
     "data": {
      "text/plain": [
       "'For'"
      ]
     },
     "execution_count": 9,
     "metadata": {},
     "output_type": "execute_result"
    }
   ],
   "source": [
    "question = '''What is the stance of the following social media post given in quotes toward the U.S. Army? Give the stance as either for, against, or neutral. Only return the stance and no other text.\n",
    "\"@artfulask I have never seen a pink-eared duck before. #Army\"\n",
    "'''\n",
    "llm(question)"
   ]
  },
  {
   "cell_type": "code",
   "execution_count": 10,
   "id": "283a5080-d9f4-4e95-81be-da898da57990",
   "metadata": {
    "tags": []
   },
   "outputs": [
    {
     "data": {
      "text/plain": [
       "'For'"
      ]
     },
     "execution_count": 10,
     "metadata": {},
     "output_type": "execute_result"
    }
   ],
   "source": [
    "question = '''What is the stance of the following social media post given in quotes toward the U.S. Army? Give the stance as either for, against, or neutral. Only return the stance and no other text.\n",
    "\"I think the @Army helped me become disciplined. I would have surely flunked out of college chasing tail if I didn't get some discipline there. #SFL\"\n",
    "'''\n",
    "llm(question)"
   ]
  },
  {
   "cell_type": "markdown",
   "id": "20c99f07-4c5d-49a7-bac9-36a3399c2927",
   "metadata": {},
   "source": [
    "# 3. Prompt Engineering for Stance Classification"
   ]
  },
  {
   "cell_type": "markdown",
   "id": "e692217e-d8cb-44c8-ab54-21c3c076d6ee",
   "metadata": {},
   "source": [
    "## 3(a). Task-only prompt"
   ]
  },
  {
   "cell_type": "code",
   "execution_count": 11,
   "id": "f5cefeed-4bcb-48a9-815f-7e02011e417a",
   "metadata": {
    "tags": []
   },
   "outputs": [],
   "source": [
    "# task-only prompt\n",
    "\n",
    "task_template = '''\n",
    "Classify the statement, \"{statement}\" as to whether it is for, against, or neutral. Only return the classification label for the statement, and no other text.\n",
    "'''\n",
    "\n",
    "task_prompt = PromptTemplate(\n",
    "    input_variables=[\"statement\"],\n",
    "    template=task_template\n",
    ")"
   ]
  },
  {
   "cell_type": "markdown",
   "id": "b0486f1e-b948-4cf8-921b-756139394b11",
   "metadata": {},
   "source": [
    "### Run an example"
   ]
  },
  {
   "cell_type": "code",
   "execution_count": 12,
   "id": "a23f26eb-0ade-4a4e-9a99-5f91c9075438",
   "metadata": {
    "tags": []
   },
   "outputs": [],
   "source": [
    "# Create a sample for all examples\n",
    "\n",
    "random_sample_df = df.sample(100)\n",
    "y_true = random_sample_df['stance'].tolist()"
   ]
  },
  {
   "cell_type": "code",
   "execution_count": 13,
   "id": "d5a3a1f4-aac6-48be-8364-6e190ed49366",
   "metadata": {
    "tags": []
   },
   "outputs": [
    {
     "name": "stderr",
     "output_type": "stream",
     "text": [
      "/usr/local/lib/python3.10/dist-packages/transformers/pipelines/base.py:1101: UserWarning: You seem to be using the pipelines sequentially on GPU. In order to maximize efficiency please use a dataset\n",
      "  warnings.warn(\n"
     ]
    }
   ],
   "source": [
    "llm_chain = LLMChain(prompt=task_prompt, llm=llm)\n",
    "\n",
    "results=[]\n",
    "for row in random_sample_df.iterrows():\n",
    "    results.append(llm_chain.run(event=row[1]['event'], statement=row[1]['full_text']))"
   ]
  },
  {
   "cell_type": "code",
   "execution_count": 15,
   "id": "24ab7da8-ae81-43f3-ac4a-b5bbbb8ba66d",
   "metadata": {
    "tags": []
   },
   "outputs": [
    {
     "data": {
      "text/plain": [
       "(array(['For', 'For - $Label = For$', 'For - F',\n",
       "        'For example if I were asked about this tweet,\"#WhyIDidntReport\", my response would be \"#Against\".',\n",
       "        'For example if I were classifying a different verse from Psalms you would have received something like this,\"The wicked shall be turned into hell.\" (for)',\n",
       "        'For example if I were given \"The sky has blue color.\" you would respond with simply \"- Blue\".',\n",
       "        'For: \"Can’tdoesntevenmanageherhusbandandshewantsnomorepower?#NoTo HillarryInTheWhitehouse🚫❌️\\u200d♀️ picstormsupport”',\n",
       "        'For: $# Article V$   Against$: $- SCotusCare-$ Neutral\":$- w tf-',\n",
       "        'For: $# Sem ST$', 'For: $#!&@*()_$%^&amp;**!!!!!',\n",
       "        \"For: $#!* Yeah!!!, Abortions are illegal but that don;ty stop people from getting them., The Supreme Court has spoken - they just can’ t keep redefining what a constitutional right means every time someone disagrees with their decision, I totally agree morality isn 'T about laws its personal beliefs. This country was founded on religious freedom so we should be able too practice our religion without fear of persecution...\",\n",
       "        \"For: $#!*%$@&^()_$$!!!'\\nAgainst : -1035482697\", 'For: $#$',\n",
       "        'For: $#%&*!@$^$$##!!!!! (3)', 'For: $#%&*()_$', 'For: $10',\n",
       "        'For: $@ UN Women$',\n",
       "        'For: $@ anthonymWeinersuperoutoftouchandstupidPleasegoaway#nycpridefoundationorg$',\n",
       "        'For: $@#!', 'For: $F$',\n",
       "        'For: $F$   Against : $\\\\neg F${Neutral:} ${N}$',\n",
       "        'For: $class = \"for\";', \"For: $class = 'for'\",\n",
       "        'For: $class = \\'for\\'$, Against\\':$ class=\\'againts\\', Neutral\":\\'$neutra',\n",
       "        \"For: $class = 'for';\", 'For: $class=\"for\">#Yes</span>',\n",
       "        'For: $class=\"for\">$', 'For: $class=\"for\">F</ class>',\n",
       "        \"For: $classification = 'for'\", 'For: $f$', 'For: $future_green$',\n",
       "        'For: $label = \"for\";', 'For: $label = \"for\"`',\n",
       "        \"For: $label = 'F'$$\", \"For: $label = 'F')$\",\n",
       "        \"For: $label = 'for'\",\n",
       "        \"For: $label = 'for'   Against :$Label='againat'. Neutral:$ Label=neutra\",\n",
       "        \"For: $label = 'for'$\", \"For: $label = 'for'$$\",\n",
       "        \"For: $label = 'for';\",\n",
       "        \"For: $label = 'for'; Against :$labels='againast; Neutral:$Labels=neutraul');\",\n",
       "        'For: $label = “F”$',\n",
       "        'For: $label = “F”$   Against : $\\\\text{“A}$)$ Neutral:$ \\\\mathbf{\\\\colorbox[HTML]{C0de94}N}$.',\n",
       "        'For: $label = “for”$', 'For: $label ==\"F\"`',\n",
       "        'For: @ Marymoretes Lov...it happenstoo# SemT', 'For: @ Sem ST',\n",
       "        'For: @johnfugsagellegalinIsrael', 'For: For',\n",
       "        'For: The author encourages continuing even when things are difficult in order not only benefit oneself but also help others who may be struggling similar issues like racism/sexual oppression etc..',\n",
       "        'For: The author of this tweet believes that feminists are pretending there\\'s equality between men & women when really they just want special treatment based on gender alone (i..e., \\'fake\\'). They also use color-coding - here represented by a pastel shade called ‘pinking’ ––to reinforce their point about how absurdly obvious these differences truly exist.\"]',\n",
       "        'For: The mentioning that Spanish civil war published books on food shows how much less educated woman were in comparison with men during this time period',\n",
       "        \"For: The speaker agrees that feminists should be honest in their arguments while simultaneously implying they are not being entirely forthcoming about certain issues related Gender politics within gaming culture (#gamegater). This could also suggest a desire on part of listener(s) hear more perspectives from those who identify themselves under this umbrella term 'feminist' without necessarily accepting all points raised by said individuals\",\n",
       "        \"For: The tweet expresses frustration with an group (MRA) that has been associated in negative ways before by using a historical event known primarily through association withe tragedy/failure(Hinderberg). This implies disapproval towards Mra's actions\",\n",
       "        'For: The use fthe hashtags \"#HLyinClinton\", \"$LiarsTale$, $FakeNews$,and \\'BullShit\\' suggest that thestatementis aginst Hilllry Clintionn.\" Against : Thesetting oofthedate before aboliday weekeind suggeests tbat theestatement iabout wht will be released from either te White Houseor State Department on Friday\". Neutral:: Noneofthe above haas tags are used int he statemnet provided',\n",
       "        \"For: The use of language like 'All-Powerfull' suggests a belief in supernatural power beyond human control; also referencing an unnamed deity (using capitalization) implies that this being has agency over events on earth - both are indicative oof religious faith which aligns with For category\",\n",
       "        'For: The user has expressed support/agreement with BC continuing its burning state because of their belief that something needs... See Moreer action from people in response (either by acknowledging how serious things are getting).',\n",
       "        'For: The user has expressed support/approval towards Ted Cruz\\'s appearance in an interview with Today show by using positive language suchas \"Great Job\".',\n",
       "        'For: The user mentions religion (\"#I pray\") which can be considered a personal belief system therefore classified under For category',\n",
       "        \"For: The user supports Barrack Obamas views on love & nonviolence; Against :The users disagrees with barrcks obma's viewson loves amp Non-Violencaece Of All No To Viollance And Terrorisn Sem St.Neutral,the uset does not have a clear opinion about this issue\",\n",
       "        'I would class this message under \"For\".',\n",
       "        'I would class this tweet under: FOR', 'My answer: Against',\n",
       "        'Neutral',\n",
       "        'Your answer should be one of: FOR (F), AGAINST(A) OR NEUTRAL(-).',\n",
       "        'classification = \"for\")', 'classification = \"for\"}',\n",
       "        'classification: Against', 'classification: FOR',\n",
       "        'classification: For'], dtype='<U443'),\n",
       " array([ 7,  1,  2,  1,  1,  1,  1,  1,  1,  1,  1,  1,  1,  1,  1,  1,  1,\n",
       "         1,  1, 10,  1,  3,  2,  1,  1,  1,  1,  1,  2,  1,  1,  1,  2,  1,\n",
       "         1,  2,  1,  1,  1,  3,  1,  1,  1,  2,  1,  1,  1,  1,  1,  1,  1,\n",
       "         1,  1,  1,  1,  1,  1,  1,  1,  1,  1,  1,  1,  1,  1,  1,  1,  1,\n",
       "         6,  1]))"
      ]
     },
     "execution_count": 15,
     "metadata": {},
     "output_type": "execute_result"
    }
   ],
   "source": [
    "np.unique(results, return_counts=True)"
   ]
  },
  {
   "cell_type": "code",
   "execution_count": 16,
   "id": "9e436eb7-c2f2-41cd-b484-cc9160c4b1f5",
   "metadata": {
    "tags": []
   },
   "outputs": [
    {
     "name": "stdout",
     "output_type": "stream",
     "text": [
      "              precision    recall  f1-score   support\n",
      "\n",
      "       agree       0.26      0.93      0.40        27\n",
      "    disagree       0.00      0.00      0.00        47\n",
      "     neutral       0.00      0.00      0.00        26\n",
      "\n",
      "    accuracy                           0.25       100\n",
      "   macro avg       0.09      0.31      0.13       100\n",
      "weighted avg       0.07      0.25      0.11       100\n",
      "\n"
     ]
    }
   ],
   "source": [
    "# converting to given labels for comparison\n",
    "\n",
    "y_true = [str.lower(i) for i in y_true]\n",
    "y_pred = []  \n",
    "  \n",
    "for word in results:  \n",
    "    lower_word = word.lower()  \n",
    "    if 'for' in lower_word:  \n",
    "        y_pred.append('agree')  \n",
    "    elif 'against' in lower_word or 'denies' in lower_word:  \n",
    "        y_pred.append('disagree')  \n",
    "    elif 'neutral' in lower_word:  \n",
    "        y_pred.append('neutral')  \n",
    "    else:  \n",
    "        y_pred.append('neutral')\n",
    "\n",
    "# generating the classification report\n",
    "report = classification_report(y_true, y_pred)\n",
    "\n",
    "print(report)"
   ]
  },
  {
   "cell_type": "markdown",
   "id": "477aed9a-deec-40f1-85a3-fda877fb86c3",
   "metadata": {},
   "source": [
    "### Run on all Data"
   ]
  },
  {
   "cell_type": "code",
   "execution_count": 15,
   "id": "2a3aa074-0261-4e3d-a57c-7313d9679bc4",
   "metadata": {
    "tags": []
   },
   "outputs": [
    {
     "name": "stderr",
     "output_type": "stream",
     "text": [
      "0it [00:00, ?it/s]/usr/local/lib/python3.10/dist-packages/transformers/pipelines/base.py:1101: UserWarning: You seem to be using the pipelines sequentially on GPU. In order to maximize efficiency please use a dataset\n",
      "  warnings.warn(\n",
      "2814it [34:45,  1.35it/s]\n"
     ]
    }
   ],
   "source": [
    "# Running across the whole dataset\n",
    "\n",
    "results = []\n",
    "for index, row in tqdm(df.iterrows()):\n",
    "    results.append(llm_chain.run(event=row['event'], statement=row['full_text']))"
   ]
  },
  {
   "cell_type": "code",
   "execution_count": null,
   "id": "63130b8a-c103-4df4-bb91-9d70213947fe",
   "metadata": {
    "tags": []
   },
   "outputs": [],
   "source": [
    "np.unique(results, return_counts=True)"
   ]
  },
  {
   "cell_type": "code",
   "execution_count": 17,
   "id": "c4cf24d7-ca26-4735-9a57-9cf826e0a286",
   "metadata": {
    "tags": []
   },
   "outputs": [],
   "source": [
    "y_pred = []  \n",
    "  \n",
    "for word in results:  \n",
    "    lower_word = word.lower()  \n",
    "    if 'for' in lower_word:  \n",
    "        y_pred.append('agree')  \n",
    "    elif 'against' in lower_word or 'denies' in lower_word:  \n",
    "        y_pred.append('disagree')  \n",
    "    elif 'neutral' in lower_word:  \n",
    "        y_pred.append('neutral')  \n",
    "    else:  \n",
    "        y_pred.append('neutral')\n",
    "        \n",
    "df['task_preds'] = y_pred"
   ]
  },
  {
   "cell_type": "code",
   "execution_count": null,
   "id": "e334043f-4a5f-4a40-813f-0021570ae054",
   "metadata": {
    "tags": []
   },
   "outputs": [],
   "source": [
    "np.unique(df['task_preds'], return_counts=True)"
   ]
  },
  {
   "cell_type": "code",
   "execution_count": null,
   "id": "906f54ca-301b-442e-9c0e-776598a98063",
   "metadata": {
    "tags": []
   },
   "outputs": [],
   "source": [
    "report = classification_report(df['stance'], df['task_preds'])\n",
    "\n",
    "print(report)"
   ]
  },
  {
   "cell_type": "markdown",
   "id": "753eac3e-fba1-4615-bc84-6b576814fd28",
   "metadata": {
    "tags": []
   },
   "source": [
    "## 3(b). Context prompt"
   ]
  },
  {
   "cell_type": "code",
   "execution_count": 17,
   "id": "f23b18b6-82f8-4498-b9e1-5dbfb4662996",
   "metadata": {
    "tags": []
   },
   "outputs": [],
   "source": [
    "# context prompt\n",
    "\n",
    "context_template = '''\n",
    "The statement, \"{statement}\" is a social media post expressing an opinion about an entity. Classify the statement in quotes as to whether it is for, against, or neutral toward the entity, \"{event}\". Only return the classification label for the statement in quotes toward the entity in quotes, and no other text.\n",
    "'''\n",
    "\n",
    "context_prompt = PromptTemplate(\n",
    "    input_variables=[\"event\",\"statement\"],\n",
    "    template=context_template\n",
    ")"
   ]
  },
  {
   "cell_type": "markdown",
   "id": "b76cda91-c949-4268-bfc8-39d3999eef46",
   "metadata": {},
   "source": [
    "### Run an example"
   ]
  },
  {
   "cell_type": "code",
   "execution_count": 18,
   "id": "70668cf6-2cb0-45bf-a14b-0541630a819c",
   "metadata": {
    "tags": []
   },
   "outputs": [
    {
     "name": "stderr",
     "output_type": "stream",
     "text": [
      "/usr/local/lib/python3.10/dist-packages/transformers/pipelines/base.py:1101: UserWarning: You seem to be using the pipelines sequentially on GPU. In order to maximize efficiency please use a dataset\n",
      "  warnings.warn(\n"
     ]
    }
   ],
   "source": [
    "llm_chain = LLMChain(prompt=context_prompt, llm=llm)\n",
    "\n",
    "results=[]\n",
    "for row in random_sample_df.iterrows():\n",
    "    results.append(llm_chain.run(event=row[1]['event'], statement=row[1]['full_text']))"
   ]
  },
  {
   "cell_type": "code",
   "execution_count": 19,
   "id": "4afff5e9-994e-4a30-a3c0-ca0c555e0206",
   "metadata": {
    "tags": []
   },
   "outputs": [
    {
     "data": {
      "text/plain": [
       "(array(['1.\"Hotler In OR than CA Right Now!\"#SEM ST - FOR Climate change concern',\n",
       "        '@ AlySSmithhh:There She Is Pantsuit HIlllY To HiDDe ThoSE THIGHS#HILLARYSDO NORS...',\n",
       "        '@ ArkBuiler32: We May Disagreebut i Love YA Man!I Don’T Want Hard Feelings# Semst',\n",
       "        '@ Temp...: For',\n",
       "        '@BrandiLeeHHHh Its Called Sexual Coersion And It Is The Same As RAPE!#RAPeCULTURE!!!semst',\n",
       "        '@Classification: Against',\n",
       "        '@Kate write ninety-five said one third Of My Generation Is MissinG.And It Can’T Be Changed but We CAN Change The Future Pro Life Youth Sem ST.\" For LegelizAtioN oF ABoRtiOn',\n",
       "        '@Un- Climate change IS A REAL CONERN',\n",
       "        '@classification Label: Against',\n",
       "        '@realDonaldTrump Before We Can Defeat Isis...We Must First Defund Planned Parenthood!#MakeAmericaGreagAgain',\n",
       "        'Classification Label : For', 'Classification Label: Against',\n",
       "        'Classification: (against)', 'Classification: Against',\n",
       "        'Classification: FOR', 'Classification: For',\n",
       "        'Classification: [against]',\n",
       "        'For - A atheist organization has been accused of promoting hate speech towards religious groups through their rhetoric on Twitter... (#atheimpact) Against',\n",
       "        'For - F', 'For - F   Against- A    Neutral N',\n",
       "        'For - F   Against- A Neutral N',\n",
       "        'For - F (1) Against- A (-2 Neutral N(3))',\n",
       "        'For - F (either explicitly stated directly)',\n",
       "        'For - Feminism movement', 'For - LegALizAtioNofAbOrTiOn',\n",
       "        'For - The author advocates showing patience towards people without beliefs (atheists).',\n",
       "        'For - The person agrees with something Hilllry has said/done regarding genetically modified organisms (Gmo) Crops',\n",
       "        \"For - The person believes ATHEISM has something positive associated with its existence (either directly stated within their commentary of indirectly implied). For example they may say; 'God', but also imply atheist people are free thinkers who reject blind faith which align themselves more closely towards reasoned logic/evidence based reasoning etc... This would classified under FOR AT HE IS M mentioned above!\",\n",
       "        'For = F   Against= A Neutral N',\n",
       "        'For example if someone says,\"#IStandWithPlannedParenthood\", that would be classified under For because they are showing support towards Planning Parent Hood organization. If some one say, \\'#Trump20 twenty\\',that will b eclassifed Under Against since thay r opposng Donald Trump presidential campaign',\n",
       "        'For example: If someone posts \"#IStandWithPlannedParenthood\", then their sentiment towards Planning ParentHood would classifiedas For.\"',\n",
       "        'For:  💖', 'For: @ f ing il gun',\n",
       "        'For: @ ny times This Will Cost Them The Election# Semst - Hillay Clinto',\n",
       "        'For: @hillclimtin',\n",
       "        'For: BC fires are caused by climate change; we need action now!',\n",
       "        'For: Female Journalism', 'For: Feminism',\n",
       "        'For: Feminists In gaming', 'For: Femint movement',\n",
       "        'For: Feminty movement - F', 'For: LegalisaitionOfAboriton',\n",
       "        'For: LegeliztionofAborsin', 'For: N/A (Not applicable)',\n",
       "        'For: N/A (not applicable)', 'For: None', 'For: Survival',\n",
       "        \"For: The author believes that abortions should be legalized because they believe this will save lives by allowing women control over their own bodies instead relying solely upon men's decisions regarding pregnancy termination; furthermore these individuals may also argue such laws would reduce maternal mortality rates worldwide due too unsafe methods currently being used underground where doctors cannot perform them safely nor legally without riskin gtheir professional licenses (or worse).\",\n",
       "        'For: The statements are classified under For HillleryClintion because they contain positive sentiment towards her candidate by using words suchas Liarliat SemT.',\n",
       "        'For: [ ]', 'For: [ ] Against : [] Neutral[:]]',\n",
       "        'For: _______________', 'For: feminists', 'For: none',\n",
       "        'Foreword: In order not confuse anyone with unnecessary information on how atheists are related (or unrelated) from feminist movements; I will make sure that my responses only concern themselves directly towards ATHEISM ONLY! So please bear me witness of such focus throughout these classifications below🙏✍️..',\n",
       "        'Please classified this according ATHEISM: For | Against| Neutral',\n",
       "        'Please note that I am just providing information based on your request; this may not be accurate according my personal beliefs/opinions nor any external sources of data'],\n",
       "       dtype='<U494'),\n",
       " array([ 1,  1,  1,  1,  1,  1,  1,  1,  1,  1,  1,  3,  1,  9,  1,  2,  2,\n",
       "         1,  6,  1,  2,  1,  1,  1,  1,  1,  1,  1,  1,  1,  1,  1,  1,  1,\n",
       "         1,  1,  1,  1,  1,  1,  1,  1,  1,  2,  1, 11,  1,  1,  1,  3,  1,\n",
       "         1,  1, 13,  1,  1,  1]))"
      ]
     },
     "execution_count": 19,
     "metadata": {},
     "output_type": "execute_result"
    }
   ],
   "source": [
    "np.unique(results, return_counts=True)"
   ]
  },
  {
   "cell_type": "code",
   "execution_count": 20,
   "id": "88aefc12-a867-4975-9340-46ec79d49122",
   "metadata": {
    "tags": []
   },
   "outputs": [
    {
     "name": "stdout",
     "output_type": "stream",
     "text": [
      "              precision    recall  f1-score   support\n",
      "\n",
      "       agree       0.29      0.85      0.43        27\n",
      "    disagree       0.53      0.19      0.28        47\n",
      "     neutral       0.50      0.08      0.13        26\n",
      "\n",
      "    accuracy                           0.34       100\n",
      "   macro avg       0.44      0.37      0.28       100\n",
      "weighted avg       0.46      0.34      0.28       100\n",
      "\n"
     ]
    }
   ],
   "source": [
    "# converting to given labels for comparison\n",
    "\n",
    "y_true = [str.lower(i) for i in y_true]\n",
    "y_pred = []  \n",
    "  \n",
    "for word in results:  \n",
    "    lower_word = word.lower()  \n",
    "    if 'for' in lower_word:  \n",
    "        y_pred.append('agree')  \n",
    "    elif 'against' in lower_word:  \n",
    "        y_pred.append('disagree')  \n",
    "    elif 'neutral' in lower_word:  \n",
    "        y_pred.append('neutral')  \n",
    "    else:  \n",
    "        y_pred.append('neutral')\n",
    "\n",
    "# generating the classification report  \n",
    "report = classification_report(y_true, y_pred)  \n",
    "  \n",
    "print(report)  "
   ]
  },
  {
   "cell_type": "markdown",
   "id": "d122fe57-c6a0-4f9f-88f2-ab3b033d4969",
   "metadata": {},
   "source": [
    "### Run on all Data"
   ]
  },
  {
   "cell_type": "code",
   "execution_count": 23,
   "id": "20dbad2c-32b1-4d2d-a7be-ed3833768633",
   "metadata": {
    "tags": []
   },
   "outputs": [
    {
     "name": "stderr",
     "output_type": "stream",
     "text": [
      "0it [00:00, ?it/s]/usr/local/lib/python3.10/dist-packages/transformers/pipelines/base.py:1101: UserWarning: You seem to be using the pipelines sequentially on GPU. In order to maximize efficiency please use a dataset\n",
      "  warnings.warn(\n",
      "2814it [32:05,  1.46it/s]\n"
     ]
    }
   ],
   "source": [
    "# Running across the whole dataset\n",
    "\n",
    "results = []\n",
    "for index, row in tqdm(df.iterrows()):\n",
    "    results.append(llm_chain.run(event=row['event'], statement=row['full_text']))"
   ]
  },
  {
   "cell_type": "code",
   "execution_count": null,
   "id": "cf183a8f-03b9-4145-8b8b-bd004fc88006",
   "metadata": {
    "tags": []
   },
   "outputs": [],
   "source": [
    "np.unique(results, return_counts=True)"
   ]
  },
  {
   "cell_type": "code",
   "execution_count": 25,
   "id": "0da70805-b9b7-4840-9dbb-a31897733630",
   "metadata": {
    "tags": []
   },
   "outputs": [],
   "source": [
    "y_pred = []  \n",
    "  \n",
    "for word in results:  \n",
    "    lower_word = word.lower()  \n",
    "    if 'for' in lower_word:  \n",
    "        y_pred.append('agree')  \n",
    "    elif 'against' in lower_word:  \n",
    "        y_pred.append('disagree')  \n",
    "    elif 'neutral' in lower_word:  \n",
    "        y_pred.append('neutral')  \n",
    "    else:  \n",
    "        y_pred.append('neutral')\n",
    "        \n",
    "df['context_preds'] = y_pred"
   ]
  },
  {
   "cell_type": "code",
   "execution_count": null,
   "id": "4a9b196d-2158-40eb-9adb-84c62c5dcd53",
   "metadata": {
    "tags": []
   },
   "outputs": [],
   "source": [
    "np.unique(df['context_preds'], return_counts=True)"
   ]
  },
  {
   "cell_type": "code",
   "execution_count": null,
   "id": "e999ba12-0fa0-4204-bb0a-84376a5ab041",
   "metadata": {
    "tags": []
   },
   "outputs": [],
   "source": [
    "report = classification_report(df['stance'], df['context_preds'])\n",
    "\n",
    "print(report)"
   ]
  },
  {
   "cell_type": "markdown",
   "id": "f4a8755d-d895-49b1-bc13-1965215392fd",
   "metadata": {
    "tags": []
   },
   "source": [
    "## 3(c). Context + FSP"
   ]
  },
  {
   "cell_type": "code",
   "execution_count": 21,
   "id": "0407c388-7977-443d-beba-03c0faa2ab64",
   "metadata": {
    "tags": []
   },
   "outputs": [],
   "source": [
    "# Create an example template\n",
    "\n",
    "example_template = '''\n",
    "entity: {entity}\n",
    "statement: {statement}\n",
    "stance: {stance}\n",
    "'''\n",
    "\n",
    "example_prompt = PromptTemplate(\n",
    "    input_variables=[\"entity\",\"statement\", \"stance\"],\n",
    "    template=example_template\n",
    ")"
   ]
  },
  {
   "cell_type": "code",
   "execution_count": 22,
   "id": "1cfae949-c846-4f0f-b31a-f84d30e54be9",
   "metadata": {
    "tags": []
   },
   "outputs": [],
   "source": [
    "# Give some examples\n",
    "\n",
    "examples = [\n",
    "    {'entity': \"Atheism\",\n",
    "     'statement':\"Leaving Christianity enables you to love the people you once rejected. #freethinker #Christianity #SemST\",\n",
    "     'stance': 'for'},\n",
    "    {'entity': \"Climate Change is a Real Concern\",\n",
    "     'statement':\"@AlharbiF I'll bomb anything I can get my hands on, especially if THEY aren't christian. #graham2016 #GOP #SemST\",\n",
    "     'stance': 'neutral'},\n",
    "    {'entity': \"Feminist Movement\",\n",
    "     'statement':\"Always a delight to see chest-drumming alpha males hiss and scuttle backwards up the wall when a feminist enters the room. #manly #SemST\",\n",
    "     'stance': 'for'},\n",
    "    {'entity': \"Hillary Clinton\",\n",
    "     'statement':\"Would you wanna be in a long term relationship with some bitch that hides her emails, & lies to your face? Then #Dontvote #SemST\",\n",
    "     'stance': 'against'},\n",
    "    {'entity': \"Legalization of Abortion\",\n",
    "     'statement':\"@k_yoder That lady needs help, mental illness is a serious issue. #SemST\",\n",
    "     'stance': 'neutral'},\n",
    "]"
   ]
  },
  {
   "cell_type": "code",
   "execution_count": 23,
   "id": "6ec3f4a3-be9d-46df-bed7-8b2afa937000",
   "metadata": {
    "tags": []
   },
   "outputs": [],
   "source": [
    "prefix = \"\"\"\n",
    "The following statements are social media posts expressing opinions about an entities. Each statement can either be for, against, or neutral toward their associated entity.\n",
    "\"\"\"\n",
    "\n",
    "suffix = '''\n",
    "Now, classify the following statement toward the following entity. Only return the stance classification of the statement toward the entity and no other text.\n",
    "\n",
    "entity: {event}\n",
    "statement: {statement}\n",
    "stance:\n",
    "'''\n",
    "\n",
    "few_shot_prompt = FewShotPromptTemplate(\n",
    "    examples=examples,\n",
    "    example_prompt=example_prompt,\n",
    "    prefix=prefix,\n",
    "    suffix=suffix,\n",
    "    input_variables=[\"event\", \"statement\"],\n",
    "    example_separator=\"\\n\"\n",
    ")"
   ]
  },
  {
   "cell_type": "markdown",
   "id": "fc6c9f10-3438-446e-9812-f4d1a1e70c1b",
   "metadata": {},
   "source": [
    "### Run an example"
   ]
  },
  {
   "cell_type": "code",
   "execution_count": 24,
   "id": "14e63860-b15e-4b0f-89be-16ef75f83c3e",
   "metadata": {
    "tags": []
   },
   "outputs": [
    {
     "name": "stderr",
     "output_type": "stream",
     "text": [
      "/usr/local/lib/python3.10/dist-packages/transformers/pipelines/base.py:1101: UserWarning: You seem to be using the pipelines sequentially on GPU. In order to maximize efficiency please use a dataset\n",
      "  warnings.warn(\n"
     ]
    }
   ],
   "source": [
    "llm_chain = LLMChain(prompt=few_shot_prompt, llm=llm)\n",
    "\n",
    "results=[]\n",
    "for row in random_sample_df.iterrows():\n",
    "    results.append(llm_chain.run(event=row[1]['event'], statement=row[1]['full_text']))"
   ]
  },
  {
   "cell_type": "code",
   "execution_count": 25,
   "id": "61b46c3a-f337-4219-ade2-9519b42a6b24",
   "metadata": {
    "tags": []
   },
   "outputs": [
    {
     "data": {
      "text/plain": [
       "(array(['', ' Entity\\tStances', '( ) Againts (X) Neutral',\n",
       "        '(Note - Please do not provide any additional information beyond what has been provided)',\n",
       "        '(Note - Please provide only one answer per question)',\n",
       "        '(Note - Please select one option from \\'for\\', \"again\",or \\'\\'neutral\\'\\' based solely upon thesetext)',\n",
       "        \"(Note - Please select one option from 'for', ''again'',or `'neutral'` based soleLY ON The given statment)\",\n",
       "        \"(Note - Please select only one option from 'for', ''aginst''or '''neutral''' based soleatelyon thesubmitted statment)\",\n",
       "        '(Note - You may assume all users have basic knowledge regarding these topics)',\n",
       "        '(Note - You may enter multiple values separated by commas)',\n",
       "        '(Note - please select only one option from \\'for\\', \"against\",or\"neutral\".)',\n",
       "        '(Note down only \"for\", \"against\" etc.)',\n",
       "        '(Note down only \\'for\\', \"against\",or “neutral\" as answer)',\n",
       "        '(Note down only \\'for\\', \"againts\",or\"neutral\")',\n",
       "        '(Note down only \\'for\\', Againts\", Neutral\" based oon he given statemnt)',\n",
       "        '(Note from instructor) Please do not provide any additional information beyond what was provided as it may influence student responses.)',\n",
       "        '(Note from instructors) If there were any errors made by students during this exercise (either typing mistakes while inputting responses into Canvas quiz/survey tool), please disregard those answers as they will not affect gradings.)',\n",
       "        '(Note) The above answer will only include \"for\", Neutral\"or Againstalongwith its corresponding letter (For - F,Neural N etc.)',\n",
       "        '(Note) The above code snippet only includes four outlets/students as examples; there will likely more than this number based upon student participation.)',\n",
       "        '(Please select one option from \"for\", \"-againstalwaysneutralabout\")',\n",
       "        '(Please select one option from \\'for\\', \"against\",or\"neutral\")',\n",
       "        '(Please select one option from \\'for\\', \\'\\'again\\'\\'neutral,\\'or \" Again\\')',\n",
       "        '(a) For',\n",
       "        '(please select one from \"for\", \"-againstalldesignated entitiesshow more',\n",
       "        \"(please select one from 'for', ''againstoNeutral')\",\n",
       "        '(please select one option from above)',\n",
       "        '(please select one option from below)', '...',\n",
       "        'Entity ---------------------------- Stance Classifiation',\n",
       "        'Please answer as follows (either \"for\", Neutral\",or Againaints)',\n",
       "        'Please select one from \"for\", \"-neutral-,againstalways\"',\n",
       "        \"Please select one from 'for', ''againast''or `'neutral'`\",\n",
       "        'Please select one option from below based soleately upon t he given statment :foragainstalwaysneutralnever',\n",
       "        'Please select one option from this list based only upon how it relates directly back into society as we know today (not what may happen tomorrow). For example; would someone who supports gay marriage also support equal rights regardless they identify themselves under LGBTQ+ umbrella etc., same goes true vice versa - those opposed will likely show similar patterns across multiple topics',\n",
       "        'Please select one option from this list based onlyon thesubmitted statemntent below',\n",
       "        'Please select one option from this list based soleately upon what appears below \"Stnace:\"',\n",
       "        'Please select one option from this list based soleately upon what has been provided as input data (i..e., only consider information given within each tweet):',\n",
       "        'Please select one option from this list based solely upon what appears directly after each listed item (i through v) :',\n",
       "        'Please select one option from this list based solely upon what was provided (no additional context):',\n",
       "        'What does this tell us? It tells use there could possibly exist multiple perspectives towards one topic even among those who share similar belief systems. Additionally, it highlight s how language usage may influence our understanding o f certain issues depending upon individual experiences& values',\n",
       "        'What would YOU do next...',\n",
       "        'What would YOU like me too do next...',\n",
       "        'What would YOU like me too do next?', ']]', '```',\n",
       "        '```markdownlintonscript` towards `feminst movement`: Neutral',\n",
       "        '```scsslanguage\"neutral\"```',\n",
       "        '```scsslanguage=cssodorpgeneratoroutputtitle=\"Classification\" value=`neutral`classname=[A athe ist]()`',\n",
       "        '```scsslanguage=markdown//noerrorsmoothscrollspynoautoscrollbarsuppresspopupsreadabilityremovesansseriftypographycontextualtransitionsbelovedreaderfeelingsmattermosthappypatheticnarrativereaderexperiencequalitycontentconversationaljourneyexcellencebeingtogetherunforgettablefutureimaginationembraceunityandrespectunderstandingempathysupportiveenvironmentopennesstolistenpeacefulresolutioncreatingpositivetensionpointstrustbuildingculturalawarenesselectiondayvotingrightshighereducationworldissuesimpactinfluencerssocialjusticehumanconditionknowledgerightsvaluesinstitutionskepticismscientificmethodologyobjectivitytruthrealitychecksdynamicsoflifeinterconnectedwisdomcollectivediscoursenormalizedthinkingcritical thinkingrhetoricargumentsdebatesconstructivelinearreasonablediscourseexploringideasjudginginformationevaluationsubjectivenumberousperspectivevaluediversitypluralsolutionscooperationcollaborativepartnershipproblemsolvingteamworkconflictmanagementhealthymindsetpracticedialogueopenmindedskepticsensibleconsiderateawareactivecareseekfirsthandinfoquestioneverythingchallengeassumptionsavoiddogmatictakeaparticipanthavefunlearnmoreaboutthis! //endoftext`',\n",
       "        \"```scsslanguage=sql\\nSELECT 'for'; -- Your query returns nothing because there isn’t any information provided regarding how this particular post relates (or doesn` t relate) towards supporting/opposing movements like these; therefore we cannot determine what kind o f response would best suit them without additional contextual details given by those who created such content online!\",\n",
       "        '```scsslanguagecharsyntaxhighlightercolortext`againstalwaysforneutralsemstermseminaryschoolthoughtpolicymillennialsmiddleeastmuslimprophecyreligionscienceeducationworldissuesopiniopoliticsunitedstatesofamericausaupdatedoctechnologysocialjusticeculturewarstraditionvaluesjudgmentdayglobalwarmingsummervacationsummertimeholidaysnationalanthemsongspoetrypoetsnovelsauthorshorrorfictionmysterydetectiveliteraturebookreviewsbooksreadingamwritingcreativewrittenwordsindependentpublishingeconomypoliticalcampaigndonaldtrumpnewagepoliticianshillclimategenderpaygapgender equalitymarriageequalityintersectionalityqueeringraceclasswhiteprivilegeblackliesexualitieselfcarejournalsupportgroupspeakoutmovementspsychologicaltherapygrieflossmentoringteachingmeditationmindfulnesstraumaconsciousraisingawarenessselfcareservicesanctuariumsafetyplanningpreparingenviroonmentsustenabilitygreenenergyrenewableenergieconservationenvironmentprotectionbiodiversityecosystemservicespeciesendangeredsurvivallifefirst nationsindigenous peolpleshumanrightshealthylivingfoodsecuritywaterqualityairpurificationnoiselevelsovereiguestionpublicpolicylawlegislativetaxfundamental rightsminimum standardsworkplace harassmentequal paymaternal leavemediumtermdisabilitiestransformationadoptionsex educationaccessibilityaffordablesafehavenrefugeehumanitariancecooperationconflictresolutionsmediatorsfacilitationsettlementnegotiatorparticipantsempowermentvoicedisabledpersonallyresponsiblecommunityengagementmutuallybenificiatereceiveappreciateseekhelpseeksunderstandinglistenssharelistenactivelyexistentiallysupportivesubjectivityobjectivenessattitudesvaluessocietalbelieffearlesshopecarefullyreactsensiblyrespondintelligentlyreflectcriticallyevaluateanalytictradeoffsacknowledgetruecostvalueworthinessmoralfound valueequitabledistributionwealthpowerknowledgeinfluenceresponsibilitieschoosingoptionsmakingdecisiomentertainselvesothermindsopencommunicatingactive listeningdeep breathingoathentional awareneutricultural sensitivityintegrated thinkingpositive impactsocioculturalactionscommitteeblack lives matterbluelineactivistswhitenormalizingablenormativityperformancerock bottomrulebreakthroughinnovatespectaclebrightspotlightprotestriotwoidentitydevelopmentproudparentskidsyoungpeoplecollegeuniversidadiscoverydreamjobprofessionallevelplayfieldscholarshipstudentloandinternshipscorporaterolemodelsresearchpaperpresentaitonalumnireadingwriteblogpostsummitseriespodcastshortfilmdocumentarieseriesTVshowseriestoriescolumnmagazinearticleopedreviewmovieclippingsongsportrayallacademicyearsportsclubsoftballbaseballdancingvol',\n",
       "        'a) Forb', 'again', 'againstal', 'againstalways',\n",
       "        'againstalways choose one from \\'for\\', \\'\\'neutral\\'\\'or \"Againt\"',\n",
       "        'againstalwaysuseclassification', 'againstan',\n",
       "        'entities listed above have been randomly assigned as examples; please disregard any actual connections between them',\n",
       "        'entities may have multiple postings but each posting should only contain one entry per line',\n",
       "        'for', 'neutral', 'what', '}'], dtype='<U2585'),\n",
       " array([ 1,  1,  2,  1,  1,  1,  1,  1,  1,  1,  1,  1,  1,  1,  1,  1,  1,\n",
       "         1,  1,  1,  1,  1,  2,  1,  1,  1,  1,  2,  1,  1,  1,  1,  1,  1,\n",
       "         1,  1,  1,  1,  1,  1,  1,  1,  1,  1, 12,  1,  1,  1,  1,  1,  1,\n",
       "         1,  1,  6,  2,  1,  1,  3,  1,  1,  9,  7,  1,  1]))"
      ]
     },
     "execution_count": 25,
     "metadata": {},
     "output_type": "execute_result"
    }
   ],
   "source": [
    "np.unique(results, return_counts=True)"
   ]
  },
  {
   "cell_type": "code",
   "execution_count": 26,
   "id": "48e8de6c-a692-4a13-a94a-a94ce0404006",
   "metadata": {
    "tags": []
   },
   "outputs": [
    {
     "name": "stdout",
     "output_type": "stream",
     "text": [
      "              precision    recall  f1-score   support\n",
      "\n",
      "       agree       0.29      0.41      0.34        27\n",
      "    disagree       0.75      0.19      0.31        47\n",
      "     neutral       0.28      0.54      0.37        26\n",
      "\n",
      "    accuracy                           0.34       100\n",
      "   macro avg       0.44      0.38      0.34       100\n",
      "weighted avg       0.50      0.34      0.33       100\n",
      "\n"
     ]
    }
   ],
   "source": [
    "# converting to given labels for comparison\n",
    "\n",
    "y_true = [str.lower(i) for i in y_true]\n",
    "y_pred = []  \n",
    "  \n",
    "for word in results:  \n",
    "    lower_word = word.lower()  \n",
    "    if 'for' in lower_word:  \n",
    "        y_pred.append('agree')  \n",
    "    elif 'against' in lower_word:  \n",
    "        y_pred.append('disagree')  \n",
    "    elif 'neutral' in lower_word:  \n",
    "        y_pred.append('neutral')  \n",
    "    else:  \n",
    "        y_pred.append('neutral')\n",
    "\n",
    "# generating the classification report  \n",
    "report = classification_report(y_true, y_pred)  \n",
    "  \n",
    "print(report)  "
   ]
  },
  {
   "cell_type": "markdown",
   "id": "0622d58d-9df3-4a17-8d22-244df05436de",
   "metadata": {},
   "source": [
    "### Run on all Data"
   ]
  },
  {
   "cell_type": "code",
   "execution_count": 33,
   "id": "bc5169c2-4b07-4237-baf3-af889bdf11e7",
   "metadata": {
    "tags": []
   },
   "outputs": [
    {
     "name": "stderr",
     "output_type": "stream",
     "text": [
      "0it [00:00, ?it/s]/usr/local/lib/python3.10/dist-packages/transformers/pipelines/base.py:1101: UserWarning: You seem to be using the pipelines sequentially on GPU. In order to maximize efficiency please use a dataset\n",
      "  warnings.warn(\n",
      "2814it [1:12:04,  1.54s/it]\n"
     ]
    }
   ],
   "source": [
    "# Running across the whole dataset\n",
    "\n",
    "results = []\n",
    "for index, row in tqdm(df.iterrows()):\n",
    "    results.append(llm_chain.run(event=row['event'], statement=row['full_text']))"
   ]
  },
  {
   "cell_type": "code",
   "execution_count": null,
   "id": "beda45b7-f275-4fa3-b59d-9009b51d6682",
   "metadata": {
    "tags": []
   },
   "outputs": [],
   "source": [
    "np.unique(results, return_counts=True)"
   ]
  },
  {
   "cell_type": "code",
   "execution_count": 35,
   "id": "7dc5c63a-b901-4541-81dd-e69985f36460",
   "metadata": {
    "tags": []
   },
   "outputs": [],
   "source": [
    "y_pred = []  \n",
    "  \n",
    "for word in results:  \n",
    "    lower_word = word.lower()  \n",
    "    if 'for' in lower_word:  \n",
    "        y_pred.append('agree')  \n",
    "    elif 'against' in lower_word:  \n",
    "        y_pred.append('disagree')  \n",
    "    elif 'neutral' in lower_word:  \n",
    "        y_pred.append('neutral')  \n",
    "    else:  \n",
    "        y_pred.append('neutral')\n",
    "        \n",
    "df['fsp_preds'] = y_pred"
   ]
  },
  {
   "cell_type": "code",
   "execution_count": null,
   "id": "a1521a68-6865-496e-87e1-5990887725a6",
   "metadata": {
    "tags": []
   },
   "outputs": [],
   "source": [
    "np.unique(df['fsp_preds'], return_counts=True)"
   ]
  },
  {
   "cell_type": "code",
   "execution_count": null,
   "id": "050cbe93-765c-4b30-bd7a-c8d293b99dff",
   "metadata": {
    "tags": []
   },
   "outputs": [],
   "source": [
    "report = classification_report(df['stance'], df['fsp_preds'])\n",
    "\n",
    "print(report)"
   ]
  },
  {
   "cell_type": "markdown",
   "id": "b658afe0-4555-496c-b244-b00039433330",
   "metadata": {
    "tags": []
   },
   "source": [
    "## 3(d). Context + FSP + Reasoning"
   ]
  },
  {
   "cell_type": "code",
   "execution_count": 27,
   "id": "940202db-ae18-42ca-9f75-2061b4281e44",
   "metadata": {
    "tags": []
   },
   "outputs": [],
   "source": [
    "# Create an example template\n",
    "\n",
    "example_and_reason_template = '''\n",
    "entity: {entity}\n",
    "statement: {statement}\n",
    "stance: {stance}\n",
    "reason: {reason}\n",
    "'''\n",
    "\n",
    "example_and_reason_prompt = PromptTemplate(\n",
    "    input_variables=[\"entity\",\"statement\", \"stance\", \"reason\"],\n",
    "    template=example_and_reason_template\n",
    ")"
   ]
  },
  {
   "cell_type": "code",
   "execution_count": 28,
   "id": "32e90a11-7697-4ee8-abd1-7dedbc3c0f47",
   "metadata": {
    "tags": []
   },
   "outputs": [],
   "source": [
    "# Give some examples\n",
    "\n",
    "examples = [\n",
    "    {'entity': \"Atheism\",\n",
    "     'statement':'''Leaving Christianity enables you to love the people you once rejected. #freethinker #Christianity #SemST''',\n",
    "     'stance': 'for',\n",
    "     'reason': \"The statement is for atheism as it claims leaving a religion like christianity makes one more loving.\"\n",
    "    },\n",
    "    {'entity': \"Climate Change is a Real Concern\",\n",
    "     'statement':'''@AlharbiF I'll bomb anything I can get my hands on, especially if THEY aren't christian. #graham2016 #GOP #SemST''',\n",
    "     'stance': 'neutral',\n",
    "     'reason': \"The statement does not explicity reference climate change and it is not clear who the author would bomb, so it is neutral toward climate change.\"\n",
    "    },\n",
    "    {'entity': \"Feminist Movement\",\n",
    "     'statement':'''Always a delight to see chest-drumming alpha males hiss and scuttle backwards up the wall when a feminist enters the room. #manly #SemST''',\n",
    "     'stance': 'for',\n",
    "     'reason': \"The statement supports the feminist movement as it makes fun of alpha males, who are typically seen as being against feminism.\"\n",
    "    },\n",
    "    {'entity': \"Hillary Clinton\",\n",
    "     'statement':'''Would you wanna be in a long term relationship with some bitch that hides her emails, & lies to your face? Then #Dontvote #SemST''',\n",
    "     'stance': 'against',\n",
    "     'reason': \"The statement is against Hillary Clinton as it calles her a bitch and claims she does bad things like hides emails and lies.\"\n",
    "    },\n",
    "    {'entity': \"Legalization of Abortion\",\n",
    "     'statement':'''@k_yoder That lady needs help, mental illness is a serious issue. #SemST''',\n",
    "     'stance': 'neutral',\n",
    "     'reason': \"The statement is neutral toward legalization of abortion as it does not talk about abortion and its not clear if the mentioned lady is related to abortion at all.\"\n",
    "    }\n",
    "]"
   ]
  },
  {
   "cell_type": "code",
   "execution_count": 29,
   "id": "58c0a06d-0604-445e-89b3-7807b6a60685",
   "metadata": {
    "tags": []
   },
   "outputs": [],
   "source": [
    "prefix = \"\"\"\n",
    "The following statements are social media posts expressing opinions about an entities. Each statement can either be for, against, or neutral toward their associated entity, and each statement includes the reason why they have that stance.\n",
    "\"\"\"\n",
    "\n",
    "suffix = '''\n",
    "Now, classify the following statement toward the following entity as for, against, or neutral and give the reason why you classified it as that stance. Only return the stance classification of the statement toward the entity and the reason for that classifcation, and no other text.\n",
    "\n",
    "entity: {event}\n",
    "statement: {statement}\n",
    "stance:\n",
    "reason:\n",
    "'''\n",
    "\n",
    "few_shot_and_reason_prompt = FewShotPromptTemplate(\n",
    "    examples=examples,\n",
    "    example_prompt=example_and_reason_prompt,\n",
    "    prefix=prefix,\n",
    "    suffix=suffix,\n",
    "    input_variables=[\"event\", \"statement\"],\n",
    "    example_separator=\"\\n\"\n",
    ")"
   ]
  },
  {
   "cell_type": "markdown",
   "id": "13aabfb6-da64-4d33-b501-d24e5e0c41e8",
   "metadata": {},
   "source": [
    "### Run an example"
   ]
  },
  {
   "cell_type": "code",
   "execution_count": 30,
   "id": "0b2606a6-dc35-45a4-aa4c-a9d0cdb733e5",
   "metadata": {
    "tags": []
   },
   "outputs": [
    {
     "name": "stderr",
     "output_type": "stream",
     "text": [
      "/usr/local/lib/python3.10/dist-packages/transformers/pipelines/base.py:1101: UserWarning: You seem to be using the pipelines sequentially on GPU. In order to maximize efficiency please use a dataset\n",
      "  warnings.warn(\n"
     ]
    }
   ],
   "source": [
    "llm_chain = LLMChain(prompt=few_shot_and_reason_prompt, llm=llm)\n",
    "\n",
    "results=[]\n",
    "for row in random_sample_df.iterrows():\n",
    "    results.append(llm_chain.run(event=row[1]['event'], statement=row[1]['full_text']))"
   ]
  },
  {
   "cell_type": "code",
   "execution_count": 31,
   "id": "ab28e4fe-bbb0-4a42-b868-90ae1cafd32c",
   "metadata": {
    "tags": []
   },
   "outputs": [
    {
     "data": {
      "text/plain": [
       "array(['', '\"',\n",
       "       '\"Hey First world Country White Women Bitting About GenderInequality You Are Goinf To Be Fine...#KillAllMen...\" this Statemnet Is Againts Thf FminsitMovrmnt Because It Uaes Hate Speech TalkngbAbout Killing All Men And SuggestThat Whjte Womn Ar eExempt From Racla Discrimination As They arE Frrth World Countrymnd Willbe Finde Even If There iS No More Mren Left On Earth',\n",
       "       '(Note - Please answer only this part)',\n",
       "       '(Note : You may need t oadd additional information such s context clues from previous statments etc)',\n",
       "       'I am unable toread any information from this prompt because there isnothing provided regarding thestoneentionsforclassificationor reasoning behind them',\n",
       "       'It seems there isnot any information provided regarding this entit',\n",
       "       'It seems there may need additional context regarding this particular topic/issue; however from what was provided here...I cannot accurately determine whether \"Legalisaation Of ABORTION\" has been referenced within said post nor do i know which side (for OR Againstan) will align towards based solefully off information given above without further clarification',\n",
       "       'It seems there was confusion regarding what constitutes \"for,\" etc., but here goes nothing! Please let me know which answer choices correspond best based upon our definitions (and any additional details provided).',\n",
       "       'It seems there was mistake while posting previous answer, here goes again!',\n",
       "       'It seems there was mistake while posting previous answers',\n",
       "       'It seems this question was created by someone trying out different ways how questions could look alike but having completely unrelated content inside them!',\n",
       "       'It seems this tweet doesn’ t mention any specific opinion regarding “Climate Changes” therefore we should assume Neutral towards \"clmate changes\"',\n",
       "       'Note - Please answer only according tot he given prompt',\n",
       "       'Note - Please answer only accordingto what ive posted above',\n",
       "       'Note - Please answer only based off what i provided above regarding those specific entitities',\n",
       "       'Note - Please answer only based soleately upon what has been provided here (i..e do ot look any further into this topic)',\n",
       "       'Note - Please keep answers concise by only providing justification without any additional information unless explicitly requested',\n",
       "       'Note - Please provide only \"for\", \"against\"or Neutral alongwith brief reasons',\n",
       "       'Note - Please provide only \"for\", \\'againinst\\',or neutra; towards\" depending whether thw statemnet supportsea opposeseo teh entitvand include reasons whhy yo did sot clasiffye themas such',\n",
       "       'Note - Please provide only \"for\", Againts\"or Neutral alongwith reasons',\n",
       "       'Note - Please provide only \"for\", Againts\"or Neutral\".',\n",
       "       'Note - Please provide only \"for\",againinst\",or Neutral towards\".',\n",
       "       'Note - Please provide only \"for\",or \\'againast\\', etc., without any additional information',\n",
       "       'Note - You may assume any information provided prior regarding these entitites remains constant',\n",
       "       'Note - You may need ot check additional information such astwitter handle name spelling etc',\n",
       "       'Note : As this question contains multiple choices, please select only ONE option from below.',\n",
       "       'Note : In this case, since there was only ONE option available (i.e., \"againts\") then i selected \\'Agains\" but please let me know how do u want m eto handle such cases',\n",
       "       'Note : Please answer based soleivelyon what information provided above.',\n",
       "       'Note : Please answer only accordingto what u understand from given information.',\n",
       "       'Note : Please answer only based upon what i provided, do NOT browse any external sources.',\n",
       "       'Note : Please answer only based upon what i provided.',\n",
       "       'Note : Please do NOT provide any additional information beyond what was provided above.',\n",
       "       'Note : Please do only answer questions based off what was given,i didnot provide any additional information regarding these entites.',\n",
       "       'Note : Please do this task only based upon what i provided, Do Not assume any further information from outside sources.',\n",
       "       'Note : Please make sure u understand what this project entails before starting, also please let me know how many hours do think will take complete such task',\n",
       "       'Note : Please provide only \"for\", \",againts\"or neutra; without any additional information',\n",
       "       'Note : Please provide only \"for\", \"-against\",or \"#neutral\".',\n",
       "       'Note : Please provide only \"for\", \\'\\'againast\",or Neutral alongwith reasons',\n",
       "       'Note : Please provide only \"for\", Againts\", Neutral\". Do Not Provide any extra details.',\n",
       "       'Note : Please provide only \"for\", Againts\"or Neutral towards\". No explanation required',\n",
       "       'Note : Please provide only \"for\", Againts\"or Neutral\".',\n",
       "       'Note : Please provide only \"for\", Againts\"or Neutral\". Do Not Provide any explanation',\n",
       "       'Note : Please provide only \\'for\\', Againts\", Neutral\" accordingto given criteria',\n",
       "       'Note : Please provide only (entiti ty -classification) without any extra information',\n",
       "       'Note : These categories (for, aginst) doesn’ t necessarily reflect absolute positions but rather how someone might perceive those position based solefullyon these satesments',\n",
       "       'Note from teacher (optional): Please provide additional feedback/clarification regarding this assignment',\n",
       "       'Please answer based only off what i provided above',\n",
       "       'Please answer based only off what information provided above regarding these seven pairs (one pair per line)',\n",
       "       'Please answer by providing only \"for\" because there isnothing negative said regarding hillay clintn',\n",
       "       'Please answer me this question!',\n",
       "       'Please answer these questions individually based only upon what i provided above',\n",
       "       'Please answer these questions separately',\n",
       "       'Please answer this question based only upon information provided above without any additional research beyond looking over these seven pairs again (you may consult them).',\n",
       "       'Please answer this question based only what information provided above',\n",
       "       'Please answer this question by providing only \"for\" (or another appropriate abbreviation) followed immediately afterwardby reasons explaining how thast particular option was chosen based upon what appears directly within said given post(Statement).',\n",
       "       'Please answer this question by providing only \"for\", then provide reasons explaining how these answers were arrived upon',\n",
       "       'Please answer this question by providing only \"for\", then provide reasons such has stated above',\n",
       "       'Please note this question requires only two answers (for/againts) because there may also exist situations where neither \"For\" nor Againstan answer applies; e g., If someone simply reposted without adding any context then we wouldn’ t know howto categorize them(either FororAgaint).',\n",
       "       'Please provide answer only after completing this task',\n",
       "       'Please provide only \"for\", \"/against/or neutrals\" followed by reasons',\n",
       "       'This answer was provided by Sparky, our friendly assistant chatbot!',\n",
       "       'This answer will assist me later today',\n",
       "       'This answer will contain only two parts (i) Stances Classification(for/againtsemantic tags),and ii). Reason Why',\n",
       "       'This answer will contain only two parts - \"Stace Classification\" which contains just \\'for\\', \\'\\'again\\'\\' etc., followed by reasons explaining those choices',\n",
       "       'This answer will only provide information regarding how many times did we correctly predict whether someone was \"for\", Againaints\"or Neutral towards specific Entities basedon given Statements.',\n",
       "       'This question assesses students understanding ability regarding identifying sentiment expressed through language by analyzng given setof tweets based upon provided reasonsfor taking specific stand towards certain entitities',\n",
       "       'This should take care fo ryou!', '```',\n",
       "       '```markdowntext=For`\"]Athis republic was founded primarily by Christians (and others) seeking religious freedom from persecution.\"] For\" />',\n",
       "       '```markdowntext=for` because this tweet advocates making something (aborton)legal instead oof illegals which implies support fior legslation abotion; however,it also uses language \"muider\" whihc could imply negative sentiment towards jewish ppl but since there sno context ot indicate such i will assume thiis statemnetnent ist neutraul twards entitiuaty.\"]',\n",
       "       '```scsslanguage=sql`for = \"Men doe snot hav ea rto t alk o ver you, yo u \\'r esp ice i lf Is imp ortant. Yo ur voic ce de serves ta he arie n ot si le np ed\" this statem ent suppor ts th et f emini sm movemeht by encouragi ng women totalkover menand recognizing themas godsdesns wh odonotde serve torbe silent d# Sem ST) (\"M endo neit ha v erighttol kove ry ouroevlolve )(\"Women ___.)\")+;}}))), (((!woman))) {(men)(goddess)}();} else ({}) }\"), //@  ]));\\'); }); }, //-- End Foam Region --});    `'],\n",
       "      dtype='<U494')"
      ]
     },
     "execution_count": 31,
     "metadata": {},
     "output_type": "execute_result"
    }
   ],
   "source": [
    "np.unique(results)"
   ]
  },
  {
   "cell_type": "code",
   "execution_count": 32,
   "id": "711e81c2-c074-4a35-8c93-a0b2575f8bb4",
   "metadata": {
    "tags": []
   },
   "outputs": [
    {
     "name": "stdout",
     "output_type": "stream",
     "text": [
      "              precision    recall  f1-score   support\n",
      "\n",
      "       agree       0.28      0.48      0.35        27\n",
      "    disagree       0.00      0.00      0.00        47\n",
      "     neutral       0.26      0.54      0.35        26\n",
      "\n",
      "    accuracy                           0.27       100\n",
      "   macro avg       0.18      0.34      0.24       100\n",
      "weighted avg       0.14      0.27      0.19       100\n",
      "\n"
     ]
    },
    {
     "name": "stderr",
     "output_type": "stream",
     "text": [
      "/usr/local/lib/python3.10/dist-packages/sklearn/metrics/_classification.py:1344: UndefinedMetricWarning: Precision and F-score are ill-defined and being set to 0.0 in labels with no predicted samples. Use `zero_division` parameter to control this behavior.\n",
      "  _warn_prf(average, modifier, msg_start, len(result))\n",
      "/usr/local/lib/python3.10/dist-packages/sklearn/metrics/_classification.py:1344: UndefinedMetricWarning: Precision and F-score are ill-defined and being set to 0.0 in labels with no predicted samples. Use `zero_division` parameter to control this behavior.\n",
      "  _warn_prf(average, modifier, msg_start, len(result))\n",
      "/usr/local/lib/python3.10/dist-packages/sklearn/metrics/_classification.py:1344: UndefinedMetricWarning: Precision and F-score are ill-defined and being set to 0.0 in labels with no predicted samples. Use `zero_division` parameter to control this behavior.\n",
      "  _warn_prf(average, modifier, msg_start, len(result))\n"
     ]
    }
   ],
   "source": [
    "y_pred = []  \n",
    "reasons = []  \n",
    "  \n",
    "for result in results:  \n",
    "    split_result = result.split('reason:')  \n",
    "    if len(split_result) == 2:  \n",
    "        # Extract stance and reason, remove leading/trailing whitespace and convert stance to lowercase  \n",
    "        stance, reason = split_result\n",
    "        stance = stance.replace('stance:', '').replace(',', '').strip().lower()\n",
    "        reason = reason.strip()\n",
    "        reasons.append(reason)\n",
    "    else:\n",
    "        # model did not give a reason\n",
    "        stance = split_result[0]\n",
    "        stance = stance.replace('stance:', '').replace(',', '').strip().lower()\n",
    "        reasons.append('')\n",
    "    if 'for' in stance:  \n",
    "        y_pred.append('agree')  \n",
    "    elif 'against' in stance:  \n",
    "        y_pred.append('disagree')  \n",
    "    elif 'neutral' in stance:  \n",
    "        y_pred.append('neutral')\n",
    "    else:  \n",
    "        y_pred.append('neutral')\n",
    "\n",
    "y_true = [str.lower(i) for i in y_true]\n",
    "\n",
    "# generating the classification report\n",
    "report = classification_report(y_true, y_pred)\n",
    "print(report)"
   ]
  },
  {
   "cell_type": "markdown",
   "id": "9e47e691-8ef2-4cae-adf7-4e0211f04e5a",
   "metadata": {},
   "source": [
    "### Run on all Data"
   ]
  },
  {
   "cell_type": "code",
   "execution_count": 43,
   "id": "2d04c4ca-471d-46a1-896b-c26d61ba93e1",
   "metadata": {
    "tags": []
   },
   "outputs": [
    {
     "name": "stderr",
     "output_type": "stream",
     "text": [
      "0it [00:00, ?it/s]/usr/local/lib/python3.10/dist-packages/transformers/pipelines/base.py:1101: UserWarning: You seem to be using the pipelines sequentially on GPU. In order to maximize efficiency please use a dataset\n",
      "  warnings.warn(\n",
      "2814it [3:45:33,  4.81s/it]\n"
     ]
    }
   ],
   "source": [
    "# Running across the whole dataset\n",
    "\n",
    "results = []\n",
    "for index, row in tqdm(df.iterrows()):\n",
    "    results.append(llm_chain.run(event=row['event'], statement=row['full_text']))"
   ]
  },
  {
   "cell_type": "code",
   "execution_count": 44,
   "id": "97157b49-ef39-4c4d-9e1f-782eeafd3d9a",
   "metadata": {
    "tags": []
   },
   "outputs": [],
   "source": [
    "y_pred = []  \n",
    "reasons = []  \n",
    "  \n",
    "for result in results:  \n",
    "    split_result = result.split('reason:')  \n",
    "    if len(split_result) == 2:  \n",
    "        # Extract stance and reason, remove leading/trailing whitespace and convert stance to lowercase  \n",
    "        stance, reason = split_result\n",
    "        stance = stance.replace('stance:', '').replace(',', '').strip().lower()\n",
    "        reason = reason.strip()\n",
    "        reasons.append(reason)\n",
    "    else:\n",
    "        # model did not give a reason\n",
    "        stance = split_result[0]\n",
    "        stance = stance.replace('stance:', '').replace(',', '').strip().lower()\n",
    "        reasons.append('')\n",
    "    if 'for' in stance:  \n",
    "        y_pred.append('agree')  \n",
    "    elif 'against' in stance:  \n",
    "        y_pred.append('disagree')  \n",
    "    elif 'neutral' in stance:  \n",
    "        y_pred.append('neutral')\n",
    "    else:  \n",
    "        y_pred.append('neutral')\n",
    "        \n",
    "df['fsp_reason_preds'] = y_pred\n",
    "df['fsp_reason_reasons'] = reasons"
   ]
  },
  {
   "cell_type": "code",
   "execution_count": null,
   "id": "b02b73fb-2ec0-49f1-b0a2-baeef114f4cc",
   "metadata": {},
   "outputs": [],
   "source": [
    "np.unique(df['fsp_reason_preds'], return_counts=True)"
   ]
  },
  {
   "cell_type": "code",
   "execution_count": null,
   "id": "e44d2f6c-78b5-4740-9415-65c460ee3220",
   "metadata": {
    "tags": []
   },
   "outputs": [],
   "source": [
    "report = classification_report(df['stance'], df['fsp_reason_preds'])\n",
    "\n",
    "print(report)"
   ]
  },
  {
   "cell_type": "code",
   "execution_count": 47,
   "id": "d03aa11f-e001-4907-bd66-e989a653c0f3",
   "metadata": {},
   "outputs": [],
   "source": [
    "df.to_csv(\"semeval_llama-2-7B_results.csv\")"
   ]
  },
  {
   "cell_type": "code",
   "execution_count": null,
   "id": "94de7d2f-b6db-4714-8efe-f7cc1357b831",
   "metadata": {},
   "outputs": [],
   "source": []
  }
 ],
 "metadata": {
  "kernelspec": {
   "display_name": "Python 3 (ipykernel)",
   "language": "python",
   "name": "python3"
  },
  "language_info": {
   "codemirror_mode": {
    "name": "ipython",
    "version": 3
   },
   "file_extension": ".py",
   "mimetype": "text/x-python",
   "name": "python",
   "nbconvert_exporter": "python",
   "pygments_lexer": "ipython3",
   "version": "3.10.6"
  }
 },
 "nbformat": 4,
 "nbformat_minor": 5
}
