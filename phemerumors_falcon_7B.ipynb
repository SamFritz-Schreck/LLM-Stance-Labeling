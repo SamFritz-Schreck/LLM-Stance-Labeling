{
 "cells": [
  {
   "cell_type": "markdown",
   "id": "5b37c7bb-c037-4504-a2e2-4010b3726ac8",
   "metadata": {},
   "source": [
    "# Stance Classification for PhemeRumors\n",
    "- read in the data and pre-process\n",
    "- set up an LLM\n",
    "- Investigate different prompting schemes\n",
    "    - just context\n",
    "    - context + few-shot learning\n",
    "    - content + few-shot learning + reasoning"
   ]
  },
  {
   "cell_type": "code",
   "execution_count": 1,
   "id": "5b436af4-75ff-4598-a9e3-70e746e1f99d",
   "metadata": {
    "scrolled": true,
    "tags": []
   },
   "outputs": [
    {
     "name": "stdout",
     "output_type": "stream",
     "text": [
      "Collecting transformers\n",
      "  Using cached transformers-4.33.1-py3-none-any.whl (7.6 MB)\n",
      "Requirement already satisfied: filelock in /usr/local/lib/python3.10/dist-packages (from transformers) (3.9.0)\n",
      "Collecting huggingface-hub<1.0,>=0.15.1 (from transformers)\n",
      "  Using cached huggingface_hub-0.17.1-py3-none-any.whl (294 kB)\n",
      "Requirement already satisfied: numpy>=1.17 in /usr/local/lib/python3.10/dist-packages (from transformers) (1.23.5)\n",
      "Requirement already satisfied: packaging>=20.0 in /usr/local/lib/python3.10/dist-packages (from transformers) (23.1)\n",
      "Requirement already satisfied: pyyaml>=5.1 in /usr/local/lib/python3.10/dist-packages (from transformers) (6.0)\n",
      "Collecting regex!=2019.12.17 (from transformers)\n",
      "  Using cached regex-2023.8.8-cp310-cp310-manylinux_2_17_x86_64.manylinux2014_x86_64.whl (771 kB)\n",
      "Requirement already satisfied: requests in /usr/local/lib/python3.10/dist-packages (from transformers) (2.30.0)\n",
      "Collecting tokenizers!=0.11.3,<0.14,>=0.11.1 (from transformers)\n",
      "  Using cached tokenizers-0.13.3-cp310-cp310-manylinux_2_17_x86_64.manylinux2014_x86_64.whl (7.8 MB)\n",
      "Collecting safetensors>=0.3.1 (from transformers)\n",
      "  Using cached safetensors-0.3.3-cp310-cp310-manylinux_2_17_x86_64.manylinux2014_x86_64.whl (1.3 MB)\n",
      "Requirement already satisfied: tqdm>=4.27 in /usr/local/lib/python3.10/dist-packages (from transformers) (4.65.0)\n",
      "Requirement already satisfied: fsspec in /usr/local/lib/python3.10/dist-packages (from huggingface-hub<1.0,>=0.15.1->transformers) (2023.5.0)\n",
      "Requirement already satisfied: typing-extensions>=3.7.4.3 in /usr/local/lib/python3.10/dist-packages (from huggingface-hub<1.0,>=0.15.1->transformers) (4.5.0)\n",
      "Requirement already satisfied: charset-normalizer<4,>=2 in /usr/local/lib/python3.10/dist-packages (from requests->transformers) (3.1.0)\n",
      "Requirement already satisfied: idna<4,>=2.5 in /usr/local/lib/python3.10/dist-packages (from requests->transformers) (3.4)\n",
      "Requirement already satisfied: urllib3<3,>=1.21.1 in /usr/local/lib/python3.10/dist-packages (from requests->transformers) (1.26.15)\n",
      "Requirement already satisfied: certifi>=2017.4.17 in /usr/local/lib/python3.10/dist-packages (from requests->transformers) (2023.5.7)\n",
      "Installing collected packages: tokenizers, safetensors, regex, huggingface-hub, transformers\n",
      "Successfully installed huggingface-hub-0.17.1 regex-2023.8.8 safetensors-0.3.3 tokenizers-0.13.3 transformers-4.33.1\n",
      "\n",
      "\u001b[1m[\u001b[0m\u001b[34;49mnotice\u001b[0m\u001b[1;39;49m]\u001b[0m\u001b[39;49m A new release of pip is available: \u001b[0m\u001b[31;49m23.1.2\u001b[0m\u001b[39;49m -> \u001b[0m\u001b[32;49m23.2.1\u001b[0m\n",
      "\u001b[1m[\u001b[0m\u001b[34;49mnotice\u001b[0m\u001b[1;39;49m]\u001b[0m\u001b[39;49m To update, run: \u001b[0m\u001b[32;49mpython -m pip install --upgrade pip\u001b[0m\n",
      "Requirement already satisfied: langchain in /home/jovyan/.local/lib/python3.10/site-packages (0.0.158)\n",
      "Requirement already satisfied: PyYAML>=5.4.1 in /usr/local/lib/python3.10/dist-packages (from langchain) (6.0)\n",
      "Requirement already satisfied: SQLAlchemy<3,>=1.3 in /usr/local/lib/python3.10/dist-packages (from langchain) (2.0.13)\n",
      "Requirement already satisfied: aiohttp<4.0.0,>=3.8.3 in /usr/local/lib/python3.10/dist-packages (from langchain) (3.8.4)\n",
      "Requirement already satisfied: async-timeout<5.0.0,>=4.0.0 in /usr/local/lib/python3.10/dist-packages (from langchain) (4.0.2)\n",
      "Requirement already satisfied: dataclasses-json<0.6.0,>=0.5.7 in /home/jovyan/.local/lib/python3.10/site-packages (from langchain) (0.5.7)\n",
      "Requirement already satisfied: numexpr<3.0.0,>=2.8.4 in /usr/local/lib/python3.10/dist-packages (from langchain) (2.8.4)\n",
      "Requirement already satisfied: numpy<2,>=1 in /usr/local/lib/python3.10/dist-packages (from langchain) (1.23.5)\n",
      "Requirement already satisfied: openapi-schema-pydantic<2.0,>=1.2 in /home/jovyan/.local/lib/python3.10/site-packages (from langchain) (1.2.4)\n",
      "Requirement already satisfied: pydantic<2,>=1 in /home/jovyan/.local/lib/python3.10/site-packages (from langchain) (1.10.8)\n",
      "Requirement already satisfied: requests<3,>=2 in /usr/local/lib/python3.10/dist-packages (from langchain) (2.30.0)\n",
      "Requirement already satisfied: tenacity<9.0.0,>=8.1.0 in /home/jovyan/.local/lib/python3.10/site-packages (from langchain) (8.2.2)\n",
      "Requirement already satisfied: tqdm>=4.48.0 in /usr/local/lib/python3.10/dist-packages (from langchain) (4.65.0)\n",
      "Requirement already satisfied: attrs>=17.3.0 in /usr/local/lib/python3.10/dist-packages (from aiohttp<4.0.0,>=3.8.3->langchain) (23.1.0)\n",
      "Requirement already satisfied: charset-normalizer<4.0,>=2.0 in /usr/local/lib/python3.10/dist-packages (from aiohttp<4.0.0,>=3.8.3->langchain) (3.1.0)\n",
      "Requirement already satisfied: multidict<7.0,>=4.5 in /usr/local/lib/python3.10/dist-packages (from aiohttp<4.0.0,>=3.8.3->langchain) (6.0.4)\n",
      "Requirement already satisfied: yarl<2.0,>=1.0 in /usr/local/lib/python3.10/dist-packages (from aiohttp<4.0.0,>=3.8.3->langchain) (1.9.2)\n",
      "Requirement already satisfied: frozenlist>=1.1.1 in /usr/local/lib/python3.10/dist-packages (from aiohttp<4.0.0,>=3.8.3->langchain) (1.3.3)\n",
      "Requirement already satisfied: aiosignal>=1.1.2 in /usr/local/lib/python3.10/dist-packages (from aiohttp<4.0.0,>=3.8.3->langchain) (1.3.1)\n",
      "Requirement already satisfied: marshmallow<4.0.0,>=3.3.0 in /home/jovyan/.local/lib/python3.10/site-packages (from dataclasses-json<0.6.0,>=0.5.7->langchain) (3.19.0)\n",
      "Requirement already satisfied: marshmallow-enum<2.0.0,>=1.5.1 in /home/jovyan/.local/lib/python3.10/site-packages (from dataclasses-json<0.6.0,>=0.5.7->langchain) (1.5.1)\n",
      "Requirement already satisfied: typing-inspect>=0.4.0 in /home/jovyan/.local/lib/python3.10/site-packages (from dataclasses-json<0.6.0,>=0.5.7->langchain) (0.8.0)\n",
      "Requirement already satisfied: typing-extensions>=4.2.0 in /usr/local/lib/python3.10/dist-packages (from pydantic<2,>=1->langchain) (4.5.0)\n",
      "Requirement already satisfied: idna<4,>=2.5 in /usr/local/lib/python3.10/dist-packages (from requests<3,>=2->langchain) (3.4)\n",
      "Requirement already satisfied: urllib3<3,>=1.21.1 in /usr/local/lib/python3.10/dist-packages (from requests<3,>=2->langchain) (1.26.15)\n",
      "Requirement already satisfied: certifi>=2017.4.17 in /usr/local/lib/python3.10/dist-packages (from requests<3,>=2->langchain) (2023.5.7)\n",
      "Requirement already satisfied: greenlet!=0.4.17 in /usr/local/lib/python3.10/dist-packages (from SQLAlchemy<3,>=1.3->langchain) (2.0.2)\n",
      "Requirement already satisfied: packaging>=17.0 in /usr/local/lib/python3.10/dist-packages (from marshmallow<4.0.0,>=3.3.0->dataclasses-json<0.6.0,>=0.5.7->langchain) (23.1)\n",
      "Requirement already satisfied: mypy-extensions>=0.3.0 in /usr/local/lib/python3.10/dist-packages (from typing-inspect>=0.4.0->dataclasses-json<0.6.0,>=0.5.7->langchain) (1.0.0)\n",
      "\n",
      "\u001b[1m[\u001b[0m\u001b[34;49mnotice\u001b[0m\u001b[1;39;49m]\u001b[0m\u001b[39;49m A new release of pip is available: \u001b[0m\u001b[31;49m23.1.2\u001b[0m\u001b[39;49m -> \u001b[0m\u001b[32;49m23.2.1\u001b[0m\n",
      "\u001b[1m[\u001b[0m\u001b[34;49mnotice\u001b[0m\u001b[1;39;49m]\u001b[0m\u001b[39;49m To update, run: \u001b[0m\u001b[32;49mpython -m pip install --upgrade pip\u001b[0m\n",
      "Collecting accelerate\n",
      "  Using cached accelerate-0.22.0-py3-none-any.whl (251 kB)\n",
      "Requirement already satisfied: numpy>=1.17 in /usr/local/lib/python3.10/dist-packages (from accelerate) (1.23.5)\n",
      "Requirement already satisfied: packaging>=20.0 in /usr/local/lib/python3.10/dist-packages (from accelerate) (23.1)\n",
      "Requirement already satisfied: psutil in /usr/local/lib/python3.10/dist-packages (from accelerate) (5.9.5)\n",
      "Requirement already satisfied: pyyaml in /usr/local/lib/python3.10/dist-packages (from accelerate) (6.0)\n",
      "Requirement already satisfied: torch>=1.10.0 in /usr/local/lib/python3.10/dist-packages (from accelerate) (2.0.1+cu118)\n",
      "Requirement already satisfied: filelock in /usr/local/lib/python3.10/dist-packages (from torch>=1.10.0->accelerate) (3.9.0)\n",
      "Requirement already satisfied: typing-extensions in /usr/local/lib/python3.10/dist-packages (from torch>=1.10.0->accelerate) (4.5.0)\n",
      "Requirement already satisfied: sympy in /usr/local/lib/python3.10/dist-packages (from torch>=1.10.0->accelerate) (1.12)\n",
      "Requirement already satisfied: networkx in /usr/local/lib/python3.10/dist-packages (from torch>=1.10.0->accelerate) (3.1)\n",
      "Requirement already satisfied: jinja2 in /usr/local/lib/python3.10/dist-packages (from torch>=1.10.0->accelerate) (3.1.2)\n",
      "Requirement already satisfied: triton==2.0.0 in /usr/local/lib/python3.10/dist-packages (from torch>=1.10.0->accelerate) (2.0.0)\n",
      "Requirement already satisfied: cmake in /usr/local/lib/python3.10/dist-packages (from triton==2.0.0->torch>=1.10.0->accelerate) (3.25.0)\n",
      "Requirement already satisfied: lit in /usr/local/lib/python3.10/dist-packages (from triton==2.0.0->torch>=1.10.0->accelerate) (15.0.7)\n",
      "Requirement already satisfied: MarkupSafe>=2.0 in /usr/local/lib/python3.10/dist-packages (from jinja2->torch>=1.10.0->accelerate) (2.1.2)\n",
      "Requirement already satisfied: mpmath>=0.19 in /usr/local/lib/python3.10/dist-packages (from sympy->torch>=1.10.0->accelerate) (1.3.0)\n",
      "Installing collected packages: accelerate\n",
      "Successfully installed accelerate-0.22.0\n",
      "\n",
      "\u001b[1m[\u001b[0m\u001b[34;49mnotice\u001b[0m\u001b[1;39;49m]\u001b[0m\u001b[39;49m A new release of pip is available: \u001b[0m\u001b[31;49m23.1.2\u001b[0m\u001b[39;49m -> \u001b[0m\u001b[32;49m23.2.1\u001b[0m\n",
      "\u001b[1m[\u001b[0m\u001b[34;49mnotice\u001b[0m\u001b[1;39;49m]\u001b[0m\u001b[39;49m To update, run: \u001b[0m\u001b[32;49mpython -m pip install --upgrade pip\u001b[0m\n",
      "Collecting einops\n",
      "  Using cached einops-0.6.1-py3-none-any.whl (42 kB)\n",
      "Installing collected packages: einops\n",
      "Successfully installed einops-0.6.1\n",
      "\n",
      "\u001b[1m[\u001b[0m\u001b[34;49mnotice\u001b[0m\u001b[1;39;49m]\u001b[0m\u001b[39;49m A new release of pip is available: \u001b[0m\u001b[31;49m23.1.2\u001b[0m\u001b[39;49m -> \u001b[0m\u001b[32;49m23.2.1\u001b[0m\n",
      "\u001b[1m[\u001b[0m\u001b[34;49mnotice\u001b[0m\u001b[1;39;49m]\u001b[0m\u001b[39;49m To update, run: \u001b[0m\u001b[32;49mpython -m pip install --upgrade pip\u001b[0m\n",
      "Collecting deepspeed\n",
      "  Using cached deepspeed-0.10.2-py3-none-any.whl\n",
      "Collecting hjson (from deepspeed)\n",
      "  Using cached hjson-3.1.0-py3-none-any.whl (54 kB)\n",
      "Collecting ninja (from deepspeed)\n",
      "  Using cached ninja-1.11.1-py2.py3-none-manylinux_2_12_x86_64.manylinux2010_x86_64.whl (145 kB)\n",
      "Requirement already satisfied: numpy in /usr/local/lib/python3.10/dist-packages (from deepspeed) (1.23.5)\n",
      "Requirement already satisfied: packaging>=20.0 in /usr/local/lib/python3.10/dist-packages (from deepspeed) (23.1)\n",
      "Requirement already satisfied: psutil in /usr/local/lib/python3.10/dist-packages (from deepspeed) (5.9.5)\n",
      "Requirement already satisfied: py-cpuinfo in /usr/local/lib/python3.10/dist-packages (from deepspeed) (9.0.0)\n",
      "Requirement already satisfied: pydantic<2.0.0 in /home/jovyan/.local/lib/python3.10/site-packages (from deepspeed) (1.10.8)\n",
      "Requirement already satisfied: torch in /usr/local/lib/python3.10/dist-packages (from deepspeed) (2.0.1+cu118)\n",
      "Requirement already satisfied: tqdm in /usr/local/lib/python3.10/dist-packages (from deepspeed) (4.65.0)\n",
      "Requirement already satisfied: typing-extensions>=4.2.0 in /usr/local/lib/python3.10/dist-packages (from pydantic<2.0.0->deepspeed) (4.5.0)\n",
      "Requirement already satisfied: filelock in /usr/local/lib/python3.10/dist-packages (from torch->deepspeed) (3.9.0)\n",
      "Requirement already satisfied: sympy in /usr/local/lib/python3.10/dist-packages (from torch->deepspeed) (1.12)\n",
      "Requirement already satisfied: networkx in /usr/local/lib/python3.10/dist-packages (from torch->deepspeed) (3.1)\n",
      "Requirement already satisfied: jinja2 in /usr/local/lib/python3.10/dist-packages (from torch->deepspeed) (3.1.2)\n",
      "Requirement already satisfied: triton==2.0.0 in /usr/local/lib/python3.10/dist-packages (from torch->deepspeed) (2.0.0)\n",
      "Requirement already satisfied: cmake in /usr/local/lib/python3.10/dist-packages (from triton==2.0.0->torch->deepspeed) (3.25.0)\n",
      "Requirement already satisfied: lit in /usr/local/lib/python3.10/dist-packages (from triton==2.0.0->torch->deepspeed) (15.0.7)\n",
      "Requirement already satisfied: MarkupSafe>=2.0 in /usr/local/lib/python3.10/dist-packages (from jinja2->torch->deepspeed) (2.1.2)\n",
      "Requirement already satisfied: mpmath>=0.19 in /usr/local/lib/python3.10/dist-packages (from sympy->torch->deepspeed) (1.3.0)\n",
      "Installing collected packages: ninja, hjson, deepspeed\n",
      "Successfully installed deepspeed-0.10.2 hjson-3.1.0 ninja-1.11.1\n",
      "\n",
      "\u001b[1m[\u001b[0m\u001b[34;49mnotice\u001b[0m\u001b[1;39;49m]\u001b[0m\u001b[39;49m A new release of pip is available: \u001b[0m\u001b[31;49m23.1.2\u001b[0m\u001b[39;49m -> \u001b[0m\u001b[32;49m23.2.1\u001b[0m\n",
      "\u001b[1m[\u001b[0m\u001b[34;49mnotice\u001b[0m\u001b[1;39;49m]\u001b[0m\u001b[39;49m To update, run: \u001b[0m\u001b[32;49mpython -m pip install --upgrade pip\u001b[0m\n"
     ]
    }
   ],
   "source": [
    "# Package installations to work on WIRE\n",
    "\n",
    "! pip install transformers\n",
    "! pip install langchain\n",
    "! pip install accelerate\n",
    "! pip install einops\n",
    "! pip install deepspeed"
   ]
  },
  {
   "cell_type": "code",
   "execution_count": 1,
   "id": "86e77263-062c-44bc-8ace-6cf3a638e014",
   "metadata": {
    "tags": []
   },
   "outputs": [
    {
     "name": "stderr",
     "output_type": "stream",
     "text": [
      "2023-09-12 19:41:26.141811: I tensorflow/core/platform/cpu_feature_guard.cc:182] This TensorFlow binary is optimized to use available CPU instructions in performance-critical operations.\n",
      "To enable the following instructions: AVX2 FMA, in other operations, rebuild TensorFlow with the appropriate compiler flags.\n",
      "2023-09-12 19:41:26.851271: W tensorflow/compiler/tf2tensorrt/utils/py_utils.cc:38] TF-TRT Warning: Could not find TensorRT\n"
     ]
    },
    {
     "name": "stdout",
     "output_type": "stream",
     "text": [
      "[2023-09-12 19:41:28,121] [INFO] [real_accelerator.py:158:get_accelerator] Setting ds_accelerator to cuda (auto detect)\n"
     ]
    }
   ],
   "source": [
    "import os, re, pandas as pd, numpy as np, ast, json\n",
    "from pprint import pprint\n",
    "from tqdm import tqdm  \n",
    "\n",
    "import torch\n",
    "from langchain import PromptTemplate, FewShotPromptTemplate, HuggingFacePipeline, LLMChain\n",
    "from transformers import AutoModelForCausalLM, AutoTokenizer, pipeline\n",
    "import deepspeed\n",
    "\n",
    "from sklearn.metrics import classification_report\n",
    "\n",
    "from matplotlib import pyplot as plt\n",
    "import seaborn as sns"
   ]
  },
  {
   "cell_type": "markdown",
   "id": "ca5057d3-9986-42e2-91f9-ccb0a8a782e5",
   "metadata": {},
   "source": [
    "# 1. Import and Preprocess Data"
   ]
  },
  {
   "cell_type": "code",
   "execution_count": 2,
   "id": "ab8789ed-ab80-429d-a03e-6c07ac91a9d6",
   "metadata": {
    "tags": []
   },
   "outputs": [],
   "source": [
    "file = os.path.join(\"phemerumours\",\"data_merged.csv\")"
   ]
  },
  {
   "cell_type": "code",
   "execution_count": 3,
   "id": "bdaa0228-553d-4169-a510-a8a974955d6b",
   "metadata": {
    "tags": []
   },
   "outputs": [],
   "source": [
    "df = pd.read_csv(file)"
   ]
  },
  {
   "cell_type": "code",
   "execution_count": 4,
   "id": "4e771931-ba00-487c-8c7a-dc68a435f86f",
   "metadata": {
    "tags": []
   },
   "outputs": [
    {
     "data": {
      "text/html": [
       "<div>\n",
       "<style scoped>\n",
       "    .dataframe tbody tr th:only-of-type {\n",
       "        vertical-align: middle;\n",
       "    }\n",
       "\n",
       "    .dataframe tbody tr th {\n",
       "        vertical-align: top;\n",
       "    }\n",
       "\n",
       "    .dataframe thead th {\n",
       "        text-align: right;\n",
       "    }\n",
       "</style>\n",
       "<table border=\"1\" class=\"dataframe\">\n",
       "  <thead>\n",
       "    <tr style=\"text-align: right;\">\n",
       "      <th></th>\n",
       "      <th>tweet_id</th>\n",
       "      <th>stance</th>\n",
       "      <th>event</th>\n",
       "      <th>full_text</th>\n",
       "    </tr>\n",
       "  </thead>\n",
       "  <tbody>\n",
       "    <tr>\n",
       "      <th>0</th>\n",
       "      <td>576755174531862529</td>\n",
       "      <td>agree</td>\n",
       "      <td>putinmissing</td>\n",
       "      <td>Coup? RT @jimgeraghty: Rumors all Russian mili...</td>\n",
       "    </tr>\n",
       "    <tr>\n",
       "      <th>1</th>\n",
       "      <td>576319832800555008</td>\n",
       "      <td>agree</td>\n",
       "      <td>putinmissing</td>\n",
       "      <td>Hoppla! @L0gg0l: Swiss Rumors: Putin absence d...</td>\n",
       "    </tr>\n",
       "    <tr>\n",
       "      <th>2</th>\n",
       "      <td>576513463738109954</td>\n",
       "      <td>disagree</td>\n",
       "      <td>putinmissing</td>\n",
       "      <td>Putin reappears on TV amid claims he is unwell...</td>\n",
       "    </tr>\n",
       "    <tr>\n",
       "      <th>3</th>\n",
       "      <td>552783667052167168</td>\n",
       "      <td>agree</td>\n",
       "      <td>charliehebdo</td>\n",
       "      <td>France: 10 people dead after shooting at HQ of...</td>\n",
       "    </tr>\n",
       "    <tr>\n",
       "      <th>4</th>\n",
       "      <td>552793679082311680</td>\n",
       "      <td>agree</td>\n",
       "      <td>charliehebdo</td>\n",
       "      <td>11 confirmed dead, Francois Hollande to visit ...</td>\n",
       "    </tr>\n",
       "  </tbody>\n",
       "</table>\n",
       "</div>"
      ],
      "text/plain": [
       "             tweet_id    stance         event   \n",
       "0  576755174531862529     agree  putinmissing  \\\n",
       "1  576319832800555008     agree  putinmissing   \n",
       "2  576513463738109954  disagree  putinmissing   \n",
       "3  552783667052167168     agree  charliehebdo   \n",
       "4  552793679082311680     agree  charliehebdo   \n",
       "\n",
       "                                           full_text  \n",
       "0  Coup? RT @jimgeraghty: Rumors all Russian mili...  \n",
       "1  Hoppla! @L0gg0l: Swiss Rumors: Putin absence d...  \n",
       "2  Putin reappears on TV amid claims he is unwell...  \n",
       "3  France: 10 people dead after shooting at HQ of...  \n",
       "4  11 confirmed dead, Francois Hollande to visit ...  "
      ]
     },
     "execution_count": 4,
     "metadata": {},
     "output_type": "execute_result"
    }
   ],
   "source": [
    "df.head()"
   ]
  },
  {
   "cell_type": "code",
   "execution_count": 5,
   "id": "b6ceb2cd-e7cc-4c58-aa8e-1b42f6f7e3ab",
   "metadata": {
    "tags": []
   },
   "outputs": [
    {
     "data": {
      "text/plain": [
       "(2859, 4)"
      ]
     },
     "execution_count": 5,
     "metadata": {},
     "output_type": "execute_result"
    }
   ],
   "source": [
    "df.shape"
   ]
  },
  {
   "cell_type": "code",
   "execution_count": 6,
   "id": "f8ce9d8c-8db7-4a90-bd5d-c5ada923046b",
   "metadata": {
    "tags": []
   },
   "outputs": [],
   "source": [
    "# Define a dictionary with the original values as keys and new values as corresponding values  \n",
    "event_dict = {  \n",
    "    'putinmissing': \"Russian President Putin has gone missing\",   \n",
    "    'charliehebdo': \"there was a shooting event at Charlie Hebdo in Paris\",   \n",
    "    'prince-toronto': \"singer Prince will play a secret show in Toronto\",   \n",
    "    'ferguson': \"There is unrest in Ferguson, Missouri\",   \n",
    "    'germanwings-crash': \"A Germanwings plane crashed\",   \n",
    "    'ottawashooting': \"There was a shooting event in Ottawa\",   \n",
    "    'sydneysiege': \"There is a hostage situation in Sydney\",   \n",
    "    'ebola-essien': \"Michael Essien contracted Ebola\"  \n",
    "}  \n",
    "  \n",
    "# Use the map function to replace the values  \n",
    "df['event'] = df['event'].map(event_dict)  "
   ]
  },
  {
   "cell_type": "markdown",
   "id": "a182cfb3-9a8d-4e44-8570-eb37c9a418a0",
   "metadata": {},
   "source": [
    "# 2. Connect to LLM\n",
    "- for standing up a smaller huggingface model\n",
    "```python\n",
    "llm = HuggingFacePipeline.from_model_id(model_id=\"declare-lab/flan-alpaca-gpt4-xl\", task = 'text2text-generation', device=0,\n",
    "                                      model_kwargs={\"max_length\":500, \"do_sample\":False})\n",
    "```\n",
    "- for a mid-sized, more modern, huggingface model. You can use accelerate and chance ``` device = \"auto\"``` to use multiple GPUs\n",
    "```python\n",
    "model = \"tiiuae/falcon-7b-instruct\"\n",
    "\n",
    "tokenizer = AutoTokenizer.from_pretrained(model)\n",
    "\n",
    "pipe = pipeline(\n",
    "    \"text-generation\",\n",
    "    model=model,\n",
    "    tokenizer=tokenizer,\n",
    "    torch_dtype=torch.bfloat16,\n",
    "    trust_remote_code=True,\n",
    "    device_map=0,\n",
    "    max_length=200,\n",
    "    do_sample=False,\n",
    "    num_return_sequences=1,\n",
    "    eos_token_id=tokenizer.eos_token_id,\n",
    "    pad_token_id=tokenizer.eos_token_id,\n",
    ")\n",
    "\n",
    "llm = HuggingFacePipeline(pipeline=pipe)\n",
    "```\n"
   ]
  },
  {
   "cell_type": "code",
   "execution_count": 7,
   "id": "a845955d-162c-4531-a774-231a465372f6",
   "metadata": {
    "scrolled": true,
    "tags": []
   },
   "outputs": [
    {
     "data": {
      "application/vnd.jupyter.widget-view+json": {
       "model_id": "034c8fddd1924306ae1cb2f63e380fbf",
       "version_major": 2,
       "version_minor": 0
      },
      "text/plain": [
       "Loading checkpoint shards:   0%|          | 0/2 [00:00<?, ?it/s]"
      ]
     },
     "metadata": {},
     "output_type": "display_data"
    }
   ],
   "source": [
    "model = \"tiiuae/falcon-7b-instruct\"\n",
    "\n",
    "tokenizer = AutoTokenizer.from_pretrained(model)\n",
    "\n",
    "pipe = pipeline(\n",
    "    \"text-generation\",\n",
    "    model=model,\n",
    "    tokenizer=tokenizer,\n",
    "    trust_remote_code=True,\n",
    "    torch_dtype=torch.bfloat16,\n",
    "    device_map=3,\n",
    "    max_length=1000,\n",
    "    do_sample=False,\n",
    "    num_return_sequences=1,\n",
    "    eos_token_id=tokenizer.eos_token_id,\n",
    "    pad_token_id=tokenizer.eos_token_id\n",
    ")\n",
    "\n",
    "llm = HuggingFacePipeline(pipeline=pipe)"
   ]
  },
  {
   "cell_type": "markdown",
   "id": "403fdd62-677d-467f-b0d6-ef232fc9ca70",
   "metadata": {},
   "source": [
    "look at a few examples"
   ]
  },
  {
   "cell_type": "code",
   "execution_count": 8,
   "id": "750d3b59-d13a-45ce-8f09-ee1680c395a8",
   "metadata": {
    "tags": []
   },
   "outputs": [
    {
     "name": "stderr",
     "output_type": "stream",
     "text": [
      "/usr/local/lib/python3.10/dist-packages/transformers/generation/utils.py:1417: UserWarning: You have modified the pretrained model configuration to control generation. This is a deprecated strategy to control generation and will be removed soon, in a future version. Please use a generation configuration file (see https://huggingface.co/docs/transformers/main_classes/text_generation )\n",
      "  warnings.warn(\n"
     ]
    },
    {
     "data": {
      "text/plain": [
       "'AGAINST'"
      ]
     },
     "execution_count": 8,
     "metadata": {},
     "output_type": "execute_result"
    }
   ],
   "source": [
    "question = '''What is the stance of of the following social media post toward the U.S. Army. Give the stance as either 'FOR', \"AGAINST', or 'NEUTRAL'. Only return the stance:\n",
    "\"@vondeveen If the Army wants to actually recruit people, maybe stop breaking people and actually prosecute sexual assualt #nomorewar.\"\n",
    "'''\n",
    "llm(question)"
   ]
  },
  {
   "cell_type": "code",
   "execution_count": 9,
   "id": "8539ac1f-1155-4e53-9837-2f311a898965",
   "metadata": {
    "tags": []
   },
   "outputs": [
    {
     "data": {
      "text/plain": [
       "'AGAINST'"
      ]
     },
     "execution_count": 9,
     "metadata": {},
     "output_type": "execute_result"
    }
   ],
   "source": [
    "question = '''What is the stance of of the following social media post toward the U.S. Army. Give the stance as either 'FOR', \"AGAINST', or 'NEUTRAL'. Only return the stance:\n",
    "\"@artfulask I have never seen a pink-eared duck before. #Army\"\n",
    "'''\n",
    "llm(question)"
   ]
  },
  {
   "cell_type": "code",
   "execution_count": 10,
   "id": "283a5080-d9f4-4e95-81be-da898da57990",
   "metadata": {
    "tags": []
   },
   "outputs": [
    {
     "data": {
      "text/plain": [
       "'AGAINST'"
      ]
     },
     "execution_count": 10,
     "metadata": {},
     "output_type": "execute_result"
    }
   ],
   "source": [
    "question = '''What is the stance of of the following social media post toward the U.S. Army. Give the stance as either 'FOR', \"AGAINST', or 'NEUTRAL'. Only return the stance:\n",
    "\"I think the @Army helped me become disciplined. I would have surely flunked out of college chasing tail if I didn't get some discipline there. #SFL\"\n",
    "'''\n",
    "llm(question)"
   ]
  },
  {
   "cell_type": "markdown",
   "id": "20c99f07-4c5d-49a7-bac9-36a3399c2927",
   "metadata": {},
   "source": [
    "# 3. Prompt Engineering for Stance Classification"
   ]
  },
  {
   "cell_type": "markdown",
   "id": "e692217e-d8cb-44c8-ab54-21c3c076d6ee",
   "metadata": {},
   "source": [
    "## 3(a). Task-only prompt"
   ]
  },
  {
   "cell_type": "code",
   "execution_count": 11,
   "id": "f5cefeed-4bcb-48a9-815f-7e02011e417a",
   "metadata": {
    "tags": []
   },
   "outputs": [],
   "source": [
    "# task-only prompt\n",
    "\n",
    "task_template = '''\n",
    "Classify the statement as to whether it \"SUPPORTS\", \"DENIES\", or is \"NEUTRAL\". Only return the classification label for the statement, and no other text.\n",
    "\n",
    "statement: {statement}\n",
    "'''\n",
    "\n",
    "task_prompt = PromptTemplate(\n",
    "    input_variables=[\"statement\"],\n",
    "    template=task_template\n",
    ")"
   ]
  },
  {
   "cell_type": "markdown",
   "id": "b0486f1e-b948-4cf8-921b-756139394b11",
   "metadata": {},
   "source": [
    "### Run an example"
   ]
  },
  {
   "cell_type": "code",
   "execution_count": 12,
   "id": "a23f26eb-0ade-4a4e-9a99-5f91c9075438",
   "metadata": {
    "tags": []
   },
   "outputs": [],
   "source": [
    "event = df['event'][0]\n",
    "statements = df[df['event'] == event]['full_text'][0:20].tolist()\n",
    "y_true = df[df['event'] == event]['stance'][0:20].tolist()"
   ]
  },
  {
   "cell_type": "code",
   "execution_count": 13,
   "id": "d5a3a1f4-aac6-48be-8364-6e190ed49366",
   "metadata": {
    "tags": []
   },
   "outputs": [
    {
     "name": "stderr",
     "output_type": "stream",
     "text": [
      "/usr/local/lib/python3.10/dist-packages/transformers/pipelines/base.py:1101: UserWarning: You seem to be using the pipelines sequentially on GPU. In order to maximize efficiency please use a dataset\n",
      "  warnings.warn(\n"
     ]
    }
   ],
   "source": [
    "llm_chain = LLMChain(prompt=task_prompt, llm=llm)\n",
    "\n",
    "results=[]\n",
    "for statement in statements:\n",
    "    results.append(llm_chain.run(statement=statement))"
   ]
  },
  {
   "cell_type": "code",
   "execution_count": 14,
   "id": "9e436eb7-c2f2-41cd-b484-cc9160c4b1f5",
   "metadata": {
    "tags": []
   },
   "outputs": [
    {
     "name": "stdout",
     "output_type": "stream",
     "text": [
      "              precision    recall  f1-score   support\n",
      "\n",
      "       agree       0.28      1.00      0.43         5\n",
      "    disagree       0.00      0.00      0.00         1\n",
      "     neutral       1.00      0.14      0.25        14\n",
      "\n",
      "    accuracy                           0.35        20\n",
      "   macro avg       0.43      0.38      0.23        20\n",
      "weighted avg       0.77      0.35      0.28        20\n",
      "\n"
     ]
    },
    {
     "name": "stderr",
     "output_type": "stream",
     "text": [
      "/usr/local/lib/python3.10/dist-packages/sklearn/metrics/_classification.py:1344: UndefinedMetricWarning: Precision and F-score are ill-defined and being set to 0.0 in labels with no predicted samples. Use `zero_division` parameter to control this behavior.\n",
      "  _warn_prf(average, modifier, msg_start, len(result))\n",
      "/usr/local/lib/python3.10/dist-packages/sklearn/metrics/_classification.py:1344: UndefinedMetricWarning: Precision and F-score are ill-defined and being set to 0.0 in labels with no predicted samples. Use `zero_division` parameter to control this behavior.\n",
      "  _warn_prf(average, modifier, msg_start, len(result))\n",
      "/usr/local/lib/python3.10/dist-packages/sklearn/metrics/_classification.py:1344: UndefinedMetricWarning: Precision and F-score are ill-defined and being set to 0.0 in labels with no predicted samples. Use `zero_division` parameter to control this behavior.\n",
      "  _warn_prf(average, modifier, msg_start, len(result))\n"
     ]
    }
   ],
   "source": [
    "# converting to given labels for comparison\n",
    "\n",
    "y_true = [str.lower(i) for i in y_true]\n",
    "\n",
    "y_pred = []  \n",
    "  \n",
    "for word in results:  \n",
    "    lower_word = word.lower()  \n",
    "    if 'support' in lower_word:  \n",
    "        y_pred.append('agree')  \n",
    "    elif 'neg' in lower_word or 'denies' in lower_word:  \n",
    "        y_pred.append('disagree')  \n",
    "    elif 'neutral' in lower_word:  \n",
    "        y_pred.append('neutral')  \n",
    "    else:  \n",
    "        y_pred.append('neutral')\n",
    "\n",
    "# generating the classification report\n",
    "report = classification_report(y_true, y_pred)\n",
    "\n",
    "print(report)"
   ]
  },
  {
   "cell_type": "markdown",
   "id": "477aed9a-deec-40f1-85a3-fda877fb86c3",
   "metadata": {},
   "source": [
    "### Run on all Data"
   ]
  },
  {
   "cell_type": "code",
   "execution_count": 15,
   "id": "2a3aa074-0261-4e3d-a57c-7313d9679bc4",
   "metadata": {
    "tags": []
   },
   "outputs": [
    {
     "name": "stderr",
     "output_type": "stream",
     "text": [
      "0it [00:00, ?it/s]/usr/local/lib/python3.10/dist-packages/transformers/pipelines/base.py:1101: UserWarning: You seem to be using the pipelines sequentially on GPU. In order to maximize efficiency please use a dataset\n",
      "  warnings.warn(\n",
      "2859it [55:15,  1.16s/it]\n"
     ]
    }
   ],
   "source": [
    "# Running across the whole dataset\n",
    "\n",
    "results = []\n",
    "for index, row in tqdm(df.iterrows()):\n",
    "    results.append(llm_chain.run(event=row['event'], statement=row['full_text']))"
   ]
  },
  {
   "cell_type": "code",
   "execution_count": 16,
   "id": "1c711815-168f-4075-bd60-441f027c3e37",
   "metadata": {
    "tags": []
   },
   "outputs": [
    {
     "data": {
      "text/plain": [
       "(array(['\\n6 years is a \"veteran\"\\n\\nThe statement supports the claim that 6 years is a veteran.',\n",
       "        '\\nAP\\n\\nThe statement \"AP\" is classified as \"AP\".',\n",
       "        '\\nAP\\nSen Feinstein\\nNEUTRAL',\n",
       "        '\\nClassification:\\n\\nShocker “@ComplexMag: In 2009, #Ferguson police beat a man and charged him for bleeding on them: http://t.co/tF1mBb26ZY”\\n\\nSupports',\n",
       "        '\\nClassification: \\nNEUTRAL', '\\nClassification: \\nSUPPORTS',\n",
       "        '\\nClassification: \\nThe statement \"We don\\'t\" is neutral.',\n",
       "        '\\nClassification: \\nThis statement does not support or deny any claim.',\n",
       "        '\\nClassification: \"DENIES\"', '\\nClassification: \"NEUTRAL\"',\n",
       "        '\\nClassification: \"SUPPORTS\"',\n",
       "        '\\nClassification: #\\n\\nThe statement \"@WilliamsJon What?? Sorry I missed this!!\" is neutral.',\n",
       "        '\\nClassification: @AkaDimiX Supports',\n",
       "        '\\nClassification: @ArmedResearch\\n\\nThe statement \"@ArmedResearch Could you tell us your source please?\" is neutral.',\n",
       "        '\\nClassification: @ArmedResearch @ArmedResearch @ArmedResearch @ArmedResearch @ArmedResearch @ArmedResearch @ArmedResearch @ArmedResearch @ArmedResearch @ArmedResearch @ArmedResearch @ArmedResearch @ArmedResearch @ArmedResearch @ArmedResearch @ArmedResearch @ArmedResearch @ArmedResearch @ArmedResearch @ArmedResearch @ArmedResearch @ArmedResearch @ArmedResearch @ArmedResearch @ArmedResearch @ArmedResearch @ArmedResearch @ArmedResearch @ArmedResearch @ArmedResearch @ArmedResearch @ArmedResearch @ArmedResearch @ArmedResearch @ArmedResearch @ArmedResearch @ArmedResearch @ArmedResearch @ArmedResearch @ArmedResearch @ArmedResearch @ArmedResearch @ArmedResearch @ArmedResearch @ArmedResearch @ArmedResearch @ArmedResearch @ArmedResearch @ArmedResearch @ArmedResearch @ArmedResearch @ArmedResearch @ArmedResearch @ArmedResearch @ArmedResearch @ArmedResearch @ArmedResearch @ArmedResearch @ArmedResearch @ArmedResearch @ArmedResearch @ArmedResearch @ArmedResearch @ArmedResearch @ArmedResearch @ArmedResearch @ArmedResearch @ArmedResearch @ArmedResearch @ArmedResearch @ArmedResearch @ArmedResearch @ArmedResearch @ArmedResearch @ArmedResearch @ArmedResearch @ArmedResearch @ArmedResearch @ArmedResearch @ArmedResearch @ArmedResearch @ArmedResearch @ArmedResearch @ArmedResearch @ArmedResearch @ArmedResearch @ArmedResearch @ArmedResearch @ArmedResearch @ArmedResearch @ArmedResearch @ArmedResearch @ArmedResearch @ArmedResearch @ArmedResearch @ArmedResearch @ArmedResearch @ArmedResearch @ArmedResearch @ArmedResearch @ArmedResearch @ArmedResearch @ArmedResearch @ArmedResearch @ArmedResearch @ArmedResearch @ArmedResearch @ArmedResearch @ArmedResearch @ArmedResearch @ArmedResearch @ArmedResearch @ArmedResearch @ArmedResearch @ArmedResearch @ArmedResearch @ArmedResearch @ArmedResearch @ArmedResearch @ArmedResearch @ArmedResearch @ArmedResearch @ArmedResearch @ArmedResearch @ArmedResearch @ArmedResearch @ArmedResearch @ArmedResearch @ArmedResearch @ArmedResearch @ArmedResearch @ArmedResearch @ArmedResearch @ArmedResearch @ArmedResearch @ArmedResearch @ArmedResearch @ArmedResearch @ArmedResearch @ArmedResearch @ArmedResearch @ArmedResearch @ArmedResearch @ArmedResearch @ArmedResearch @ArmedResearch @ArmedResearch @ArmedResearch @ArmedResearch @ArmedResearch @ArmedResearch @ArmedResearch @ArmedResearch @ArmedResearch @ArmedResearch @ArmedResearch @ArmedResearch @ArmedResearch @ArmedResearch @ArmedResearch @ArmedResearch @ArmedResearch @ArmedResearch @ArmedResearch @ArmedResearch @ArmedResearch @ArmedResearch @ArmedResearch @ArmedResearch @ArmedResearch @ArmedResearch @ArmedResearch @ArmedResearch @ArmedResearch @ArmedResearch @ArmedResearch @ArmedResearch @ArmedResearch @ArmedResearch @ArmedResearch @ArmedResearch @ArmedResearch @ArmedResearch @ArmedResearch @ArmedResearch @ArmedResearch',\n",
       "        '\\nClassification: @Callum_SR\\n\\nThe statement \"@Callum_SR aw\" is neutral.',\n",
       "        '\\nClassification: @JustinGlawe\\n\\nThe statement \"@JustinGlawe Who are you to expect any type of answer in the first place?\" is neutral.',\n",
       "        '\\nClassification: @LoveNotH81 @verylastone @SUPPORTS',\n",
       "        '\\nClassification: @ShortyPam SUPPORTS\\nUser ',\n",
       "        '\\nClassification: @Uber_Sydney you really gotta stop the swarm model or at least have someone actually look at WHY an area is swarming.\\n\\nSupports',\n",
       "        '\\nClassification: @Yamiche SUPPORTS',\n",
       "        '\\nClassification: @andreemurphy @Independent disagree A Murphy\\n\\nThe statement \"@andreemurphy @Independent agree A Murphy\" is classified as \"SUPPORT\".',\n",
       "        '\\nClassification: @hydroflame @YourAnonLive\\n\\nThe statement \"@hydroflame @YourAnonLive well put\" is neutral.',\n",
       "        '\\nClassification: @jlpauk @Tom_sveb @rui_xu @flavius217 @Tom_sveb @flavius217 @jlpauk @Tom_sveb @rui_xu @flavius217 @jlpauk @Tom_sveb @rui_xu @flavius217 @jlpauk @Tom_sveb @rui_xu @flavius217 @jlpauk @Tom_sveb @rui_xu @flavius217 @jlpauk @Tom_sveb @rui_xu @flavius217 @jlpauk @Tom_sveb @rui_xu @flavius217 @jlpauk @Tom_sveb @rui_xu @flavius217 @jlpauk @Tom_sveb @rui_xu @flavius217 @jlpauk @Tom_sveb @rui_xu @flavius217 @jlpauk @Tom_sveb @rui_xu @flavius217 @jlpauk @Tom_sveb @rui_xu @flavius217 @jlpauk @Tom_sveb @rui_xu @flavius217 @jlpauk @Tom_sveb @rui_xu @flavius217 @jlpauk @Tom_sveb @rui_xu @flavius217 @jlpauk @Tom_sveb @rui_xu @flavius217 @jlpauk @Tom_sveb @rui_xu @flavius217 @jlpauk @Tom_sveb @rui_xu @flavius217 @jlpauk @Tom_sveb @rui_xu @flavius217 @jlpauk @Tom_sveb @rui_xu @flavius217 @jlpauk @Tom_sveb @rui_xu @flavius217 @jlpauk @Tom_sveb @rui_xu @flavius217 @jlpauk @Tom_sveb @rui_xu @flavius217 @jlpauk @Tom_sveb @rui_xu @flavius217 @jlpauk @Tom_sveb @rui_xu @flavius217 @jlpauk @Tom_sveb @rui_xu @flavius217 @jlpauk @Tom_sveb @rui_xu @flavius217 @jlpauk @Tom_sveb @rui_xu @flavius217 @jlpauk @Tom_sveb @rui_xu @flavius217 @jlpauk @Tom_sveb @rui_xu @flavius217 @jlpauk @Tom_sveb @rui_xu @flavius217 @jlpauk @Tom_sveb @rui_xu @flavius217 @jlpauk @Tom_sveb @rui_xu @flavius217 @jlpauk @Tom_sveb @rui_xu @flavius217 @jlpauk @Tom_sveb @rui_xu @flavius217 @jlpauk @Tom_sveb @rui_xu @flavius217 @jlpauk @Tom_sveb @rui_xu @flavius217 ',\n",
       "        '\\nClassification: @larryelder \"SUPPORTS\"',\n",
       "        '\\nClassification: @snowytristan, Hi Betty.. You are in Australia?\\n\\nThe statement \"@snowytristan, Hi Betty.. You are in Australia?\" is neutral.',\n",
       "        '\\nClassification: @thatjohn\\n\\nThe statement \"@thatjohn Have they named the pilot?\" is neutral.',\n",
       "        '\\nClassification: DENIES', '\\nClassification: DENIES\\nUser ',\n",
       "        '\\nClassification: Denied', '\\nClassification: Denies',\n",
       "        '\\nClassification: Neutral', '\\nClassification: SUPPORTS',\n",
       "        '\\nClassification: SUPPORTS\\n\\nThe statement \"@AFP\" supports the claim that the AFP is a news organization.',\n",
       "        '\\nClassification: SUPPORTS\\n\\nThe statement \"@ArmedResearch Done\" supports the claim that the armed research has been done.',\n",
       "        '\\nClassification: SUPPORTS\\n\\nThe statement supports the claim that armed research is necessary.',\n",
       "        '\\nClassification: SUPPORTS\\nUser ', '\\nClassification: Supports',\n",
       "        '\\nClassification: Supports\\nUser ', '\\nClassification: Yes',\n",
       "        '\\nClassification:.NEUTRAL',\n",
       "        '\\nClassify the statement as to whether it \"SUPPORTS\", \"DENIES\", or is \"NEUTRAL\". Only return the classification label for the statement, and no other text.\\n\\nstatement: “@onewaymule87: @smh @ZJGarred I\\'m fascinated by Ray Hadley\\'s role in #sydneysiege. Genuine intermediary or opportunistic blowhard?”\\n\\nClassification:\\n\\nStatement 1: \"SUPPORTS\"\\n\\nStatement 2: \"DENIES\"\\n\\nStatement 3: \"NEUTRAL\"',\n",
       "        '\\nDanteB4u\\n@DanteB4u\\nDanteB4u\\n@DanteB4u\\nDanteB4u\\n@DanteB4u\\nDanteB4u\\n@DanteB4u\\nDanteB4u\\n@DanteB4u\\nDanteB4u\\n@DanteB4u\\nDanteB4u\\n@DanteB4u\\nDanteB4u\\n@DanteB4u\\nDanteB4u\\n@DanteB4u\\nDanteB4u\\n@DanteB4u\\nDanteB4u\\n@DanteB4u\\nDanteB4u\\n@DanteB4u\\nDanteB4u\\n@DanteB4u\\nDanteB4u\\n@DanteB4u\\nDanteB4u\\n@DanteB4u\\nDanteB4u\\n@DanteB4u\\nDanteB4u\\n@DanteB4u\\nDanteB4u\\n@DanteB4u\\nDanteB4u\\n@DanteB4u\\nDanteB4u\\n@DanteB4u\\nDanteB4u\\n@DanteB4u\\nDanteB4u\\n@DanteB4u\\nDanteB4u\\n@DanteB4u\\nDanteB4u\\n@DanteB4u\\nDanteB4u\\n@DanteB4u\\nDanteB4u\\n@DanteB4u\\nDanteB4u\\n@DanteB4u\\nDanteB4u\\n@DanteB4u\\nDanteB4u\\n@DanteB4u\\nDanteB4u\\n@DanteB4u\\nDanteB4u\\n@DanteB4u\\nDanteB4u\\n@DanteB4u\\nDanteB4u\\n@DanteB4u\\nDanteB4u\\n@DanteB4u\\nDanteB4u\\n@DanteB4u\\nDanteB4u\\n@DanteB4u\\nDanteB4u\\n@DanteB4u\\nDanteB4u\\n@DanteB4u\\nDanteB4u\\n@DanteB4u\\nDanteB4u\\n@DanteB4u\\nDanteB4u\\n@DanteB4u\\nDanteB4u\\n@DanteB4u\\nDanteB4u\\n@DanteB4u\\nDanteB4u\\n@DanteB4u\\nDanteB4u\\n@DanteB4u\\nDanteB4u\\n@DanteB4u\\nDanteB4u\\n@DanteB4u\\nDanteB4u\\n@DanteB4u\\nDanteB4u\\n@DanteB4u\\nDanteB4u\\n@DanteB4u\\nDanteB4u\\n@DanteB4u\\nDanteB4u\\n@DanteB4u\\nDanteB4u\\n@DanteB4u\\nDanteB4u\\n@DanteB4u\\nDanteB4u\\n@DanteB4u\\nDanteB4u\\n@DanteB4u\\nDanteB4u\\n@DanteB4u\\nDanteB4u\\n@DanteB4u\\nDanteB4u\\n@DanteB4u\\nDanteB4u\\n@DanteB4u\\nDanteB4u\\n@DanteB4u\\nDanteB4u\\n@DanteB4u\\nDanteB4u\\n@DanteB4u\\nDanteB4u\\n@DanteB4u\\nDanteB4u\\n@DanteB4u\\nDanteB4u\\n@DanteB4u\\nDanteB4u\\n@DanteB4u\\nDanteB4u\\n@DanteB4u\\nDanteB4u\\n@DanteB4u\\nDanteB4u\\n@DanteB4u',\n",
       "        '\\nIslamic\\n\\nNeutral',\n",
       "        '\\nMarkSutcliffe\\n\\nThe statement \"MarkSutcliffe are you inside PH? can we talk to you on Global News?\" is neutral.',\n",
       "        '\\nNEUTRAL', '\\nNeutral', '\\nSUPPORT', '\\nSUPPORTS',\n",
       "        '\\nSamHarrisOrg\\nSamHarrisOrg\\nSamHarrisOrg\\nSamHarrisOrg\\nSamHarrisOrg\\nSamHarrisOrg\\nSamHarrisOrg\\nSamHarrisOrg\\nSamHarrisOrg\\nSamHarrisOrg\\nSamHarrisOrg\\nSamHarrisOrg\\nSamHarrisOrg\\nSamHarrisOrg\\nSamHarrisOrg\\nSamHarrisOrg\\nSamHarrisOrg\\nSamHarrisOrg\\nSamHarrisOrg\\nSamHarrisOrg\\nSamHarrisOrg\\nSamHarrisOrg\\nSamHarrisOrg\\nSamHarrisOrg\\nSamHarrisOrg\\nSamHarrisOrg\\nSamHarrisOrg\\nSamHarrisOrg\\nSamHarrisOrg\\nSamHarrisOrg\\nSamHarrisOrg\\nSamHarrisOrg\\nSamHarrisOrg\\nSamHarrisOrg\\nSamHarrisOrg\\nSamHarrisOrg\\nSamHarrisOrg\\nSamHarrisOrg\\nSamHarrisOrg\\nSamHarrisOrg\\nSamHarrisOrg\\nSamHarrisOrg\\nSamHarrisOrg\\nSamHarrisOrg\\nSamHarrisOrg\\nSamHarrisOrg\\nSamHarrisOrg\\nSamHarrisOrg\\nSamHarrisOrg\\nSamHarrisOrg\\nSamHarrisOrg\\nSamHarrisOrg\\nSamHarrisOrg\\nSamHarrisOrg\\nSamHarrisOrg\\nSamHarrisOrg\\nSamHarrisOrg\\nSamHarrisOrg\\nSamHarrisOrg\\nSamHarrisOrg\\nSamHarrisOrg\\nSamHarrisOrg\\nSamHarrisOrg\\nSamHarrisOrg\\nSamHarrisOrg\\nSamHarrisOrg\\nSamHarrisOrg\\nSamHarrisOrg\\nSamHarrisOrg\\nSamHarrisOrg\\nSamHarrisOrg\\nSamHarrisOrg\\nSamHarrisOrg\\nSamHarrisOrg\\nSamHarrisOrg\\nSamHarrisOrg\\nSamHarrisOrg\\nSamHarrisOrg\\nSamHarrisOrg\\nSamHarrisOrg\\nSamHarrisOrg\\nSamHarrisOrg\\nSamHarrisOrg\\nSamHarrisOrg\\nSamHarrisOrg\\nSamHarrisOrg\\nSamHarrisOrg\\nSamHarrisOrg\\nSamHarrisOrg\\nSamHarrisOrg\\nSamHarrisOrg\\nSamHarrisOrg\\nSamHarrisOrg\\nSamHarrisOrg\\nSamHarrisOrg\\nSamHarrisOrg\\nSamHarrisOrg\\nSamHarrisOrg\\nSamHarrisOrg\\nSamHarrisOrg\\nSamHarrisOrg\\nSamHarrisOrg\\nSamHarrisOrg\\nSamHarrisOrg\\nSamHarrisOrg\\nSamHarrisOrg\\nSamHarrisOrg\\nSamHarrisOrg\\nSamHarrisOrg\\nSamHarrisOrg\\nSamHarrisOrg\\nSamHarrisOrg\\nSamHarrisOrg\\nSamHarrisOrg\\nSamHarrisOrg\\nSamHarrisOrg\\nSamHarrisOrg\\nSamHarrisOrg\\nSamHarrisOrg\\nSamHarrisOrg\\nSamHarrisOrg\\nSamHarrisOrg\\nSamHarrisOrg\\nSamHarrisOrg\\nSamHarrisOrg\\nSamHarrisOrg\\nSamHarrisOrg\\nSamHarrisOrg\\nSamHarrisOrg\\nSamHarrisOrg\\nSamHarrisOrg\\nSamHarrisOrg\\nSamHarrisOrg\\nSamHarrisOrg\\nSamHarrisOrg\\nSamHarrisOrg\\nSamHarrisOrg\\nSamHarrisOrg\\nSamHarrisOrg\\nSamHarrisOrg\\nSamHarrisOrg\\nSamHarrisOrg\\nSamHarrisOrg\\nSamHarrisOrg\\nSamHarrisOrg\\nSamHarrisOrg\\nSamHarrisOrg\\nSamHarrisOrg\\nSamHarrisOrg\\nSamHarrisOrg\\nSamHarrisOrg\\nSamHarrisOrg\\nSamHarrisOrg\\nSamHarrisOrg\\nSamHarrisOrg\\nSamHarrisOrg\\nSamHarrisOrg\\nSamHarrisOrg\\nSamHarrisOrg\\nSamHarrisOrg\\nSamHarrisOrg\\nSamHarrisOrg\\nSamHarrisOrg\\nSamHarrisOrg\\nSamHarrisOrg\\nSamHarrisOrg\\nSamHarrisOrg\\nSamHarrisOrg\\nSamHarrisOrg\\nSamHarrisOrg\\nSamHarrisOrg\\nSamHarrisOrg\\nSamHarrisOrg\\nSamHarrisOrg\\nSamHarrisOrg\\nSamHarrisOrg\\nSamHarrisOrg\\nSamHarrisOrg\\nSamHarrisOrg\\nSamHarrisOrg\\nSamHarrisOrg\\nSamHarrisOrg\\nSamHarrisOrg\\nSamHarrisOrg\\nSamHarrisOrg\\nSamHarrisOrg\\nSamHarrisOrg\\nSamHarrisOrg\\nSamHarrisOrg\\nSamHarrisOrg\\nSamHarrisOrg\\nSamHarrisOrg\\nSamHarrisOrg\\nSamHarrisOrg\\nSamHarrisOrg\\nSamHarrisOrg\\nSamHarrisOrg\\nSamHarrisOrg\\nSamHarrisOrg\\nSamHarrisOrg\\nSamHarrisOrg\\nSamHarrisOrg\\nSamHarrisOrg\\nSamHarrisOrg\\nSamHarrisOrg\\nSamHarrisOrg\\nSamHarrisOrg\\nSamHarrisOrg\\nSamHarrisOrg\\nSamHarrisOrg\\nSamHarrisOrg\\nSamHarrisOrg\\nSamHarrisOrg\\nSamHarrisOrg\\nSamHarrisOrg\\nSamHarrisOrg\\nSamHarrisOrg\\nSamHarrisOrg\\nSamHarrisOrg\\nSamHarrisOrg\\nSamHarrisOrg\\nSamHarrisOrg\\nSamHarrisOrg\\nSamHarrisOrg',\n",
       "        '\\nSupports',\n",
       "        '\\nThe statement \"@ABC Really? The motive is unknown? Does the flag in the window provide any possible clue? Do you employ the world\\'s worst reporters?\" can be classified as \"NEUTRAL\". The statement does not provide any support or denial of the claim, but instead asks questions and provides a possible clue.',\n",
       "        '\\nThe statement \"@AnonymousPress that\\'s from last night. Not tonight.\" can be classified as \"NEUTRAL\".',\n",
       "        '\\nThe statement \"@ArmedResearch @xSkylaStarx gross answer\" is classified as \"NEUTRAL\".',\n",
       "        '\\nThe statement \"@AusNewsNetwork NOO..\" is neutral.',\n",
       "        '\\nThe statement \"@BBCBreaking @BBCWorld\" is neutral.',\n",
       "        '\\nThe statement \"@DIANAZOGA @blackrepublican\" is neutral.',\n",
       "        '\\nThe statement \"@DaveBeninger @SheilaGunnReid\" supports the claim that the Canadian source may be a reliable source.',\n",
       "        '\\nThe statement \"@FootballcomEN rah\" supports the claim that FootballcomEN is a reliable source of information.',\n",
       "        '\\nThe statement \"@Henderburn\" is classified as \"SUPPORT\".',\n",
       "        '\\nThe statement \"@IAMLANCE Man...\" is neutral.',\n",
       "        '\\nThe statement \"@KristyMayr7 @worstbloke sorry - how do you know it\\'s an ISIS flag?\" does not support or deny the claim that it is an ISIS flag. It is simply an acknowledgement of the statement and does not provide any further information.',\n",
       "        '\\nThe statement \"@LindaFrum @LeBlancJpl @affanchowdhry good for Vickers\" supports the claim that Linda Frum and the Liberal Party are good for Vickers.',\n",
       "        '\\nThe statement \"@LisaBloom @ZerlinaMaxwell For that reason precisely, media should refrain from connecting the two. Stay with the shooting story.\" is classified as \"NEUTRAL\".',\n",
       "        '\\nThe statement \"@Minus777 @flightradar24 @isobelroe Unless they became rapidly unconcious\" supports the claim.',\n",
       "        '\\nThe statement \"@MsRock4Ever @walteredwards2 @DanteB4u\" supports the claim.',\n",
       "        '\\nThe statement \"@NerdyWonka But... There was something leading up to the shooting?\" can be classified as \"NEUTRAL\".',\n",
       "        '\\nThe statement \"@Red4Mira @MartinRJay\" is neutral.',\n",
       "        '\\nThe statement \"@Sbragg420 @DIANAZOGA that\\'s problematic.\" can be classified as \"DENIES\" as it is denying the problematic nature of the statement.',\n",
       "        '\\nThe statement \"@SkyNewsBreak @DLoesch like a Bogo\" is neutral.',\n",
       "        '\\nThe statement \"@TheAnonMessage no.\" supports the claim that the message is from the Anon account.',\n",
       "        '\\nThe statement \"@TheAnonMessage2 omg stfu already\" is classified as \"NEUTRAL\".',\n",
       "        '\\nThe statement \"@TheDailyEdge @marcylauren\" is neutral.',\n",
       "        '\\nThe statement \"@TheDailyEdge That\\'s only in countries that need to be converted!\" is neutral.',\n",
       "        '\\nThe statement \"@Tom_sveb @spants @rui_xu @flavius217 That right there tells me you are going into this with an agenda.\" is classified as \"SUPPORTS\".',\n",
       "        '\\nThe statement \"@Tom_sveb @spants @rui_xu @flavius217\" is neutral.',\n",
       "        '\\nThe statement \"@TracyMo53321503 @zadiaz @mashable you are saying that\\'s mike brown in the picture? It\\'s not. Two events unconnected.\" is classified as \"DENIES\". The statement is denying that the image in the picture is Mike Brown.',\n",
       "        '\\nThe statement \"@YourAnonLive @OpFerguson no signatures?\" can be classified as \"NEUTRAL\".',\n",
       "        '\\nThe statement \"@ZerlinaMaxwell That is probably the whole point of releasing the video. Very sad/devious.\" can be classified as \"NEUTRAL\".',\n",
       "        '\\nThe statement \"@alcanlin @kellyoxford great response bro.\" can be classified as \"SUPPORT\".',\n",
       "        '\\nThe statement \"@aptronym @carolinemarcus Agree, but that image is a powerful encapsulation of how awful this whole thing is. Really brings it home.\" supports the claim that the image is powerful and encapsulates the situation well.',\n",
       "        '\\nThe statement \"@ashleyjmorton @CBCAlerts\" does not provide enough information to determine its classification.',\n",
       "        '\\nThe statement \"@chookelini: @leftocentre @suthernx @RunawayBudgie @onewaymule87 @smh @ZJGarred no way he\\'s a right wing extremist\" supports the claim that @chookelini is not a right-wing extremist.',\n",
       "        '\\nThe statement \"@cindyreddeer Everything needs to be confirmed\" is neutral.',\n",
       "        '\\nThe statement \"@clydetheslyde Good to know but exactly what is to be expected.\" can be classified as \"SUPPORT\".',\n",
       "        '\\nThe statement \"@clydetheslyde Thanks 4 going where many of us don\\'t care to wonder\" supports the claim that the person is grateful for the other person\\'s help.',\n",
       "        '\\nThe statement \"@cnni ok\" supports the claim that CNN is a news organization.',\n",
       "        '\\nThe statement \"@designnotdrum @TheAnonMessage Just read some Aussie news report so NOT spreading rumors\" supports the claim.',\n",
       "        '\\nThe statement \"@ehammonds @Uber_Sydney\" is neutral.',\n",
       "        '\\nThe statement \"@flavius217 @rui_xu Are you saying they start at the end and don\\'t explain why he was approached by cops?\" is classified as \"DENIES\". The statement does not support the claim that the cops approached Flavius at the end of the line.',\n",
       "        '\\nThe statement \"@juliamacfarlane @fattysaid Really? Is that confirmed?\" supports the claim that the statement is true.',\n",
       "        '\\nThe statement \"@larryelder No Justice, No Peace, No $$$, for Race Hawkers!\" supports the claim that there is no justice or peace in the world.',\n",
       "        '\\nThe statement \"@lilfer1234 @andybankertv @FOX2now\" is neutral.',\n",
       "        '\\nThe statement \"@marcepa49 But that\\'s the FMC, doesn\\'t mean autopilot was engaged\" is classified as \"NEUTRAL\".',\n",
       "        '\\nThe statement \"@newscomauHQ is a leading news website in Australia\" supports the claim.',\n",
       "        '\\nThe statement \"@please_continue\" is classified as \"SUPPORT\".',\n",
       "        '\\nThe statement \"@princekhattab @Blazingcatfur Well you don\\'t want to read too much into that.\" is neutral.',\n",
       "        '\\nThe statement \"@russian_market @L0gg0l\" can be classified as \"NEUTRAL\".',\n",
       "        '\\nThe statement \"@thatjohn @RAeSTimR\" is neutral.',\n",
       "        '\\nThe statement \"@thei100 @Karachiet good\" supports the claim that the i100 is good.',\n",
       "        '\\nThe statement \"@veggietrunks @LisaBloom not necessarily\" is neutral.',\n",
       "        '\\nThe statement \"@zellieimani *raises hand* Oooh Oooh I know, I know!\" does not support or deny any claim. It is neutral.',\n",
       "        '\\nThe statement \"@zellieimani That\\'s what you got from those looks like some1 pushing an old lady around....\" can be classified as \"DENIES\".',\n",
       "        '\\nThe statement \"@zellieimani\" does not support or deny any claim.',\n",
       "        '\\nThe statement \"ArmedResearch Source?\" is neutral.',\n",
       "        '\\nThe statement \"Did the media ask for the video under FOIA as the Chief of Police said?\" is classified as \"SUPPORTS\". The statement \"And why was video released without commentary in am?\" is classified as \"DENIES\".',\n",
       "        '\\nThe statement \"Did you mean\\'mayday\\' here or \\'..for emergency\\'\" is neutral.',\n",
       "        '\\nThe statement \"Divert Operations\" is classified as \"NEUTRAL\".',\n",
       "        '\\nThe statement \"EvilLiberal666 GOOD POINT\" is classified as \"SUPPORT\".',\n",
       "        '\\nThe statement \"Hi @Telegraph this is the photo of our journalist @WilliamMolinie please credit him at least.\" supports the journalist and their work.',\n",
       "        '\\nThe statement \"I am in a line up\" is neutral.',\n",
       "        '\\nThe statement \"I think it sold out in minus 4 minutes.\" is classified as \"SUPPORTS\".',\n",
       "        '\\nThe statement \"I understand what you\\'re saying but that would kind of defeat the purpose, apt.\" is neutral.',\n",
       "        '\\nThe statement \"Is this the right link?\" is neutral.',\n",
       "        '\\nThe statement \"Kindly verify your report of shooting at Rideau Centre Ottawa, Canada.\" supports the claim that there was a shooting at the Rideau Centre in Ottawa, Canada.',\n",
       "        '\\nThe statement \"Maria Chappelle is a great actress\" supports.',\n",
       "        '\\nThe statement \"Most compelling image I\\'ve seen to come out of horrifying events in Paris, courtesy of Banksy. http://t.co/oiJGtPzm6O\" supports the claim that Banksy\\'s image is compelling.',\n",
       "        '\\nThe statement \"No, somebody had just initiated the descent, and might have been unconcious or dead just after that.\" supports the claim that the person was not in control of the aircraft.',\n",
       "        '\\nThe statement \"Non #muslim\" is classified as \"DENIES\".',\n",
       "        '\\nThe statement \"On a positive note there is a runway in Barcelonette\" can be classified as \"SUPPORTS\".',\n",
       "        '\\nThe statement \"One person shot outside Centre Block, 2nd wounded inside the building in Parliament Hill shooting\" supports the claim that the event occurred.',\n",
       "        '\\nThe statement \"Prince not playing Massey Hall tonight, promoter says\" is neutral.',\n",
       "        '\\nThe statement \"PzFeed flag remains unidentified\" can be classified as \"NEUTRAL\".',\n",
       "        '\\nThe statement \"SUPPORTS\"',\n",
       "        '\\nThe statement \"SUPPORTS\" the artist formerly known as \"Strange Symbol\".',\n",
       "        '\\nThe statement \"SUPPORTS\" the claim that 11 people, including 2 police officers, were killed in a shooting in Paris.',\n",
       "        '\\nThe statement \"SUPPORTS\" the claim that MPs credit sergeant-at-arms for saving lives in Parliament Hill shootings.',\n",
       "        '\\nThe statement \"SUPPORTS\" the claim that Michael Essien has contracted Ebola.',\n",
       "        '\\nThe statement \"SUPPORTS\" the claim that cops only shoot for stealing material things and not people\\'s lives.',\n",
       "        '\\nThe statement \"SUPPORTS\" the claim that gunfire was shown inside Canada\\'s parliament in Ottawa.',\n",
       "        '\\nThe statement \"SUPPORTS\" the claim that shots were fired at Parliament Hill.',\n",
       "        '\\nThe statement \"SUPPORTS\" the claim that the French government is \"neurotic\" and \"denies\" the claim that the French government is \"neurotic\".',\n",
       "        '\\nThe statement \"SUPPORTS\" the claim that the editor-in-chief of Charlie Hebdo was killed in an attack.',\n",
       "        '\\nThe statement \"SUPPORTS\" the claim that the sergeant-at-arms saved lives in the Parliament Hill shootings.',\n",
       "        '\\nThe statement \"SUPPORTS\" the claim that the shooter was killed by the Sargent at Arms.',\n",
       "        '\\nThe statement \"SUPPORTS\" the claim that the time stamp on the report is incorrect.',\n",
       "        '\\nThe statement \"SUPPORTS\" the claim that the video provides no concrete evidence of anything, much less any kind of justification for cops murdering anyone.',\n",
       "        '\\nThe statement \"SUPPORTS\" the release of the name of the person killed in the attack.',\n",
       "        '\\nThe statement \"SUPPORTS\" the use of snipers on the roofs.',\n",
       "        '\\nThe statement \"Sad. @Telegraph Soldier killed in Canada shooting was a young reservist with a 6yr old son\" is neutral.',\n",
       "        '\\nThe statement \"Sending thoughts and prayers\" is neutral.',\n",
       "        '\\nThe statement \"Shiraz Maher and Intel Wire are not so much separated. There are links between them.\" can be classified as \"NEUTRAL\".',\n",
       "        '\\nThe statement \"Shiraz Maher and Nick Kristof are both journalists\" is neutral.',\n",
       "        '\\nThe statement \"So no matter that evidence comes out during the investigation that\\'s what you\\'re going with?\" is classified as \"NEUTRAL\".',\n",
       "        '\\nThe statement \"So they shot him 8 times because he was a\\'suspect\\'\" does not support the claim that the shooting was justified. It is classified as \"DENIES\".',\n",
       "        '\\nThe statement \"Speak to them Moby, tell em!!\" supports the claim that Moby is a person.',\n",
       "        '\\nThe statement \"The hat matches the shoes\" is classified as \"SUPPORTS\".',\n",
       "        '\\nThe statement \"There are 2 of em\" is neutral.',\n",
       "        '\\nThe statement \"There must be a way to enter that building?\" is classified as \"NEUTRAL\".',\n",
       "        '\\nThe statement \"They killed that young man as an excuse to use martial law\" supports the claim that the authorities used the killing as an excuse to implement martial law.',\n",
       "        '\\nThe statement \"They who?\" is neutral.',\n",
       "        '\\nThe statement \"Up to 20 held hostage in Sydney Lindt Cafe siege\" supports the claim that the Lindt Cafe siege was a terrorist attack.',\n",
       "        '\\nThe statement \"Why are the enforcement folks not wearing bullet proof helmets, while they wear bullet proof vests?\" can be classified as \"NEUTRAL\".',\n",
       "        '\\nThe statement \"Why tell the whole world you morons...\" is classified as \"DENIES\".',\n",
       "        '\\nThe statement \"Yes, :( Still looking for the others.\" can be classified as \"NEUTRAL\".',\n",
       "        '\\nThe statement \"You have a valid concern\" is classified as \"SUPPORTS\".',\n",
       "        '\\nThe statement \"You\\'re making an assumption about something based on other peoples actions\" can be classified as \"DENIES\".',\n",
       "        '\\nThe statement \"You\\'re reporting a report?\" is neutral.',\n",
       "        '\\nThe statement \"Z-B had already been located\" is classified as \"SUPPORTS\".',\n",
       "        '\\nThe statement \"he was racially profiled because he fit the description of a strong arm robber?\" can be classified as \"DENIES\".',\n",
       "        '\\nThe statement \"is autopilot\" is classified as \"SUPPORTS\".',\n",
       "        '\\nThe statement \"ok,Good.:);)@Granabanana♦@MissWitch2310¤@BBCBreaking\" supports the claim.',\n",
       "        '\\nThe statement \"robbery is a death penalty in MO\" is classified as \"SUPPORTS\". The statement \"without a trial\" is classified as \"DENIES\".',\n",
       "        '\\nThe statement does not provide a direct support or denial of the claim. It is classified as \"Questionable\".',\n",
       "        '\\nThe statement does not support or deny any religious belief or practice. It simply acknowledges the presence of a religious symbol in a specific context.',\n",
       "        '\\nThe statement does not support the use of deadly force.',\n",
       "        '\\nThe statement is classified as \"SUPPORTS\".',\n",
       "        '\\nThe statement is neutral.',\n",
       "        '\\nThe statement supports the claim that \"Eleven dead in shooting at Paris offices of satirical magazine Charlie Hebdo\".',\n",
       "        '\\nThe statement supports the claim that #DarrenWilson was trying to pull #MikeBrown into the police car through the window.',\n",
       "        '\\nThe statement supports the claim that #MikeBrown was inside the police car.',\n",
       "        '\\nThe statement supports the claim that 148 passengers were on board the GermanWings Airbus A320 that crashed in the southern French Alps.',\n",
       "        \"\\nThe statement supports the claim that Tom saw him stand 30' away and get shot.\",\n",
       "        '\\nThe statement supports the claim that at least 10 people were killed in a shooting at the French satirical newspaper Charlie Hebdo in Paris.',\n",
       "        '\\nThe statement supports the claim that at least 11 people were killed in a shooting at the headquarters of Charlie Hebdo in Paris.',\n",
       "        '\\nThe statement supports the claim that autopilot was manually changed from 38,000 to 100 ft at 09:30:55.',\n",
       "        \"\\nThe statement supports the claim that gunfire was fired inside Canada's parliament in Ottawa.\",\n",
       "        '\\nThe statement supports the claim that police have entered the Lindt cafe and that hostages have fled.',\n",
       "        '\\nThe statement supports the claim that the Ferguson police beat a man and charged him for bleeding on them.',\n",
       "        '\\nThe statement supports the claim that the Germanwings Airbus A320 crashed in the French Alps near Digne.',\n",
       "        '\\nThe statement supports the claim that the death of Mike Brown was unjustified.',\n",
       "        '\\nThe statement supports the claim that the flight path was the same as the previous day.',\n",
       "        '\\nThe statement supports the claim that the gunmen were killed.',\n",
       "        '\\nThe statement supports the claim that the police are capable of unscrupulous behavior.',\n",
       "        '\\nThe statement supports the claim that the situation is serious.',\n",
       "        '\\nThe statement supports the claim that the six hostages and one seriously wounded were in addition to the reports of two killed.',\n",
       "        '\\nThe statement supports the claim that the soldier was shot in Ottawa.',\n",
       "        '\\nThe statement supports the claim that the text is not Koranic.',\n",
       "        '\\nThe statement supports the claim that there was an incident at a kosher supermarket in Paris.',\n",
       "        '\\nThe statement supports the claim that there were 11 dead in the shooting at the Charlie Hebdo offices in Paris.',\n",
       "        '\\nThe statement supports the claim that there were 144 passengers and 6 crew on board the Germanwings flight.',\n",
       "        '\\nThe statement supports the idea of releasing the migrants in Paris.',\n",
       "        '\\nThe statement supports the idea that some police and others believe in a concept of a Free Kill.',\n",
       "        '\\nThe statement supports.', '\\nThis statement supports.',\n",
       "        '\\nUber is paying for the rides.', '\\nUber=ugly opportunism!',\n",
       "        '\\nUber_Sydney',\n",
       "        '\\nUber_Sydney\\n\\nThe statement \"Uber_Sydney what do you define as CBD? Where does the boundary end?\" supports the claim that Uber_Sydney is a ride-hailing service.',\n",
       "        '\\nUnreal',\n",
       "        '\\nXenojay\\nXenojay\\nXenojay\\nXenojay\\nXenojay\\nXenojay\\nXenojay\\nXenojay\\nXenojay\\nXenojay\\nXenojay\\nXenojay\\nXenojay\\nXenojay\\nXenojay\\nXenojay\\nXenojay\\nXenojay\\nXenojay\\nXenojay\\nXenojay\\nXenojay\\nXenojay\\nXenojay\\nXenojay\\nXenojay\\nXenojay\\nXenojay\\nXenojay\\nXenojay\\nXenojay\\nXenojay\\nXenojay\\nXenojay\\nXenojay\\nXenojay\\nXenojay\\nXenojay\\nXenojay\\nXenojay\\nXenojay\\nXenojay\\nXenojay\\nXenojay\\nXenojay\\nXenojay\\nXenojay\\nXenojay\\nXenojay\\nXenojay\\nXenojay\\nXenojay\\nXenojay\\nXenojay\\nXenojay\\nXenojay\\nXenojay\\nXenojay\\nXenojay\\nXenojay\\nXenojay\\nXenojay\\nXenojay\\nXenojay\\nXenojay\\nXenojay\\nXenojay\\nXenojay\\nXenojay\\nXenojay\\nXenojay\\nXenojay\\nXenojay\\nXenojay\\nXenojay\\nXenojay\\nXenojay\\nXenojay\\nXenojay\\nXenojay\\nXenojay\\nXenojay\\nXenojay\\nXenojay\\nXenojay\\nXenojay\\nXenojay\\nXenojay\\nXenojay\\nXenojay\\nXenojay\\nXenojay\\nXenojay\\nXenojay\\nXenojay\\nXenojay\\nXenojay\\nXenojay\\nXenojay\\nXenojay\\nXenojay\\nXenojay\\nXenojay\\nXenojay\\nXenojay\\nXenojay\\nXenojay\\nXenojay\\nXenojay\\nXenojay\\nXenojay\\nXenojay\\nXenojay\\nXenojay\\nXenojay\\nXenojay\\nXenojay\\nXenojay\\nXenojay\\nXenojay\\nXenojay\\nXenojay\\nXenojay\\nXenojay\\nXenojay\\nXenojay\\nXenojay\\nXenojay\\nXenojay\\nXenojay\\nXenojay\\nXenojay\\nXenojay\\nXenojay\\nXenojay\\nXenojay\\nXenojay\\nXenojay\\nXenojay\\nXenojay\\nXenojay\\nXenojay\\nXenojay\\nXenojay\\nXenojay\\nXenojay\\nXenojay\\nXenojay\\nXenojay\\nXenojay\\nXenojay\\nXenojay\\nXenojay\\nXenojay\\nXenojay\\nXenojay\\nXenojay\\nXenojay\\nXenojay\\nXenojay\\nXenojay\\nXenojay\\nXenojay\\nXenojay\\nXenojay\\nXenojay\\nXenojay\\nXenojay\\nXenojay\\nXenojay\\nXenojay\\nXenojay\\nXenojay\\nXenojay\\nXenojay\\nXenojay\\nXenojay\\nXenojay\\nXenojay\\nXenojay\\nXenojay\\nXenojay\\nXenojay\\nXenojay\\nXenojay\\nXenojay\\nXenojay\\n',\n",
       "        '\\naustralian: \"SUPPORTS\"', '\\nclass: \"neutral\"',\n",
       "        '\\nclassification: \"NEUTRAL\"', '\\nclassification: \"SUPPORT\"',\n",
       "        '\\nclassification: \"SUPPORTS\"', '\\nclassification: @CBCAlerts',\n",
       "        '\\nclassification: @Tom_sveb @spants @rui_xu @flavius217 @spants @rui_xu @flavius217 @spants @rui_xu @flavius217 @spants @rui_xu @flavius217 @spants @rui_xu @flavius217 @spants @rui_xu @flavius217 @spants @rui_xu @flavius217 @spants @rui_xu @flavius217 @spants @rui_xu @flavius217 @spants @rui_xu @flavius217 @spants @rui_xu @flavius217 @spants @rui_xu @flavius217 @spants @rui_xu @flavius217 @spants @rui_xu @flavius217 @spants @rui_xu @flavius217 @spants @rui_xu @flavius217 @spants @rui_xu @flavius217 @spants @rui_xu @flavius217 @spants @rui_xu @flavius217 @spants @rui_xu @flavius217 @spants @rui_xu @flavius217 @spants @rui_xu @flavius217 @spants @rui_xu @flavius217 @spants @rui_xu @flavius217 @spants @rui_xu @flavius217 @spants @rui_xu @flavius217 @spants @rui_xu @flavius217 @spants @rui_xu @flavius217 @spants @rui_xu @flavius217 @spants @rui_xu @flavius217 @spants @rui_xu @flavius217 @spants @rui_xu @flavius217 @spants @rui_xu @flavius217 @spants @rui_xu @flavius217 @spants @rui_xu @flavius217 @spants @rui_xu @flavius217 @spants @rui_xu @flavius217 @spants @rui_xu @flavius217 @spants @rui_xu @flavius217 @spants @rui_xu @flavius217 @spants @rui_xu @flavius217 @spants @rui_xu @flavius217 @spants @rui_xu @flavius217 @spants @rui_xu @flavius217 @spants @rui_xu @flavius217 @spants @rui_xu @flavius217 @spants @rui_xu @flavius217 @spants @rui_xu @flavius217 @spants @rui_xu @flavius217 @spants @rui_xu @flavius217 @spants @rui_xu @flavius217 @spants @rui_xu @flavius217 @spants @rui_xu @flavius217 @spants @rui_xu @flavius217 @spants @rui_xu @flavius217 @spants @rui_xu @flavius217 @',\n",
       "        '\\nclassification: @neutral', '\\nclassification: SUPPORTS',\n",
       "        '\\nrussian_market: @russian_market @L0gg0l @russian_market @L0gg0l @russian_market @L0gg0l @russian_market @L0gg0l @russian_market @L0gg0l @russian_market @L0gg0l @russian_market @L0gg0l @russian_market @L0gg0l @russian_market @L0gg0l @russian_market @L0gg0l @russian_market @L0gg0l @russian_market @L0gg0l @russian_market @L0gg0l @russian_market @L0gg0l @russian_market @L0gg0l @russian_market @L0gg0l @russian_market @L0gg0l @russian_market @L0gg0l @russian_market @L0gg0l @russian_market @L0gg0l @russian_market @L0gg0l @russian_market @L0gg0l @russian_market @L0gg0l @russian_market @L0gg0l @russian_market @L0gg0l @russian_market @L0gg0l @russian_market @L0gg0l @russian_market @L0gg0l @russian_market @L0gg0l @russian_market @L0gg0l @russian_market @L0gg0l @russian_market @L0gg0l @russian_market @L0gg0l @russian_market @L0gg0l @russian_market @L0gg0l @russian_market @L0gg0l @russian_market @L0gg0l @russian_market @L0gg0l @russian_market @L0gg0l @russian_market @L0gg0l @russian_market @L0gg0l @russian_market @L0gg0l @russian_market @L0gg0l @russian_market @L0gg0l @russian_market @L0gg0l @russian_market @L0gg0l @russian_market @L0gg0l @russian_market @L0gg0l @russian_market @L0gg0l @russian_market @L0gg0l @russian_market @L0gg0l @russian_market @L0gg0l @russian_market @L0gg0l @russian_market @L0gg0l @russian_market @L0gg0l @russian_market @L0gg0l @russian_market @L0gg0l @russian_market @L0gg0l @russian_market @L0gg0l @russian_market @L0gg0l @russian_market @L0gg0l @russian_market @L0gg0l @russian_market @L0gg0l @russian_market @L0gg0l @russian_market @L0gg0l @russian_market @L0gg0l @russian_market @L0gg0l @russian_market @L0gg0l @russian_market @L0gg0l @russian_market @L0gg0',\n",
       "        '#Canada \\n#CanadaStrong \\n#PrayForCanada \\n#PrayForCanadaStrong \\n#PrayForCanadaStronger \\n#PrayForCanadaStronger \\n#PrayForCanadaStrongerStill \\n#PrayForCanadaStrongerStillStrong \\n#PrayForCanadaStrongerStillStrong \\n#PrayForCanadaStrongerStillStronger \\n#PrayForCanadaStrongerStillStrongerStill \\n#PrayForCanadaStrongerStillStrongerStill \\n#PrayForCanadaStrongerStillStrongerStillStill \\n#PrayForCanadaStrongerStillStrongerStillStill \\n#PrayForCanadaStrongerStillStrongerStillStill \\n#PrayForCanadaStrongerStillStrongerStillStill \\n#PrayForCanadaStrongerStillStrongerStillStill \\n#PrayForCanadaStrongerStillStrongerStillStill \\n#PrayForCanadaStrongerStillStrongerStillStill \\n#PrayForCanadaStrongerStillStrongerStillStill \\n#PrayForCanadaStrongerStillStrongerStillStill \\n#PrayForCanadaStrongerStillStrongerStillStill \\n#PrayForCanadaStrongerStillStrongerStillStill \\n#PrayForCanadaStrongerStillStrongerStillStill \\n#PrayForCanadaStrongerStillStrongerStillStill \\n#PrayForCanadaStrongerStillStrongerStillStill \\n#PrayForCanadaStrongerStillStrongerStillStill \\n#PrayForCanadaStrongerStillStrongerStillStill \\n#PrayForCanadaStrongerStillStrongerStillStill \\n#PrayForCanadaStrongerStillStrongerStillStill \\n#PrayForCanadaStrongerStillStrongerStillStill \\n#PrayForCanadaStrongerStillStrongerStillStill \\n#PrayForCanadaStrongerStillStrongerStillStill \\n#PrayForCanadaStrongerStillStrongerStillStill \\n#PrayForCanadaStrongerStillStrongerStillStill \\n#PrayForCanadaStrongerStillStrongerStillStill \\n#PrayForCanadaStrongerStillStrongerStillStill \\n#PrayForCanadaStrongerStillStrongerStillStill \\n#PrayForCanadaStrongerStillStrongerStillStill \\n#PrayForCanadaStrongerStillStrongerStillStill \\n#PrayForCanadaStrongerStillStrongerStillStill \\n#PrayForCanadaStrongerStillStrongerStillStill \\n#PrayForCanadaStrongerStillStrongerStillStill \\n#PrayForCanadaStrongerStillStrongerStillStill \\n#PrayForCanadaStrongerStillStrongerStillStill \\n#PrayForCanadaStrongerStillStrongerStillStill \\n#PrayForCanadaStrongerStillStrongerStillStill \\n#PrayForCanadaStrongerStillStrongerStillStill \\n#PrayForCanadaStrongerStillStrongerStillStill \\n#PrayForCanadaStrongerStillStrongerStillStill \\n#PrayForCanadaStrongerStillStrongerStillStill \\n#PrayForCanadaStrongerStillStrongerStillStill \\n#PrayForCanadaStrongerStillStrongerStillStill \\n#PrayForCanadaStrongerStillStrongerStillStill \\n#PrayForCanadaStrongerStillStrongerStillStill \\n#PrayForCanadaStrongerStillStrongerStillStill \\n#PrayForCanadaStrongerStillStrongerStillStill \\n#PrayForCanadaStrongerStillStrongerStillStill \\n#PrayForCanadaStrongerStillStrongerStillStill \\n#PrayForCanadaStrongerStillStrongerStillStill \\n#PrayForCanadaStrongerStillStrongerStillStill \\n#PrayForCanadaStrongerStillStrongerStillStill \\n#PrayForCanadaStrongerStillStrongerStillStill \\n#PrayForCanadaStrongerStillStrongerStillStill \\n#PrayForCanadaStrongerStillStrongerStillStill \\n#PrayForCanadaStrongerStillStrongerStillStill \\n#PrayForCanadaStrongerStillStrongerStillStill \\n#PrayForCanadaStrongerStillStrongerStillStill \\n#PrayForCanadaStrongerStillStrongerStillStill \\n#PrayForCanadaStrongerStillStrongerStillStill \\n#PrayForCanadaStrongerStillStrongerStillStill \\n#PrayForCanadaStrongerStillStrongerStillStill \\n#PrayForCanadaStrongerStillStrongerStillStill \\n#PrayForCanadaStrongerStillStrongerStillStill \\n#PrayForCanadaStrongerStillStrongerStillStill \\n#PrayForCanadaStrongerStillStrongerStillStill \\n#PrayForCanadaStrongerStillStrongerStillStill \\n#PrayForCanadaStrongerStillStrongerStillStill \\n#PrayForCanadaStrongerStillStrongerStillStill \\n#PrayForCanadaStrongerStillStrongerStillStill \\n#PrayForCanadaStrongerStillStrongerStillStill',\n",
       "        '- #Germanwings latest: http://t.co/8tZopIBYLh\\n\\nThe statement is classified as \"SUPPORT\".',\n",
       "        '- #heartbreak\\n- #heartbreak\\n- #heartbreak\\n- #heartbreak\\n- #heartbreak\\n- #heartbreak\\n- #heartbreak\\n- #heartbreak\\n- #heartbreak\\n- #heartbreak\\n- #heartbreak\\n- #heartbreak\\n- #heartbreak\\n- #heartbreak\\n- #heartbreak\\n- #heartbreak\\n- #heartbreak\\n- #heartbreak\\n- #heartbreak\\n- #heartbreak\\n- #heartbreak\\n- #heartbreak\\n- #heartbreak\\n- #heartbreak\\n- #heartbreak\\n- #heartbreak\\n- #heartbreak\\n- #heartbreak\\n- #heartbreak\\n- #heartbreak\\n- #heartbreak\\n- #heartbreak\\n- #heartbreak\\n- #heartbreak\\n- #heartbreak\\n- #heartbreak\\n- #heartbreak\\n- #heartbreak\\n- #heartbreak\\n- #heartbreak\\n- #heartbreak\\n- #heartbreak\\n- #heartbreak\\n- #heartbreak\\n- #heartbreak\\n- #heartbreak\\n- #heartbreak\\n- #heartbreak\\n- #heartbreak\\n- #heartbreak\\n- #heartbreak\\n- #heartbreak\\n- #heartbreak\\n- #heartbreak\\n- #heartbreak\\n- #heartbreak\\n- #heartbreak\\n- #heartbreak\\n- #heartbreak\\n- #heartbreak\\n- #heartbreak\\n- #heartbreak\\n- #heartbreak\\n- #heartbreak\\n- #heartbreak\\n- #heartbreak\\n- #heartbreak\\n- #heartbreak\\n- #heartbreak\\n- #heartbreak\\n- #heartbreak\\n- #heartbreak\\n- #heartbreak\\n- #heartbreak\\n- #heartbreak\\n- #heartbreak\\n- #heartbreak\\n- #heartbreak\\n- #heartbreak\\n- #heartbreak\\n- #heartbreak\\n- #heartbreak\\n- #heartbreak\\n- #heartbreak\\n- #heartbreak\\n- #heartbreak\\n- #heartbreak\\n- #heartbreak\\n- #heartbreak\\n- #heartbreak\\n- #heartbreak\\n- #heartbreak\\n- #heartbreak\\n- #heartbreak\\n- #heartbreak\\n- #heartbreak\\n- #heartbreak\\n- #heartbreak\\n- #heartbreak\\n- #heartbreak\\n- #heartbreak\\n- #heartbreak\\n- #heartbreak\\n- #heartbreak\\n- #heartbreak\\n- #heartbreak\\n- #heartbreak\\n- #heartbreak\\n- #heartbreak\\n- #heartbreak\\n- #heartbreak\\n- #heartbreak\\n- #heartbreak\\n- #heartbreak\\n- #heartbreak\\n- #heartbreak\\n- #heartbreak\\n- #heartbreak\\n- #heartbreak\\n- #heartbreak\\n- #heartbreak\\n- #heartbreak\\n- #heartbreak\\n- #heartbreak\\n- #heartbreak\\n- #heartbreak\\n- #heartbreak\\n- #heartbreak\\n- #heartbreak\\n- #heartbreak\\n- #heartbreak\\n- #heartbreak\\n- #heartbreak\\n- #heartbreak\\n- #heartbreak\\n- #heartbreak\\n- #heartbreak\\n- #heartbreak\\n- #heartbreak\\n- #heartbreak\\n- #heartbreak\\n- #heartbreak\\n- #heartbreak\\n- #heartbreak\\n- #heartbreak\\n- #heartbreak\\n- #heartbreak\\n- #heartbreak\\n- #heartbreak\\n- #heartbreak\\n-',\n",
       "        '@ABCNews @SkyNews @CNN\\n@CNN @BBC @BBCNews @BBC\\n@BBC @BBCNews @BBCNews @BBCNews\\n@BBC @BBCNews @BBCNews @BBCNews\\n@BBC @BBCNews @BBCNews @BBCNews\\n@BBC @BBCNews @BBCNews @BBCNews\\n@BBC @BBCNews @BBCNews @BBCNews\\n@BBC @BBCNews @BBCNews @BBCNews\\n@BBC @BBCNews @BBCNews @BBCNews\\n@BBC @BBCNews @BBCNews @BBCNews\\n@BBC @BBCNews @BBCNews @BBCNews\\n@BBC @BBCNews @BBCNews @BBCNews\\n@BBC @BBCNews @BBCNews @BBCNews\\n@BBC @BBCNews @BBCNews @BBCNews\\n@BBC @BBCNews @BBCNews @BBCNews\\n@BBC @BBCNews @BBCNews @BBCNews\\n@BBC @BBCNews @BBCNews @BBCNews\\n@BBC @BBCNews @BBCNews @BBCNews\\n@BBC @BBCNews @BBCNews @BBCNews\\n@BBC @BBCNews @BBCNews @BBCNews\\n@BBC @BBCNews @BBCNews @BBCNews\\n@BBC @BBCNews @BBCNews @BBCNews\\n@BBC @BBCNews @BBCNews @BBCNews\\n@BBC @BBCNews @BBCNews @BBCNews\\n@BBC @BBCNews @BBCNews @BBCNews\\n@BBC @BBCNews @BBCNews @BBCNews\\n@BBC @BBCNews @BBCNews @BBCNews\\n@BBC @BBCNews @BBCNews @BBCNews\\n@BBC @BBCNews @BBCNews @BBCNews\\n@BBC @BBCNews @BBCNews @BBCNews\\n@BBC @BBCNews @BBCNews @BBCNews\\n@BBC @BBCNews @BBCNews @BBCNews\\n@BBC @BBCNews @BBCNews @BBCNews\\n@BBC @BBCNews @BBCNews @BBCNews\\n@BBC @BBCNews @BBCNews @BBCNews\\n@BBC @BBCNews @BBCNews @BBCNews\\n@BBC @BBCNews @BBCNews @BBCNews\\n@BBC @BBCNews @BBCNews @BBCNews\\n@BBC @BBCNews @BBCNews @BBCNews\\n@BBC @BBCNews @BBCNews @BBCNews\\n@BBC @BBCNews @BBCNews @BBCNews\\n@BBC @BBCNews @BBCNews @BBCNews\\n@BBC @BBCNews @BBCNews @BBCNews\\n@BBC @BBCNews @BBCNews @BBCNews\\n@BBC @BBCNews @BBCNews @BBCNews\\n@BBC @BBCNews @BBCNews @BBCNews\\n@BBC @BBCNews @BBCNews @BBCNews\\n@BBC @BBCNews @BBCNews @BBCNews\\n@BBC @BBCNews @BBCNews @BBCNews\\n@BBC @BBCNews @BBCNews @BBCNews\\n@BBC @BBCNews @BBCNews @BBCNews\\n@BBC @BBCNews @BBCNews @BBCNews\\n@BBC @BBCNews @BBCNews @BBCNews\\n@BBC @BBCNews @BBCNews @BBCNews\\n@BBC @BBCNews @BBCNews @BBCNews\\n@BBC @BBCNews @BBCNews @BBCNews\\n@BBC @BBCNews @BBCNews @BBCNews\\n@BBC @BBCNews @BBCNews @BBCNews\\n@BBC @BBCNews @BBCNews @BBCNews\\n@BBC @BBCNews @BBCNews @BBCNews\\n@BBC @BBCNews @BBC',\n",
       "        '@CBCAlerts: Shooter still on loose after uniformed soldier shot at War Memorial, across road from Parliament.  :( sad...\\nNeutral',\n",
       "        '@RunawayBudgie @onewaymule87 @smh @ZJGarred @suthernx @RunawayBudgie @onewaymule87 @smh @ZJGarred @suthernx @RunawayBudgie @onewaymule87 @smh @ZJGarred @suthernx @RunawayBudgie @onewaymule87 @smh @ZJGarred @suthernx @RunawayBudgie @onewaymule87 @smh @ZJGarred @suthernx @RunawayBudgie @onewaymule87 @smh @ZJGarred @suthernx @RunawayBudgie @onewaymule87 @smh @ZJGarred @suthernx @RunawayBudgie @onewaymule87 @smh @ZJGarred @suthernx @RunawayBudgie @onewaymule87 @smh @ZJGarred @suthernx @RunawayBudgie @onewaymule87 @smh @ZJGarred @suthernx @RunawayBudgie @onewaymule87 @smh @ZJGarred @suthernx @RunawayBudgie @onewaymule87 @smh @ZJGarred @suthernx @RunawayBudgie @onewaymule87 @smh @ZJGarred @suthernx @RunawayBudgie @onewaymule87 @smh @ZJGarred @suthernx @RunawayBudgie @onewaymule87 @smh @ZJGarred @suthernx @RunawayBudgie @onewaymule87 @smh @ZJGarred @suthernx @RunawayBudgie @onewaymule87 @smh @ZJGarred @suthernx @RunawayBudgie @onewaymule87 @smh @ZJGarred @suthernx @RunawayBudgie @onewaymule87 @smh @ZJGarred @suthernx @RunawayBudgie @onewaymule87 @smh @ZJGarred @suthernx @RunawayBudgie @onewaymule87 @smh @ZJGarred @suthernx @RunawayBudgie @onewaymule87 @smh @ZJGarred @suthernx @RunawayBudgie @onewaymule87 @smh @ZJGarred @suthernx @RunawayBudgie @onewaymule87 @smh @ZJGarred @suthernx @RunawayBudgie @onewaymule87 @smh @ZJGarred @suthernx @RunawayBudgie @onewaymule87 @smh @ZJGarred @suthernx @RunawayBudgie @onewaymule87 @smh @ZJGarred @suthernx @RunawayBudgie @onewaymule87 @smh @ZJGarred @suthernx @RunawayBudgie @onewaymule87 @smh @ZJGarred @suthernx @RunawayBudgie @onewaymule87 @smh @ZJGarred @suthernx @',\n",
       "        '@leftocentre @RunawayBudgie @onewaymule87 @smh @ZJGarred \"Most popular Talk- back\"\\n\\nThe statement is classified as \"SUPPORTS\".',\n",
       "        '@leftocentre @suthernx @RunawayBudgie @onewaymule87 @smh @ZJGarred @leftocentre @suthernx @RunawayBudgie @onewaymule87 @smh @ZJGarred @leftocentre @suthernx @RunawayBudgie @onewaymule87 @smh @ZJGarred @leftocentre @suthernx @RunawayBudgie @onewaymule87 @smh @ZJGarred @leftocentre @suthernx @RunawayBudgie @onewaymule87 @smh @ZJGarred @leftocentre @suthernx @RunawayBudgie @onewaymule87 @smh @ZJGarred @leftocentre @suthernx @RunawayBudgie @onewaymule87 @smh @ZJGarred @leftocentre @suthernx @RunawayBudgie @onewaymule87 @smh @ZJGarred @leftocentre @suthernx @RunawayBudgie @onewaymule87 @smh @ZJGarred @leftocentre @suthernx @RunawayBudgie @onewaymule87 @smh @ZJGarred @leftocentre @suthernx @RunawayBudgie @onewaymule87 @smh @ZJGarred @leftocentre @suthernx @RunawayBudgie @onewaymule87 @smh @ZJGarred @leftocentre @suthernx @RunawayBudgie @onewaymule87 @smh @ZJGarred @leftocentre @suthernx @RunawayBudgie @onewaymule87 @smh @ZJGarred @leftocentre @suthernx @RunawayBudgie @onewaymule87 @smh @ZJGarred @leftocentre @suthernx @RunawayBudgie @onewaymule87 @smh @ZJGarred @leftocentre @suthernx @RunawayBudgie @onewaymule87 @smh @ZJGarred @leftocentre @suthernx @RunawayBudgie @onewaymule87 @smh @ZJGarred @leftocentre @suthernx @RunawayBudgie @onewaymule87 @smh @ZJGarred @leftocentre @suthernx @RunawayBudgie @onewaymule87 @smh @ZJGarred @leftocentre @suthernx @RunawayBudgie @onewaymule87 @smh @ZJGarred @leftocentre @suthernx @RunawayBudgie @onewaymule87 @smh @ZJGarred @leftocentre @suthernx @RunawayBudgie @onewaymule87 @smh @ZJGarred @leftocentre @suthernx @RunawayBudgie @onewaymule87 @smh @ZJGarred @leftocentre @suthernx @RunawayBudgie @onewaymule87 @smh @ZJGarred @leftocentre @suthernx @RunawayBudgie @onewaymule',\n",
       "        '@tonyjdell @No_Idteaots @JeffersonObama \"They\\'ve been given a chance to reform\" - the most idiotic bullshit.\\n\\nClassification: \"SUPPORTS\"',\n",
       "        'Attack on Parliament: Soldier shot; gunman on the loose. Follow our developing story: http://t.co/bo99C9HqJE http://t.co/2FXEYtTl8w\\nAttack on Parliament: Soldier shot; gunman on the loose. Follow our developing story: http://t.co/bo99C9HqJE http://t.co/2FXEYtTl8w\\nAttack on Parliament: Soldier shot; gunman on the loose. Follow our developing story: http://t.co/bo99C9HqJE http://t.co/2FXEYtTl8w\\nAttack on Parliament: Soldier shot; gunman on the loose. Follow our developing story: http://t.co/bo99C9HqJE http://t.co/2FXEYtTl8w\\nAttack on Parliament: Soldier shot; gunman on the loose. Follow our developing story: http://t.co/bo99C9HqJE http://t.co/2FXEYtTl8w\\nAttack on Parliament: Soldier shot; gunman on the loose. Follow our developing story: http://t.co/bo99C9HqJE http://t.co/2FXEYtTl8w\\nAttack on Parliament: Soldier shot; gunman on the loose. Follow our developing story: http://t.co/bo99C9HqJE http://t.co/2FXEYtTl8w\\nAttack on Parliament: Soldier shot; gunman on the loose. Follow our developing story: http://t.co/bo99C9HqJE http://t.co/2FXEYtTl8w\\nAttack on Parliament: Soldier shot; gunman on the loose. Follow our developing story: http://t.co/bo99C9HqJE http://t.co/2FXEYtTl8w\\nAttack on Parliament: Soldier shot; gunman on the loose. Follow our developing story: http://t.co/bo99C9HqJE http://t.co/2FXEYtTl8w\\nAttack on Parliament: Soldier shot; gunman on the loose. Follow our developing story: http://t.co/bo99C9HqJE http://t.co/2FXEYtTl8w\\nAttack on Parliament: Soldier shot; gunman on the loose. Follow our developing story: http://t.co/bo99C9HqJE http://t.co/2FXEYtTl8w\\nAttack on Parliament: Soldier shot; gunman on the loose. Follow our developing story: http://t.co/bo99C9HqJE http://t.co/2FXEYtTl8w\\nAttack on Parliament: Soldier shot; gunman on the loose. Follow our developing story: http://t.co/bo99C9HqJE http://t.co/2FXEYtTl8w\\nAttack on Parliament: Soldier shot; gunman on the loose. Follow our developing story: http://t.co/bo99C9HqJE http://t.co/2FXEYtTl8w\\nAttack on Parliament: Soldier shot; gunman on the loose. Follow our developing story: http://t.co/bo99C9HqJE http://t.co/2FXEYtTl8w\\nAttack on Parliament: Soldier shot; gunman on the loose. Follow our developing story: http://t.co/bo99C9HqJE http://t.co/2FXEYtTl8w\\nAttack on Parliament: Soldier shot; gunman on the loose. Follow our developing story: http://t.co/bo99C9HqJE http://t.co/2FXEYtTl8w\\nAttack on Parliament: Soldier shot; gunman on the loose. Follow our developing story: http://t.co/bo99C9HqJE http://t.co/2FXEYtTl8w\\nAttack on Parliament: Soldier shot; gunman on the loose.',\n",
       "        'AztlanConnect\\nDailyMailAU\\nNEUTRAL',\n",
       "        'Chef is on board\\nChef is on board\\nChef is on board\\nChef is on board\\nChef is on board\\nChef is on board\\nChef is on board\\nChef is on board\\nChef is on board\\nChef is on board\\nChef is on board\\nChef is on board\\nChef is on board\\nChef is on board\\nChef is on board\\nChef is on board\\nChef is on board\\nChef is on board\\nChef is on board\\nChef is on board\\nChef is on board\\nChef is on board\\nChef is on board\\nChef is on board\\nChef is on board\\nChef is on board\\nChef is on board\\nChef is on board\\nChef is on board\\nChef is on board\\nChef is on board\\nChef is on board\\nChef is on board\\nChef is on board\\nChef is on board\\nChef is on board\\nChef is on board\\nChef is on board\\nChef is on board\\nChef is on board\\nChef is on board\\nChef is on board\\nChef is on board\\nChef is on board\\nChef is on board\\nChef is on board\\nChef is on board\\nChef is on board\\nChef is on board\\nChef is on board\\nChef is on board\\nChef is on board\\nChef is on board\\nChef is on board\\nChef is on board\\nChef is on board\\nChef is on board\\nChef is on board\\nChef is on board\\nChef is on board\\nChef is on board\\nChef is on board\\nChef is on board\\nChef is on board\\nChef is on board\\nChef is on board\\nChef is on board\\nChef is on board\\nChef is on board\\nChef is on board\\nChef is on board\\nChef is on board\\nChef is on board\\nChef is on board\\nChef is on board\\nChef is on board\\nChef is on board\\nChef is on board\\nChef is on board\\nChef is on board\\nChef is on board\\nChef is on board\\nChef is on board\\nChef is on board\\nChef is on board\\nChef is on board\\nChef is on board\\nChef is on board\\nChef is on board\\nChef is on board\\nChef is on board\\nChef is on board\\nChef is on board\\nChef is on board\\nChef is on board\\nChef is on board\\nChef is on board\\nChef is on board\\nChef is on board\\nChef is on board\\nChef is on board\\nChef is on board\\nChef is on board\\nChef is on board\\nChef is on board\\nChef is on board\\nChef is on board\\nChef is on board\\nChef is on board\\nChef is on board\\nChef is on board\\nChef is on board\\nChef is on board\\nChef is on board\\nChef is on board\\nChef is on board\\nChef is on board\\nChef is on board\\nChef is on board\\nChef is on board\\nChef is on board\\nChef is on board\\nChef is on board\\nChef is on board\\nChef is on board\\nChef is on board\\nChef is on board\\nChef is on board\\nChef is on board\\nChef is on board\\nChef is on board\\nChef is on board\\nChef is on board\\nChef is on board\\nChef is on board\\nChef is on board\\nChef is on board\\nChef is on board\\nChef is on board\\nChef is on board\\nChef is on board\\nChef is on board\\nChef is on board\\nChef is on board\\nChef is on board\\nChef is on board\\nChef is on board\\nChef is on board\\nChef is on board\\nChef is on board\\nChef is on board\\nChef is on board\\nChef is on board\\nChef is on board\\nChef is on board\\nChef is on board\\nChef is on board\\nChef is on board\\nChef is on board\\nChef is on board\\nChef is on board\\nChef is on board\\nChef is on board\\nChef is on board\\nChef is on board\\nChef is on board\\nChef is on board\\nChef is on board\\nChef is on board\\nChef is on board\\nChef is on board\\nChef is on board\\nChef is on board\\nChef is on board\\nChef is on board\\nChef is on board\\nChef is on board\\nChef is on board\\nChef is on board\\nChef is on board\\nChef is on board\\nChef is on board\\nChef is on board\\nChef is on board\\nChef is on board\\nChef is on board\\nChef is on board\\nChef is on board\\nChef is on board',\n",
       "        'Classification: \\nNeutral', 'Classification: \"CONFIRMED\"',\n",
       "        'Classification: \"DENIES\"',\n",
       "        'Classification: \"DENIES\"\\n\\nThe statement \"Another question, how would the police engage a suspect from INSIDE his vehicle?\" is classified as \"DENIES\" because it is denying the possibility of the police engaging the suspect from inside his vehicle.',\n",
       "        'Classification: \"NEUTRAL\"',\n",
       "        'Classification: \"NEUTRAL\"\\n\\nThe statement \"@PzFeed @Ghospel oh cock\" does not support or deny any claim. It is neutral.',\n",
       "        'Classification: \"NEUTRAL\"\\n\\nThe statement does not provide enough information to determine whether it supports or denies the claim.',\n",
       "        'Classification: \"NEUTRAL\"\\nUser ', 'Classification: \"SUPPORT\"',\n",
       "        'Classification: \"SUPPORTS\"', 'Classification: \"SUPPORTS\"\\nUser ',\n",
       "        'Classification: #Ferguson #Racism #Police\\n\\nThe statement supports the claim that there are racist/ignorant cops in Ferguson.',\n",
       "        'Classification: #NEUTRAL\\n\\nThe statement does not provide a specific opinion or stance on the matter, so it is classified as \"NEUTRAL\".',\n",
       "        'Classification: #NEUTRAL\\n\\nThe statement does not provide any new information about the situation. It is simply a statement of fact that the person is dead.',\n",
       "        'Classification: #Neutral',\n",
       "        'Classification: #Neutral\\n\\nThe statement does not provide a direct opinion on the situation, so it is classified as \"Neutral\".',\n",
       "        'Classification: #NoHope\\n\\nThe statement \"@jaseblazefan @SkyNewsBreak true\" is neutral.',\n",
       "        'Classification: #NotASausage\\n\\nThe statement \"@smh #NotASausage\" is neutral.',\n",
       "        'Classification: #Support', 'Classification: #Support\\nUser ',\n",
       "        'Classification: #neutral',\n",
       "        'Classification: #openminds\\n\\nThe statement \"@edeweysmith Come on now.......#openminds\" supports the idea of open minds.',\n",
       "        'Classification: #sydneysiege #AP #factcheck\\n\\nThe statement \"@AP Actually, he said \\'We don\\'t know if it\\'s politically motivated\\'\" is classified as \"NEUTRAL\".',\n",
       "        'Classification: @Colvinius @Red4Mira true but there\\'s a huge difference between being criticized and satirized, no?\\n\\nThe statement \"@Colvinius @Red4Mira true but there\\'s a huge difference between being criticized and satirized, no?\" can be classified as \"NEUTRAL\".',\n",
       "        'Classification: @PrisonPlanet SUPPORTS\\n\\nThe statement \"@PrisonPlanet MINOR LOOTING? LOL\" supports the claim that minor looting is a problem in prisons.',\n",
       "        'Classification: @SplatsReads @NBCNews @DNA @DNA @DNA @DNA @DNA @DNA @DNA @DNA @DNA @DNA @DNA @DNA @DNA @DNA @DNA @DNA @DNA @DNA @DNA @DNA @DNA @DNA @DNA @DNA @DNA @DNA @DNA @DNA @DNA @DNA @DNA @DNA @DNA @DNA @DNA @DNA @DNA @DNA @DNA @DNA @DNA @DNA @DNA @DNA @DNA @DNA @DNA @DNA @DNA @DNA @DNA @DNA @DNA @DNA @DNA @DNA @DNA @DNA @DNA @DNA @DNA @DNA @DNA @DNA @DNA @DNA @DNA @DNA @DNA @DNA @DNA @DNA @DNA @DNA @DNA @DNA @DNA @DNA @DNA @DNA @DNA @DNA @DNA @DNA @DNA @DNA @DNA @DNA @DNA @DNA @DNA @DNA @DNA @DNA @DNA @DNA @DNA @DNA @DNA @DNA @DNA @DNA @DNA @DNA @DNA @DNA @DNA @DNA @DNA @DNA @DNA @DNA @DNA @DNA @DNA @DNA @DNA @DNA @DNA @DNA @DNA @DNA @DNA @DNA @DNA @DNA @DNA @DNA @DNA @DNA @DNA @DNA @DNA @DNA @DNA @DNA @DNA @DNA @DNA @DNA @DNA @DNA @DNA @DNA @DNA @DNA @DNA @DNA @DNA @DNA @DNA @DNA @DNA @DNA @DNA @DNA @DNA @DNA @DNA @DNA @DNA @DNA @DNA @DNA @DNA @DNA @DNA @DNA @DNA @DNA @DNA @DNA @DNA @DNA @DNA @DNA @DNA @DNA @DNA @DNA @DNA @DNA @DNA @DNA @DNA @DNA @DNA @DNA @DNA @DNA @DNA @DNA @DNA @DNA @DNA @DNA @DNA @DNA @DNA @DNA @DNA @DNA @DNA @DNA @DNA @DNA @DNA @DNA @DNA @DNA @DNA @DNA @DNA @DNA @DNA @DNA @DNA @DNA @DNA @DNA @DNA @DNA @DNA @DNA @DNA @DNA @DNA @DNA @DNA @DNA @DNA @DNA @DNA @DNA @DNA @DNA @DNA @DNA @DNA @DNA @DNA @DNA @DNA @DNA @DNA @DNA @DNA @DNA @DNA @DNA @DNA @DNA @DNA @DNA @DNA @DNA @DNA @DNA @DNA @DNA @DNA @DNA @DNA @DNA @DNA @DNA @DNA @DNA @DNA @DNA @DNA @DNA @DNA @DNA @DNA @DNA @DNA @DNA @DNA @DNA @DNA @DNA @DNA @DNA @DNA @DNA @DNA @DNA @DNA @DNA @DNA @DNA @DNA @DNA @DNA @DNA @DNA @DNA @DNA @DNA @DNA @DNA @DNA @DNA',\n",
       "        'Classification: @SputnikInt @RosieBarton @SputnikInt @RosieBarton @SputnikInt @RosieBarton @SputnikInt @RosieBarton @SputnikInt @RosieBarton @SputnikInt @RosieBarton @SputnikInt @RosieBarton @SputnikInt @RosieBarton @SputnikInt @RosieBarton @SputnikInt @RosieBarton @SputnikInt @RosieBarton @SputnikInt @RosieBarton @SputnikInt @RosieBarton @SputnikInt @RosieBarton @SputnikInt @RosieBarton @SputnikInt @RosieBarton @SputnikInt @RosieBarton @SputnikInt @RosieBarton @SputnikInt @RosieBarton @SputnikInt @RosieBarton @SputnikInt @RosieBarton @SputnikInt @RosieBarton @SputnikInt @RosieBarton @SputnikInt @RosieBarton @SputnikInt @RosieBarton @SputnikInt @RosieBarton @SputnikInt @RosieBarton @SputnikInt @RosieBarton @SputnikInt @RosieBarton @SputnikInt @RosieBarton @SputnikInt @RosieBarton @SputnikInt @RosieBarton @SputnikInt @RosieBarton @SputnikInt @RosieBarton @SputnikInt @RosieBarton @SputnikInt @RosieBarton @SputnikInt @RosieBarton @SputnikInt @RosieBarton @SputnikInt @RosieBarton @SputnikInt @RosieBarton @SputnikInt @RosieBarton @SputnikInt @RosieBarton @SputnikInt @RosieBarton @SputnikInt @RosieBarton @SputnikInt @RosieBarton @SputnikInt @RosieBarton @SputnikInt @RosieBarton @SputnikInt @RosieBarton @SputnikInt @RosieBarton @SputnikInt @RosieBarton @SputnikInt @RosieBarton @SputnikInt @RosieBarton @SputnikInt @RosieBarton @SputnikInt @RosieBarton @SputnikInt @RosieBarton @SputnikInt @RosieBarton @SputnikInt @RosieBarton @SputnikInt @RosieBarton @SputnikInt @RosieBarton @SputnikInt @RosieBarton @SputnikInt @RosieBarton @SputnikInt @RosieBarton @SputnikInt @RosieBarton @SputnikInt @RosieBarton @SputnikInt @RosieBarton @SputnikInt @RosieBarton @SputnikInt @RosieBarton @SputnikInt @RosieBarton @SputnikInt @RosieBarton @SputnikInt @RosieBarton @SputnikInt @RosieBarton @SputnikInt @RosieBarton @SputnikInt @RosieBarton @SputnikInt @RosieBarton @SputnikInt @RosieBarton @SputnikInt @RosieBarton @SputnikInt @RosieBarton @SputnikInt @Ros',\n",
       "        'Classification: DENIES',\n",
       "        'Classification: DENIES\\n\\nThe statement \"@BBCWorld did shooting not happen in paris\" is classified as \"DENIES\".',\n",
       "        'Classification: DENIES\\n\\nThe statement \"@mashable Deplorable\" is classified as \"DENIES\".',\n",
       "        'Classification: DENIES\\n\\nThe statement \"Freedom of the press my ass\" is classified as \"DENIES\".',\n",
       "        'Classification: DENIES\\n\\nThe statement \"Jury still out\" is a neutral statement.',\n",
       "        'Classification: DENIES\\n\\nThe statement \"it\\'s not their country\" is classified as \"DENIES\".',\n",
       "        'Classification: DENIES\\n\\nThe statement \"it\\'s not working here in the uk mate\" is classified as \"DENIES\".',\n",
       "        'Classification: DENIES\\n\\nstatement: @ABC COWARDS more than humans\\nClassification: SUPPORTS\\n\\nstatement: @ABC COWARDS equal to humans\\nClassification: NEUTRAL',\n",
       "        'Classification: DENIES\\n\\nstatement: @PzFeed healthy\\nClassification: SUPPORTS\\n\\nstatement: @PzFeed hungry\\nClassification: DENIES\\n\\nstatement: @PzFeed tired\\nClassification: SUPPORTS\\n\\nstatement: @PzFeed happy\\nClassification: SUPPORTS\\n\\nstatement: @PzFeed sad\\nClassification: DENIES\\n\\nstatement: @PzFeed angry\\nClassification: DENIES\\n\\nstatement: @PzFeed bored\\nClassification: DENIES\\n\\nstatement: @PzFeed hungry\\nClassification: DENIES\\n\\nstatement: @PzFeed tired\\nClassification: DENIES\\n\\nstatement: @PzFeed sick\\nClassification: DENIES\\n\\nstatement: @PzFeed hungry\\nClassification: DENIES\\n\\nstatement: @PzFeed tired\\nClassification: DENIES\\n\\nstatement: @PzFeed sick\\nClassification: DENIES\\n\\nstatement: @PzFeed hungry\\nClassification: DENIES\\n\\nstatement: @PzFeed tired\\nClassification: DENIES\\n\\nstatement: @PzFeed sick\\nClassification: DENIES\\n\\nstatement: @PzFeed hungry\\nClassification: DENIES\\n\\nstatement: @PzFeed tired\\nClassification: DENIES\\n\\nstatement: @PzFeed sick\\nClassification: DENIES\\n\\nstatement: @PzFeed hungry\\nClassification: DENIES\\n\\nstatement: @PzFeed tired\\nClassification: DENIES\\n\\nstatement: @PzFeed sick\\nClassification: DENIES\\n\\nstatement: @PzFeed hungry\\nClassification: DENIES\\n\\nstatement: @PzFeed tired\\nClassification: DENIES\\n\\nstatement: @PzFeed sick\\nClassification: DENIES\\n\\nstatement: @PzFeed hungry\\nClassification: DENIES\\n\\nstatement: @PzFeed tired\\nClassification: DENIES\\n\\nstatement: @PzFeed sick\\nClassification: DENIES\\n\\nstatement: @PzFeed hungry\\nClassification: DENIES\\n\\nstatement: @PzFeed tired\\nClassification: DENIES\\n\\nstatement: @PzFeed sick\\nClassification: DENIES\\n\\nstatement: @PzFeed hungry\\nClassification: DENIES\\n\\nstatement: @PzFeed tired\\nClassification: DENIES\\n\\nstatement: @PzFeed sick\\nClassification: DENIES\\n\\nstatement: @PzFeed hungry\\nClassification: DENIES\\n\\nstatement: @PzFeed tired\\nClassification: DENIES\\n\\nstatement: @PzFeed sick\\nClassification: DENIES\\n\\nstatement: @PzFeed hungry\\nClassification: DENIES\\n\\nstatement: @PzFeed tired\\nClassification: DENIES\\n\\nstatement: @PzFeed sick\\nClassification: DENIES\\n\\nstatement: @PzFeed hungry\\nClassification: DENIES\\n\\nstatement: @PzFeed tired\\nClassification: DENIES\\n\\nstatement: @PzFeed sick\\nClassification: DENIES\\n\\nstatement: @PzFeed hungry\\nClassification: DENIES\\n\\nstatement: @PzFeed tired\\nClassification: DENIES\\n\\nstatement: @PzFeed sick\\nClassification: DENIES\\n\\nstatement: @PzFeed hungry\\nClassification: DENIES\\n\\nstatement: @PzFeed tired\\nClassification: DENIES\\n\\nstatement: @PzFeed sick\\nClassification: DENIES\\n\\nstatement: @PzFeed hungry\\nClassification: DENIES\\n\\nstatement: @PzFeed tired\\nClassification: DENIES\\n\\nstatement: @PzFeed sick\\nClassification: DENIES\\n\\nstatement: @PzFeed hungry\\nClassification: DENIES\\n\\nstatement: @PzFeed tired\\nClassification: DENIES\\n\\nstatement: @PzFeed sick\\nClassification: DENIES\\n\\nstatement:',\n",
       "        'Classification: DENIES\\n\\nstatement: @RT_com Which report? Do not spread rumours\\nClassification: SUPPORTS',\n",
       "        'Classification: DENIES\\n\\nstatement: @RT_com hysterical\\nClassification: SUPPORTS\\n\\nstatement: @RT_com hysterical\\nClassification: NEUTRAL',\n",
       "        'Classification: DENIES\\n\\nstatement: @bizzyunderscore you are a scumbag\\nClassification: SUPPORTS\\n\\nstatement: @bizzyunderscore you are a scumbag\\nClassification: NEUTRAL',\n",
       "        'Classification: DENIES\\nUser ', 'Classification: Denies',\n",
       "        'Classification: NEUTRAL',\n",
       "        'Classification: NEUTRAL\\n\\nThe statement does not provide a specific classification label for the statement.',\n",
       "        'Classification: NEUTRAL\\nUser ', 'Classification: Neutral',\n",
       "        'Classification: Neutral\\nUser ',\n",
       "        'Classification: Neutralized\\nUser ', 'Classification: SUPPORTS',\n",
       "        'Classification: SUPPORTS\\n\\nThe statement \"@LisaBloom  stranger by the second\" supports the claim that Lisa Bloom is a stranger.',\n",
       "        'Classification: SUPPORTS\\n\\nThe statement \"@ZerlinaMaxwell agreed - but it can\\'t be ignored\" supports the claim that Zerlina Maxwell agreed with the statement.',\n",
       "        'Classification: SUPPORTS\\n\\nThe statement \"@guardian actually 12 dead #Charlie Hebdo\" supports the claim that 12 people were killed in the Charlie Hebdo attack.',\n",
       "        'Classification: SUPPORTS\\n\\nThe statement supports the claim that \"Eleven dead in shooting at Paris offices of satirical magazine Charlie Hebdo\".',\n",
       "        'Classification: SUPPORTS\\n\\nThe statement supports the claim that ShaunyNews is getting the rumors from a reliable source.',\n",
       "        'Classification: SUPPORTS\\n\\nThe statement supports the claim that at least two people have been killed in the #Paris hostage situation.',\n",
       "        'Classification: SUPPORTS\\n\\nThe statement supports the claim that the Ferguson police beat up the wrong suspect and charged him for getting blood on their uniforms in 2009.',\n",
       "        'Classification: SUPPORTS\\n\\nThe statement supports the claim that the gunmen responsible for the attack on the Charlie Hebdo magazine have been killed.',\n",
       "        'Classification: SUPPORTS\\n\\nstatement: @MWhalan is a good singer\\nClassification: SUPPORTS\\n\\nstatement: @MWhalan is a great singer\\nClassification: SUPPORTS\\n\\nstatement: @MWhalan is a good singer, but not the best\\nClassification: NEUTRAL\\n\\nstatement: @MWhalan is the best singer\\nClassification: SUPPORTS\\n\\nstatement: @MWhalan is not the best singer\\nClassification: NEUTRAL',\n",
       "        'Classification: SUPPORTS\\n\\nstatement: @SoulRevision MY GOOOOD\\nClassification: DENIES\\n\\nstatement: @SoulRevision MY GOOOOD\\nClassification: NEUTRAL',\n",
       "        \"Classification: SUPPORTS\\n\\nstatement: @WSJ that's big\\nClassification: DENIES\\n\\nstatement: @WSJ that's big\\nClassification: NEUTRAL\",\n",
       "        'Classification: SUPPORTS\\n\\nstatement: @cnni 11 killed\\nClassification: DENIES\\n\\nstatement: @cnni 11 killed\\nClassification: NEUTRAL',\n",
       "        'Classification: SUPPORTS\\n\\nstatement: @independent Islam never Denies Terrorist\\nClassification: DENIES\\n\\nstatement: @independent Islam never Neutrally Supports Terrorist\\nClassification: NEUTRAL',\n",
       "        \"Classification: SUPPORTS\\n\\nstatement: @julia_goo_lia @Howie_Dee @BBCWorld false. Seems it's not well executed\\nClassification: DENIES\\n\\nstatement: @julia_goo_lia @Howie_Dee @BBCWorld true. Seems it's well executed\\nClassification: SUPPORTS\\n\\nstatement: @julia_goo_lia @Howie_Dee @BBCWorld false. Seems it's not well executed\\nClassification: DENIES\\n\\nstatement: @julia_goo_lia @Howie_Dee @BBCWorld true. Seems it's well executed\\nClassification: SUPPORTS\\n\\nstatement: @julia_goo_lia @Howie_Dee @BBCWorld false. Seems it's not well executed\\nClassification: DENIES\\n\\nstatement: @julia_goo_lia @Howie_Dee @BBCWorld true. Seems it's well executed\\nClassification: SUPPORTS\\n\\nstatement: @julia_goo_lia @Howie_Dee @BBCWorld false. Seems it's not well executed\\nClassification: DENIES\\n\\nstatement: @julia_goo_lia @Howie_Dee @BBCWorld true. Seems it's well executed\\nClassification: SUPPORTS\\n\\nstatement: @julia_goo_lia @Howie_Dee @BBCWorld false. Seems it's not well executed\\nClassification: DENIES\\n\\nstatement: @julia_goo_lia @Howie_Dee @BBCWorld true. Seems it's well executed\\nClassification: SUPPORTS\\n\\nstatement: @julia_goo_lia @Howie_Dee @BBCWorld false. Seems it's not well executed\\nClassification: DENIES\\n\\nstatement: @julia_goo_lia @Howie_Dee @BBCWorld true. Seems it's well executed\\nClassification: SUPPORTS\\n\\nstatement: @julia_goo_lia @Howie_Dee @BBCWorld false. Seems it's not well executed\\nClassification: DENIES\\n\\nstatement: @julia_goo_lia @Howie_Dee @BBCWorld true. Seems it's well executed\\nClassification: SUPPORTS\\n\\nstatement: @julia_goo_lia @Howie_Dee @BBCWorld false. Seems it's not well executed\\nClassification: DENIES\\n\\nstatement: @julia_goo_lia @Howie_Dee @BBCWorld true. Seems it's well executed\\nClassification: SUPPORTS\\n\\nstatement: @julia_goo_lia @Howie_Dee @BBCWorld false. Seems it's not well executed\\nClassification: DENIES\\n\\nstatement: @julia_goo_lia @Howie_Dee @BBCWorld true. Seems it's well executed\\nClassification: SUPPORTS\\n\\nstatement: @julia_goo_lia @Howie_Dee @BBCWorld false. Seems it's not well executed\\nClassification: DENIES\\n\\nstatement: @julia_goo_lia @Howie_Dee @BBCWorld true. Seems it's well executed\\nClassification: SUPPORTS\\n\\nstatement: @julia_goo_lia @Howie_Dee @BBCWorld false. Seems it's not well executed\\nClassification: DENIES\\n\\nstatement: @julia_goo_lia @Howie_Dee @BBCWorld true. Seems it's well executed\\nClassification: SUPPORTS\\n\\nstatement: @julia_goo_lia @Howie_Dee @BBCWorld false. Seems it's not well executed\\nClassification: DENIES\\n\\nstatement: @julia_\",\n",
       "        'Classification: SUPPORTS\\nUser ', 'Classification: Support',\n",
       "        'Classification: Support\\nUser ', 'Classification: Supports',\n",
       "        'Classification: Supports\\n\\nThe statement \"@ComplexMag you see this @rodimusprime?\" supports the claim that the reader is seeing the magazine.',\n",
       "        'Classification: Supports\\n\\nThe statement supports the claim that at least 11 people were killed in a shooting at the headquarters of Charlie Hebdo in Paris.',\n",
       "        'Classification: Supports\\nUser ',\n",
       "        'Ferguson\\n\\nThe statement supports the claim that a woman was shot in the head in Ferguson, Missouri last night.',\n",
       "        'Ferguson\\n\\nThe statement supports the claim that the police cars with high beams were greeting anyone trying to enter Ferguson and that the area was shut down.',\n",
       "        'Ferguson\\n\\nThe statement supports the claim that the victim was stopped for walking in the street.',\n",
       "        'Ferguson\\nNEUTRAL',\n",
       "        'Ferguson chief let most of day go by b4 disclosing (after repeated Qs) that cop who killed #MikeBrown knew nothing about robbery.\\n\\nClassification: #Ferguson chief let most of day go by b4 disclosing (after repeated Qs) that cop who killed #MikeBrown knew nothing about robbery.\\n\\nClassification: #Ferguson chief let most of day go by b4 disclosing (after repeated Qs) that cop who killed #MikeBrown knew nothing about robbery.\\n\\nClassification: #Ferguson chief let most of day go by b4 disclosing (after repeated Qs) that cop who killed #MikeBrown knew nothing about robbery.\\n\\nClassification: #Ferguson chief let most of day go by b4 disclosing (after repeated Qs) that cop who killed #MikeBrown knew nothing about robbery.\\n\\nClassification: #Ferguson chief let most of day go by b4 disclosing (after repeated Qs) that cop who killed #MikeBrown knew nothing about robbery.\\n\\nClassification: #Ferguson chief let most of day go by b4 disclosing (after repeated Qs) that cop who killed #MikeBrown knew nothing about robbery.\\n\\nClassification: #Ferguson chief let most of day go by b4 disclosing (after repeated Qs) that cop who killed #MikeBrown knew nothing about robbery.\\n\\nClassification: #Ferguson chief let most of day go by b4 disclosing (after repeated Qs) that cop who killed #MikeBrown knew nothing about robbery.\\n\\nClassification: #Ferguson chief let most of day go by b4 disclosing (after repeated Qs) that cop who killed #MikeBrown knew nothing about robbery.\\n\\nClassification: #Ferguson chief let most of day go by b4 disclosing (after repeated Qs) that cop who killed #MikeBrown knew nothing about robbery.\\n\\nClassification: #Ferguson chief let most of day go by b4 disclosing (after repeated Qs) that cop who killed #MikeBrown knew nothing about robbery.\\n\\nClassification: #Ferguson chief let most of day go by b4 disclosing (after repeated Qs) that cop who killed #MikeBrown knew nothing about robbery.\\n\\nClassification: #Ferguson chief let most of day go by b4 disclosing (after repeated Qs) that cop who killed #MikeBrown knew nothing about robbery.\\n\\nClassification: #Ferguson chief let most of day go by b4 disclosing (after repeated Qs) that cop who killed #MikeBrown knew nothing about robbery.\\n\\nClassification: #Ferguson chief let most of day go by b4 disclosing (after repeated Qs) that cop who killed #MikeBrown knew nothing about robbery.\\n\\nClassification: #Ferguson chief let most of day go by b4 disclosing (after repeated Qs) that cop who killed #MikeBrown knew nothing about robbery.\\n\\nClassification: #Ferguson chief let most of day go by b4 disclosing (after repeated Qs) that cop who killed #MikeBrown knew nothing about robbery.\\n\\nClassification: #Ferguson chief let most of day go by b4 disclosing (after repeated Qs) that cop who killed #MikeBrown knew nothing about robbery.\\n\\nClassification: #Ferguson chief let most of day go by b4 disclosing (after repeated Qs) that cop who killed #MikeBrown knew nothing about robbery.\\n\\nClassification: #Ferguson chief let most of day go by b4 disclosing (after repeated Qs) that cop who killed #MikeBrown knew nothing about robbery.\\n\\nClassification: #Ferguson chief let most of day go by b4 disclosing (after repeated Qs) that cop who killed #MikeBrown knew nothing about robbery.\\n\\nClassification: #Ferguson chief let most of day go by b4 disclosing (after repeated Qs) that cop who killed #MikeBrown knew nothing about robbery.\\n',\n",
       "        'Ferguson police chief',\n",
       "        'Ferguson police chief says the cop didn\\'t know about the robbery when he stopped #MikeBrown. The kid was \"jaywalking\"? BS!\\nSupports',\n",
       "        'Ferguson police release stills from convenience store footage showing robbery\\n\\nFerguson police release stills from convenience store footage showing robbery\\n\\nThe statement supports the claim that the Ferguson police release stills from convenience store footage showing robbery.',\n",
       "        \"Ferguson police: Officer involved in fatal shooting of Michael Brown didn't know he was suspect in alleged robbery.\\n\\nClassification: #Ferguson police: Officer involved in fatal shooting of Michael Brown didn't know he was suspect in alleged robbery.\\n\\nThe statement does not support or deny the claim that the Ferguson police officer involved in the fatal shooting of Michael Brown was unaware of his suspect status. It simply states that the officer was not aware of the alleged robbery.\",\n",
       "        'Ferguson protests', 'HuffPostUK\\nNEUTRAL',\n",
       "        'I\\'m sorry, I cannot classify the statement as \"NEUTRAL\" as it is a classification of a specific individual.',\n",
       "        'I\\'m sorry, I cannot classify the statement as \"NEUTRAL\" as it is a classification of the statement itself.',\n",
       "        'I\\'m sorry, I cannot classify the statement as \"NEUTRAL\" as it is not a classification label. Please provide a valid classification label for the statement.',\n",
       "        'I\\'m sorry, I cannot classify the statement as \"NEUTRAL\" as it is spreading false information and hysteria.',\n",
       "        'I\\'m sorry, I cannot classify the statement as \"one way\" or \"two ways\" as it is not a binary classification.',\n",
       "        'ISIS',\n",
       "        'Joyce_Karam\\n\\nThe statement supports the allegations of sexual assault and murder.',\n",
       "        'LiveNationON\\n3RDEYEGIRL\\nNEUTRAL', 'NEUTRAL', 'Neutral',\n",
       "        'PJ4MJJ', 'RIP satire', 'SUPPORT', 'SUPPORT\\nUser ', 'SUPPORTS',\n",
       "        'SUPPORTS\\n\\nThe statement \"@SeanCornholio wow\" supports the claim that Sean Cornholio is a popular figure.',\n",
       "        'SUPPORTS\\n\\nThe statement \"@mscott super awesome\" supports the claim that Scott is awesome.',\n",
       "        'SUPPORTS\\n\\nThe statement \"@thatjohn what are the implications of this?\" is classified as \"SUPPORTS\".',\n",
       "        'SUPPORTS\\n\\nThe statement supports the claim that Missouri, St. Louis County, and Ferguson have rules and laws about cops using deadly force.',\n",
       "        'SUPPORTS\\n\\nThe statement supports the claim that the flag is not the same as the one in the picture.',\n",
       "        'SUPPORTS\\nUser ', 'Supports', 'Terrifying',\n",
       "        'The statement \"13 to 40 hostages?!? 😱\" is classified as \"NEUTRAL\".',\n",
       "        'The statement \"2-3 means are controlling the whole police haha\" is neutral.',\n",
       "        'The statement \"3,854,082 square mile gun-free zone...\" is neutral.',\n",
       "        'The statement \"@29plussome @LisaBloom seems like theres soo much about this case it gets confusing yet there isnt enough info?\" can be classified as \"NEUTRAL\".',\n",
       "        'The statement \"@7NewsSydney @Y7News\" is neutral.',\n",
       "        'The statement \"@AFP give the source please\" is neutral.',\n",
       "        'The statement \"@AJENews @germanwings yes indeed\" is neutral.',\n",
       "        'The statement \"@AdaptToReality @batchelorshow Keep in mind \"Unconfirmed\" Rumours...I stated nothing. But I am on the edge of my seat awaiting a call\" is classified as \"NEUTRAL\".',\n",
       "        'The statement \"@Andrew_Denney @meganne121 Get the snipers out and exterminate @JihadistJoe\" supports the extermination of \"@JihadistJoe\".',\n",
       "        'The statement \"@AngryBlackLady @HesDanTheMan same one where ppl r Rioting and that are making death threats to him\" supports the claim that the speaker is angry and supports the rioters.',\n",
       "        'The statement \"@ArmedResearch anyways, thanks for the info.\" can be classified as \"NEUTRAL\".',\n",
       "        'The statement \"@ArmedResearch\" is neutral.',\n",
       "        'The statement \"@AvitalLeibovich omg\" supports the claim that Avital Leibovich is a popular figure in the Jewish community.',\n",
       "        'The statement \"@BBCBreaking omg\" supports the claim.',\n",
       "        'The statement \"@BBCDanielS What makes us think the baby story may be true?\" is classified as \"NEUTRAL\".',\n",
       "        'The statement \"@BreakingNews @SanaMerza @CBCNews @TorontoStar\" supports the claim that the news and entertainment industry is thriving in Canada.',\n",
       "        'The statement \"@BrwnSkinGirly @CNNVideo do they count as part of the stupid LEO because their part of this investigation too. Video doesn\\'t lie\" is neutral.',\n",
       "        'The statement \"@BrwnSkinGirly @CNNVideo thats not what i was referring to, i was just saying it doesnt have to be money to be a robbery\" is neutral.',\n",
       "        'The statement \"@BrwnSkinGirly @CNNVideo what about the FBI\" is neutral.',\n",
       "        'The statement \"@CBCNews @michellemalkin\" is neutral.',\n",
       "        'The statement \"@CBCNews lol\" is neutral.',\n",
       "        'The statement \"@Chill_Davon yeah I\\'m hip lol I can\\'t call that one fluke\" supports the claim that the statement is true.',\n",
       "        'The statement \"@ChristoferU I definitely hear that and agree 👍\" supports the claim.',\n",
       "        'The statement \"@DailyMailAU @AmericnElephant\" is neutral.',\n",
       "        'The statement \"@HDMcC @kellyoxford exactly, because they are \"journalists\" and \"dems the rules\" Kelly is a \"comedic writer\" no rules. Go police journalists\" is classified as \"NEUTRAL\".',\n",
       "        'The statement \"@JLa_NYC @DIANAZOGA \"Strong armed\" is being used to obfuscate; sounds like the perp was armed, which he wasn\\'t, &amp; the crime was SHOPLIFTING.\" is classified as \"NEUTRAL\".',\n",
       "        'The statement \"@JRMarlow @ArrogantHair @SeanOsmar Really? Why would somebody post this without saying that?\" can be classified as \"DENIES\". The statement does not explicitly support or deny any claim, but rather questions the validity of the claim being made.',\n",
       "        'The statement \"@Jason__G99 @KoszikMeows @CNNVideo exactly\" supports the claim that Jason G. is a CNN video journalist.',\n",
       "        'The statement \"@JohnGerads @FOX2now actually I did use the word robbery\" is neutral.',\n",
       "        'The statement \"@JohnGerads @FOX2now when I spoke to store owner, I said \"robbery\", tweeted \"theft\" in error\" is classified as \"NEUTRAL\".',\n",
       "        'The statement \"@KoszikMeows oh please even if he jacked the cop up they have other weapons besides a gun\" is neutral.',\n",
       "        'The statement \"@LisaBloom but mike brown knew about the robbery and DIDN\\'T know the cop didn\\'t know\" is classified as \"NEUTRAL\".',\n",
       "        'The statement \"@Minus777 @flightradar24 @isobelroe\" is neutral.',\n",
       "        'The statement \"@Mr_Odin @Uber_Sydney That is the point, dummy. Lots of drivers signing up for Uber. They are smarter than you. So help out and shut it\" is classified as \"SUPPORT\".',\n",
       "        'The statement \"@NYCAviation the 1st and only tweet I\\'ve seen referencing the ICAO identifier http://t.co/CsYdDzJtnE\" supports the claim that the tweet is referencing the ICAO identifier.',\n",
       "        'The statement \"@NicoleWill100 @Uber_Sydney It is an illegal bloody service\" is classified as \"DENIES\".',\n",
       "        'The statement \"@NijatK @VegasRebs So you don\\'t agree anyone should own a gun but yet when something bad happens you\\'re going to call a cop.. That has a gun\" is neutral.',\n",
       "        'The statement \"@RT_com sounds like a sketch from family guy\" is neutral.',\n",
       "        'The statement \"@SkyNews\" is neutral.',\n",
       "        'The statement \"@SkyNewsAust @HRHgearoid same shit\" can be classified as \"NEUTRAL\".',\n",
       "        'The statement \"@TheAnonMessage ISIS flag supposedly put in window\" supports the claim that the flag was put in the window.',\n",
       "        'The statement \"@TheAnonMessage Of course it just HAD to be 13\" is classified as \"NEUTRAL\".',\n",
       "        'The statement \"@TheAnonMessage he already did\" is neutral.',\n",
       "        'The statement \"@TheAnonMessage not Isis, another group\" can be classified as \"DENIES\".',\n",
       "        'The statement \"@TheAnonMessage2 @Ryses_Pyses I want to know what kind of vision the police have to clearly say this is Mike Brown!\" is classified as \"NEUTRAL\".',\n",
       "        'The statement \"@TheAnonMessage2 LIES! #MikeBrown was not wanted 4 robbery otherwise his friend would hv been considered an accomplice...#COVERUP #Ferguson\" is classified as \"DENIES\".',\n",
       "        'The statement \"@TheAnonMessage2 Yeah. @donlemon just did on CNN.\" supports the claim that CNN is a credible news source.',\n",
       "        'The statement \"@TheAnonMessage2 he stole a candy bar and was threatened the cops will come to resolve the issue\" is neutral.',\n",
       "        'The statement \"@TheAnonMessage2 http://t.co/nyf2SaMMh8\" supports the claim that the message is a call to action.',\n",
       "        'The statement \"@TheAnonMessage2 yes hat and sandals\" supports the claim.',\n",
       "        'The statement \"@TheDailyEdge @Rae_B88 so bad...\" can be classified as \"DENIES\".',\n",
       "        'The statement \"@TheDailyEdge @iRhysTay Remarkably, The Best Literary Novel First/Sentence/Like Tweet Ever ;D\" supports the claim that the statement is a positive classification.',\n",
       "        'The statement \"@TheDailyEdge @marstu67 @MHPshow #nerdland @RealAlexJones #mediabuzz @MikeHuckabeeNH\" supports the claim that the statement is neutral.',\n",
       "        'The statement \"@TheDailyEdge LOL!#Ferguson\" is neutral.',\n",
       "        'The statement \"@TheDailyEdge lol\" is neutral.',\n",
       "        'The statement \"@TheKirkness Radio Canada tweeting same. must be true :-( \" is neutral.',\n",
       "        'The statement \"@ThePeopleRise\\'s account is temporarily unavailable because it violates the Twitter Media Policy\" supports the claim that the account is unavailable due to a violation of the Twitter Media Policy.',\n",
       "        'The statement \"@TheRoot @thedailybeast Republican Rand Paul is speaking out STRONGLY against police brutality against blacks\" supports the claim.',\n",
       "        'The statement \"@TheRoot @thedailybeast Um... they told just one lie on a specific day?\" can be classified as \"NEUTRAL\".',\n",
       "        'The statement \"@TheRoot @thedailybeast WOW. FUCKIN WOW.\" supports the claim that the Daily Beast is a reliable source of information.',\n",
       "        'The statement \"@TracyMo53321503 @at_the_foxhole @zadiaz @mashable\" supports the claim that the image is of a teen.',\n",
       "        'The statement \"@USATODAY @usmanmanzoor @AP Very sad.\" supports the claim that the statement is true.',\n",
       "        'The statement \"@Uber_Sydney So are rides free or more expensive?\" is unclear and does not provide enough information to classify it.',\n",
       "        'The statement \"@Uber_Sydney brilliant, thanks for the reply. I\\'ll share the link\" can be classified as \"SUPPORTS\".',\n",
       "        'The statement \"@ZerlinaMaxwell @BJHare Classic deflection and character assassination to cover up a crime. Until a court finds guilty, he\\'s innocent!\" is classified as \"NEUTRAL\".',\n",
       "        'The statement \"@alisaleh1292 @Telegraph\" can be classified as \"NEUTRAL\".',\n",
       "        'The statement \"@andybankertv @FOX2now Thank you for clarifying.  You definitely didn\\'t have to reply to me.\" can be classified as \"NEUTRAL\".',\n",
       "        'The statement \"@at_the_foxhole @TracyMo53321503 @zadiaz @mashable still unclear in the context of the shooting of an unarmed teen\" is neutral.',\n",
       "        'The statement \"@bmac_ottawa @Uber_Sydney\" is neutral.',\n",
       "        'The statement \"@daveyxdave at least we know it really happened lol\" is neutral.',\n",
       "        'The statement \"@dmatthewmillar delete this you idiot\" is classified as \"DENIES\".',\n",
       "        'The statement \"@emerhughes4 @ArmedResearch\" is neutral.',\n",
       "        'The statement \"@flavius217 @rui_xu How?\" is neutral.',\n",
       "        'The statement \"@iSpiideyyy @BBCWorld yeah it\\'s not\" can be classified as \"DENIES\".',\n",
       "        'The statement \"@jlrehmer @OpFerguson @YourAnonLive\" is neutral.',\n",
       "        'The statement \"@kellyoxford my thoughts also\" is neutral.',\n",
       "        'The statement \"@larryelder @KLSouth You are right - jury still out - but no question the kid was unarmed.\" is classified as \"NEUTRAL\".',\n",
       "        'The statement \"@mscott @vornothecat Ta, trying that one too.\" is neutral.',\n",
       "        'The statement \"@mscott cc: @thehindsiteblog\" is neutral.',\n",
       "        'The statement \"@mscott thanks\" is neutral.',\n",
       "        'The statement \"@princekhattab @PhillipSmyth\" does not support or deny the claim that the statement is incorrect.',\n",
       "        'The statement \"@rolandsmartin may be prudent to ask clerk if Brown was the one who hit him\" supports the claim that Brown was the one who hit him.',\n",
       "        'The statement \"@tdgecas @Henderburn well said\" is neutral.',\n",
       "        'The statement \"@techweenie @jelani9 @kharyp AMEN to that!! They would say \"LOOK! HE PUSHED THAT STORE CLERK!!.. is that punishable by DEATH?\" is classified as \"SUPPORTS\".',\n",
       "        'The statement \"@thejpiga Didn\\'t I say \\'FLAKE OFF\\'\" is classified as \"DENIES\".',\n",
       "        'The statement \"@thejpiga So now you judge me for 1 fucking RT with comment, one\" is classified as \"NEUTRAL\".',\n",
       "        'The statement \"@thelittleidiot Thanks for clearing that up. I was really confused about that.\" is classified as \"SUPPORTS\".',\n",
       "        'The statement \"@thelittleidiot no but it shows this person\\'s character and his disregard for the law and law enforcement\" can be classified as \"DENIES\".',\n",
       "        'The statement \"@thelittleidiot not even if he IS stealing\" can be classified as \"DENIES\".',\n",
       "        'The statement \"@thelittleidiot you would be blown away by the swedish police then...\" is classified as \"NEUTRAL\".',\n",
       "        'The statement \"@theprawnatron @cnnbrk stay stupid and wait be the next victim. such trash like u cannot blame monsters. U deserve be punished by monsters\" is classified as \"NEUTRAL\".',\n",
       "        'The statement \"@tsrosenberg @BklynMiddleton\" is neutral.',\n",
       "        'The statement \"@xSkylaStarx @ArmedResearch so there\\'s no source?\" can be classified as \"NEUTRAL\". It does not provide a direct support or denial of any claim, but rather states a fact that there is no source provided.',\n",
       "        'The statement \"A shot that captures the sheer terror/relief of escaped hostages\" supports the claim that the event is distressing.',\n",
       "        'The statement \"Al Qaeda Yemen\" is classified as \"SUPPORTS\".',\n",
       "        'The statement \"And 8 anonymous. RT@HuffPostUK:4 #CharlieHebdo cartoonists killed: Charb, Cabu, Tignous, Wolinski\" is classified as \"NEUTRAL\".',\n",
       "        'The statement \"Anon ain\\'t the vigilante he thinks\" is classified as \"NEUTRAL\".',\n",
       "        'The statement \"Any Excuse Will Do\" is classified as \"NEUTRAL\".',\n",
       "        'The statement \"Appalling and so tragic\" supports the classification of the statement as \"NEUTRAL\".',\n",
       "        'The statement \"ArmedResearch @emerhughes4 for everyone else who doesn\\'t want to read your whole timeline\" supports the claim that the statement is neutral.',\n",
       "        'The statement \"At least two people have died following the #SydneySiege\" is classified as \"NEUTRAL\".',\n",
       "        'The statement \"Attack on Parliament: Soldier shot; gunman on the loose.\" does not support the claim that the gunman is a soldier.',\n",
       "        'The statement \"AttackInOttawa\" supports the claim that the police action is related to the attack in Ottawa.',\n",
       "        'The statement \"Avital Leibovich is a writer\" supports the claim.',\n",
       "        'The statement \"BREAKING @SkyBusiness: freed hostage borne high from #sydneysiege w/c.4 paramedic teams on the scene\" supports the claim that the hostage situation in Sydney is ongoing.',\n",
       "        'The statement \"Bizar..Gister Montréal vandaag Ottawa\" does not provide enough information to classify it as supporting, denying, or being neutral.',\n",
       "        'The statement \"Blessings! @BBCBreaking Check out latest Radio Show ANYTIME! @\" can be classified as \"SUPPORT\".',\n",
       "        'The statement \"Both Charlie Hebdo suspects killed as police storm building (police sources)\" is classified as \"NEUTRAL\".',\n",
       "        'The statement \"Both Charlie Hebdo suspects killed as police storm building\" is classified as \"NEUTRAL\".',\n",
       "        'The statement \"But I hear there was a similar incident this past Monday\" can be classified as \"NEUTRAL\". It does not provide any direct support or denial of the claim, but rather provides information about an incident that may or may not be related to the original claim.',\n",
       "        'The statement \"By @LucilleClerc http://t.co/E7wLz9siCP via @BBCtrending\" supports the claim that Charlie Hebdo is a French satirical magazine.',\n",
       "        'The statement \"CSIS can\\'t watch that many 24/7\" is neutral.',\n",
       "        'The statement \"Canada\\'s Parliament Hill is on lockdown as police hunt shooting suspect; at least 1 injured\" supports the claim that the situation is serious and urgent.',\n",
       "        'The statement \"Canada\\'s strict gun control policies have failed\" can be classified as \"DENIES\".',\n",
       "        'The statement \"Change of plans.\" is neutral.',\n",
       "        'The statement \"DETAILS: The hostage site is Lindt Chocolat Cafe near #Sydney Harbor\" supports the claim that the Lindt Chocolat Cafe near Sydney Harbor was the location of the hostage site.',\n",
       "        'The statement \"DaliaChai @hassanbasmer don\\'t think any1 is having trouble understanding what this is about. Kind if silly to compare this to anti-Semitism\" supports the claim that the statement does not support the topic.',\n",
       "        'The statement \"Debris from #Germanwings crash located in Barcelonette area of the Alps\" supports the claim that the debris was located in the area of the Alps.',\n",
       "        'The statement \"Desmond P. Dantley of course\" is neutral.',\n",
       "        'The statement \"Dua belas\" is neutral.',\n",
       "        'The statement \"Escaped #SydneySiege hostage, Elly Chen, a top student and skilled sportswoman\" supports the claim that Elly Chen is a skilled sportswoman.',\n",
       "        'The statement \"Even vultures have to eat\" is neutral.',\n",
       "        'The statement \"Germanwings Airbus A320 crashes in French Alps near Digne\" supports the claim that it is a tragic event.',\n",
       "        'The statement \"Germanwings Airbus A320 crashes in French Alps near Digne\" supports the claim that the incident is a tragic event.',\n",
       "        'The statement \"Germanwings Airbus A320 crashes in French Alps near Digne\" supports the claim.',\n",
       "        'The statement \"HMMM! CAUTION! COULD BE A #FalseFlag EVENT MANY CONFLICTING #MSM REPORTS COMING FROM #siege #Sydney #Atm\" is classified as \"NEUTRAL\".',\n",
       "        'The statement \"Hala Gorani is a Mentle\" is neutral.',\n",
       "        'The statement \"Have mercy My heart breaks RT @BBCBreaking #Germanwings confirm 144 ppl &amp; 6 crew on FLT #4U9525 crash in French Alps\" supports the claim that the statement is true.',\n",
       "        'The statement \"Hey @thelittleidiot on top of bein selfadmitted idiot : ) Yer also Retarted LOL #Libs + their #Ferguson #WelfarePet Thugs @XposeBlackCrime\" is classified as \"NEUTRAL\".',\n",
       "        'The statement \"Hhmmmm… *ambil lup* “@Slate: Witnesses say the Charlie Hebdo gunmen identified themselves as members of al-Qaida\" supports the claim that the gunmen were members of al-Qaida.',\n",
       "        'The statement \"Horrible! “@thei100: Charlie Hebdo shooting latest: 12 dead and gunmen still at large\" supports the claim that the event is terrible.',\n",
       "        'The statement \"How about giving them bullets before they are shot instead of honours after\" can be classified as \"DENIES\".',\n",
       "        'The statement \"How about the story that friends of the third suspect Hamyd saw him in class 230km away during the attack\" does not provide enough information to determine its classification. It is neutral.',\n",
       "        'The statement \"How many white celebrities have been CAUGHT shoplifting and end up dead in streets? I\\'ll wait.\" does not provide enough information to classify it as either supporting or denying the claim. It is neutral.',\n",
       "        'The statement \"How stupid\" is classified as \"NEUTRAL\".',\n",
       "        'The statement \"How would they know if they are harmed or not?\" is neutral. It does not provide any support or denial of the claim.',\n",
       "        'The statement \"I can also confirm he will not be playing in Rankin Inlet, NU either\" is neutral.',\n",
       "        'The statement \"I do so appreciate a debunk story headline/tweet which actually contains debunks rather than a confusing/leading question\" supports the claim.',\n",
       "        'The statement \"I don\\'t post any videos where u see blood or killing\" does not support, deny, or take a neutral stance on the topic.',\n",
       "        'The statement \"I know I can\\'t be insightful yet - that\\'s the bloody point, neither can you, and by trying to, you lose ground\" is classified as \"NEUTRAL\".',\n",
       "        'The statement \"I know I know.. :\\'( I had added \\'and Europe\\'\" can be classified as \"NEUTRAL\".',\n",
       "        'The statement \"I respect them for making the rides free\" supports the claim.',\n",
       "        'The statement \"I thought it was hi-jacked and being flown by then\" is classified as \"NEUTRAL\".',\n",
       "        'The statement \"I thought it was only 1 from the beginning\" is classified as \"NEUTRAL\".',\n",
       "        'The statement \"ISIS #Terrorism\" supports the claim.',\n",
       "        'The statement \"ISIS -holding a Cafe hostage in Sydney- forcing Hostages to press ISIS flags against the Windows\" supports the terrorist organization.',\n",
       "        'The statement \"ISIS and #IslamicState work for #CIA claims former #al-Qaeda commander\" is classified as \"NEUTRAL\".',\n",
       "        'The statement \"In pictures: the #SydneySiege\" is neutral.',\n",
       "        'The statement \"In pictures: the #SydneySiege\" supports the claim that the Sydney siege was a terrorist attack.',\n",
       "        'The statement \"Inexpicable evil!\" is classified as \"NEUTRAL\".',\n",
       "        'The statement \"It was obvious it was being manually controlled by the changes in descent rate\" is classified as \"SUPPORTS\".',\n",
       "        'The statement \"It\\'s anti semite\" is classified as \"DENIES\".',\n",
       "        'The statement \"It\\'s true\" is classified as \"TRUE\".',\n",
       "        'The statement \"Jaywalking\" is classified as \"NEUTRAL\".',\n",
       "        'The statement \"JeSuisCharlie\" is neutral.',\n",
       "        'The statement \"Jurutha if u watch the tape, he reached over counter, still not grounds to shoot him from behind\" supports the claim that the action of reaching over the counter does not justify shooting someone from behind.',\n",
       "        'The statement \"Larry Elder is a great American patriot\" supports.',\n",
       "        'The statement \"Likely, but not confirmed yet\" can be classified as \"NEUTRAL\".',\n",
       "        'The statement \"MPs credit sergeant-at-arms for saving lives in Parliament Hill shootings GREAT JOB!!\" can be classified as \"SUPPORTS\".',\n",
       "        'The statement \"MPs credit sergeant-at-arms for saving lives in Parliament Hill shootings\" is neutral.',\n",
       "        'The statement \"Me too lol\" is neutral.',\n",
       "        'The statement \"Michael was dead\" is classified as \"DENIES\".',\n",
       "        'The statement \"Military Coup to overthrow Putin\" supports the claim.',\n",
       "        'The statement \"Mohamed would NOT approve of their action or the action of all those killing in the name of Iislam\" supports the claim that the statement is \"NEUTRAL\".',\n",
       "        'The statement \"More shots fired just off Parliament Hill. Police telling everyone to take cover.\" supports the claim that there was an attack on Parliament Hill.',\n",
       "        'The statement \"No, it hasn\\'t.\" is classified as \"DENIES\".',\n",
       "        'The statement \"Not sure\\'shoot first &amp; uncover potential crime later\\' is viable policy outside the fevered mind of a conservative\" is neutral.',\n",
       "        'The statement \"Obviously?\" is classified as \"NEUTRAL\".',\n",
       "        'The statement \"One definition?\" is classified as \"NEUTRAL\".',\n",
       "        'The statement \"Or is it...\" is neutral.',\n",
       "        'The statement \"PRINCE IN TORONTO TONIGHT: @3RDEYEGIRL tweeted this morning to say OTNOROT CALLING, which is Toronto backwards, obviously.... Seems it\\'s on!\" is neutral.',\n",
       "        'The statement \"Paris Murder Suspects Cornered with Hostage\" supports the claim that the suspects were cornered by the hostage.',\n",
       "        'The statement \"Paris terrorist attack\" supports the claim that the attack was carried out by terrorists.',\n",
       "        'The statement \"Police have confirmed that the #SydneySiege is over\" supports the claim.',\n",
       "        'The statement \"Police taking people out of #Paris grocery where hostages were being held\" supports the claim that the police are taking people out of the store.',\n",
       "        'The statement \"Prince rumoured to be performing in surprise show in Toronto\" supports the claim.',\n",
       "        'The statement \"Putin has gone 1 better\" is classified as \"SUPPORTS\".',\n",
       "        'The statement \"Putin reappears on TV amid claims he is unwell and under threat of coup\" supports the claim that Putin is unwell.',\n",
       "        'The statement \"Ray Hadley has rated number one in Sydney since 2004\" is classified as \"SUPPORTS\".',\n",
       "        'The statement \"Reports of gunshots unconfirmed\" is neutral.',\n",
       "        'The statement \"Reuters incident?\" does not provide enough context to determine its classification.',\n",
       "        'The statement \"RunawayBudgie: @leftocentre @suthernx @onewaymule87 @smh @ZJGarred\" supports the claim that the speaker and the people mentioned in the statement are all in the same location.',\n",
       "        'The statement \"SUPPORTS\"',\n",
       "        'The statement \"SUPPORTS\" the Sydney Siege.',\n",
       "        'The statement \"SUPPORTS\" the attack on the kosher market in Paris.',\n",
       "        'The statement \"SUPPORTS\" the claim that \"@BBCBreaking apparently they snuck out when he went for a piss\".',\n",
       "        'The statement \"SUPPORTS\" the claim that Charlie Hebdo suspects \"prepared to die as martyrs\".',\n",
       "        'The statement \"SUPPORTS\" the claim that Mike Brown was a suspect in a \"strong-armed\" robbery in Ferguson.',\n",
       "        'The statement \"SUPPORTS\" the claim that Mohammad uses animals for revenge.',\n",
       "        'The statement \"SUPPORTS\" the claim that a gunman in a policewoman killing is suspected in a new Paris hostage-taking.',\n",
       "        'The statement \"SUPPORTS\" the claim that a hostage was freed by the Sydney siege attacker.',\n",
       "        'The statement \"SUPPORTS\" the claim that an ISIS flag was seen.',\n",
       "        'The statement \"SUPPORTS\" the claim that several hostages were freed at a Jewish supermarket in Paris.',\n",
       "        'The statement \"SUPPORTS\" the claim that the Ferguson police officers told a \"dirty, bloody lie\".',\n",
       "        'The statement \"SUPPORTS\" the claim that the Ferguson police officers told a dirty, bloody lie.',\n",
       "        'The statement \"SUPPORTS\" the claim that the Fox News website has no content related to the three wise monkeys.',\n",
       "        'The statement \"SUPPORTS\" the claim that the French police were able to free and safe the hostage after their assault.',\n",
       "        'The statement \"SUPPORTS\" the claim that the Germanwings Airbus A320 crashed in the French Alps near Digne.',\n",
       "        'The statement \"SUPPORTS\" the claim that the Germanwings passenger plane crashed in the French Alps.',\n",
       "        'The statement \"SUPPORTS\" the claim that the Guardian\\'s article is \"Interesting, because the Guardian says different.\"',\n",
       "        'The statement \"SUPPORTS\" the claim that the Kouachi brothers were involved in the Paris terror attack.',\n",
       "        'The statement \"SUPPORTS\" the claim that the Russian President and the Swiss clinic were involved in the poisoning of Alexei Navalny.',\n",
       "        'The statement \"SUPPORTS\" the claim that the cartoon by Lucille Clerc is not by Banksy.',\n",
       "        'The statement \"SUPPORTS\" the claim that the case was being covered up and that the mayor was on the police\\'s side.',\n",
       "        'The statement \"SUPPORTS\" the claim that the flag in the Sydney hostage situation is an Islamic profession of faith.',\n",
       "        'The statement \"SUPPORTS\" the claim that the hostage was pressed against a window during the Sydney Siege.',\n",
       "        'The statement \"SUPPORTS\" the claim that the incident was a petty theft.',\n",
       "        'The statement \"SUPPORTS\" the claim that the interview was the worst interview the speaker has ever seen.',\n",
       "        'The statement \"SUPPORTS\" the claim that the media reporting on the \"scary\" events is dangerous.',\n",
       "        'The statement \"SUPPORTS\" the claim that the person in the statement robbed swishers.',\n",
       "        'The statement \"SUPPORTS\" the claim that the police\\'s testimony has been considered law despite it contrasting what eyewitnesses said.',\n",
       "        'The statement \"SUPPORTS\" the claim that the suspected gunmen have been killed.',\n",
       "        'The statement \"SUPPORTS\" the claim that the video was faked.',\n",
       "        'The statement \"SUPPORTS\" the claim that there are hostages held inside a Sydney cafe and an Islamic flag is being held up.',\n",
       "        'The statement \"SUPPORTS\" the claim that there was a shooting on Parliament Hill.',\n",
       "        'The statement \"SUPPORTS\" the classification of the statement.',\n",
       "        'The statement \"SUPPORTS\" the classification.',\n",
       "        'The statement \"SUPPORTS\" the eyewitness\\'s claim that it wasn\\'t him.',\n",
       "        'The statement \"SUPPORTS\" the gunman\\'s threat to kill hostages if the Charlie Hebdo suspects are harmed.',\n",
       "        'The statement \"SUPPORTS\" the idea that Hadley is doing what he does best.',\n",
       "        'The statement \"SUPPORTS\" the idea that Islam is a violent religion.',\n",
       "        'The statement \"SUPPORTS\" the idea that Tom Sveb is a criminal.',\n",
       "        'The statement \"SUPPORTS\" the idea that it is time for something to be done.',\n",
       "        'The statement \"SUPPORTS\" the idea that reporting hostages could be a useful strategy to keep them alive.',\n",
       "        'The statement \"SUPPORTS\" the idea that the BBC should change the term \"martyr\" to \"kill themselves\" in their news text.',\n",
       "        'The statement \"SUPPORTS\" the idea that the Canadian government should get it right.',\n",
       "        'The statement \"SUPPORTS\" the idea that the government may have been negligent in allowing the extremists to enter the country.',\n",
       "        'The statement \"SUPPORTS\" the idea that the psycho is ruthless and will shoot all.',\n",
       "        'The statement \"SUPPORTS\" the idea that there is a connection between the Paris hostage situation and the idea of peace.',\n",
       "        'The statement \"SUPPORTS\" the idea that there will be more attacks on the nation by the Harper administration.',\n",
       "        'The statement \"SUPPORTS\" the idea that window cleaners should be paid a living wage.',\n",
       "        'The statement \"SUPPORTS\" the ongoing police operation in Sydney.',\n",
       "        'The statement \"SUPPORTS\" the shooting at the Charlie Hebdo headquarters in Paris.',\n",
       "        'The statement \"SUPPORTS\" the soldier being shot at the National War Memorial in Ottawa.',\n",
       "        'The statement \"Several hostages freed at Jewish supermarket in Paris\" supports the claim that the event occurred.',\n",
       "        'The statement \"Several hostages freed at Jewish supermarket in Paris. Photo Thomas Samson #AFP http://t.co/h2cDsQtoaq\" supports the claim that the terrorist attack was carried out by a second terrorist.',\n",
       "        'The statement \"Shoot unarmed kid\" is classified as \"DENIES\".',\n",
       "        'The statement \"Shots at 3 #Ottawa sites\" supports the claim that there were shots fired in Ottawa.',\n",
       "        'The statement \"Smfh @TheAnonMessage: FIRST PHOTOS: Hostage pressed against a window. #SydneySiege http://t.co/7vHyH7DLg2\" supports the claim that the hostage was pressed against a window.',\n",
       "        'The statement \"So he did that for cigars\" is neutral.',\n",
       "        'The statement \"So sorry for him &amp; his FAMILY\" can be classified as \"NEUTRAL\".',\n",
       "        'The statement \"Soldier killed in Canada shooting was a young reservist with a six-year-old son\" supports the claim that the soldier was killed in a shooting in Canada.',\n",
       "        'The statement \"Some media owned by Jews. Some by Christians. Many by Muslims.\" can be classified as \"NEUTRAL\".',\n",
       "        'The statement \"Sounds like a decent of 2900fpm\" supports the claim.',\n",
       "        'The statement \"Stay out\" is classified as \"DENIES\".',\n",
       "        'The statement \"Sydney Opera House evacuated, concourse deserted\" is classified as \"NEUTRAL\".',\n",
       "        'The statement \"Sydneysiege selfies\" supports the claim that Sydney is a safe city.',\n",
       "        'The statement \"Terrorised\" supports the claim that the Lindt Cafe siege was carried out by a terrorist group.',\n",
       "        'The statement \"Thank God\" is classified as \"NEUTRAL\".',\n",
       "        'The statement \"Thanks so much for sharing\" is neutral.',\n",
       "        'The statement \"That\\'s because their SKANKERS\" supports the claim that the SKANKERS are the cause of the problem.',\n",
       "        'The statement \"The Sabber: @CNNVideo took a bullet for some swishers we\\'ll never know the whole story though\" does not support or deny the claim. It is neutral.',\n",
       "        'The statement \"The Shahada is not a \\'group\\'\" is classified as \"DENIES\".',\n",
       "        'The statement \"The answer will probably start with \"S\"\" is classified as \"SUPPORT\".',\n",
       "        'The statement \"The gunman told them what 2 post...\" is neutral.',\n",
       "        'The statement \"The pause button is broken and there is no rewind function\" can be classified as \"NEUTRAL\".',\n",
       "        'The statement \"The soldier on the right is the one who took the shot\" supports the claim that the soldier on the right is the one who shot the visitor.',\n",
       "        'The statement \"There was something leading up to the shooting?\" can be classified as \"NEUTRAL\".',\n",
       "        'The statement \"Total of 5 people have been able to get out of Sydney cafe during hostage situation\" is neutral.',\n",
       "        'The statement \"URGENT: Darren Wilson is the police officer who shot Mike Brown\" supports the claim that Darren Wilson is the police officer who shot Mike Brown.',\n",
       "        'The statement \"US media rejected to reprint those pictures finding them insulting\" supports the claim that the media rejected the pictures due to their insulting nature.',\n",
       "        'The statement \"Uber introduces surge pricing in downtown Sydney during hostage siege\" supports the claim that Uber is taking advantage of the situation.',\n",
       "        'The statement \"Uber intros surge pricing in downtown Sydney during hostage siege\" does not support the claim.',\n",
       "        'The statement \"Unfortunately, there is no proof he did that and witnesses who say he didn\\'t go for the gun\" supports the claim that there is no evidence to support the claim that the person did not go for the gun.',\n",
       "        'The statement \"Unreal. Like a movie\" is classified as \"SUPPORTS\".',\n",
       "        'The statement \"Valerie Hahn is a professor of psychology at the University of Wisconsin-Madison\" supports the claim.',\n",
       "        'The statement \"WTF is going on in the world today?\" can be classified as \"SUPPORT\".',\n",
       "        'The statement \"WTF 😳\" does not provide any information about whether it supports, denies, or is neutral.',\n",
       "        'The statement \"Watch video showing gunfire inside Canada\\'s parliament in Ottawa\" supports the claim that gunfire was fired inside Canada\\'s parliament in Ottawa.',\n",
       "        'The statement \"Whatever\" is neutral.',\n",
       "        'The statement \"Where is Vladimir Putin?\" can be classified as \"NEUTRAL\".',\n",
       "        'The statement \"Which is an insult to the Three Stooges, but I agree with your point hundred percent.\" can be classified as \"SUPPORT\".',\n",
       "        'The statement \"Who\\'s the man in black?\" is neutral.',\n",
       "        'The statement \"Wishing this was NYC\" is classified as \"NEUTRAL\".',\n",
       "        'The statement \"Witnesses say the Charlie Hebdo gunmen identified themselves as members of al-Qaida\" is classified as \"NEUTRAL\".',\n",
       "        'The statement \"Yes but it does warrant being shot to death by the store owner. Its called Karma.\" is classified as \"DENIES\".',\n",
       "        'The statement \"Yikes rt:@globeandmail : #BREAKING news: Shots fired at Parliament Hill.\" supports the claim that the event is true.',\n",
       "        'The statement \"Your post states theft\" supports the claim that theft has occurred.',\n",
       "        'The statement \"aljazeera report on rocket launcher then edit link\" is neutral.',\n",
       "        'The statement \"cops kill too many Americans, black &amp; white\" can be classified as \"DENIES\".',\n",
       "        'The statement \"designnotdrum\" is neutral.',\n",
       "        'The statement \"evacuate\" can mean to leave a country or to leave a city or area. It depends on the context in which it is used.',\n",
       "        'The statement \"exactly so why did you or your friend already pointed the fingers at Muslims\" can be classified as \"DENIES\". The statement is denying the claim that the person or their friend pointed the fingers at Muslims.',\n",
       "        'The statement \"it was just live\" is neutral.',\n",
       "        'The statement \"it\\'s not a siege it\\'s WAR\" can be classified as \"SUPPORTS\".',\n",
       "        'The statement \"keep your ears open and let me know if you hear anything\" is classified as \"SUPPORT\".',\n",
       "        'The statement \"no I\\'m sure the violent felon put his hands right up and the evil policeman after 6 yrs of service decided to kill 4 fun!\" supports the claim that the violent felon put his hands up and the evil policeman decided to kill him for fun.',\n",
       "        'The statement \"no torturing anyone who might know anything\" is classified as \"DENIES\".',\n",
       "        'The statement \"not lagging, just answered your original question: no one, no nation or faith system above ridicule\" can be classified as \"NEUTRAL\".',\n",
       "        'The statement \"not so just that elements in press don\\'t want to report the bigger picture - have their own agenda\" can be classified as \"DENIES\".',\n",
       "        'The statement \"so sad, what made it\" is neutral.',\n",
       "        'The statement \"statement: @flightradar24 any idea why it\\'d flight so high?\" is neutral.',\n",
       "        'The statement \"stop saying this every 2 minutes, you\\'re gloryfying it; no, they will die kicking and screaming, not heros\" supports the claim that the statement is neutral.',\n",
       "        'The statement \"strong-armed\" does not necessarily imply the use of deadly force against Antonio French. It could mean that French was physically intimidated or pressured into doing something he did not want to do. The statement does not provide enough context to determine whether it supports, denies, or is neutral.',\n",
       "        'The statement \"that doesn\\'t indicate that the autopilot was set to 100 feet\" is classified as \"DENIES\".',\n",
       "        'The statement \"the terrorist had a meeting with président #Sarkozy in 2009\" supports the claim that the terrorist had a meeting with the French president.',\n",
       "        'The statement \"there\\'s a million dudes wearing cargos &amp; white tees everyday please stop\" is neutral.',\n",
       "        'The statement \"thousands, not millions, of planes daily/globally\" supports the claim.',\n",
       "        'The statement \"to be clear: an unarmed teenager\" supports the claim that the teenager was unarmed.',\n",
       "        'The statement \"was the most boring concert ever\" supports the claim.',\n",
       "        'The statement \"we\\'re going to need to try it out, before I comment\" can be classified as \"NEUTRAL\".',\n",
       "        'The statement \"what a loss\" is neutral.',\n",
       "        'The statement \"yep, don\\'t as me how I know, but yep\" supports the claim that the speaker knows something.',\n",
       "        'The statement does not provide any direct support for the claim that the #CharlieHebdo attack suspects have reportedly fired shots while robbing a petrol station.',\n",
       "        'The statement does not provide enough information to determine its classification.',\n",
       "        'The statement does not support or deny the charges against Michael Brown. It is neutral.',\n",
       "        'The statement does not support or deny the claim that the pilot was Muslim.',\n",
       "        'The statement does not support or deny the claim that the victim was shot at close range and did not stand a chance.',\n",
       "        'The statement does not support, deny, or remain neutral.',\n",
       "        'The statement is neutral.',\n",
       "        'The statement supports the claim that \"СРОЧНО\" is not the best translation for \"URGENT\".',\n",
       "        \"The statement supports the claim that Bahrain's land reclamation controversy has been explained on Vimeo.\",\n",
       "        'The statement supports the claim that Cleveland Police have murdered many unarmed black people.',\n",
       "        'The statement supports the claim that Darren Wilson is the police officer who shot Mike Brown.',\n",
       "        'The statement supports the claim that Darren Wilson, a Ferguson police officer, shot and killed Mike Brown.',\n",
       "        'The statement supports the claim that Uber has introduced surge pricing in Sydney during a hostage siege.',\n",
       "        'The statement supports the claim that Uber has surge pricing in Sydney during a hostage siege.',\n",
       "        'The statement supports the claim that at least five hostages in a Paris kosher supermarket were taken by a terrorist.',\n",
       "        'The statement supports the claim that police have entered the Lindt cafe in Sydney, and that hostages have fled.',\n",
       "        'The statement supports the claim that shots were fired at Parliament Hill.',\n",
       "        'The statement supports the claim that shots were fired inside the parliament building.',\n",
       "        'The statement supports the claim that the @MSNBCRachel story about the whistleblower in \"Black Day\" speaks to racial attitudes in the department.',\n",
       "        'The statement supports the claim that the Canadian government is planning to install a statue of a military representative in Ottawa.',\n",
       "        'The statement supports the claim that the Ferguson PD may have aided and abetted Wilson in fleeing.',\n",
       "        'The statement supports the claim that the Ferguson police officers lied about the events that occurred on August 9, 2014.',\n",
       "        'The statement supports the claim that the French police were able to apprehend the perpetrators of the attack on the Charlie Hebdo magazine.',\n",
       "        'The statement supports the claim that the Kouachi brothers were cowards.',\n",
       "        \"The statement supports the claim that the US is the world's leading military power.\",\n",
       "        'The statement supports the claim that the day was incredible for S-A-A.',\n",
       "        'The statement supports the claim that the gunman was Seven.',\n",
       "        'The statement supports the claim that the killing of the policewoman in #Paris on Thursday is linked to the #CharlieHebdo attack.',\n",
       "        'The statement supports the claim that the party in question has ruled India for 60 years.',\n",
       "        'The statement supports the claim that the perpetrators of the Sydney siege appear to be members of ISIS.',\n",
       "        'The statement supports the claim that the police have confirmed the connection between the attack and the \"Shiraz Maher\" account.',\n",
       "        'The statement supports the claim that the reporters are not walking across the grass to get closer to the police.',\n",
       "        'The statement supports the claim that the suspects have reportedly fired shots while robbing a petrol station.',\n",
       "        'The statement supports the claim that there are racist cops in Cleveland.',\n",
       "        'The statement supports the claim that there could be a false flag event unfolding right across the street from channel 7.',\n",
       "        'The statement supports the claim that there was a shooting inside the parliament building.',\n",
       "        'The statement supports the claim that there were \"numerous gunmen\" at the Canada War Memorial shooting.',\n",
       "        'The statement supports the claim that there were 148 passengers on board the Airbus A320.',\n",
       "        'The statement supports the claim that there were 3 gunmen involved in the deadly attack on the French satirical magazine Charlie Hebdo.',\n",
       "        'The statement supports the claim that two customers and an employee have escaped the Sydney Siege.',\n",
       "        'The statement supports the coup by @CoalsonR.',\n",
       "        'The statement supports the idea that scanning everyone before entering a coffee shop in California is a good idea.',\n",
       "        'The statement supports.',\n",
       "        'This statement supports the claim that RT_com is Mossad.',\n",
       "        'This statement supports the claim that the police in Ferguson, Missouri, have a history of using excessive force and brutality.',\n",
       "        'This statement supports the claim that the police release of the convenience store footage proves the robbery occurred.',\n",
       "        'This statement supports.', 'UPDATED',\n",
       "        'Uber is implementing surge pricing in Sydney during a hostage siege.\\n\\nClassification: SUPPORTS',\n",
       "        'Uber_Sydney',\n",
       "        'Uber_Sydney\\n\\nThe statement \"@Uber_Sydney what does this mean?\" can be classified as \"NEUTRAL\".',\n",
       "        'Uber_Sydney\\n\\nThe statement supports.',\n",
       "        'Uber_Sydney\\n\\nUber_Sydney\\n\\nUber_Sydney\\n\\nUber_Sydney\\n\\nUber_Sydney\\n\\nUber_Sydney\\n\\nUber_Sydney\\n\\nUber_Sydney\\n\\nUber_Sydney\\n\\nUber_Sydney\\n\\nUber_Sydney\\n\\nUber_Sydney\\n\\nUber_Sydney\\n\\nUber_Sydney\\n\\nUber_Sydney\\n\\nUber_Sydney\\n\\nUber_Sydney\\n\\nUber_Sydney\\n\\nUber_Sydney\\n\\nUber_Sydney\\n\\nUber_Sydney\\n\\nUber_Sydney\\n\\nUber_Sydney\\n\\nUber_Sydney\\n\\nUber_Sydney\\n\\nUber_Sydney\\n\\nUber_Sydney\\n\\nUber_Sydney\\n\\nUber_Sydney\\n\\nUber_Sydney\\n\\nUber_Sydney\\n\\nUber_Sydney\\n\\nUber_Sydney\\n\\nUber_Sydney\\n\\nUber_Sydney\\n\\nUber_Sydney\\n\\nUber_Sydney\\n\\nUber_Sydney\\n\\nUber_Sydney\\n\\nUber_Sydney\\n\\nUber_Sydney\\n\\nUber_Sydney\\n\\nUber_Sydney\\n\\nUber_Sydney\\n\\nUber_Sydney\\n\\nUber_Sydney\\n\\nUber_Sydney\\n\\nUber_Sydney\\n\\nUber_Sydney\\n\\nUber_Sydney\\n\\nUber_Sydney\\n\\nUber_Sydney\\n\\nUber_Sydney\\n\\nUber_Sydney\\n\\nUber_Sydney\\n\\nUber_Sydney\\n\\nUber_Sydney\\n\\nUber_Sydney\\n\\nUber_Sydney\\n\\nUber_Sydney\\n\\nUber_Sydney\\n\\nUber_Sydney\\n\\nUber_Sydney\\n\\nUber_Sydney\\n\\nUber_Sydney\\n\\nUber_Sydney\\n\\nUber_Sydney\\n\\nUber_Sydney\\n\\nUber_Sydney\\n\\nUber_Sydney\\n\\nUber_Sydney\\n\\nUber_Sydney\\n\\nUber_Sydney\\n\\nUber_Sydney\\n\\nUber_Sydney\\n\\nUber_Sydney\\n\\nUber_Sydney\\n\\nUber_Sydney\\n\\nUber_Sydney\\n\\nUber_Sydney\\n\\nUber_Sydney\\n\\nUber_Sydney\\n\\nUber_Sydney\\n\\nUber_Sydney\\n\\nUber_Sydney\\n\\nUber_Sydney\\n\\nUber_Sydney\\n\\nUber_Sydney\\n\\nUber_Sydney\\n\\nUber_Sydney\\n\\nUber_Sydney\\n\\nUber_Sydney\\n\\nUber_Sydney\\n\\nUber_Sydney\\n\\nUber_Sydney\\n\\nUber_Sydney\\n\\nUber_Sydney\\n\\nUber_Sydney\\n\\nUber_Sydney\\n\\nUber_Sydney\\n\\nUber_Sydney\\n\\nUber_Sydney\\n\\nUber_Sydney\\n\\nUber_Sydney\\n\\nUber_Sydney\\n\\nUber_Sydney\\n\\nUber_Sydney\\n\\nUber_Sydney\\n\\nUber_Sydney\\n\\nUber_Sydney\\n\\nUber_Sydney\\n\\nUber_Sydney\\n\\nUber_Sydney\\n\\nUber_Sydney\\n\\nUber_Sydney\\n\\nUber_Sydney\\n\\nUber_Sydney\\n\\nUber_Sydney\\n\\nUber_Sydney\\n\\nUber_Sydney\\n\\nUber_Sydney\\n\\nUber_Sydney\\n\\nUber_Sydney\\n\\nUber_Sydney\\n\\nUber_Sydney\\n\\nUber_Sydney\\n\\nUber_Sydney\\n\\nUber_Sydney\\n\\nUber_Sydney\\n\\nUber_Sydney\\n\\nUber_Sydney\\n\\nUber_Sydney\\n\\nUber_Sydney\\n\\nUber_Sydney\\n\\nUber_Sydney\\n\\nUber_Sydney\\n\\nUber_Sydney\\n\\nUber_Sydney\\n\\nUber_Sydney\\n\\nUber_Sydney\\n\\nUber_Sydney\\n\\nUber_Sydney\\n\\nUber_Sydney\\n\\nUber_Sydney\\n\\nUber_Sydney\\n\\nUber_Sydney\\n\\nUber_Sydney\\n\\nUber_Sydney\\n\\nUber_Sydney\\n\\nUber_Sydney\\n\\nUber_Sydney\\n\\nUber_Sydney\\n\\nUber_Sydney\\n\\nUber_Sydney',\n",
       "        'Uber_Sydney reports around the world flooding in of your 400% fare increase in response to a siege situation, smart.\\n\\nClassification: Supports',\n",
       "        'Unbelievable',\n",
       "        'Unconfirmed reports claim that Michael Essien has contracted Ebola.',\n",
       "        'Workplace violence', 'Yes, more than likely Frankie.',\n",
       "        'classification: \\nThe statement \"@XxPLWxX @BBCWorld cos it\\'s not\" is neutral.',\n",
       "        'classification: DENIES\\n\\nThe statement \"They can never be\" is classified as \"DENIES\".',\n",
       "        '| #Ferguson #Police #PoliceViolence #PoliceBrutality #PoliceBrutality #PoliceViolence #PoliceViolence #PoliceViolence #PoliceViolence #PoliceViolence #PoliceViolence #PoliceViolence #PoliceViolence #PoliceViolence #PoliceViolence #PoliceViolence #PoliceViolence #PoliceViolence #PoliceViolence #PoliceViolence #PoliceViolence #PoliceViolence #PoliceViolence #PoliceViolence #PoliceViolence #PoliceViolence #PoliceViolence #PoliceViolence #PoliceViolence #PoliceViolence #PoliceViolence #PoliceViolence #PoliceViolence #PoliceViolence #PoliceViolence #PoliceViolence #PoliceViolence #PoliceViolence #PoliceViolence #PoliceViolence #PoliceViolence #PoliceViolence #PoliceViolence #PoliceViolence #PoliceViolence #PoliceViolence #PoliceViolence #PoliceViolence #PoliceViolence #PoliceViolence #PoliceViolence #PoliceViolence #PoliceViolence #PoliceViolence #PoliceViolence #PoliceViolence #PoliceViolence #PoliceViolence #PoliceViolence #PoliceViolence #PoliceViolence #PoliceViolence #PoliceViolence #PoliceViolence #PoliceViolence #PoliceViolence #PoliceViolence #PoliceViolence #PoliceViolence #PoliceViolence #PoliceViolence #PoliceViolence #PoliceViolence #PoliceViolence #PoliceViolence #PoliceViolence #PoliceViolence #PoliceViolence #PoliceViolence #PoliceViolence #PoliceViolence #PoliceViolence #PoliceViolence #PoliceViolence #PoliceViolence #PoliceViolence #PoliceViolence #PoliceViolence #PoliceViolence #PoliceViolence #PoliceViolence #PoliceViolence #PoliceViolence #PoliceViolence #PoliceViolence #PoliceViolence #PoliceViolence #PoliceViolence #PoliceViolence #PoliceViolence #PoliceViolence #PoliceViolence #PoliceViolence #PoliceViolence #PoliceViolence #PoliceViolence #PoliceViolence #PoliceViolence #PoliceViolence #PoliceViolence #PoliceViolence #PoliceViolence #PoliceViolence #PoliceViolence #PoliceViolence #PoliceViolence #PoliceViolence #PoliceViolence #PoliceViolence #PoliceViolence #PoliceViolence #PoliceViolence #PoliceViolence #PoliceViolence #PoliceViolence #PoliceViolence #PoliceViolence #PoliceViolence #PoliceViolence #PoliceViolence #PoliceViolence #PoliceViolence #PoliceViolence #PoliceViolence #PoliceViolence #PoliceViolence #PoliceViolence #PoliceViolence #PoliceViolence #PoliceViolence #PoliceViolence #PoliceViolence #PoliceViolence #PoliceViolence #PoliceViolence #PoliceViolence #PoliceViolence #PoliceViolence #PoliceViolence #PoliceViolence #PoliceViolence #PoliceViolence #PoliceViolence #PoliceViolence #PoliceViolence #PoliceViolence #PoliceViolence #PoliceViolence #PoliceViolence #PoliceViolence #PoliceViolence #PoliceViolence #PoliceViolence #PoliceViolence #PoliceViolence #PoliceViolence #PoliceViolence #PoliceViolence #PoliceViolence #PoliceViolence #PoliceViolence #PoliceViolence #PoliceViolence #PoliceViolence #PoliceViolence #PoliceViolence #PoliceViolence #PoliceViolence #PoliceViolence #PoliceViolence #PoliceViol'],\n",
       "       dtype='<U3571'),\n",
       " array([   1,    1,    1,    1,    1,    1,    1,    1,    7,   10,   15,\n",
       "           1,    1,    1,    1,    1,    1,    1,    1,    1,    1,    1,\n",
       "           1,    1,    1,    1,    1,   17,    1,    1,    3,    1,   14,\n",
       "           1,    1,    2,    1,    3,    1,    2,    1,    1,    1,    1,\n",
       "           1,    6,    1,    4,   48,    1,   74,    1,    1,    1,    1,\n",
       "           1,    1,    1,    1,    1,    1,    1,    1,    1,    1,    1,\n",
       "           1,    1,    1,    1,    1,    1,    1,    1,    1,    1,    1,\n",
       "           1,    1,    1,    1,    1,    1,    1,    1,    1,    1,    1,\n",
       "           1,    1,    1,    1,    1,    1,    1,    1,    1,    1,    1,\n",
       "           1,    1,    1,    1,    1,    1,    1,    1,    1,    1,    1,\n",
       "           1,    1,    1,    1,    1,    1,    1,    1,    1,    1,    1,\n",
       "           1,    1,    5,    1,    1,    1,    1,    1,    1,    1,    1,\n",
       "           1,    1,    1,    1,    1,    1,    1,    1,    1,    1,    1,\n",
       "           1,    1,    1,    1,    1,    1,    1,    1,    1,    1,    1,\n",
       "           1,    1,    1,    1,    1,    1,    1,    1,    1,    1,    1,\n",
       "           1,    1,    3,    1,    1,    1,    1,    1,    1,    1,    1,\n",
       "           1,    1,    1,    2,    1,    1,    1,    1,    1,    1,    1,\n",
       "           1,    1,    1,    1,    1,    1,    6,    1,    1,    1,    1,\n",
       "           1,    1,    1,    1,    1,   12,    1,    6,    1,    1,    1,\n",
       "           4,    1,    1,    1,    1,    1,    1,    1,    1,    1,    1,\n",
       "           1,    1,    1,    1,    1,    3,    1,   10,    1,    1,    1,\n",
       "           1,    5,    1,    1,    1,    1,    4,    1,    1,    1,    1,\n",
       "           1,    1,    1,    1,    1,    1,    1,    1,   26,    1,    1,\n",
       "           1,    1,    1,    1,    1,    1,    1,    1,    1,    5,    2,\n",
       "           8,    1,    6,    1,    1,    1,   26,    1,    1,    1,    1,\n",
       "           1,    1,    1,    1,    1,    1,    1,    1,    1,    1,   44,\n",
       "           1,    1,    9,    1,    1,    2,    1,    1,    1,    2,    1,\n",
       "           1,    1,    1,    1,    1,    1,    1,    1,    1,    1,    1,\n",
       "           1,    1,    1,  426,    4,    1,    1,   43,    3, 1105,    1,\n",
       "           1,    1,    1,    1,    8,  210,    1,    1,    1,    1,    1,\n",
       "           1,    1,    1,    1,    1,    1,    1,    1,    1,    1,    1,\n",
       "           1,    1,    1,    1,    1,    1,    1,    1,    1,    1,    1,\n",
       "           1,    1,    1,    1,    1,    1,    1,    1,    1,    1,    1,\n",
       "           1,    1,    1,    1,    1,    1,    1,    1,    1,    1,    1,\n",
       "           1,    1,    1,    1,    1,    1,    1,    1,    1,    1,    1,\n",
       "           1,    1,    1,    1,    1,    1,    1,    1,    1,    1,    1,\n",
       "           1,    1,    1,    1,    1,    1,    1,    1,    1,    1,    1,\n",
       "           1,    1,    1,    1,    1,    1,    1,    1,    1,    1,    1,\n",
       "           1,    1,    1,    1,    1,    1,    1,    1,    1,    1,    1,\n",
       "           1,    1,    1,    1,    1,    1,    1,    1,    1,    1,    1,\n",
       "           1,    1,    1,    1,    1,    1,    1,    1,    1,    1,    1,\n",
       "           1,    1,    1,    1,    1,    1,    1,    1,    1,    1,    1,\n",
       "           1,    1,    1,    1,    1,    1,    1,    1,    1,    1,    1,\n",
       "           1,    1,    1,    1,    1,    1,    1,    1,    1,    1,    1,\n",
       "           1,    1,    1,    1,    1,    1,    1,    1,    1,    1,    1,\n",
       "           1,    1,    1,    1,    2,    1,    1,    1,    1,    1,    1,\n",
       "           1,    1,    3,    1,    1,    1,    1,    1,    1,    1,    1,\n",
       "           1,    1,    1,    1,    1,    1,    2,    1,    1,    1,    1,\n",
       "           1,    1,    1,    2,    1,    1,    1,    1,    1,    1,    1,\n",
       "           1,    3,    1,    1,    1,    2,    1,    1,    1,    1,    1,\n",
       "           1,    1,    1,    1,    1,    1,    1,    1,    1,    1,    1,\n",
       "           1,    1,    1,    1,    1,    1,    1,    1,    1,    1,    1,\n",
       "           1,    1,    1,    1,    1,    1,    1,    1,    1,    1,    1,\n",
       "           1,    1,    1,    1,    1,    1,    1,    1,    1,    1,    1,\n",
       "           1,    1,    1,    1,    1,    1,    1,    1,    1,    1,    1,\n",
       "           1,    1,    1,    1,    1,    1,    1,    1,    1,    1,    1,\n",
       "           1,    1,    1,    1,    1,    1,    1,    1,    1,    1,    1,\n",
       "           1,    1,    1,    1,    1,    1,    1,    1,    1,    1,    1,\n",
       "           1,    1,    1,    1,    1,    1,    1,    1,    1,    1,    1,\n",
       "           1,    1,    1,    1,    1,    1,    1,    1,    1,    1,    1,\n",
       "           1,    1,    1,    1,    1,    1,    1,    1,    1,    1,    1,\n",
       "           7,    1,    1,    1,    1,    1,    1,    3,    1,    1,    1,\n",
       "           1,    1,    1,    1,    1,    1,    1,    1]))"
      ]
     },
     "execution_count": 16,
     "metadata": {},
     "output_type": "execute_result"
    }
   ],
   "source": [
    "np.unique(results, return_counts=True)"
   ]
  },
  {
   "cell_type": "code",
   "execution_count": 17,
   "id": "c4cf24d7-ca26-4735-9a57-9cf826e0a286",
   "metadata": {
    "tags": []
   },
   "outputs": [],
   "source": [
    "output_list = []  \n",
    "  \n",
    "for word in results:  \n",
    "    lower_word = word.lower()  \n",
    "    if 'support' in lower_word:  \n",
    "        output_list.append('agree')  \n",
    "    elif 'neg' in lower_word or 'denies' in lower_word:  \n",
    "        output_list.append('disagree')  \n",
    "    elif 'neutral' in lower_word:  \n",
    "        output_list.append('neutral')  \n",
    "    else:  \n",
    "        output_list.append('neutral')\n",
    "        \n",
    "df['task_preds'] = output_list"
   ]
  },
  {
   "cell_type": "code",
   "execution_count": 18,
   "id": "e334043f-4a5f-4a40-813f-0021570ae054",
   "metadata": {
    "tags": []
   },
   "outputs": [
    {
     "data": {
      "text/plain": [
       "(array(['agree', 'disagree', 'neutral'], dtype=object),\n",
       " array([2017,  102,  740]))"
      ]
     },
     "execution_count": 18,
     "metadata": {},
     "output_type": "execute_result"
    }
   ],
   "source": [
    "np.unique(df['task_preds'], return_counts=True)"
   ]
  },
  {
   "cell_type": "code",
   "execution_count": 19,
   "id": "906f54ca-301b-442e-9c0e-776598a98063",
   "metadata": {
    "tags": []
   },
   "outputs": [
    {
     "name": "stdout",
     "output_type": "stream",
     "text": [
      "              precision    recall  f1-score   support\n",
      "\n",
      "       agree       0.08      0.65      0.14       238\n",
      "    disagree       0.00      0.00      0.00         9\n",
      "     neutral       0.89      0.25      0.39      2612\n",
      "\n",
      "    accuracy                           0.28      2859\n",
      "   macro avg       0.32      0.30      0.18      2859\n",
      "weighted avg       0.82      0.28      0.37      2859\n",
      "\n"
     ]
    }
   ],
   "source": [
    "report = classification_report(df['stance'], df['task_preds'])\n",
    "\n",
    "print(report)"
   ]
  },
  {
   "cell_type": "markdown",
   "id": "753eac3e-fba1-4615-bc84-6b576814fd28",
   "metadata": {
    "tags": []
   },
   "source": [
    "## 3(b). Context prompt"
   ]
  },
  {
   "cell_type": "code",
   "execution_count": 20,
   "id": "f23b18b6-82f8-4498-b9e1-5dbfb4662996",
   "metadata": {
    "tags": []
   },
   "outputs": [],
   "source": [
    "# context prompt\n",
    "\n",
    "context_template = '''\n",
    "The following statement is a social media post commenting on whether a rumor is true. Classify the statement as to whether it \"SUPPORTS\", \"DENIES\", or is \"NEUTRAL\" toward the rumor \"{event}\" being true. Only return the classification label for the statement toward the rumor being true, and no other text.\n",
    "\n",
    "statement: {statement}\n",
    "'''\n",
    "\n",
    "context_prompt = PromptTemplate(\n",
    "    input_variables=[\"event\",\"statement\"],\n",
    "    template=context_template\n",
    ")"
   ]
  },
  {
   "cell_type": "markdown",
   "id": "b76cda91-c949-4268-bfc8-39d3999eef46",
   "metadata": {},
   "source": [
    "### Run an example"
   ]
  },
  {
   "cell_type": "code",
   "execution_count": 21,
   "id": "17a0143a-cad6-45f7-845e-e90ed6dccd43",
   "metadata": {
    "tags": []
   },
   "outputs": [],
   "source": [
    "event = df['event'][0]\n",
    "statements = df[df['event'] == event]['full_text'][0:20].tolist()\n",
    "y_true = df[df['event'] == event]['stance'][0:20].tolist()"
   ]
  },
  {
   "cell_type": "code",
   "execution_count": 22,
   "id": "13ee5e07-ca7f-4ccc-98c3-29b230284adf",
   "metadata": {
    "tags": []
   },
   "outputs": [
    {
     "name": "stderr",
     "output_type": "stream",
     "text": [
      "/usr/local/lib/python3.10/dist-packages/transformers/pipelines/base.py:1101: UserWarning: You seem to be using the pipelines sequentially on GPU. In order to maximize efficiency please use a dataset\n",
      "  warnings.warn(\n"
     ]
    }
   ],
   "source": [
    "llm_chain = LLMChain(prompt=context_prompt, llm=llm)\n",
    "\n",
    "results=[]\n",
    "for statement in statements:\n",
    "    results.append(llm_chain.run(event=event, statement=statement))"
   ]
  },
  {
   "cell_type": "code",
   "execution_count": 23,
   "id": "88aefc12-a867-4975-9340-46ec79d49122",
   "metadata": {
    "tags": []
   },
   "outputs": [
    {
     "name": "stdout",
     "output_type": "stream",
     "text": [
      "              precision    recall  f1-score   support\n",
      "\n",
      "       agree       0.29      1.00      0.45         5\n",
      "    disagree       0.00      0.00      0.00         1\n",
      "     neutral       1.00      0.21      0.35        14\n",
      "\n",
      "    accuracy                           0.40        20\n",
      "   macro avg       0.43      0.40      0.27        20\n",
      "weighted avg       0.77      0.40      0.36        20\n",
      "\n"
     ]
    },
    {
     "name": "stderr",
     "output_type": "stream",
     "text": [
      "/usr/local/lib/python3.10/dist-packages/sklearn/metrics/_classification.py:1344: UndefinedMetricWarning: Precision and F-score are ill-defined and being set to 0.0 in labels with no predicted samples. Use `zero_division` parameter to control this behavior.\n",
      "  _warn_prf(average, modifier, msg_start, len(result))\n",
      "/usr/local/lib/python3.10/dist-packages/sklearn/metrics/_classification.py:1344: UndefinedMetricWarning: Precision and F-score are ill-defined and being set to 0.0 in labels with no predicted samples. Use `zero_division` parameter to control this behavior.\n",
      "  _warn_prf(average, modifier, msg_start, len(result))\n",
      "/usr/local/lib/python3.10/dist-packages/sklearn/metrics/_classification.py:1344: UndefinedMetricWarning: Precision and F-score are ill-defined and being set to 0.0 in labels with no predicted samples. Use `zero_division` parameter to control this behavior.\n",
      "  _warn_prf(average, modifier, msg_start, len(result))\n"
     ]
    }
   ],
   "source": [
    "# converting to given labels for comparison\n",
    "\n",
    "y_true = [str.lower(i) for i in y_true]\n",
    "y_pred = []  \n",
    "  \n",
    "for word in results:  \n",
    "    lower_word = word.lower()  \n",
    "    if 'support' in lower_word:  \n",
    "        y_pred.append('agree')  \n",
    "    elif 'neg' in lower_word or 'denies' in lower_word:  \n",
    "        y_pred.append('disagree')  \n",
    "    elif 'neutral' in lower_word:  \n",
    "        y_pred.append('neutral')  \n",
    "    else:  \n",
    "        y_pred.append('neutral')\n",
    "\n",
    "# generating the classification report  \n",
    "report = classification_report(y_true, y_pred)  \n",
    "  \n",
    "print(report)  "
   ]
  },
  {
   "cell_type": "markdown",
   "id": "d122fe57-c6a0-4f9f-88f2-ab3b033d4969",
   "metadata": {},
   "source": [
    "### Run on all Data"
   ]
  },
  {
   "cell_type": "code",
   "execution_count": 24,
   "id": "20dbad2c-32b1-4d2d-a7be-ed3833768633",
   "metadata": {
    "tags": []
   },
   "outputs": [
    {
     "name": "stderr",
     "output_type": "stream",
     "text": [
      "0it [00:00, ?it/s]/usr/local/lib/python3.10/dist-packages/transformers/pipelines/base.py:1101: UserWarning: You seem to be using the pipelines sequentially on GPU. In order to maximize efficiency please use a dataset\n",
      "  warnings.warn(\n",
      "1086it [16:56,  1.07it/s]\n",
      "\n",
      "KeyboardInterrupt\n",
      "\n"
     ]
    }
   ],
   "source": [
    "# Running across the whole dataset\n",
    "\n",
    "results = []\n",
    "for index, row in tqdm(df.iterrows()):\n",
    "    results.append(llm_chain.run(event=row['event'], statement=row['full_text']))"
   ]
  },
  {
   "cell_type": "code",
   "execution_count": null,
   "id": "d8fff164-cd00-4689-a131-7b82b962a3fb",
   "metadata": {
    "tags": []
   },
   "outputs": [],
   "source": [
    "np.unique(results, return_counts=True)"
   ]
  },
  {
   "cell_type": "code",
   "execution_count": null,
   "id": "0da70805-b9b7-4840-9dbb-a31897733630",
   "metadata": {
    "tags": []
   },
   "outputs": [],
   "source": [
    "output_list = []  \n",
    "  \n",
    "for word in results:  \n",
    "    lower_word = word.lower()  \n",
    "    if 'support' in lower_word:  \n",
    "        output_list.append('agree')  \n",
    "    elif 'neg' in lower_word or 'denies' in lower_word:  \n",
    "        output_list.append('disagree')  \n",
    "    elif 'neutral' in lower_word:  \n",
    "        output_list.append('neutral')  \n",
    "    else:  \n",
    "        output_list.append('neutral')\n",
    "        \n",
    "df['context_preds'] = output_list"
   ]
  },
  {
   "cell_type": "code",
   "execution_count": null,
   "id": "4a9b196d-2158-40eb-9adb-84c62c5dcd53",
   "metadata": {
    "tags": []
   },
   "outputs": [],
   "source": [
    "np.unique(df['context_preds'], return_counts=True)"
   ]
  },
  {
   "cell_type": "code",
   "execution_count": null,
   "id": "e999ba12-0fa0-4204-bb0a-84376a5ab041",
   "metadata": {
    "tags": []
   },
   "outputs": [],
   "source": [
    "report = classification_report(df['stance'], df['context_preds'])\n",
    "\n",
    "print(report)"
   ]
  },
  {
   "cell_type": "markdown",
   "id": "f4a8755d-d895-49b1-bc13-1965215392fd",
   "metadata": {
    "tags": []
   },
   "source": [
    "## 3(c). Context + FSP"
   ]
  },
  {
   "cell_type": "code",
   "execution_count": null,
   "id": "0407c388-7977-443d-beba-03c0faa2ab64",
   "metadata": {
    "tags": []
   },
   "outputs": [],
   "source": [
    "# Create an example template\n",
    "\n",
    "example_template = '''\n",
    "rumor: {rumor}\n",
    "statement: {statement}\n",
    "stance: {stance}\n",
    "'''\n",
    "\n",
    "example_prompt = PromptTemplate(\n",
    "    input_variables=[\"rumor\",\"statement\", \"stance\"],\n",
    "    template=example_template\n",
    ")"
   ]
  },
  {
   "cell_type": "code",
   "execution_count": null,
   "id": "1cfae949-c846-4f0f-b31a-f84d30e54be9",
   "metadata": {
    "tags": []
   },
   "outputs": [],
   "source": [
    "# Give some examples\n",
    "\n",
    "examples = [\n",
    "    {'rumor':\"Putin has gone missing\",\n",
    "     'statement':\"Putin reappears on TV amid claims he is unwell and under threat of coup http://t.co/YZln23EUx1 http://t.co/ZsAnBa5gz3\",\n",
    "     'stance': 'DENIES'},\n",
    "    {'rumor':\"Michael Essien contracted Ebola\",\n",
    "     'statement': '''What? \"@FootballcomEN: Unconfirmed reports claim that Michael Essien has contracted Ebola. http://t.co/GsEizhwaV7\"''',\n",
    "     'stance': 'NEUTRAL'},\n",
    "    {'rumor':\"A Germanwings plane crashed\",\n",
    "     'statement': '''@thatjohn @planefinder why would they say urgence in lieu of mayday which is standard ?''',\n",
    "     'stance': 'NEUTRAL'},\n",
    "    {'rumor':\"There is a hostage situation in Sydney\",\n",
    "     'statement': '''@KEEMSTARx dick head it's not confirmed its Jihadist extremists. Don't speculate''',\n",
    "     'stance': 'NEUTRAL'},\n",
    "    {'rumor':\"singer Prince will play a secret show in Toronto\",\n",
    "     'statement': '''OMG. #Prince rumoured to be performing in Toronto today. Exciting!''',\n",
    "     'stance': 'SUPPORTS'}\n",
    "]"
   ]
  },
  {
   "cell_type": "code",
   "execution_count": null,
   "id": "88d60202-495d-4449-8dd6-3e984b03c0df",
   "metadata": {
    "tags": []
   },
   "outputs": [],
   "source": [
    "prefix = \"\"\"\n",
    "The following are social media posts commenting on whether a rumor is true. Each statement can either 'SUPPORT', be 'AGAINST', or be 'NEUTRAL' toward their associated rumor.\n",
    "\"\"\"\n",
    "\n",
    "suffix = '''\n",
    "Now, classify the following statement as to whether it \"SUPPORTS\", \"DENIES\", or is \"NEUTRAL\" toward the rumor \"{event}\" being true. Only return the classification label for the statement, and no other text.\n",
    "\n",
    "statement: {statement}\n",
    "'''\n",
    "\n",
    "few_shot_prompt = FewShotPromptTemplate(\n",
    "    examples=examples,\n",
    "    example_prompt=example_prompt,\n",
    "    prefix=prefix,\n",
    "    suffix=suffix,\n",
    "    input_variables=[\"event\", \"statement\"],\n",
    "    example_separator=\"\\n\"\n",
    ")"
   ]
  },
  {
   "cell_type": "markdown",
   "id": "fc6c9f10-3438-446e-9812-f4d1a1e70c1b",
   "metadata": {},
   "source": [
    "### Run an example"
   ]
  },
  {
   "cell_type": "code",
   "execution_count": null,
   "id": "e66f40a8-3653-4ce5-be9c-aa64c49d28a6",
   "metadata": {
    "tags": []
   },
   "outputs": [],
   "source": [
    "event = df['event'][0]\n",
    "statements = df[df['event'] == event]['full_text'][0:20].tolist()\n",
    "y_true = df[df['event'] == event]['stance'][0:20].tolist()"
   ]
  },
  {
   "cell_type": "code",
   "execution_count": null,
   "id": "14e63860-b15e-4b0f-89be-16ef75f83c3e",
   "metadata": {
    "tags": []
   },
   "outputs": [],
   "source": [
    "llm_chain = LLMChain(prompt=few_shot_prompt, llm=llm)\n",
    "\n",
    "results=[]\n",
    "for statement in statements:\n",
    "    results.append(llm_chain.run(event=event, statement=statement))"
   ]
  },
  {
   "cell_type": "code",
   "execution_count": null,
   "id": "48e8de6c-a692-4a13-a94a-a94ce0404006",
   "metadata": {
    "tags": []
   },
   "outputs": [],
   "source": [
    "# converting to given labels for comparison\n",
    "\n",
    "y_true = [str.lower(i) for i in y_true]\n",
    "y_pred = []  \n",
    "  \n",
    "for word in results:  \n",
    "    lower_word = word.lower()  \n",
    "    if 'support' in lower_word:  \n",
    "        y_pred.append('agree')  \n",
    "    elif 'denies' in lower_word:  \n",
    "        y_pred.append('disagree')  \n",
    "    elif 'neutral' in lower_word:  \n",
    "        y_pred.append('neutral')  \n",
    "    else:  \n",
    "        y_pred.append('neutral')\n",
    "\n",
    "# generating the classification report\n",
    "report = classification_report(y_true, y_pred)\n",
    "  \n",
    "print(report)"
   ]
  },
  {
   "cell_type": "markdown",
   "id": "0622d58d-9df3-4a17-8d22-244df05436de",
   "metadata": {},
   "source": [
    "### Run on all Data"
   ]
  },
  {
   "cell_type": "code",
   "execution_count": null,
   "id": "bc5169c2-4b07-4237-baf3-af889bdf11e7",
   "metadata": {
    "tags": []
   },
   "outputs": [],
   "source": [
    "# Running across the whole dataset\n",
    "\n",
    "results = []\n",
    "for index, row in tqdm(df.iterrows()):\n",
    "    results.append(llm_chain.run(event=row['event'], statement=row['full_text']))"
   ]
  },
  {
   "cell_type": "code",
   "execution_count": null,
   "id": "29e18bb6-f2b2-4973-85eb-420272e7d0da",
   "metadata": {
    "tags": []
   },
   "outputs": [],
   "source": [
    "np.unique(results, return_counts=True)"
   ]
  },
  {
   "cell_type": "code",
   "execution_count": null,
   "id": "7dc5c63a-b901-4541-81dd-e69985f36460",
   "metadata": {
    "tags": []
   },
   "outputs": [],
   "source": [
    "output_list = []  \n",
    "  \n",
    "for word in results:  \n",
    "    lower_word = word.lower()  \n",
    "    if 'support' in lower_word:  \n",
    "        output_list.append('agree')  \n",
    "    elif 'denies' in lower_word:  \n",
    "        output_list.append('disagree')  \n",
    "    elif 'neutral' in lower_word:  \n",
    "        output_list.append('neutral')  \n",
    "    else:  \n",
    "        output_list.append('neutral')\n",
    "        \n",
    "df['fsp_preds'] = output_list"
   ]
  },
  {
   "cell_type": "code",
   "execution_count": null,
   "id": "a1521a68-6865-496e-87e1-5990887725a6",
   "metadata": {
    "tags": []
   },
   "outputs": [],
   "source": [
    "np.unique(df['fsp_preds'], return_counts=True)"
   ]
  },
  {
   "cell_type": "code",
   "execution_count": null,
   "id": "050cbe93-765c-4b30-bd7a-c8d293b99dff",
   "metadata": {
    "tags": []
   },
   "outputs": [],
   "source": [
    "report = classification_report(df['stance'], df['fsp_preds'])\n",
    "\n",
    "print(report)"
   ]
  },
  {
   "cell_type": "markdown",
   "id": "b658afe0-4555-496c-b244-b00039433330",
   "metadata": {
    "tags": []
   },
   "source": [
    "## 3(d). Context + FSP + Reasoning"
   ]
  },
  {
   "cell_type": "code",
   "execution_count": null,
   "id": "940202db-ae18-42ca-9f75-2061b4281e44",
   "metadata": {
    "tags": []
   },
   "outputs": [],
   "source": [
    "# Create an example template\n",
    "\n",
    "example_and_reason_template = '''\n",
    "rumor: {rumor}\n",
    "statement: {statement}\n",
    "stance: {stance}\n",
    "reason: {reason}\n",
    "'''\n",
    "\n",
    "example_and_reason_prompt = PromptTemplate(\n",
    "    input_variables=[\"rumor\",\"statement\", \"stance\", \"reason\"],\n",
    "    template=example_and_reason_template\n",
    ")"
   ]
  },
  {
   "cell_type": "code",
   "execution_count": null,
   "id": "32e90a11-7697-4ee8-abd1-7dedbc3c0f47",
   "metadata": {
    "tags": []
   },
   "outputs": [],
   "source": [
    "# Give some examples\n",
    "\n",
    "examples = [\n",
    "    {'rumor':\"Putin has gone missing\",\n",
    "     'statement':\"Putin reappears on TV amid claims he is unwell and under threat of coup http://t.co/YZln23EUx1 http://t.co/ZsAnBa5gz3\",\n",
    "     'stance': 'DENIES',\n",
    "     'reason': \"the statement denies that Putin has gone missing by saying he has reappeared on TV.\"\n",
    "    },\n",
    "    {'rumor':\"Michael Essien contracted Ebola\",\n",
    "     'statement': '''What? \"@FootballcomEN: Unconfirmed reports claim that Michael Essien has contracted Ebola. http://t.co/GsEizhwaV7\"''',\n",
    "     'stance': 'NEUTRAL',\n",
    "     'reason': \"the statement is neutral toward wether Michael Essen contracted Ebola, as it mostly just repeats the original post from @FootballcomEN while asking for more information.\"\n",
    "    },\n",
    "    {'rumor':\"A Germanwings plane crashed\",\n",
    "     'statement': '''@thatjohn @planefinder why would they say urgence in lieu of mayday which is standard ?''',\n",
    "     'stance': 'NEUTRAL',\n",
    "     'reason': \"the statement is neutral toward wether a germanwings plane crashed as it is only asking for clarifiying details about what has been reported.\"\n",
    "    },\n",
    "    {'rumor':\"There is a hostage situation in Sydney\",\n",
    "     'statement': '''@KEEMSTARx dick head it's not confirmed its Jihadist extremists. Don't speculate''',\n",
    "     'stance': 'NEUTRAL',\n",
    "     'reason': \"the statement is neutral toward wether there is a hostage siutation happening in Sydney as it is admonishing someone for speculating on a detail of the situation.\"\n",
    "    },\n",
    "    {'rumor':\"singer Prince will play a secret show in Toronto\",\n",
    "     'statement': '''OMG. #Prince rumoured to be performing in Toronto today. Exciting!''',\n",
    "     'stance': 'SUPPORTS',\n",
    "     'reason': 'The statement supports the rumor that the singer Prince performing a show in Toronto, as it expresses excitment at the singer performing.'\n",
    "    }\n",
    "]"
   ]
  },
  {
   "cell_type": "code",
   "execution_count": null,
   "id": "58c0a06d-0604-445e-89b3-7807b6a60685",
   "metadata": {
    "tags": []
   },
   "outputs": [],
   "source": [
    "prefix = \"\"\"\n",
    "The following are social media posts commenting on whether a rumor is true. Each statement can support, deny, or be neutral toward its associated rumor and have the reason for that stance.\n",
    "\"\"\"\n",
    "\n",
    "suffix = '''\n",
    "Now, classify the following statement as to whether it \"SUPPORTS\", \"DENIES\", or is \"NEUTRAL\" toward the rumor \"{event}\" being true, and give your reason for the classification. Only return the classification for the statement towards the rumor and the reasoning for the classification in the form of:'stance: STANCE, reason: REASON'\n",
    "\n",
    "statement: {statement}\n",
    "'''\n",
    "\n",
    "few_shot_and_reason_prompt = FewShotPromptTemplate(\n",
    "    examples=examples,\n",
    "    example_prompt=example_and_reason_prompt,\n",
    "    prefix=prefix,\n",
    "    suffix=suffix,\n",
    "    input_variables=[\"event\", \"statement\"],\n",
    "    example_separator=\"\\n\"\n",
    ")"
   ]
  },
  {
   "cell_type": "markdown",
   "id": "13aabfb6-da64-4d33-b501-d24e5e0c41e8",
   "metadata": {},
   "source": [
    "### Run an example"
   ]
  },
  {
   "cell_type": "code",
   "execution_count": null,
   "id": "11e71c23-d2eb-467c-8dfa-9b99521c0495",
   "metadata": {
    "tags": []
   },
   "outputs": [],
   "source": [
    "event = df['event'][0]\n",
    "statements = df[df['event'] == event]['full_text'][0:20].tolist()\n",
    "y_true = df[df['event'] == event]['stance'][0:20].tolist()"
   ]
  },
  {
   "cell_type": "code",
   "execution_count": null,
   "id": "0b2606a6-dc35-45a4-aa4c-a9d0cdb733e5",
   "metadata": {
    "tags": []
   },
   "outputs": [],
   "source": [
    "llm_chain = LLMChain(prompt=few_shot_and_reason_prompt, llm=llm)\n",
    "\n",
    "results=[]\n",
    "for statement in statements:\n",
    "    results.append(llm_chain.run(event=event, statement=statement))"
   ]
  },
  {
   "cell_type": "code",
   "execution_count": null,
   "id": "711e81c2-c074-4a35-8c93-a0b2575f8bb4",
   "metadata": {
    "tags": []
   },
   "outputs": [],
   "source": [
    "y_pred = []  \n",
    "reasons = []  \n",
    "  \n",
    "for result in results:  \n",
    "    split_result = result.split('reason:')  \n",
    "    if len(split_result) == 2:  \n",
    "        # Extract stance and reason, remove leading/trailing whitespace and convert stance to lowercase  \n",
    "        stance, reason = split_result\n",
    "        stance = stance.replace('stance:', '').replace(',', '').strip().lower()\n",
    "        reason = reason.strip()\n",
    "        reasons.append(reason)\n",
    "    else:\n",
    "        # model did not give a reason\n",
    "        stance = split_result[0]\n",
    "        stance = stance.replace('stance:', '').replace(',', '').strip().lower()\n",
    "        reasons.append('')\n",
    "    if 'for' in stance:  \n",
    "        y_pred.append('agree')  \n",
    "    elif 'against' in stance:  \n",
    "        y_pred.append('disagree')  \n",
    "    elif 'neutral' in stance:  \n",
    "        y_pred.append('neutral')\n",
    "    else:  \n",
    "        y_pred.append('neutral')\n",
    "\n",
    "y_true = [str.lower(i) for i in y_true]\n",
    "\n",
    "# generating the classification report\n",
    "report = classification_report(y_true, y_pred)\n",
    "print(report)"
   ]
  },
  {
   "cell_type": "markdown",
   "id": "9e47e691-8ef2-4cae-adf7-4e0211f04e5a",
   "metadata": {},
   "source": [
    "### Run on all Data"
   ]
  },
  {
   "cell_type": "code",
   "execution_count": null,
   "id": "2d04c4ca-471d-46a1-896b-c26d61ba93e1",
   "metadata": {
    "tags": []
   },
   "outputs": [],
   "source": [
    "# Running across the whole dataset\n",
    "\n",
    "results = []\n",
    "for index, row in tqdm(df.iterrows()):\n",
    "    results.append(llm_chain.run(event=row['event'], statement=row['full_text']))"
   ]
  },
  {
   "cell_type": "code",
   "execution_count": null,
   "id": "97157b49-ef39-4c4d-9e1f-782eeafd3d9a",
   "metadata": {
    "tags": []
   },
   "outputs": [],
   "source": [
    "y_pred = []  \n",
    "reasons = []  \n",
    "  \n",
    "for result in results:  \n",
    "    split_result = result.split('reason:')  \n",
    "    if len(split_result) == 2:  \n",
    "        # Extract stance and reason, remove leading/trailing whitespace and convert stance to lowercase  \n",
    "        stance, reason = split_result\n",
    "        stance = stance.replace('stance:', '').replace(',', '').strip().lower()\n",
    "        reason = reason.strip()\n",
    "        reasons.append(reason)\n",
    "    else:\n",
    "        # model did not give a reason\n",
    "        stance = split_result[0]\n",
    "        stance = stance.replace('stance:', '').replace(',', '').strip().lower()\n",
    "        reasons.append('')\n",
    "    if 'for' in stance:  \n",
    "        y_pred.append('agree')  \n",
    "    elif 'against' in stance:  \n",
    "        y_pred.append('disagree')  \n",
    "    elif 'neutral' in stance:  \n",
    "        y_pred.append('neutral')\n",
    "    else:  \n",
    "        y_pred.append('neutral')\n",
    "        \n",
    "df['fsp_reason_preds'] = y_pred\n",
    "df['fsp_reason_reasons'] = reasons"
   ]
  },
  {
   "cell_type": "code",
   "execution_count": null,
   "id": "b02b73fb-2ec0-49f1-b0a2-baeef114f4cc",
   "metadata": {},
   "outputs": [],
   "source": [
    "np.unique(df['fsp_reason_preds'], return_counts=True)"
   ]
  },
  {
   "cell_type": "code",
   "execution_count": null,
   "id": "e44d2f6c-78b5-4740-9415-65c460ee3220",
   "metadata": {
    "tags": []
   },
   "outputs": [],
   "source": [
    "report = classification_report(df['stance'], df['fsp_reason_preds'])\n",
    "\n",
    "print(report)"
   ]
  },
  {
   "cell_type": "code",
   "execution_count": null,
   "id": "d03aa11f-e001-4907-bd66-e989a653c0f3",
   "metadata": {},
   "outputs": [],
   "source": [
    "df.to_csv(\"phemerumors_falcon-7B_results.csv\")"
   ]
  },
  {
   "cell_type": "code",
   "execution_count": null,
   "id": "118b6e4f-2a7b-41db-82e2-fbb97d342214",
   "metadata": {},
   "outputs": [],
   "source": []
  }
 ],
 "metadata": {
  "kernelspec": {
   "display_name": "Python 3 (ipykernel)",
   "language": "python",
   "name": "python3"
  },
  "language_info": {
   "codemirror_mode": {
    "name": "ipython",
    "version": 3
   },
   "file_extension": ".py",
   "mimetype": "text/x-python",
   "name": "python",
   "nbconvert_exporter": "python",
   "pygments_lexer": "ipython3",
   "version": "3.10.6"
  }
 },
 "nbformat": 4,
 "nbformat_minor": 5
}
