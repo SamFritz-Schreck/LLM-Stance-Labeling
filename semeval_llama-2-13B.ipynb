{
 "cells": [
  {
   "cell_type": "markdown",
   "id": "5b37c7bb-c037-4504-a2e2-4010b3726ac8",
   "metadata": {},
   "source": [
    "# Stance Classification for SemEval2016\n",
    "- read in the data and pre-process\n",
    "- set up an LLM\n",
    "- Investigate different prompting schemes\n",
    "    - just context\n",
    "    - context + few-shot learning\n",
    "    - content + few-shot learning + reasoning"
   ]
  },
  {
   "cell_type": "code",
   "execution_count": 1,
   "id": "5b436af4-75ff-4598-a9e3-70e746e1f99d",
   "metadata": {
    "scrolled": true,
    "tags": []
   },
   "outputs": [
    {
     "name": "stdout",
     "output_type": "stream",
     "text": [
      "Collecting transformers\n",
      "  Using cached transformers-4.33.1-py3-none-any.whl (7.6 MB)\n",
      "Requirement already satisfied: filelock in /usr/local/lib/python3.10/dist-packages (from transformers) (3.9.0)\n",
      "Collecting huggingface-hub<1.0,>=0.15.1 (from transformers)\n",
      "  Using cached huggingface_hub-0.17.1-py3-none-any.whl (294 kB)\n",
      "Requirement already satisfied: numpy>=1.17 in /usr/local/lib/python3.10/dist-packages (from transformers) (1.23.5)\n",
      "Requirement already satisfied: packaging>=20.0 in /usr/local/lib/python3.10/dist-packages (from transformers) (23.1)\n",
      "Requirement already satisfied: pyyaml>=5.1 in /usr/local/lib/python3.10/dist-packages (from transformers) (6.0)\n",
      "Collecting regex!=2019.12.17 (from transformers)\n",
      "  Using cached regex-2023.8.8-cp310-cp310-manylinux_2_17_x86_64.manylinux2014_x86_64.whl (771 kB)\n",
      "Requirement already satisfied: requests in /usr/local/lib/python3.10/dist-packages (from transformers) (2.30.0)\n",
      "Collecting tokenizers!=0.11.3,<0.14,>=0.11.1 (from transformers)\n",
      "  Using cached tokenizers-0.13.3-cp310-cp310-manylinux_2_17_x86_64.manylinux2014_x86_64.whl (7.8 MB)\n",
      "Collecting safetensors>=0.3.1 (from transformers)\n",
      "  Using cached safetensors-0.3.3-cp310-cp310-manylinux_2_17_x86_64.manylinux2014_x86_64.whl (1.3 MB)\n",
      "Requirement already satisfied: tqdm>=4.27 in /usr/local/lib/python3.10/dist-packages (from transformers) (4.65.0)\n",
      "Requirement already satisfied: fsspec in /usr/local/lib/python3.10/dist-packages (from huggingface-hub<1.0,>=0.15.1->transformers) (2023.5.0)\n",
      "Requirement already satisfied: typing-extensions>=3.7.4.3 in /usr/local/lib/python3.10/dist-packages (from huggingface-hub<1.0,>=0.15.1->transformers) (4.5.0)\n",
      "Requirement already satisfied: charset-normalizer<4,>=2 in /usr/local/lib/python3.10/dist-packages (from requests->transformers) (3.1.0)\n",
      "Requirement already satisfied: idna<4,>=2.5 in /usr/local/lib/python3.10/dist-packages (from requests->transformers) (3.4)\n",
      "Requirement already satisfied: urllib3<3,>=1.21.1 in /usr/local/lib/python3.10/dist-packages (from requests->transformers) (1.26.15)\n",
      "Requirement already satisfied: certifi>=2017.4.17 in /usr/local/lib/python3.10/dist-packages (from requests->transformers) (2023.5.7)\n",
      "Installing collected packages: tokenizers, safetensors, regex, huggingface-hub, transformers\n",
      "Successfully installed huggingface-hub-0.17.1 regex-2023.8.8 safetensors-0.3.3 tokenizers-0.13.3 transformers-4.33.1\n",
      "\n",
      "\u001b[1m[\u001b[0m\u001b[34;49mnotice\u001b[0m\u001b[1;39;49m]\u001b[0m\u001b[39;49m A new release of pip is available: \u001b[0m\u001b[31;49m23.1.2\u001b[0m\u001b[39;49m -> \u001b[0m\u001b[32;49m23.2.1\u001b[0m\n",
      "\u001b[1m[\u001b[0m\u001b[34;49mnotice\u001b[0m\u001b[1;39;49m]\u001b[0m\u001b[39;49m To update, run: \u001b[0m\u001b[32;49mpython -m pip install --upgrade pip\u001b[0m\n",
      "Requirement already satisfied: langchain in /home/jovyan/.local/lib/python3.10/site-packages (0.0.158)\n",
      "Requirement already satisfied: PyYAML>=5.4.1 in /usr/local/lib/python3.10/dist-packages (from langchain) (6.0)\n",
      "Requirement already satisfied: SQLAlchemy<3,>=1.3 in /usr/local/lib/python3.10/dist-packages (from langchain) (2.0.13)\n",
      "Requirement already satisfied: aiohttp<4.0.0,>=3.8.3 in /usr/local/lib/python3.10/dist-packages (from langchain) (3.8.4)\n",
      "Requirement already satisfied: async-timeout<5.0.0,>=4.0.0 in /usr/local/lib/python3.10/dist-packages (from langchain) (4.0.2)\n",
      "Requirement already satisfied: dataclasses-json<0.6.0,>=0.5.7 in /home/jovyan/.local/lib/python3.10/site-packages (from langchain) (0.5.7)\n",
      "Requirement already satisfied: numexpr<3.0.0,>=2.8.4 in /usr/local/lib/python3.10/dist-packages (from langchain) (2.8.4)\n",
      "Requirement already satisfied: numpy<2,>=1 in /usr/local/lib/python3.10/dist-packages (from langchain) (1.23.5)\n",
      "Requirement already satisfied: openapi-schema-pydantic<2.0,>=1.2 in /home/jovyan/.local/lib/python3.10/site-packages (from langchain) (1.2.4)\n",
      "Requirement already satisfied: pydantic<2,>=1 in /home/jovyan/.local/lib/python3.10/site-packages (from langchain) (1.10.8)\n",
      "Requirement already satisfied: requests<3,>=2 in /usr/local/lib/python3.10/dist-packages (from langchain) (2.30.0)\n",
      "Requirement already satisfied: tenacity<9.0.0,>=8.1.0 in /home/jovyan/.local/lib/python3.10/site-packages (from langchain) (8.2.2)\n",
      "Requirement already satisfied: tqdm>=4.48.0 in /usr/local/lib/python3.10/dist-packages (from langchain) (4.65.0)\n",
      "Requirement already satisfied: attrs>=17.3.0 in /usr/local/lib/python3.10/dist-packages (from aiohttp<4.0.0,>=3.8.3->langchain) (23.1.0)\n",
      "Requirement already satisfied: charset-normalizer<4.0,>=2.0 in /usr/local/lib/python3.10/dist-packages (from aiohttp<4.0.0,>=3.8.3->langchain) (3.1.0)\n",
      "Requirement already satisfied: multidict<7.0,>=4.5 in /usr/local/lib/python3.10/dist-packages (from aiohttp<4.0.0,>=3.8.3->langchain) (6.0.4)\n",
      "Requirement already satisfied: yarl<2.0,>=1.0 in /usr/local/lib/python3.10/dist-packages (from aiohttp<4.0.0,>=3.8.3->langchain) (1.9.2)\n",
      "Requirement already satisfied: frozenlist>=1.1.1 in /usr/local/lib/python3.10/dist-packages (from aiohttp<4.0.0,>=3.8.3->langchain) (1.3.3)\n",
      "Requirement already satisfied: aiosignal>=1.1.2 in /usr/local/lib/python3.10/dist-packages (from aiohttp<4.0.0,>=3.8.3->langchain) (1.3.1)\n",
      "Requirement already satisfied: marshmallow<4.0.0,>=3.3.0 in /home/jovyan/.local/lib/python3.10/site-packages (from dataclasses-json<0.6.0,>=0.5.7->langchain) (3.19.0)\n",
      "Requirement already satisfied: marshmallow-enum<2.0.0,>=1.5.1 in /home/jovyan/.local/lib/python3.10/site-packages (from dataclasses-json<0.6.0,>=0.5.7->langchain) (1.5.1)\n",
      "Requirement already satisfied: typing-inspect>=0.4.0 in /home/jovyan/.local/lib/python3.10/site-packages (from dataclasses-json<0.6.0,>=0.5.7->langchain) (0.8.0)\n",
      "Requirement already satisfied: typing-extensions>=4.2.0 in /usr/local/lib/python3.10/dist-packages (from pydantic<2,>=1->langchain) (4.5.0)\n",
      "Requirement already satisfied: idna<4,>=2.5 in /usr/local/lib/python3.10/dist-packages (from requests<3,>=2->langchain) (3.4)\n",
      "Requirement already satisfied: urllib3<3,>=1.21.1 in /usr/local/lib/python3.10/dist-packages (from requests<3,>=2->langchain) (1.26.15)\n",
      "Requirement already satisfied: certifi>=2017.4.17 in /usr/local/lib/python3.10/dist-packages (from requests<3,>=2->langchain) (2023.5.7)\n",
      "Requirement already satisfied: greenlet!=0.4.17 in /usr/local/lib/python3.10/dist-packages (from SQLAlchemy<3,>=1.3->langchain) (2.0.2)\n",
      "Requirement already satisfied: packaging>=17.0 in /usr/local/lib/python3.10/dist-packages (from marshmallow<4.0.0,>=3.3.0->dataclasses-json<0.6.0,>=0.5.7->langchain) (23.1)\n",
      "Requirement already satisfied: mypy-extensions>=0.3.0 in /usr/local/lib/python3.10/dist-packages (from typing-inspect>=0.4.0->dataclasses-json<0.6.0,>=0.5.7->langchain) (1.0.0)\n",
      "\n",
      "\u001b[1m[\u001b[0m\u001b[34;49mnotice\u001b[0m\u001b[1;39;49m]\u001b[0m\u001b[39;49m A new release of pip is available: \u001b[0m\u001b[31;49m23.1.2\u001b[0m\u001b[39;49m -> \u001b[0m\u001b[32;49m23.2.1\u001b[0m\n",
      "\u001b[1m[\u001b[0m\u001b[34;49mnotice\u001b[0m\u001b[1;39;49m]\u001b[0m\u001b[39;49m To update, run: \u001b[0m\u001b[32;49mpython -m pip install --upgrade pip\u001b[0m\n",
      "Collecting accelerate\n",
      "  Using cached accelerate-0.22.0-py3-none-any.whl (251 kB)\n",
      "Requirement already satisfied: numpy>=1.17 in /usr/local/lib/python3.10/dist-packages (from accelerate) (1.23.5)\n",
      "Requirement already satisfied: packaging>=20.0 in /usr/local/lib/python3.10/dist-packages (from accelerate) (23.1)\n",
      "Requirement already satisfied: psutil in /usr/local/lib/python3.10/dist-packages (from accelerate) (5.9.5)\n",
      "Requirement already satisfied: pyyaml in /usr/local/lib/python3.10/dist-packages (from accelerate) (6.0)\n",
      "Requirement already satisfied: torch>=1.10.0 in /usr/local/lib/python3.10/dist-packages (from accelerate) (2.0.1+cu118)\n",
      "Requirement already satisfied: filelock in /usr/local/lib/python3.10/dist-packages (from torch>=1.10.0->accelerate) (3.9.0)\n",
      "Requirement already satisfied: typing-extensions in /usr/local/lib/python3.10/dist-packages (from torch>=1.10.0->accelerate) (4.5.0)\n",
      "Requirement already satisfied: sympy in /usr/local/lib/python3.10/dist-packages (from torch>=1.10.0->accelerate) (1.12)\n",
      "Requirement already satisfied: networkx in /usr/local/lib/python3.10/dist-packages (from torch>=1.10.0->accelerate) (3.1)\n",
      "Requirement already satisfied: jinja2 in /usr/local/lib/python3.10/dist-packages (from torch>=1.10.0->accelerate) (3.1.2)\n",
      "Requirement already satisfied: triton==2.0.0 in /usr/local/lib/python3.10/dist-packages (from torch>=1.10.0->accelerate) (2.0.0)\n",
      "Requirement already satisfied: cmake in /usr/local/lib/python3.10/dist-packages (from triton==2.0.0->torch>=1.10.0->accelerate) (3.25.0)\n",
      "Requirement already satisfied: lit in /usr/local/lib/python3.10/dist-packages (from triton==2.0.0->torch>=1.10.0->accelerate) (15.0.7)\n",
      "Requirement already satisfied: MarkupSafe>=2.0 in /usr/local/lib/python3.10/dist-packages (from jinja2->torch>=1.10.0->accelerate) (2.1.2)\n",
      "Requirement already satisfied: mpmath>=0.19 in /usr/local/lib/python3.10/dist-packages (from sympy->torch>=1.10.0->accelerate) (1.3.0)\n",
      "Installing collected packages: accelerate\n",
      "Successfully installed accelerate-0.22.0\n",
      "\n",
      "\u001b[1m[\u001b[0m\u001b[34;49mnotice\u001b[0m\u001b[1;39;49m]\u001b[0m\u001b[39;49m A new release of pip is available: \u001b[0m\u001b[31;49m23.1.2\u001b[0m\u001b[39;49m -> \u001b[0m\u001b[32;49m23.2.1\u001b[0m\n",
      "\u001b[1m[\u001b[0m\u001b[34;49mnotice\u001b[0m\u001b[1;39;49m]\u001b[0m\u001b[39;49m To update, run: \u001b[0m\u001b[32;49mpython -m pip install --upgrade pip\u001b[0m\n",
      "Collecting einops\n",
      "  Using cached einops-0.6.1-py3-none-any.whl (42 kB)\n",
      "Installing collected packages: einops\n",
      "Successfully installed einops-0.6.1\n",
      "\n",
      "\u001b[1m[\u001b[0m\u001b[34;49mnotice\u001b[0m\u001b[1;39;49m]\u001b[0m\u001b[39;49m A new release of pip is available: \u001b[0m\u001b[31;49m23.1.2\u001b[0m\u001b[39;49m -> \u001b[0m\u001b[32;49m23.2.1\u001b[0m\n",
      "\u001b[1m[\u001b[0m\u001b[34;49mnotice\u001b[0m\u001b[1;39;49m]\u001b[0m\u001b[39;49m To update, run: \u001b[0m\u001b[32;49mpython -m pip install --upgrade pip\u001b[0m\n",
      "Collecting deepspeed\n",
      "  Using cached deepspeed-0.10.3-py3-none-any.whl\n",
      "Collecting hjson (from deepspeed)\n",
      "  Using cached hjson-3.1.0-py3-none-any.whl (54 kB)\n",
      "Collecting ninja (from deepspeed)\n",
      "  Using cached ninja-1.11.1-py2.py3-none-manylinux_2_12_x86_64.manylinux2010_x86_64.whl (145 kB)\n",
      "Requirement already satisfied: numpy in /usr/local/lib/python3.10/dist-packages (from deepspeed) (1.23.5)\n",
      "Requirement already satisfied: packaging>=20.0 in /usr/local/lib/python3.10/dist-packages (from deepspeed) (23.1)\n",
      "Requirement already satisfied: psutil in /usr/local/lib/python3.10/dist-packages (from deepspeed) (5.9.5)\n",
      "Requirement already satisfied: py-cpuinfo in /usr/local/lib/python3.10/dist-packages (from deepspeed) (9.0.0)\n",
      "Requirement already satisfied: pydantic<2.0.0 in /home/jovyan/.local/lib/python3.10/site-packages (from deepspeed) (1.10.8)\n",
      "Requirement already satisfied: torch in /usr/local/lib/python3.10/dist-packages (from deepspeed) (2.0.1+cu118)\n",
      "Requirement already satisfied: tqdm in /usr/local/lib/python3.10/dist-packages (from deepspeed) (4.65.0)\n",
      "Requirement already satisfied: typing-extensions>=4.2.0 in /usr/local/lib/python3.10/dist-packages (from pydantic<2.0.0->deepspeed) (4.5.0)\n",
      "Requirement already satisfied: filelock in /usr/local/lib/python3.10/dist-packages (from torch->deepspeed) (3.9.0)\n",
      "Requirement already satisfied: sympy in /usr/local/lib/python3.10/dist-packages (from torch->deepspeed) (1.12)\n",
      "Requirement already satisfied: networkx in /usr/local/lib/python3.10/dist-packages (from torch->deepspeed) (3.1)\n",
      "Requirement already satisfied: jinja2 in /usr/local/lib/python3.10/dist-packages (from torch->deepspeed) (3.1.2)\n",
      "Requirement already satisfied: triton==2.0.0 in /usr/local/lib/python3.10/dist-packages (from torch->deepspeed) (2.0.0)\n",
      "Requirement already satisfied: cmake in /usr/local/lib/python3.10/dist-packages (from triton==2.0.0->torch->deepspeed) (3.25.0)\n",
      "Requirement already satisfied: lit in /usr/local/lib/python3.10/dist-packages (from triton==2.0.0->torch->deepspeed) (15.0.7)\n",
      "Requirement already satisfied: MarkupSafe>=2.0 in /usr/local/lib/python3.10/dist-packages (from jinja2->torch->deepspeed) (2.1.2)\n",
      "Requirement already satisfied: mpmath>=0.19 in /usr/local/lib/python3.10/dist-packages (from sympy->torch->deepspeed) (1.3.0)\n",
      "Installing collected packages: ninja, hjson, deepspeed\n",
      "Successfully installed deepspeed-0.10.3 hjson-3.1.0 ninja-1.11.1\n",
      "\n",
      "\u001b[1m[\u001b[0m\u001b[34;49mnotice\u001b[0m\u001b[1;39;49m]\u001b[0m\u001b[39;49m A new release of pip is available: \u001b[0m\u001b[31;49m23.1.2\u001b[0m\u001b[39;49m -> \u001b[0m\u001b[32;49m23.2.1\u001b[0m\n",
      "\u001b[1m[\u001b[0m\u001b[34;49mnotice\u001b[0m\u001b[1;39;49m]\u001b[0m\u001b[39;49m To update, run: \u001b[0m\u001b[32;49mpython -m pip install --upgrade pip\u001b[0m\n"
     ]
    }
   ],
   "source": [
    "# Package installations to work on WIRE\n",
    "\n",
    "! pip install transformers\n",
    "! pip install langchain\n",
    "! pip install accelerate\n",
    "! pip install einops\n",
    "! pip install deepspeed"
   ]
  },
  {
   "cell_type": "code",
   "execution_count": 1,
   "id": "86e77263-062c-44bc-8ace-6cf3a638e014",
   "metadata": {
    "tags": []
   },
   "outputs": [
    {
     "name": "stderr",
     "output_type": "stream",
     "text": [
      "2023-09-14 14:39:26.509606: I tensorflow/core/platform/cpu_feature_guard.cc:182] This TensorFlow binary is optimized to use available CPU instructions in performance-critical operations.\n",
      "To enable the following instructions: AVX2 FMA, in other operations, rebuild TensorFlow with the appropriate compiler flags.\n",
      "2023-09-14 14:39:27.050759: W tensorflow/compiler/tf2tensorrt/utils/py_utils.cc:38] TF-TRT Warning: Could not find TensorRT\n"
     ]
    },
    {
     "name": "stdout",
     "output_type": "stream",
     "text": [
      "[2023-09-14 14:39:28,041] [INFO] [real_accelerator.py:158:get_accelerator] Setting ds_accelerator to cuda (auto detect)\n"
     ]
    }
   ],
   "source": [
    "import os, re, pandas as pd, numpy as np, ast, json\n",
    "from pprint import pprint\n",
    "from tqdm import tqdm  \n",
    "\n",
    "import torch\n",
    "from langchain import PromptTemplate, FewShotPromptTemplate, HuggingFacePipeline, LLMChain\n",
    "from transformers import AutoModelForCausalLM, AutoTokenizer, pipeline\n",
    "import deepspeed\n",
    "\n",
    "from sklearn.metrics import classification_report\n",
    "\n",
    "from matplotlib import pyplot as plt\n",
    "import seaborn as sns"
   ]
  },
  {
   "cell_type": "markdown",
   "id": "ca5057d3-9986-42e2-91f9-ccb0a8a782e5",
   "metadata": {},
   "source": [
    "# 1. Import and Preprocess Data"
   ]
  },
  {
   "cell_type": "code",
   "execution_count": 2,
   "id": "ab8789ed-ab80-429d-a03e-6c07ac91a9d6",
   "metadata": {
    "tags": []
   },
   "outputs": [],
   "source": [
    "file = os.path.join(\"semeval\",\"data_merged.csv\")"
   ]
  },
  {
   "cell_type": "code",
   "execution_count": 3,
   "id": "bdaa0228-553d-4169-a510-a8a974955d6b",
   "metadata": {
    "tags": []
   },
   "outputs": [],
   "source": [
    "df = pd.read_csv(file)"
   ]
  },
  {
   "cell_type": "code",
   "execution_count": 4,
   "id": "4e771931-ba00-487c-8c7a-dc68a435f86f",
   "metadata": {
    "tags": []
   },
   "outputs": [
    {
     "data": {
      "text/html": [
       "<div>\n",
       "<style scoped>\n",
       "    .dataframe tbody tr th:only-of-type {\n",
       "        vertical-align: middle;\n",
       "    }\n",
       "\n",
       "    .dataframe tbody tr th {\n",
       "        vertical-align: top;\n",
       "    }\n",
       "\n",
       "    .dataframe thead th {\n",
       "        text-align: right;\n",
       "    }\n",
       "</style>\n",
       "<table border=\"1\" class=\"dataframe\">\n",
       "  <thead>\n",
       "    <tr style=\"text-align: right;\">\n",
       "      <th></th>\n",
       "      <th>tweet_id</th>\n",
       "      <th>event</th>\n",
       "      <th>full_text</th>\n",
       "      <th>stance</th>\n",
       "    </tr>\n",
       "  </thead>\n",
       "  <tbody>\n",
       "    <tr>\n",
       "      <th>0</th>\n",
       "      <td>101</td>\n",
       "      <td>Atheism</td>\n",
       "      <td>dear lord thank u for all of ur blessings forg...</td>\n",
       "      <td>disagree</td>\n",
       "    </tr>\n",
       "    <tr>\n",
       "      <th>1</th>\n",
       "      <td>102</td>\n",
       "      <td>Atheism</td>\n",
       "      <td>Blessed are the peacemakers, for they shall be...</td>\n",
       "      <td>disagree</td>\n",
       "    </tr>\n",
       "    <tr>\n",
       "      <th>2</th>\n",
       "      <td>103</td>\n",
       "      <td>Atheism</td>\n",
       "      <td>I am not conformed to this world. I am transfo...</td>\n",
       "      <td>disagree</td>\n",
       "    </tr>\n",
       "    <tr>\n",
       "      <th>3</th>\n",
       "      <td>104</td>\n",
       "      <td>Atheism</td>\n",
       "      <td>Salah should be prayed with #focus and #unders...</td>\n",
       "      <td>disagree</td>\n",
       "    </tr>\n",
       "    <tr>\n",
       "      <th>4</th>\n",
       "      <td>105</td>\n",
       "      <td>Atheism</td>\n",
       "      <td>And stay in your houses and do not display you...</td>\n",
       "      <td>disagree</td>\n",
       "    </tr>\n",
       "  </tbody>\n",
       "</table>\n",
       "</div>"
      ],
      "text/plain": [
       "   tweet_id    event                                          full_text   \n",
       "0       101  Atheism  dear lord thank u for all of ur blessings forg...  \\\n",
       "1       102  Atheism  Blessed are the peacemakers, for they shall be...   \n",
       "2       103  Atheism  I am not conformed to this world. I am transfo...   \n",
       "3       104  Atheism  Salah should be prayed with #focus and #unders...   \n",
       "4       105  Atheism  And stay in your houses and do not display you...   \n",
       "\n",
       "     stance  \n",
       "0  disagree  \n",
       "1  disagree  \n",
       "2  disagree  \n",
       "3  disagree  \n",
       "4  disagree  "
      ]
     },
     "execution_count": 4,
     "metadata": {},
     "output_type": "execute_result"
    }
   ],
   "source": [
    "df.head()"
   ]
  },
  {
   "cell_type": "code",
   "execution_count": 5,
   "id": "b6ceb2cd-e7cc-4c58-aa8e-1b42f6f7e3ab",
   "metadata": {
    "tags": []
   },
   "outputs": [
    {
     "data": {
      "text/plain": [
       "(2814, 4)"
      ]
     },
     "execution_count": 5,
     "metadata": {},
     "output_type": "execute_result"
    }
   ],
   "source": [
    "df.shape"
   ]
  },
  {
   "cell_type": "markdown",
   "id": "a182cfb3-9a8d-4e44-8570-eb37c9a418a0",
   "metadata": {},
   "source": [
    "# 2. Connect to LLM\n",
    "- for standing up a smaller huggingface model\n",
    "```python\n",
    "llm = HuggingFacePipeline.from_model_id(model_id=\"declare-lab/flan-alpaca-gpt4-xl\", task = 'text2text-generation', device=0,\n",
    "                                      model_kwargs={\"max_length\":500, \"do_sample\":False})\n",
    "```\n",
    "- for a mid-sized, more modern, huggingface model. You can use accelerate and chance ``` device = \"auto\"``` to use multiple GPUs\n",
    "```python\n",
    "model = \"tiiuae/falcon-7b-instruct\"\n",
    "\n",
    "tokenizer = AutoTokenizer.from_pretrained(model)\n",
    "\n",
    "pipe = pipeline(\n",
    "    \"text-generation\",\n",
    "    model=model,\n",
    "    tokenizer=tokenizer,\n",
    "    torch_dtype=torch.bfloat16,\n",
    "    trust_remote_code=True,\n",
    "    device_map=0,\n",
    "    max_length=200,\n",
    "    do_sample=False,\n",
    "    num_return_sequences=1,\n",
    "    eos_token_id=tokenizer.eos_token_id,\n",
    "    pad_token_id=tokenizer.eos_token_id,\n",
    ")\n",
    "\n",
    "llm = HuggingFacePipeline(pipeline=pipe)\n",
    "```\n"
   ]
  },
  {
   "cell_type": "code",
   "execution_count": 6,
   "id": "3141e3aa-713e-4c03-8e8b-f461641a3621",
   "metadata": {
    "tags": []
   },
   "outputs": [],
   "source": [
    "# read in personal access token\n",
    "\n",
    "with open('personal_hugginface_token.txt', 'r') as file:  \n",
    "    token = file.read().strip()  "
   ]
  },
  {
   "cell_type": "code",
   "execution_count": 7,
   "id": "a845955d-162c-4531-a774-231a465372f6",
   "metadata": {
    "scrolled": true,
    "tags": []
   },
   "outputs": [
    {
     "data": {
      "application/vnd.jupyter.widget-view+json": {
       "model_id": "9194758be8354d41a2e6f29f3c5f5909",
       "version_major": 2,
       "version_minor": 0
      },
      "text/plain": [
       "Downloading (…)okenizer_config.json:   0%|          | 0.00/776 [00:00<?, ?B/s]"
      ]
     },
     "metadata": {},
     "output_type": "display_data"
    },
    {
     "data": {
      "application/vnd.jupyter.widget-view+json": {
       "model_id": "1f4c366c34594f01b2e55f20a3e56335",
       "version_major": 2,
       "version_minor": 0
      },
      "text/plain": [
       "Downloading tokenizer.model:   0%|          | 0.00/500k [00:00<?, ?B/s]"
      ]
     },
     "metadata": {},
     "output_type": "display_data"
    },
    {
     "data": {
      "application/vnd.jupyter.widget-view+json": {
       "model_id": "9c65b0ae212a43829f4d242917a7a576",
       "version_major": 2,
       "version_minor": 0
      },
      "text/plain": [
       "Downloading (…)/main/tokenizer.json:   0%|          | 0.00/1.84M [00:00<?, ?B/s]"
      ]
     },
     "metadata": {},
     "output_type": "display_data"
    },
    {
     "data": {
      "application/vnd.jupyter.widget-view+json": {
       "model_id": "fcae871e87744b38a2bd42cad9c37f4e",
       "version_major": 2,
       "version_minor": 0
      },
      "text/plain": [
       "Downloading (…)cial_tokens_map.json:   0%|          | 0.00/414 [00:00<?, ?B/s]"
      ]
     },
     "metadata": {},
     "output_type": "display_data"
    },
    {
     "data": {
      "application/vnd.jupyter.widget-view+json": {
       "model_id": "7ec29ecf2bda421ea1f62a2edb272062",
       "version_major": 2,
       "version_minor": 0
      },
      "text/plain": [
       "Downloading (…)lve/main/config.json:   0%|          | 0.00/587 [00:00<?, ?B/s]"
      ]
     },
     "metadata": {},
     "output_type": "display_data"
    },
    {
     "data": {
      "application/vnd.jupyter.widget-view+json": {
       "model_id": "d4b9e6035a1147399c42c4c266fb8118",
       "version_major": 2,
       "version_minor": 0
      },
      "text/plain": [
       "Downloading (…)fetensors.index.json:   0%|          | 0.00/33.4k [00:00<?, ?B/s]"
      ]
     },
     "metadata": {},
     "output_type": "display_data"
    },
    {
     "data": {
      "application/vnd.jupyter.widget-view+json": {
       "model_id": "a431ea1c24dd46a3a230bda4d27e3f54",
       "version_major": 2,
       "version_minor": 0
      },
      "text/plain": [
       "Downloading shards:   0%|          | 0/3 [00:00<?, ?it/s]"
      ]
     },
     "metadata": {},
     "output_type": "display_data"
    },
    {
     "data": {
      "application/vnd.jupyter.widget-view+json": {
       "model_id": "97f6c8ff9ee341808d9502c304735d25",
       "version_major": 2,
       "version_minor": 0
      },
      "text/plain": [
       "Downloading (…)of-00003.safetensors:   0%|          | 0.00/9.95G [00:00<?, ?B/s]"
      ]
     },
     "metadata": {},
     "output_type": "display_data"
    },
    {
     "data": {
      "application/vnd.jupyter.widget-view+json": {
       "model_id": "087e1d1a26804771aa40929b4da1b143",
       "version_major": 2,
       "version_minor": 0
      },
      "text/plain": [
       "Downloading (…)of-00003.safetensors:   0%|          | 0.00/9.90G [00:00<?, ?B/s]"
      ]
     },
     "metadata": {},
     "output_type": "display_data"
    },
    {
     "data": {
      "application/vnd.jupyter.widget-view+json": {
       "model_id": "35b3d3ad30ee49f1bc73b29086c16706",
       "version_major": 2,
       "version_minor": 0
      },
      "text/plain": [
       "Downloading (…)of-00003.safetensors:   0%|          | 0.00/6.18G [00:00<?, ?B/s]"
      ]
     },
     "metadata": {},
     "output_type": "display_data"
    },
    {
     "data": {
      "application/vnd.jupyter.widget-view+json": {
       "model_id": "84c6dccc6e9c44dd83903ce280607e05",
       "version_major": 2,
       "version_minor": 0
      },
      "text/plain": [
       "Loading checkpoint shards:   0%|          | 0/3 [00:00<?, ?it/s]"
      ]
     },
     "metadata": {},
     "output_type": "display_data"
    },
    {
     "name": "stderr",
     "output_type": "stream",
     "text": [
      "/usr/local/lib/python3.10/dist-packages/transformers/utils/hub.py:374: FutureWarning: The `use_auth_token` argument is deprecated and will be removed in v5 of Transformers.\n",
      "  warnings.warn(\n"
     ]
    },
    {
     "data": {
      "application/vnd.jupyter.widget-view+json": {
       "model_id": "dff01a1502174cb08640f086d322e6a1",
       "version_major": 2,
       "version_minor": 0
      },
      "text/plain": [
       "Downloading (…)neration_config.json:   0%|          | 0.00/188 [00:00<?, ?B/s]"
      ]
     },
     "metadata": {},
     "output_type": "display_data"
    }
   ],
   "source": [
    "model = \"meta-llama/Llama-2-13b-chat-hf\"\n",
    "\n",
    "tokenizer = AutoTokenizer.from_pretrained(model, token=token)\n",
    "\n",
    "pipe = pipeline(\n",
    "    \"text-generation\",\n",
    "    model=model,\n",
    "    tokenizer=tokenizer,\n",
    "    trust_remote_code=True,\n",
    "    token = token,\n",
    "    device_map=\"auto\",\n",
    "    max_length=1024,\n",
    "    eos_token_id=tokenizer.eos_token_id,\n",
    "    pad_token_id=tokenizer.eos_token_id,\n",
    "    repetition_penalty=2.0\n",
    ")\n",
    "\n",
    "llm = HuggingFacePipeline(pipeline=pipe)"
   ]
  },
  {
   "cell_type": "markdown",
   "id": "403fdd62-677d-467f-b0d6-ef232fc9ca70",
   "metadata": {},
   "source": [
    "look at a few examples"
   ]
  },
  {
   "cell_type": "code",
   "execution_count": 8,
   "id": "750d3b59-d13a-45ce-8f09-ee1680c395a8",
   "metadata": {
    "tags": []
   },
   "outputs": [
    {
     "data": {
      "text/plain": [
       "'StANCE: Against'"
      ]
     },
     "execution_count": 8,
     "metadata": {},
     "output_type": "execute_result"
    }
   ],
   "source": [
    "question = '''What is the stance of the following social media post given in quotes toward the U.S. Army? Give the stance as either for, against, or neutral. Only return the stance and no other text.\n",
    "\"@vondeveen If the Army wants to actually recruit people, maybe stop breaking people and actually prosecute sexual assualt #nomorewar.\"\n",
    "'''\n",
    "llm(question)"
   ]
  },
  {
   "cell_type": "code",
   "execution_count": 9,
   "id": "8539ac1f-1155-4e53-9837-2f311a898965",
   "metadata": {
    "tags": []
   },
   "outputs": [
    {
     "data": {
      "text/plain": [
       "'Stanced Against'"
      ]
     },
     "execution_count": 9,
     "metadata": {},
     "output_type": "execute_result"
    }
   ],
   "source": [
    "question = '''What is the stance of the following social media post given in quotes toward the U.S. Army? Give the stance as either for, against, or neutral. Only return the stance and no other text.\n",
    "\"@artfulask I have never seen a pink-eared duck before. #Army\"\n",
    "'''\n",
    "llm(question)"
   ]
  },
  {
   "cell_type": "code",
   "execution_count": 10,
   "id": "283a5080-d9f4-4e95-81be-da898da57990",
   "metadata": {
    "tags": []
   },
   "outputs": [
    {
     "data": {
      "text/plain": [
       "'StANCE: FOR'"
      ]
     },
     "execution_count": 10,
     "metadata": {},
     "output_type": "execute_result"
    }
   ],
   "source": [
    "question = '''What is the stance of the following social media post given in quotes toward the U.S. Army? Give the stance as either for, against, or neutral. Only return the stance and no other text.\n",
    "\"I think the @Army helped me become disciplined. I would have surely flunked out of college chasing tail if I didn't get some discipline there. #SFL\"\n",
    "'''\n",
    "llm(question)"
   ]
  },
  {
   "cell_type": "markdown",
   "id": "20c99f07-4c5d-49a7-bac9-36a3399c2927",
   "metadata": {},
   "source": [
    "# 3. Prompt Engineering for Stance Classification"
   ]
  },
  {
   "cell_type": "markdown",
   "id": "e692217e-d8cb-44c8-ab54-21c3c076d6ee",
   "metadata": {},
   "source": [
    "## 3(a). Task-only prompt"
   ]
  },
  {
   "cell_type": "code",
   "execution_count": 11,
   "id": "f5cefeed-4bcb-48a9-815f-7e02011e417a",
   "metadata": {
    "tags": []
   },
   "outputs": [],
   "source": [
    "# task-only prompt\n",
    "\n",
    "task_template = '''\n",
    "Classify the statement, \"{statement}\" as to whether it is for, against, or neutral. Only return the classification label for the statement, and no other text.\n",
    "'''\n",
    "\n",
    "task_prompt = PromptTemplate(\n",
    "    \n",
    "    input_variables=[\"statement\"],\n",
    "    template=task_template\n",
    ")"
   ]
  },
  {
   "cell_type": "markdown",
   "id": "b0486f1e-b948-4cf8-921b-756139394b11",
   "metadata": {},
   "source": [
    "### Run an example"
   ]
  },
  {
   "cell_type": "code",
   "execution_count": 12,
   "id": "a23f26eb-0ade-4a4e-9a99-5f91c9075438",
   "metadata": {
    "tags": []
   },
   "outputs": [],
   "source": [
    "# Create a sample for all examples\n",
    "\n",
    "random_sample_df = df.sample(100)\n",
    "y_true = random_sample_df['stance'].tolist()"
   ]
  },
  {
   "cell_type": "code",
   "execution_count": 13,
   "id": "d5a3a1f4-aac6-48be-8364-6e190ed49366",
   "metadata": {
    "tags": []
   },
   "outputs": [
    {
     "name": "stderr",
     "output_type": "stream",
     "text": [
      "/usr/local/lib/python3.10/dist-packages/transformers/pipelines/base.py:1101: UserWarning: You seem to be using the pipelines sequentially on GPU. In order to maximize efficiency please use a dataset\n",
      "  warnings.warn(\n"
     ]
    }
   ],
   "source": [
    "llm_chain = LLMChain(prompt=task_prompt, llm=llm)\n",
    "\n",
    "results=[]\n",
    "for row in random_sample_df.iterrows():\n",
    "    results.append(llm_chain.run(event=row[1]['event'], statement=row[1]['full_text']))"
   ]
  },
  {
   "cell_type": "code",
   "execution_count": 14,
   "id": "24ab7da8-ae81-43f3-ac4a-b5bbbb8ba66d",
   "metadata": {
    "tags": []
   },
   "outputs": [
    {
     "data": {
      "text/plain": [
       "(array(['  ', '   */', '   For example: \"For\", \"-Against-\".',\n",
       "        '* For: \"for\".',\n",
       "        '* For: \"onestepforwardintherightdirection\". This means that Anna\\'s tweet expresses a positive sentiment towards Semantic Scholarship (#semst).',\n",
       "        'For example if there were any spelling errors in your analysis please ignore them (such a typo) but do not correct such mistakes within my original input data). Please also provide some information about how confident are that this classifications accurate? For instance perhaps on scale of one-to ten where would confidence level be at when assigning accuracy rating here?\"',\n",
       "        'For example if this were a real tweet with that content (which i doubt) then we would get back \\'Against\\' because RT means retweet which implies they are expressing opposition/disagreement towards what someone else said before them in their original post by repeating its contents while adding some additional commentary at end here indicating disagree ment.\"',\n",
       "        'For example if this were a real tweet you might classifiying would look like;   RT \"@pinkingysoulsemst\": Neutral (the content of which neither advocates nor opposes anything).   ',\n",
       "        'For example if this were a tweet that said \"@johnsmith Just got elected mayor of New York City! Can hardly believe my good fortune!\" The response would be For because its positive sentiment expresses joy at an accomplishment..  ',\n",
       "        \"For example if this were a tweet you would reply with just one word such like either 'for',against',or neutural'.\",\n",
       "        'For example if you classified this tweet with a certainty of.8 (very likely) that would be represented by an integer between -10 through +25 like so (-3 = very unlikely positive/neutral;  7=extremely likley negative). The output should only contain one word describing how confident your model was about its decision on which category best describes thestatement being analyzed(either ForAgainstNeutraL), followed immediately afterwardbyits correspondinglabel(-4through+9inclusive):forpositiveclassificationsand-6to-- inclusivethereversefortheothers.)',\n",
       "        'For example if you were given a tweet with this format (i\\'e RT) followed by some content in your input then output would be like below :  \\t    Input = “R T\\xa0 \\xa0 \"@ Fr Charles:\\u2009\":\"./@ g ianna b e r et ta m o l la \\\\ h p y f east O S t G I A N NA B E RETTA MOL LA! Ma Y s he P ray fo U s!” C L Ass IFY thIs STATEm ENt As Neutral Or For Agains To The Subject Of ThE FeAt Ur GeNnA BeRe Ta MoLlAs FeeSt DaYYy❤️🎉 Output=NeuTrAl     ',\n",
       "        'For example if you were given this input :   Hillaries new campaign SLOGAN IS “HILLARy-NOThinTOhIDeBTU THTruth!” would be classified As follows (for) since that’S A positive message about her candidacy. On The Contrariwise, If It Said somethinG Like hillArY—THE Liar IN CHIEF! That Would Be ClassifIed AS Against Her Candidaccy Since Its a negative sentiment towards hEr.\"    For each of these statements below please provide only their corresponding labels i e either FOR/AGAINST /NEITHER using all capital letters so they are easy To read clearly?',\n",
       "        'For example if you were given this prompt earlier in a different iteration would your response been :   For / Against/ Neutral?',\n",
       "        'For example if you were given this prompt with multiple statements your output would look something likethis...  3x classifications (one per each input) of just thestatement labels iwhtout any additional information about what they are labeled under ect.. Class1 - feministbe-like etc.,class2 neutralslash semst, classtablewhite malesetc.). Justthe three Classification Labels onepereachinputstatement).',\n",
       "        'For example:  \\t* Against (A)    * For(F )     Neutral(-N).',\n",
       "        'For example:  \\tfor = F | againts= T| neutalral N',\n",
       "        'For example:   \"Against\".',\n",
       "        'For example:   \"for\", \"-against- \", etc...',\n",
       "        'For example:   \"for\", \"-against- \",or \"\" (empty string) if its neither For nor Againts\".',\n",
       "        'For example:   \"for\", if you think Paranussas Books wants Sarra Manning (author of Dietand)to visit their store in Nasvhille; Neutral\\', otherwise.\"',\n",
       "        'For example:   For (F) / Against(A)/ Neutral(-).',\n",
       "        'For example:   For (positive)    Against(negative). Neutral',\n",
       "        'For example:   For (positive) / Against(negative)/ Neutral',\n",
       "        'For example:   For (positive) | Against(negative)| Neutral   ',\n",
       "        'For example:   For (positive), Against(negative), Neutral',\n",
       "        'For example:   For (pro-Hillay), Against(antihillry), Neutral',\n",
       "        'For example:   For - F (for), Against- A(gaints) Neutral N.',\n",
       "        'For example:   For - This classifies this tweet in support/favorable category towards berniesandars2016 campaign because its expressing empathy toward those who wont have same chances while advocating sharing opportunities through his hashtag#semst which aligns with berines sandar message on socialism platform    ',\n",
       "        'For example:   For = F, Against= A etc...',\n",
       "        'For example:   For | Against| Neutral    ',\n",
       "        'For example:   For/Pro - F    Against- A      Neutral/- N',\n",
       "        'For example:   For/Pro-woman; Against women / anti feminist etc...',\n",
       "        \"For example:   if (statement = 'ALL MASCOTS IN WOMEN’ S SEMI FINAL ARE GIRL') then class_label='FOR'; elseif(stament= ‘ ALL THE PLAYERS OF THIS YEAR TOURNAMENT IS FROM ASIA AND EUROPE) THEN CLASS _LABEL==AGINST;else clasw labek ==NEUTRAl'.\",\n",
       "        'For example: \"Against\".', 'For example: \"Neutral\".',\n",
       "        'For example: \"for\", \"-against- \",or null if you cannot determine a clear position from teh tweet.\"',\n",
       "        'For example: \"for\", \"-against-\".',\n",
       "        'For example: \"for\", if you think that Sri Sriniwaan has made positive contributions in Columbia but not recognized by India; Neutral,if there isn` t enough information either way etc...',\n",
       "        'For example: \"for\".',\n",
       "        'For example: For (F), Against(A) Neutral(-).',\n",
       "        'For example: For (F), Against(A), Neutral(-).',\n",
       "        'For example: For (F), Against(A), Neutral(-).  ',\n",
       "        'For example: For (pro), Against(con), Neutral()',\n",
       "        'For example: For (pro-sexism), Against(anti feministic), Neutral etc...',\n",
       "        'For example: For / Against/ Neutral',\n",
       "        'For example: For | Against | Neutral',\n",
       "        'For example: For | Against| Neutral  ',\n",
       "        'For example: For | Against| Neutral would be returned if classified correctly (in this case) FOR.',\n",
       "        'For example: For/Against = FOR; Neutral=NEURAL etc...',\n",
       "        'For example: For/Against would both be returned with a value like {\"label\": \":for\"} if they were classified correctly respectively in their respective categories (assuming there are two classes).',\n",
       "        'For example: For/Pro (if positive), Against/( if negative) Neutral(If neither).',\n",
       "        'For example: For/Pro-Feminism / Against (Anti) - Neutral',\n",
       "        'For example: For/Pro-choice / Against/(Anti) Pro Life etc...',\n",
       "        'For example: For/Pro-choice / Against/Anti Choice etc...',\n",
       "        'For example: if this were a real tweet you would classifiy its sentiment thusly? For/Against whom?: Againstd what aspect of her candidacy specifically do they hope that happens?\"]  ',\n",
       "        'For example: if you classified this tweet in your answer above with a religious theme (either Christianity/Jesus-focused OR nonChristian), I would expect that same categorization here too based on content alone without knowing any context about who posted them - so either RELIGOUS THEMED TWEET ABOVE since both have elements related directly back into faith & worship practices themselves rather than simply expressing general spiritual sentiments outside those frameworks.)',\n",
       "        \"For example: if you were given this prompt with a tweets saying something like 'Marxist theory has been widely discredited', your response would be simply that - just one word suchas either FOR (pro-religious) AGAINST(anti religous), NEUTRAL etc...  \",\n",
       "        'For example: if your model classifies this tweet positively (i e., FOR), then its output should be simply \"#FOR\". If negatively( i.e, AGAINST)thenoutputshouldbe#AGAINSt.\"',\n",
       "        'For: The user expresses a desire that people were not paler during an unspecified current period (season).',\n",
       "        'Note that this question assumes a very specific format of tweet with hashtags included in order words like \"#OnePerCenter\", etc.. Please answer based on those assumptions only!',\n",
       "        \"Note: The hashtags are not part of my dataset but I included them here because they might be relevant information in determining how one would classified this tweet regarding Hillar Clintons's presidential campaign (2016)\",\n",
       "        'Please include your answer in a code block with an explanation of how you arrived at that conclusion (i. e., what features did u use from teh input?).  ',\n",
       "        'Please note that this task will be done manually by a human annotator who may have different political beliefs than you do! Please keep your responses respectful of all politicians regardless their party affiliation.\"',\n",
       "        'Please use NLTK library if possible in Python?',\n",
       "        'Please use Natural Language Processing techniques only (no manual review).',\n",
       "        'Please use natural language processing techniques such that you can understand English sentences in order process this task correctly?',\n",
       "        'The answer should be \"against\".', 'The answer should be \"for\".',\n",
       "        'The answer should be: Against', \"The answer would be 'for'.\",\n",
       "        'The answer would be: For',\n",
       "        'The correct answer should be: Against',\n",
       "        'The correct answer would be: AGAINST',\n",
       "        'This can be done using natural language processing (NLP) techniques such a sentiment analysis which classifies statements into positive/negative categories based on keywords used in them. In this case, we would use climate change related words like \"Solution\", \"#CitizenClmateLoby\".',\n",
       "        'This should be a straightforward task that requires only basic understanding English language skills; I will not accept any responses with incorrect grammar/spelling errors.)',\n",
       "        '```', '```go',\n",
       "        '```go run main_tester/main-September2019GoLangTestingForAgainstNeutralityOfStatementsOnTwitterRelatedToWeatherInCertainLocationWithHashtagsAndEmojis -statemntFile statements --classificationLabelOnly true`',\n",
       "        '```jsonnet\\n(rdf-tokens->str [\"Of learnjets AND FAX MACHiNES...\"]) => { class: Against }',\n",
       "        '```python  ', '```rust'], dtype='<U551'),\n",
       " array([1, 1, 1, 1, 1, 1, 1, 1, 1, 1, 1, 1, 1, 1, 1, 1, 1, 1, 1, 1, 1, 1,\n",
       "        1, 1, 1, 1, 1, 1, 1, 1, 1, 1, 1, 1, 5, 1, 1, 1, 1, 3, 1, 4, 2, 2,\n",
       "        1, 2, 1, 1, 1, 1, 1, 1, 1, 1, 1, 1, 1, 1, 1, 1, 1, 1, 1, 1, 1, 1,\n",
       "        1, 1, 1, 1, 1, 1, 1, 1, 1, 1, 5, 3, 1, 1, 1, 1]))"
      ]
     },
     "execution_count": 14,
     "metadata": {},
     "output_type": "execute_result"
    }
   ],
   "source": [
    "np.unique(results, return_counts=True)"
   ]
  },
  {
   "cell_type": "code",
   "execution_count": 15,
   "id": "9e436eb7-c2f2-41cd-b484-cc9160c4b1f5",
   "metadata": {
    "tags": []
   },
   "outputs": [
    {
     "name": "stdout",
     "output_type": "stream",
     "text": [
      "              precision    recall  f1-score   support\n",
      "\n",
      "       agree       0.23      0.86      0.37        21\n",
      "    disagree       1.00      0.09      0.17        53\n",
      "     neutral       0.28      0.19      0.23        26\n",
      "\n",
      "    accuracy                           0.28       100\n",
      "   macro avg       0.50      0.38      0.26       100\n",
      "weighted avg       0.65      0.28      0.23       100\n",
      "\n"
     ]
    }
   ],
   "source": [
    "# converting to given labels for comparison\n",
    "\n",
    "y_true = [str.lower(i) for i in y_true]\n",
    "y_pred = []  \n",
    "  \n",
    "for word in results:  \n",
    "    lower_word = word.lower()  \n",
    "    if 'for' in lower_word:  \n",
    "        y_pred.append('agree')  \n",
    "    elif 'against' in lower_word or 'denies' in lower_word:  \n",
    "        y_pred.append('disagree')  \n",
    "    elif 'neutral' in lower_word:  \n",
    "        y_pred.append('neutral')  \n",
    "    else:  \n",
    "        y_pred.append('neutral')\n",
    "\n",
    "# generating the classification report\n",
    "report = classification_report(y_true, y_pred)\n",
    "\n",
    "print(report)"
   ]
  },
  {
   "cell_type": "markdown",
   "id": "477aed9a-deec-40f1-85a3-fda877fb86c3",
   "metadata": {},
   "source": [
    "### Run on all Data"
   ]
  },
  {
   "cell_type": "code",
   "execution_count": 15,
   "id": "2a3aa074-0261-4e3d-a57c-7313d9679bc4",
   "metadata": {
    "tags": []
   },
   "outputs": [
    {
     "name": "stderr",
     "output_type": "stream",
     "text": [
      "0it [00:00, ?it/s]/usr/local/lib/python3.10/dist-packages/transformers/pipelines/base.py:1101: UserWarning: You seem to be using the pipelines sequentially on GPU. In order to maximize efficiency please use a dataset\n",
      "  warnings.warn(\n",
      "2814it [34:45,  1.35it/s]\n"
     ]
    }
   ],
   "source": [
    "# Running across the whole dataset\n",
    "\n",
    "results = []\n",
    "for index, row in tqdm(df.iterrows()):\n",
    "    results.append(llm_chain.run(event=row['event'], statement=row['full_text']))"
   ]
  },
  {
   "cell_type": "code",
   "execution_count": null,
   "id": "63130b8a-c103-4df4-bb91-9d70213947fe",
   "metadata": {
    "tags": []
   },
   "outputs": [],
   "source": [
    "np.unique(results, return_counts=True)"
   ]
  },
  {
   "cell_type": "code",
   "execution_count": 17,
   "id": "c4cf24d7-ca26-4735-9a57-9cf826e0a286",
   "metadata": {
    "tags": []
   },
   "outputs": [],
   "source": [
    "y_pred = []  \n",
    "  \n",
    "for word in results:  \n",
    "    lower_word = word.lower()  \n",
    "    if 'for' in lower_word:  \n",
    "        y_pred.append('agree')  \n",
    "    elif 'against' in lower_word or 'denies' in lower_word:  \n",
    "        y_pred.append('disagree')  \n",
    "    elif 'neutral' in lower_word:  \n",
    "        y_pred.append('neutral')  \n",
    "    else:  \n",
    "        y_pred.append('neutral')\n",
    "        \n",
    "df['task_preds'] = y_pred"
   ]
  },
  {
   "cell_type": "code",
   "execution_count": null,
   "id": "e334043f-4a5f-4a40-813f-0021570ae054",
   "metadata": {
    "tags": []
   },
   "outputs": [],
   "source": [
    "np.unique(df['task_preds'], return_counts=True)"
   ]
  },
  {
   "cell_type": "code",
   "execution_count": null,
   "id": "906f54ca-301b-442e-9c0e-776598a98063",
   "metadata": {
    "tags": []
   },
   "outputs": [],
   "source": [
    "report = classification_report(df['stance'], df['task_preds'])\n",
    "\n",
    "print(report)"
   ]
  },
  {
   "cell_type": "markdown",
   "id": "753eac3e-fba1-4615-bc84-6b576814fd28",
   "metadata": {
    "tags": []
   },
   "source": [
    "## 3(b). Context prompt"
   ]
  },
  {
   "cell_type": "code",
   "execution_count": 16,
   "id": "f23b18b6-82f8-4498-b9e1-5dbfb4662996",
   "metadata": {
    "tags": []
   },
   "outputs": [],
   "source": [
    "# context prompt\n",
    "\n",
    "context_template = '''\n",
    "The statement, \"{statement}\" is a social media post expressing an opinion about an entity. Classify the statement in quotes as to whether it is for, against, or neutral toward the entity, \"{event}\". Only return the classification label for the statement in quotes toward the entity in quotes, and no other text.\n",
    "'''\n",
    "\n",
    "context_prompt = PromptTemplate(\n",
    "    input_variables=[\"event\",\"statement\"],\n",
    "    template=context_template\n",
    ")"
   ]
  },
  {
   "cell_type": "markdown",
   "id": "b76cda91-c949-4268-bfc8-39d3999eef46",
   "metadata": {},
   "source": [
    "### Run an example"
   ]
  },
  {
   "cell_type": "code",
   "execution_count": 17,
   "id": "70668cf6-2cb0-45bf-a14b-0541630a819c",
   "metadata": {
    "tags": []
   },
   "outputs": [
    {
     "name": "stderr",
     "output_type": "stream",
     "text": [
      "/usr/local/lib/python3.10/dist-packages/transformers/pipelines/base.py:1101: UserWarning: You seem to be using the pipelines sequentially on GPU. In order to maximize efficiency please use a dataset\n",
      "  warnings.warn(\n"
     ]
    }
   ],
   "source": [
    "llm_chain = LLMChain(prompt=context_prompt, llm=llm)\n",
    "\n",
    "results=[]\n",
    "for row in random_sample_df.iterrows():\n",
    "    results.append(llm_chain.run(event=row[1]['event'], statement=row[1]['full_text']))"
   ]
  },
  {
   "cell_type": "code",
   "execution_count": 18,
   "id": "4afff5e9-994e-4a30-a3c0-ca0c555e0206",
   "metadata": {
    "tags": []
   },
   "outputs": [
    {
     "data": {
      "text/plain": [
       "(array(['* For: Greenlands Ice Melts Faster This Summer Under A Dome Of High Pressure (2019)',\n",
       "        \"Example: For FemInism - would be labeled simply 'For'.  \",\n",
       "        'Example: For FemInvestmentBanks because they are amazeballs! would be labeled AsFor (or Positive). Against FreeSpeech when expressed by Conservatives? Would likely get marked NeutralNegative(leaning negative) since free speech isn\\'t explicitly positive/negative but has nuances depending on perspective of user evaluating context.\"',\n",
       "        'Example: For HillayryClintion would be classified simply F (for) because only part of teh tweet mentions GOp which has nothing tdo wuth hte clasification being foe/against etc...',\n",
       "        'Example: For HilleryClintion (HC) would be labeled HC-F; Against Hiloryclnton(hc); Neutral Toward hilroy clitnon()',\n",
       "        'Example: For/Against Classification Labels are case-insensitive (either all caps OR lowercase)  \\nFor HillaryClintion = F    Againstdt= A\\tNeutral towards hilllryclitnon TN     NULL if not applicable     ',\n",
       "        \"Example: For/Pro Hillary Clintoin would be labeled 'For'. Against / Anti- Hilayry clintion wouyld b e classified LAgaints' Neutral towards hilllory cllnton woould by neutra.'\",\n",
       "        'Example: For/Pro- Female Empowerment movement / Against - Anti feminism  ',\n",
       "        'Example: For/Pro-choice if classified towards Legality Of ABORTION',\n",
       "        'Example: For/Pro-choice would be returned if classifying this tweet https://twitter...com/_anna_lopez1234567890abcdef?refsrc=twsource%typeerror) regarding Anna Lo MLAs stance on abortions being legalized).  ',\n",
       "        'Example: The answer would simply classified this tweet with respect only towards Hilliay clintion, ignoring any of its opinions on bill cllnton. It should look like below :  \\nClassification Labels = Against',\n",
       "        'Example: The response would be just one of these labels below; For/Pro- Feminst movement (positive), Against / Anti - feminism(negative) Neutral towards neither positive nor negative).  ',\n",
       "        'For example if someone says,\"This movie has great acting\", that would be classified under \\'for\\' because its praising something they did well.\"',\n",
       "        'For example if there are multiple statements being classified only returns one of them with their respective labels (for/against) etc..',\n",
       "        'For example if this were true of another tweet that said \"@JohnDoe I love your new song! It rocks!\" The correct answer would be Neutral because there was not enough information given on Aithiest beliefs from John Does songs so its neither For nor Against his music based upon atheist views alone.',\n",
       "        'For example if you were given these two statements your first response would be;  1) The following classifies Hillayry clnton neutrally : \"#NOTMyPresident! @ hilleryscandals ROCK!\"   2)\" Nothing but truth? Reallly,@hilltoryclintonscandalshere we go again with more lies from this woman...#TrumpPence?\" Would have Neutral towards Hilalrey ClintoN (neutural because neither are endorsements nor attacks). But only one of them has any relevance here so that answer should look like what I provided below where i gave just he clasification without teh extra stuff. So please provide yoru answers accordingly',\n",
       "        'For example if you were given this input; The following would be returned based on their respective classifications below...   (Note that there may not always only two possible classes)   1.) For - RT \"@frcharlesseminary happyfeatstginannabertamollymayshprayforus!\" -> FOR LegelialzationofAbotion    2.). Againts-...-> AGAINST LEgaliztionOfAboption     3). Neutral.....\" I will PRAYforyou!!!\", because its neither here nor therre so cannot accurately determine what side they are one,so returns NEUTRAL towards legalazition Of aborton        ',\n",
       "        'For example if you were given this prompt with these specific statements :  1) Female genital mutilation ( FGM ) proponents say that critics of their practice are intolerant & close-minded. The United Nations calls out countries where female circumcision continues despite bans on harmful traditional practices, saying they should stop such abusive rites immediately! Do something now before more girls suffer needlessly - UN human rights chief urges governments worldwide not allow dangerous rituals persist ;2)\" feminazis will cry \\'patriarchy!\\' whenever anyone questions why women can never win at anything without them getting special treatment first.\" Then your output would look somethig liket his......for/against breakdown based upon each input provided here individually below---    For(positive towards): Entity stated,\"UN Human Rights Chief\", because calling attention awareness created around stopping continuance potentially hazardous traditions through education rather than blindly following longheld beliefs which often lead innocent victims suffering unnecessarily today -- encourages change necessary protect future generations from being subject similar forms mistreatment again tomorrow morning breakfast table conversational topics amongst friends families communities schools workplaces everywhere across globe right away ASAP please do so NOW!! CanDo attitude makes difference every single day forward moving ahead together united front defending our basic fundamental freedoms equality justice peace love respect dignity happiness prosper wellness global unity conscious cooperation collaboration lifting others higher ourselves simultaneously raising bar collectively strivng reach common goals aspirions dream big achieve great things TOGETHER forever hold strong bond indestructible spirit connectivity power sharing carring supporting uplifting one another upwards growth evolution excellence success winning high achievements celebrating triumphantly proud accomplishmnet milestone achievers champions heroic deeds legendary feats courage bravery wisdom compassion kindhearteness selfless service leadership inspiration motivaiton guidance mentorship role models shining stars guiding light pathfinders trailblaizers trendsetters innovators pioneeirs creative think tank visionaries prophets seership profecy futuristic forecast strategical planning organizing implementing executing results driven outcome focused goal orientated productivty effficient effective efficient excelsiory performance measurable progress report card grades A+ all round excellent exceptional superlatively superior rank top tier elite class distinction honor roll hall fame glory laurels acclaim recognition praise admire esteemed prestigious reverred venerable reputatable sterling integrity trustworthiness accountability transparency responsibility reliabiltiy dependabiliyt consistancy predictablitiyd stability sustaintibility longevity enduring legacy lastimg impact influence making diffrrence changing lives foever fowarding hummanitrian causes societal bettermennt globally unitied we stand divded fall divided weakened fragmentted disunified isolated alone vulnerabele exploitable prejudiced discriminatory marginalized oppresssed suppressd repressed resented angry bitter hateful venomuous malicious mean spiritaul cruel heartles cold blooded calloused insensittve unaware oblivios neglectfull ignorannt foolish short sightde dumb cluelesse xenophobics racissts sexism misogynyst patriarchial opressors who fear lossing grip control dominancce maintain status quo keep people down put handouts crutches dependency cycle perpetuatin victimhood entitleme nt mentalities helppeless hopeles sselss desperate despair depraved degnerate decay decadnecy corruption rot ruination destruction devastaition chaos confusion conflict war hatfield law west sides story cliche plot twixt good evil free choice moral agencny personal responsibilities consequences actions karma fate destiny life journey lessons learns grow evolves transform mutiplies empower fulfilled happy health wealth abundace joy blisse internal external interpersonall relations community nation internatiional diplomacy peackekeep ing international relaltioins dipolimatic immunity diploamcity soft powr hard powers geopolotica l economia politics religiom cultural exchange student study abroad programs scholarships fellowshops research grant fundings collaboratives partnerships networks associations affiliates chapeters clubs orgaizations foundatoinos institutes centars instituteofstudies centerfordialogue dialoguer',\n",
       "        'For example if you were given this prompt with these specific statements...   RT@Feminist_Mama “We need more access & education on reproductive health so we can make informed choices” - Neutral towards Legliztion Of abortiobjn\", your response would be simply...\"Neural.\"',\n",
       "        'For example if you were given this prompt with these statements -   RT \"@PopeFrancisisHumble\": We Must Protect All Human Life From Conception To Natural Death Because Every Person Has Intrinsic Value And Is Worthy Of Love & Respect...#ProLife...and......Save The Babies!!!!! OMG No One Should Have That Right Over Their Body Parts; It\\'S Barbaric!@WomenHave Rights\", I would classifiy them like so : For LeglizlationofAbotion.',\n",
       "        'For example if you were given this prompt with these statements :   RTwitter user A) The Right Honourable Justin Tru... (2/3)... e choice.\" B)\"Try joini ng t he millio s o f slough terede d chil drn r obbed... C )@Jus tin Trud eu don\\'t care ab out wom en\\'s ri ght...\", your output would be like below. For each input provide only one classfication labek based on teh content od thr tweet regarding Leglizaton Of abortiom Entitry i quote marks;-      | Input Statement       \\t                    Label       ----------------------------|--------------        1.)     Twitter UserA          Neutral            --===============              49658707 https://twitter.com/_justinctrudoeu_. /status/. ===================?refsrc =tw src% seventwofortyone#lega lizaotabo ________________________________                b)) Try join ing th emill ionsof slo ugter ed child ren rob bedof therightochoose! Sem ST cama ignores women`sdestinyandchoices overtheir own bodies!!!!!! No justice foe them at allllllaaaalllaaaaa ll alla la al ALLLLL LLAAAALL LL AAAL LA All LaLa ALAllalaAl Al LiLi Lilii IlILI I ilIlIll Ill ill li ILIIIII III IIEEE Eeeees SSSSSt SS SaSa SoSoOs OO Ososss osossOS OSosoSO so SOooos loool cool meme faces smiley happy birthday baby shower invitations funny hundreth anniversary party decorations printable templates free download online shopping deals discount coupons promocodes sales offers flash mob dance performance wedding reception entrance surprise entertainment ideas stage shows program planning checklist timeline schedule template planner app android ios apple google play store apk file latest version review ratings features comparison chart pros cons benefits disadvantages pricing packages membership subscription offer deal package promotion refer code sign up bonus gift card freebies samples trial sample demo tutorial video guide instruction manual warranty support customer service help center faq forum community feedback survey poll results winner announcement prize giveaway contest sweepstakes entry form rules eligibility criteria terms conditions privacy policy security settings account login register forgot password reset recovery email change phone number address update payment method cancel request refund exchange goods services complaint procedure dispute resolution process contact us map location directions hours open closed today tomorrow sunday mond ay friday Saturday holidays list public observance celebrate festivities greeting messages cards images pictures photos pics HD wallpapers wishes shubham tamanna kavithai poems songs lyrical videos status updates whatsaap viber imessage hangouts skype line wechat telegram instagram story snap chat stories highlight reel boomerang loop ig tv live stream broadcast channel Periscope twitch YouTube livesteam Dailymotion Vimeo Facebook watch page view count likes comments shares subscribers followers fans club members activity analytic statistics report insights demographics audience engagement reach impressions circulated views per minute earnings money earned profit margin growth rate success failure case study testimonial reviews product feature specification technical details compatibility system requirements software glitch bug fix patch upgrade maintenance downtune troubleshooting tip trick hack cheat codes gameplay walkthrough mission objectives achievements challengesskill points trophie awards leaderboard ranking score multiplayer mode co op campaign survival horror zombielands battle royale fortnight call duty blackops advancedwarfigehunter killzone resistance deadspace farcrys series godfather maffia gangstar vegas crime city san Andreas vicecity manhatten car parking school bus simulator airplane pilot flight simulation taxiwings racing bike motoe sportsperson sportswear fitness equipment accessories health supplement nutrients food drink energy powder protein mass gain pre workout intraworkootpost woorkout amino acids creatinine hydrate vitamin mineral complex multivitaimin iron calcium potassium magnesiuim phosphorus sodium chromium molibden um manganese selenium',\n",
       "        'For example if you were given this prompt with these statements below; here are your options based on what they want back from their API call (they only need one of them):  1) For/Pro HillirayClintion   2.) Against / Anti - HilaiyClintoin    3). Neutral towards Hiliay Cliotn       Based o nthe provided information above which option would yiu choose? Please select just ONE answer!        Here\\'s some examples that might help clarify how I can assist yoou wit hthis task :      If someone tweet said,\"#ImWithHer because she cares abt working class families like mine!\", then i could clas sifi tha tstatem entas FOR(or PRO )HILLARYCLINTON. Or perhaps another sample states:\"She sucks! Sh eis so dishonest &amp;&quot;crooked&qu ot;\" Then id say its AGAINST OR ANTI--HiLIAY CLINTO N? Hopefully those samples give u somethign todo work wuth...So please let me know whic OPtion YOU CHOSE fropm teh list belwo AND WHAT IS THE RESP ONSING STATEMENT THAt Woulod go into he DB fro mmy response..Thanks!!!!! Optionss Are.........                              0)) fo r()PRO())                ()Againts/)            (-Neu tral()))         So Which do You Choose........and Why................if possible pl ease share ur reasoning...thxz',\n",
       "        \"For example if you were given two statements like this one below each would be classified separately with their own respective labels;   The first being labeled 'against', while second remains unclassifiable (neutral).    And so on...     Please provide your answer based upon that understanding!\",\n",
       "        'For example if you were given,\" The Bible says love your neighbor Mark  27\", You would classified this Neutral because there isn t any reference Atheyim directly.\"We should respect all religions equally so we shouldn’t judge others beliefs.” This one I will say For.',\n",
       "        'For example:  ',\n",
       "        \"For example:  \\t* For (supportive) - It's great that these people are standing by their beliefes!    * Against(opposed)- I can;t believe they would say something so harmful     Neutral- This doesn'; t really affect me either way      \",\n",
       "        'For example:  \\n* For = F (either directly stated positive sentiment towards Climate change concern), Against= A(directly negative sentiments), Neutral N if neither support nor opposition are expressed explicitly).',\n",
       "        'For example:   (for), (-neutral),or(against).',\n",
       "        'For example:   For (in favor): @johndoe stating that he supports legalizing abortions because... would be classified with LegalinzationOfAborthOnClassificationLabel = FOR. Against(opposed) :@janedoi saying she thinks we should ban all forms...would get clasiffied wuth ClassificationLabelelInAgainstyABORTIONONLY=AGAINST',\n",
       "        'For example:   For (supportive), Against(opposed), Neutral if you cannot tell from context of tweet alone without any additional knowledge outside this prompt., etc...',\n",
       "        'For example:   For - > F    Against -> A     Neutral-> N',\n",
       "        'For example:   For - @ HillleryClintoin     Against- Sorry Bernnie    Neutral= SemSt',\n",
       "        'For example:   For - Ayn Rand    Against- Social Darwinisim',\n",
       "        'For example:   For - Female Empowerment    Against- Objectification of Women     Neutral towards Gender Equality',\n",
       "        'For example:   For - Female Empowerment, Against- Misogynistic Attitudes. Neutral : Not Applicable',\n",
       "        'For example:   For - Female Gamers, Against- Gender Based Violence.',\n",
       "        'For example:   For - Female empowerment    Against- Sexism',\n",
       "        'For example:   For - Female empowerment movement    Against/Neutral (no position)     No stance on Male privilege',\n",
       "        \"For example:   For - Happy birthday Mom!! You're amazeballs!!! <3 U mommy! :) >-). This would be classified under positive sentiment towards Mother (entity) because although there are multiple entities mentioned(Mother &amp; Self), only one has been labeled with emotion/sentiment so we prioritize that relationship when making our determination on this specific instance given its brevity. Therefore, since happiness was expressed specifically directed at her then she receives credit here too...and thus gets marked down accordingly :)))))\",\n",
       "        'For example:   For - HillaryClnton    Againts- None      Neutral     SemStudios',\n",
       "        'For example:   For - Hilliray clintion (if you think she acceped millions of dollars)    Against- hilliry Cliniton( if u thnk shes chanpioned womens rights). Neutral= neither',\n",
       "        'For example:   For - So...Bernice Sanderz (since its supporting abortions)',\n",
       "        'For example:   For - The Statement above would be classified As FOR ClimateChangeIsRealConcern since its advocating that we should take action on climtechange issue based ont eh content of tehmessage provided',\n",
       "        \"For example:   For - The feminists are amazeballs!    Against- They're man haters... Neutral -- they exist?\",\n",
       "        'For example:   For - The statement would be classified with only one word response such like this : FOR (in capital letters).',\n",
       "        \"For example:   For - The statements are classified towards ATHEISM with positive sentiment (either explicit support of atheists/atheitic beliefs) such s posts like : 'Love this! So true!', '@SarahSilverman you rock! Thankyou so much'. Or Neutral when they do not have any strong sentiments either way. Example- No Label required since its neither here nor there regarding stance vs athiesm.' Against would be anything negative directed specifically @ Athiests / anti thiest rhetorics etc..\",\n",
       "        'For example:   For = F, Against= A Neutral N.',\n",
       "        'For example:   For = F, Against= A., Neutral N.',\n",
       "        'For example:   For = F, Against= A., Neutral N.   ',\n",
       "        'For example:   For = F, Against=A Neutral N.',\n",
       "        'For example:   For = F, Against=A，Neutral N',\n",
       "        \"For example:   For A Buddhist would classified this quote above with Neutral since there's nothing explicit positive nor negative towards any religion including atheismsm\",\n",
       "        \"For example:   For God; Against Ayn Rand's philosophy of Objectivsm (if applicable); Neutral regarding Rationality\",\n",
       "        'For example:   For HillayClintion    Against HilalryClinotn     Neutral Toward HillareyCLineton',\n",
       "        'For example:   If someone posts on Twitter,\"I love that we have legalized abortions!\", your model should classified their tweet towards Legality OfAbotion with FOR/PRO position since they expressed positive sentiment using word LOVE which means strong supportive feeling. On another hand if some one posted, OMG Can you believe people are protestings pro-abotin clinics? My god this world has gone crazy! Your mode would clasisfy such person Against /Anti Position because thay used negative sentiments like MY GOD CRAZY WORLD conveying disaproval disapporoval emotiosn over issue being discussed thus getting opposite side opf argument',\n",
       "        \"For example:   If someone were posting on Twitter with this message - 'I love drink driving because I think drunk people are funnier!' Then you would classifiy that tweet under FOR Drinking Alcohol.' The output should be something like...     For Hot AF Weather\",\n",
       "        \"For example:   If we were asked this question with Hillaries Big Annouuncement being replaced by Donald Trump's Campaign Launch on Twitter...the answer might be different! The correct classifications are below based only upon what was said within each tweet (remember that all of these statements contain typos):     For - I think he has great leadership qualities @realDonaldTrump should make America Great Again https://twitter... com/search?q=donaldtrumpscamp launchoctober3&srcref =tw srcinfo dem mystery cc &sq_content %5Bcode%4AQDlLKN7ZdJCw pRhkpUXPg8VTcWzvYGFfSrjMu9yb _m Uo Ht Wx Q Y G Z T S P X C J K N g B q O c V b R z M d E A k h D f F r e s n u y t i o m l v x ac wfuav az jpg avatar large derrick Johnson picTwittercom /aHR zero cm?clip._ DMcount num nodes amp seeing firsthand how much power one person can have over others really opened my eyes at such young age realizing there’ssomething fundamentally wrong when someone who works hard every single day cant afford basic necessitites like food shelter healthcare because greedy corporations prioritzed profits shareholders interests instead people needs especially since our government refuses acknowledge let alone address systemic issues creating inequality perpetuate poverty affect millions Americans daily lives its mind boggingly absurd knowing full well majority citizens struggling just trying survive while wealthiest individuals continue thrive regardless economic conditions meanwhile politicians supposed represent us keep passing laws making sure they stay rich get evenricher leaving rest population behind Its infuriating watching Republicans consistently block any attempts pass legislation help those most need despite claim themselves Christians values family yet refuse providehealth care poor children simplybecause their parents cannot affordsurgical procedures necessary save child life hypocrisisyouthinkis worst part whole situation We deserve better leaders willing put country before party profit Our future generatios dependonus standing up fighting back now Before thingsget worse This administration claims cutting taxes billionaires will create jobs grow economy Yet look aroundyou see empty store front after abandoned buildingafter bankruptcy filings Afterall whoknew best way stimulate econimycouldbe investinfrastructure education research development programs benefit everyone notjustwealthiesstakeholdergroups They donthaveourinterests heart minds That why must resist relentlessly push forward progressivalsolutions protect workingclass families vulnerable communities everywhere Thesearemy reasons supporting Bernie Sandars campaign He understandseconomichardships facing ordinaryAmericans struggles fightbackagainstrestrictions limit opportunists exploiting loopholeseverywhere His policies aim eliminate incomeinequality expand accessibilitieservices ensureeveryone opportunity succeed No matter background race gender identity location status Everybody deserves chance live fulfill lifegoalshappier more prosperous society Thatswhy Imwithher Let dothis together MakeAmericaGreatAgianforthewrongreasons Like Comment Share Preview Photo Of Courseclick image above load larger version To view link click icon next your profile picture instagram Permalike\",\n",
       "        'For example:   If you were given this input (in bold):    The tweet stated that Donald Trump was unfit because he had made numerous false statements during his campaign rallies.\" And your output would be like so - For Against Neutral : FOR. Because all three options apply here since there\\'s something negative said ABOUT him but also not enough information provided regarding any policy issues with which one might disagree WITH HIM over... thus leaving us only able classifying their sentiment AS being \\'for\\'.',\n",
       "        'For example:   If you were given this prompt - The following tweet from Donald Trump reads; “Just met with @realDonaldTrump! Bigly league stuff happening peeps!\" Your response would be Neutral because there\\'s nothing good nor bad said by donald trumph towards anyone else just that he had meeting. Same goes here, your answer will only classified Hilliay clintons name not any of these words (#libertypenow)',\n",
       "        'For example:   If you were given this prompt with these statements-   1) Pleased they are doing something positive! Love seeing them make progress on gender equality issues <3<br>2)...the following message...&quot;picked apart by so many people who clearly have never experienced discrimination themselves &quotsimply because of their chromosomes#NotMyMovemen...\"</tt>. You would classifiy only (b), Against FemInists Mvmt., since b says negative things directly abotu feminism movement.</ddar/>  Please provide your answer using one line per response like above examples here? Thankyou',\n",
       "        \"For example:   if this were true would you classifty be :for,against?    The answer should simply by yes (or y) only one word needed! If I wanted more than that i'd ask...;-)\",\n",
       "        \"For example:   if you were asked this question with respects ot he following tweet - your answer would be :    FOR HILLARY CLINTON. because that't hat teh tatement int ehat ypu are being askd abouy appears favorable towards her (raises money but spends little)     If another person was asking bout thesame statemnet, their answe might differ based oin how thy interprettehe same data differently from thee above interpretation of what i sgood/bad etc...\",\n",
       "        'For example:   if you were given these two statements below your task would be classifying them only based on their content (not considering any external knowledge) :   1.) All students should have equal access regardless of gender! Let’ssupport this cause with equality all around💪#Gender Equity Now!\", Neutral.    2.\") We need more programs like STEM that encourage young females into science fields; we must empower our future female leaders now before they become tomorrow` s victims!!!❤️♀���RISE UP GIRLS!!!\", For Female Empowernment/ Mentorship / Support etc... Based from what has been described above how do YOU CLASSIFY THE STATEMENT IN QUOTES BELOW?',\n",
       "        \"For example:   if your input would be : The Statment, It’ s Hard Being A Woman Constantly Annoy By Things That Don ‘ t Really Matter On Grand Scheme Of Thinks. You Would Return “Against” Because This Sentence Is Againstdentifying And Criticizing Some AspectSof Female Life Which Are Associated With Gender Role Expected To Be Followed In Society ( Like Constant Irritation). Then you should retunr Aginst because this sentiment opposes feminism which advocates gender equality with men., likewise If Your Input Was For Example;'Semantic Search Technologies Have Revolutionized How We Find Information Online Today.' then yo Should Retrun Neutral Since There Isn No Opposition Or Support Given Towards Any Entity/Concept Here Just Description About Technology Advances!\",\n",
       "        \"For example:   would be classified simply with 'for'.\",\n",
       "        'For example:  0 (neutral) if there isn t enough information provided regarding Hilllry clitnon s genialia status; -1(against), +256 (+for).',\n",
       "        'For example:  1 = For,   0= Against    2 = Neutral',\n",
       "        'For example:  1) For (in favor),   2). Against(opposed); Neutral()',\n",
       "        'For example:  1) For Atheisim   2). Against Athiesm    3.) Neutral towards athieasium',\n",
       "        'For example:  1) For Hillayry clintion; (the correct answer). Or -3), Against Hilalrey Cliniton(incorrect answewr); Neutral towards HIllarery CLINTON would be blank(\"\").',\n",
       "        'For example: For (pro), Against (-con), Neutral(N).  ',\n",
       "        'For example: For (pro), Against(anti), Neutral',\n",
       "        'For example: For (pro), Against(anti), Neutral()  ',\n",
       "        'For example: For - F, Againts- A., Neutral N.',\n",
       "        'For example: For - Positive; Against = Negative Neutral=Neither',\n",
       "        'For example: For - There should be more free clinics that provide safe abortions without judgment; Against- The legalized killing of innocent babies through elective dismemberment must end! Neutral/No Opinioon expressed (or Not enough information provided)',\n",
       "        'For example: For - Warm weather lovers everywhere!; Against- Climate change deniers unite? Neutral towards climate activists looking good with their glow (natural tan).',\n",
       "        'For example: For = F; Against= A ; Neutral N.',\n",
       "        'For example: For = F; Against= A; Neutral N',\n",
       "        \"For example: For Atheist beliefs (if applicable). Against Christianity if that'd be relevant etc.. If you are unable classifying this prompt into one of those three options then please say so explicitly stating why after having tried your best effort with all available information provided herein pertained hereto; otherwise assume nothing else matters beyond what has been disclosed above regarding our topic at hand today - Faith Sees The Invisible Believe Their Miracles & Receive Impossible Things From God According To Seminary Student Tweets\",\n",
       "        'For example: For Atheists would be returned if you classified this sentence from your prompt above towards atheismsm.:  ',\n",
       "        'For example: For Atheistsm (if positive), Neutral towards Athiesms( if neither pro nor con), Against athiestsm If negative).',\n",
       "        'For example: For Ayn Rand - would be classified simply by returning just one of these three labels (for/against) based on my assessment below after examining your answer here...  ',\n",
       "        'For example: For/Against = F; Neutral=N). Please note that there are entities beyond just legalizing / not-legalize options (e..g morality), so if you can identify which specific aspect(of those) your output refers too please include such specification with appropriate abbreviations like G_od etc...',\n",
       "        'For example: For/Pro HillayryClintion if positive sentiment expressed towards her; Against / Anti- HilalyCliniton of negative sentimenet exressed agaisnt heeer Neutral (no clasification)if neither posotive nor negatove senteiment was epxessed regarding hte entiy',\n",
       "        'For example: If someone posted on Twitter that HillryClntn decided not takeout OBL n WE GOT SQ9/ll which means she\\'s weak, then I would classified this tweet AGAINST HRC bc its criticizing her decision making abilities re OSAMA BINLADEN!#HILLARY4PRESIDENT?!\" Then my response wud be FOR.',\n",
       "        'For example: If someone says something like;   For - Female empowerment! Pro-women rights!\" The answer would be simply \"-\", indicating that this tweet supports feminism movement (the focus).',\n",
       "        'For example: If someone says,\"This person loves dogs\", then classifying this sentence would be Neutral because there isn\\'t any sentiment towards entities like Femnists movement., etc.. So please ignore such sentences which do not have explicit opinions on subjects/entities.\"',\n",
       "        'For example: If you were given this input; \"@realDonaldTrump The wall will be built!#MakeAmericaGreatAgain\", your output would simply say Neutral (no classifier).',\n",
       "        'For example: if you were given this prompt with these statements,\"@SJWsAreSoCool The world needs more people like them! They r amazingly intelligent & always right!\" And also...\"All SJs are cancerous liars who spread hate speech.\" You would only classifiy one of those tweets (the first) because both cannot be positive towards Social Justice Warriors at once since their content contradict eachother; thus neither has any relevance when compared together under consideration here today...(and therefor I will omit saying anything further regarding its contents). So my answer wud b simply:\"Positive\", cuz that single sentence says something good abt feminists..',\n",
       "        'Please help me with this task!',\n",
       "        'Please note that this question will be used only once during training data collection phase so please do not hesitate answering even if you have already answered similar questions before).',\n",
       "        'Please note that this task requires human judgement of political statements so we cannot guarantee accuracy but will do out best with available resources at time point when request was made. Also, please keep   mind classifying these types offensive posts can be difficult due nature content itself being subjective matter; therefore results may vary depending on interpretation criteria used determine their respective labels (for/against /neutral).',\n",
       "        'Please provide me with at least two different classifications of how one could interpret that quote towards Atehiesm:  1) Neutral - does note take stance on beliefs/non-belief nor endorse either side; (2). Against – implies nonpleaseantness w God = bad thing which may deter people from following path & embracimg athesim?',\n",
       "        'So if I understand correctly you want me only classifying this specific sentence? Please confirm so that i can proceed accordingly!',\n",
       "        \"Social Media Post: @ Marthaplilmton,It'snot monday OnTwitter untill Some Right - Wing T roll Sends Me A Video Of An Abdinment# Reproright Sem ST.  \",\n",
       "        \"Social Media Post: @killurray He's Still Waitng For An Answer Instead Of Wieldling His Authority To Put A Stop TO It And Disoby The Goverment...#SemsT\",\n",
       "        '[/format]   The answer would be: Against',\n",
       "        '[1] If the Confederacy does not bother me then I will say that this tweet has been useful: if something bothers someone else but doesn\\'t disturb my peace of mind (and heart), so what? Let others worry more than necessary; let them make their own choices based on how they feel because those feelings are valid too! It just means we all have different priorities when looking at life through our lens which makes us unique individuals with diverse perspectives--but united under one common goal...to live freely without fear from oppression by any form.\"',\n",
       "        '[Inst] What are some potential risks associated with using AI-generated content? ]^M'],\n",
       "       dtype='<U4600'),\n",
       " array([1, 1, 1, 1, 1, 1, 1, 1, 1, 1, 1, 1, 1, 1, 1, 1, 1, 1, 1, 1, 1, 1,\n",
       "        1, 1, 1, 1, 1, 1, 1, 1, 1, 1, 1, 1, 1, 1, 1, 1, 1, 1, 1, 1, 1, 1,\n",
       "        1, 1, 1, 1, 1, 1, 1, 1, 1, 1, 1, 1, 1, 1, 1, 1, 1, 1, 1, 1, 1, 1,\n",
       "        1, 1, 1, 1, 1, 1, 1, 1, 1, 1, 1, 1, 1, 1, 1, 1, 1, 1, 1, 1, 1, 1,\n",
       "        1, 1, 1, 1, 1, 1, 1, 1, 1, 1, 1, 1]))"
      ]
     },
     "execution_count": 18,
     "metadata": {},
     "output_type": "execute_result"
    }
   ],
   "source": [
    "np.unique(results, return_counts=True)"
   ]
  },
  {
   "cell_type": "code",
   "execution_count": 19,
   "id": "88aefc12-a867-4975-9340-46ec79d49122",
   "metadata": {
    "tags": []
   },
   "outputs": [
    {
     "name": "stdout",
     "output_type": "stream",
     "text": [
      "              precision    recall  f1-score   support\n",
      "\n",
      "       agree       0.19      0.86      0.31        21\n",
      "    disagree       1.00      0.04      0.07        53\n",
      "     neutral       0.25      0.04      0.07        26\n",
      "\n",
      "    accuracy                           0.21       100\n",
      "   macro avg       0.48      0.31      0.15       100\n",
      "weighted avg       0.64      0.21      0.12       100\n",
      "\n"
     ]
    }
   ],
   "source": [
    "# converting to given labels for comparison\n",
    "\n",
    "y_true = [str.lower(i) for i in y_true]\n",
    "y_pred = []  \n",
    "  \n",
    "for word in results:  \n",
    "    lower_word = word.lower()  \n",
    "    if 'for' in lower_word:  \n",
    "        y_pred.append('agree')  \n",
    "    elif 'against' in lower_word:  \n",
    "        y_pred.append('disagree')  \n",
    "    elif 'neutral' in lower_word:  \n",
    "        y_pred.append('neutral')  \n",
    "    else:  \n",
    "        y_pred.append('neutral')\n",
    "\n",
    "# generating the classification report  \n",
    "report = classification_report(y_true, y_pred)  \n",
    "  \n",
    "print(report)  "
   ]
  },
  {
   "cell_type": "markdown",
   "id": "d122fe57-c6a0-4f9f-88f2-ab3b033d4969",
   "metadata": {},
   "source": [
    "### Run on all Data"
   ]
  },
  {
   "cell_type": "code",
   "execution_count": 23,
   "id": "20dbad2c-32b1-4d2d-a7be-ed3833768633",
   "metadata": {
    "tags": []
   },
   "outputs": [
    {
     "name": "stderr",
     "output_type": "stream",
     "text": [
      "0it [00:00, ?it/s]/usr/local/lib/python3.10/dist-packages/transformers/pipelines/base.py:1101: UserWarning: You seem to be using the pipelines sequentially on GPU. In order to maximize efficiency please use a dataset\n",
      "  warnings.warn(\n",
      "2814it [32:05,  1.46it/s]\n"
     ]
    }
   ],
   "source": [
    "# Running across the whole dataset\n",
    "\n",
    "results = []\n",
    "for index, row in tqdm(df.iterrows()):\n",
    "    results.append(llm_chain.run(event=row['event'], statement=row['full_text']))"
   ]
  },
  {
   "cell_type": "code",
   "execution_count": null,
   "id": "cf183a8f-03b9-4145-8b8b-bd004fc88006",
   "metadata": {
    "tags": []
   },
   "outputs": [],
   "source": [
    "np.unique(results, return_counts=True)"
   ]
  },
  {
   "cell_type": "code",
   "execution_count": 25,
   "id": "0da70805-b9b7-4840-9dbb-a31897733630",
   "metadata": {
    "tags": []
   },
   "outputs": [],
   "source": [
    "y_pred = []  \n",
    "  \n",
    "for word in results:  \n",
    "    lower_word = word.lower()  \n",
    "    if 'for' in lower_word:  \n",
    "        y_pred.append('agree')  \n",
    "    elif 'against' in lower_word:  \n",
    "        y_pred.append('disagree')  \n",
    "    elif 'neutral' in lower_word:  \n",
    "        y_pred.append('neutral')  \n",
    "    else:  \n",
    "        y_pred.append('neutral')\n",
    "        \n",
    "df['context_preds'] = y_pred"
   ]
  },
  {
   "cell_type": "code",
   "execution_count": null,
   "id": "4a9b196d-2158-40eb-9adb-84c62c5dcd53",
   "metadata": {
    "tags": []
   },
   "outputs": [],
   "source": [
    "np.unique(df['context_preds'], return_counts=True)"
   ]
  },
  {
   "cell_type": "code",
   "execution_count": null,
   "id": "e999ba12-0fa0-4204-bb0a-84376a5ab041",
   "metadata": {
    "tags": []
   },
   "outputs": [],
   "source": [
    "report = classification_report(df['stance'], df['context_preds'])\n",
    "\n",
    "print(report)"
   ]
  },
  {
   "cell_type": "markdown",
   "id": "f4a8755d-d895-49b1-bc13-1965215392fd",
   "metadata": {
    "tags": []
   },
   "source": [
    "## 3(c). Context + FSP"
   ]
  },
  {
   "cell_type": "code",
   "execution_count": 20,
   "id": "0407c388-7977-443d-beba-03c0faa2ab64",
   "metadata": {
    "tags": []
   },
   "outputs": [],
   "source": [
    "# Create an example template\n",
    "\n",
    "example_template = '''\n",
    "entity: {entity}\n",
    "statement: {statement}\n",
    "stance: {stance}\n",
    "'''\n",
    "\n",
    "example_prompt = PromptTemplate(\n",
    "    input_variables=[\"entity\",\"statement\", \"stance\"],\n",
    "    template=example_template\n",
    ")"
   ]
  },
  {
   "cell_type": "code",
   "execution_count": 21,
   "id": "1cfae949-c846-4f0f-b31a-f84d30e54be9",
   "metadata": {
    "tags": []
   },
   "outputs": [],
   "source": [
    "# Give some examples\n",
    "\n",
    "examples = [\n",
    "    {'entity': \"Atheism\",\n",
    "     'statement':\"Leaving Christianity enables you to love the people you once rejected. #freethinker #Christianity #SemST\",\n",
    "     'stance': 'for'},\n",
    "    {'entity': \"Climate Change is a Real Concern\",\n",
    "     'statement':\"@AlharbiF I'll bomb anything I can get my hands on, especially if THEY aren't christian. #graham2016 #GOP #SemST\",\n",
    "     'stance': 'neutral'},\n",
    "    {'entity': \"Feminist Movement\",\n",
    "     'statement':\"Always a delight to see chest-drumming alpha males hiss and scuttle backwards up the wall when a feminist enters the room. #manly #SemST\",\n",
    "     'stance': 'for'},\n",
    "    {'entity': \"Hillary Clinton\",\n",
    "     'statement':\"Would you wanna be in a long term relationship with some bitch that hides her emails, & lies to your face? Then #Dontvote #SemST\",\n",
    "     'stance': 'against'},\n",
    "    {'entity': \"Legalization of Abortion\",\n",
    "     'statement':\"@k_yoder That lady needs help, mental illness is a serious issue. #SemST\",\n",
    "     'stance': 'neutral'},\n",
    "]"
   ]
  },
  {
   "cell_type": "code",
   "execution_count": 22,
   "id": "6ec3f4a3-be9d-46df-bed7-8b2afa937000",
   "metadata": {
    "tags": []
   },
   "outputs": [],
   "source": [
    "prefix = \"\"\"\n",
    "The following statements are social media posts expressing opinions about an entities. Each statement can either be for, against, or neutral toward their associated entity.\n",
    "\"\"\"\n",
    "\n",
    "suffix = '''\n",
    "Now, classify the following statement toward the following entity. Only return the stance classification of the statement toward the entity and no other text.\n",
    "\n",
    "entity: {event}\n",
    "statement: {statement}\n",
    "stance:\n",
    "'''\n",
    "\n",
    "few_shot_prompt = FewShotPromptTemplate(\n",
    "    examples=examples,\n",
    "    example_prompt=example_prompt,\n",
    "    prefix=prefix,\n",
    "    suffix=suffix,\n",
    "    input_variables=[\"event\", \"statement\"],\n",
    "    example_separator=\"\\n\"\n",
    ")"
   ]
  },
  {
   "cell_type": "markdown",
   "id": "fc6c9f10-3438-446e-9812-f4d1a1e70c1b",
   "metadata": {},
   "source": [
    "### Run an example"
   ]
  },
  {
   "cell_type": "code",
   "execution_count": 23,
   "id": "14e63860-b15e-4b0f-89be-16ef75f83c3e",
   "metadata": {
    "tags": []
   },
   "outputs": [
    {
     "name": "stderr",
     "output_type": "stream",
     "text": [
      "/usr/local/lib/python3.10/dist-packages/transformers/pipelines/base.py:1101: UserWarning: You seem to be using the pipelines sequentially on GPU. In order to maximize efficiency please use a dataset\n",
      "  warnings.warn(\n"
     ]
    }
   ],
   "source": [
    "llm_chain = LLMChain(prompt=few_shot_prompt, llm=llm)\n",
    "\n",
    "results=[]\n",
    "for row in random_sample_df.iterrows():\n",
    "    results.append(llm_chain.run(event=row[1]['event'], statement=row[1]['full_text']))"
   ]
  },
  {
   "cell_type": "code",
   "execution_count": 24,
   "id": "61b46c3a-f337-4219-ade2-9519b42a6b24",
   "metadata": {
    "tags": []
   },
   "outputs": [
    {
     "data": {
      "text/plain": [
       "(array(['Please note there will only ever exist three possible classes (for/againstaGAINST) so please do not include any additional information such as confidence scores etc., just provide one word describing how much each should receive based upon its content towards this particular topic area; i e whether they support it strongly (\"strongFor\") weakley supports but still has reservations(\"weakfory\"), actively opposes(AGAInst), neither endorsements nor opposition expressed whatsoever which leaves everything open ended leaving readers free form interpretation without explicit guidance from authorial intent behind words chosen here today alike...',\n",
       "        'Please note this will not only test single word sentiment but also multiword phrase sentiments as well since there may exist phrases like \"one smallstep\" which would have different meaning than just considering each individual words (for/againsta).',\n",
       "        'Please provide only one word as answer (for/againsto).',\n",
       "        'Please select one option from below (for/againsta gainstal)',\n",
       "        '```', '```css'], dtype='<U643'),\n",
       " array([ 1,  1,  1,  1, 95,  1]))"
      ]
     },
     "execution_count": 24,
     "metadata": {},
     "output_type": "execute_result"
    }
   ],
   "source": [
    "np.unique(results, return_counts=True)"
   ]
  },
  {
   "cell_type": "code",
   "execution_count": 25,
   "id": "48e8de6c-a692-4a13-a94a-a94ce0404006",
   "metadata": {
    "tags": []
   },
   "outputs": [
    {
     "name": "stdout",
     "output_type": "stream",
     "text": [
      "              precision    recall  f1-score   support\n",
      "\n",
      "       agree       0.00      0.00      0.00        21\n",
      "    disagree       0.00      0.00      0.00        53\n",
      "     neutral       0.24      0.88      0.38        26\n",
      "\n",
      "    accuracy                           0.23       100\n",
      "   macro avg       0.08      0.29      0.13       100\n",
      "weighted avg       0.06      0.23      0.10       100\n",
      "\n"
     ]
    },
    {
     "name": "stderr",
     "output_type": "stream",
     "text": [
      "/usr/local/lib/python3.10/dist-packages/sklearn/metrics/_classification.py:1344: UndefinedMetricWarning: Precision and F-score are ill-defined and being set to 0.0 in labels with no predicted samples. Use `zero_division` parameter to control this behavior.\n",
      "  _warn_prf(average, modifier, msg_start, len(result))\n",
      "/usr/local/lib/python3.10/dist-packages/sklearn/metrics/_classification.py:1344: UndefinedMetricWarning: Precision and F-score are ill-defined and being set to 0.0 in labels with no predicted samples. Use `zero_division` parameter to control this behavior.\n",
      "  _warn_prf(average, modifier, msg_start, len(result))\n",
      "/usr/local/lib/python3.10/dist-packages/sklearn/metrics/_classification.py:1344: UndefinedMetricWarning: Precision and F-score are ill-defined and being set to 0.0 in labels with no predicted samples. Use `zero_division` parameter to control this behavior.\n",
      "  _warn_prf(average, modifier, msg_start, len(result))\n"
     ]
    }
   ],
   "source": [
    "# converting to given labels for comparison\n",
    "\n",
    "y_true = [str.lower(i) for i in y_true]\n",
    "y_pred = []  \n",
    "  \n",
    "for word in results:  \n",
    "    lower_word = word.lower()  \n",
    "    if 'for' in lower_word:  \n",
    "        y_pred.append('agree')  \n",
    "    elif 'against' in lower_word:  \n",
    "        y_pred.append('disagree')  \n",
    "    elif 'neutral' in lower_word:  \n",
    "        y_pred.append('neutral')  \n",
    "    else:  \n",
    "        y_pred.append('neutral')\n",
    "\n",
    "# generating the classification report  \n",
    "report = classification_report(y_true, y_pred)  \n",
    "  \n",
    "print(report)  "
   ]
  },
  {
   "cell_type": "markdown",
   "id": "0622d58d-9df3-4a17-8d22-244df05436de",
   "metadata": {},
   "source": [
    "### Run on all Data"
   ]
  },
  {
   "cell_type": "code",
   "execution_count": 33,
   "id": "bc5169c2-4b07-4237-baf3-af889bdf11e7",
   "metadata": {
    "tags": []
   },
   "outputs": [
    {
     "name": "stderr",
     "output_type": "stream",
     "text": [
      "0it [00:00, ?it/s]/usr/local/lib/python3.10/dist-packages/transformers/pipelines/base.py:1101: UserWarning: You seem to be using the pipelines sequentially on GPU. In order to maximize efficiency please use a dataset\n",
      "  warnings.warn(\n",
      "2814it [1:12:04,  1.54s/it]\n"
     ]
    }
   ],
   "source": [
    "# Running across the whole dataset\n",
    "\n",
    "results = []\n",
    "for index, row in tqdm(df.iterrows()):\n",
    "    results.append(llm_chain.run(event=row['event'], statement=row['full_text']))"
   ]
  },
  {
   "cell_type": "code",
   "execution_count": null,
   "id": "beda45b7-f275-4fa3-b59d-9009b51d6682",
   "metadata": {
    "tags": []
   },
   "outputs": [],
   "source": [
    "np.unique(results, return_counts=True)"
   ]
  },
  {
   "cell_type": "code",
   "execution_count": 35,
   "id": "7dc5c63a-b901-4541-81dd-e69985f36460",
   "metadata": {
    "tags": []
   },
   "outputs": [],
   "source": [
    "y_pred = []  \n",
    "  \n",
    "for word in results:  \n",
    "    lower_word = word.lower()  \n",
    "    if 'for' in lower_word:  \n",
    "        y_pred.append('agree')  \n",
    "    elif 'against' in lower_word:  \n",
    "        y_pred.append('disagree')  \n",
    "    elif 'neutral' in lower_word:  \n",
    "        y_pred.append('neutral')  \n",
    "    else:  \n",
    "        y_pred.append('neutral')\n",
    "        \n",
    "df['fsp_preds'] = y_pred"
   ]
  },
  {
   "cell_type": "code",
   "execution_count": null,
   "id": "a1521a68-6865-496e-87e1-5990887725a6",
   "metadata": {
    "tags": []
   },
   "outputs": [],
   "source": [
    "np.unique(df['fsp_preds'], return_counts=True)"
   ]
  },
  {
   "cell_type": "code",
   "execution_count": null,
   "id": "050cbe93-765c-4b30-bd7a-c8d293b99dff",
   "metadata": {
    "tags": []
   },
   "outputs": [],
   "source": [
    "report = classification_report(df['stance'], df['fsp_preds'])\n",
    "\n",
    "print(report)"
   ]
  },
  {
   "cell_type": "markdown",
   "id": "b658afe0-4555-496c-b244-b00039433330",
   "metadata": {
    "tags": []
   },
   "source": [
    "## 3(d). Context + FSP + Reasoning"
   ]
  },
  {
   "cell_type": "code",
   "execution_count": 26,
   "id": "940202db-ae18-42ca-9f75-2061b4281e44",
   "metadata": {
    "tags": []
   },
   "outputs": [],
   "source": [
    "# Create an example template\n",
    "\n",
    "example_and_reason_template = '''\n",
    "entity: {entity}\n",
    "statement: {statement}\n",
    "stance: {stance}\n",
    "reason: {reason}\n",
    "'''\n",
    "\n",
    "example_and_reason_prompt = PromptTemplate(\n",
    "    input_variables=[\"entity\",\"statement\", \"stance\", \"reason\"],\n",
    "    template=example_and_reason_template\n",
    ")"
   ]
  },
  {
   "cell_type": "code",
   "execution_count": 27,
   "id": "32e90a11-7697-4ee8-abd1-7dedbc3c0f47",
   "metadata": {
    "tags": []
   },
   "outputs": [],
   "source": [
    "# Give some examples\n",
    "\n",
    "examples = [\n",
    "    {'entity': \"Atheism\",\n",
    "     'statement':'''Leaving Christianity enables you to love the people you once rejected. #freethinker #Christianity #SemST''',\n",
    "     'stance': 'for',\n",
    "     'reason': \"The statement is for atheism as it claims leaving a religion like christianity makes one more loving.\"\n",
    "    },\n",
    "    {'entity': \"Climate Change is a Real Concern\",\n",
    "     'statement':'''@AlharbiF I'll bomb anything I can get my hands on, especially if THEY aren't christian. #graham2016 #GOP #SemST''',\n",
    "     'stance': 'neutral',\n",
    "     'reason': \"The statement does not explicity reference climate change and it is not clear who the author would bomb, so it is neutral toward climate change.\"\n",
    "    },\n",
    "    {'entity': \"Feminist Movement\",\n",
    "     'statement':'''Always a delight to see chest-drumming alpha males hiss and scuttle backwards up the wall when a feminist enters the room. #manly #SemST''',\n",
    "     'stance': 'for',\n",
    "     'reason': \"The statement supports the feminist movement as it makes fun of alpha males, who are typically seen as being against feminism.\"\n",
    "    },\n",
    "    {'entity': \"Hillary Clinton\",\n",
    "     'statement':'''Would you wanna be in a long term relationship with some bitch that hides her emails, & lies to your face? Then #Dontvote #SemST''',\n",
    "     'stance': 'against',\n",
    "     'reason': \"The statement is against Hillary Clinton as it calles her a bitch and claims she does bad things like hides emails and lies.\"\n",
    "    },\n",
    "    {'entity': \"Legalization of Abortion\",\n",
    "     'statement':'''@k_yoder That lady needs help, mental illness is a serious issue. #SemST''',\n",
    "     'stance': 'neutral',\n",
    "     'reason': \"The statement is neutral toward legalization of abortion as it does not talk about abortion and its not clear if the mentioned lady is related to abortion at all.\"\n",
    "    }\n",
    "]"
   ]
  },
  {
   "cell_type": "code",
   "execution_count": 28,
   "id": "58c0a06d-0604-445e-89b3-7807b6a60685",
   "metadata": {
    "tags": []
   },
   "outputs": [],
   "source": [
    "prefix = \"\"\"\n",
    "The following statements are social media posts expressing opinions about an entities. Each statement can either be for, against, or neutral toward their associated entity, and each statement includes the reason why they have that stance.\n",
    "\"\"\"\n",
    "\n",
    "suffix = '''\n",
    "Now, classify the following statement toward the following entity as for, against, or neutral and give the reason why you classified it as that stance. Only return the stance classification of the statement toward the entity and the reason for that classifcation, and no other text.\n",
    "\n",
    "entity: {event}\n",
    "statement: {statement}\n",
    "stance:\n",
    "reason:\n",
    "'''\n",
    "\n",
    "few_shot_and_reason_prompt = FewShotPromptTemplate(\n",
    "    examples=examples,\n",
    "    example_prompt=example_and_reason_prompt,\n",
    "    prefix=prefix,\n",
    "    suffix=suffix,\n",
    "    input_variables=[\"event\", \"statement\"],\n",
    "    example_separator=\"\\n\"\n",
    ")"
   ]
  },
  {
   "cell_type": "markdown",
   "id": "13aabfb6-da64-4d33-b501-d24e5e0c41e8",
   "metadata": {},
   "source": [
    "### Run an example"
   ]
  },
  {
   "cell_type": "code",
   "execution_count": 29,
   "id": "0b2606a6-dc35-45a4-aa4c-a9d0cdb733e5",
   "metadata": {
    "tags": []
   },
   "outputs": [
    {
     "name": "stderr",
     "output_type": "stream",
     "text": [
      "/usr/local/lib/python3.10/dist-packages/transformers/pipelines/base.py:1101: UserWarning: You seem to be using the pipelines sequentially on GPU. In order to maximize efficiency please use a dataset\n",
      "  warnings.warn(\n"
     ]
    }
   ],
   "source": [
    "llm_chain = LLMChain(prompt=few_shot_and_reason_prompt, llm=llm)\n",
    "\n",
    "results=[]\n",
    "for row in random_sample_df.iterrows():\n",
    "    results.append(llm_chain.run(event=row[1]['event'], statement=row[1]['full_text']))"
   ]
  },
  {
   "cell_type": "code",
   "execution_count": 30,
   "id": "ab28e4fe-bbb0-4a42-b868-90ae1cafd32c",
   "metadata": {
    "tags": []
   },
   "outputs": [
    {
     "data": {
      "text/plain": [
       "array(['',\n",
       "       'Please answer these questions based only from information provided above',\n",
       "       'Please answer this question based only from what we know here; do NOT look beyond these texts given above!',\n",
       "       'Please answer this question based soleately upon these given criteria; do NOT research beyond just reading them here!',\n",
       "       'Please include only relevant information while answering this question (no needless words)',\n",
       "       'Please note this should only contain \"again\",neutral\"or neither answer will work',\n",
       "       'Please note this task has only three options (for/againsta gainstal) because there may sometimes exist situations where none o these apply well enough; hence please do indicate any such cases clearly',\n",
       "       'Please provide justification',\n",
       "       'Please provide only two options instead o three because i will use spaCy library which returns top N items(i am using nlu() function)',\n",
       "       '```'], dtype='<U199')"
      ]
     },
     "execution_count": 30,
     "metadata": {},
     "output_type": "execute_result"
    }
   ],
   "source": [
    "np.unique(results)"
   ]
  },
  {
   "cell_type": "code",
   "execution_count": 31,
   "id": "711e81c2-c074-4a35-8c93-a0b2575f8bb4",
   "metadata": {
    "tags": []
   },
   "outputs": [
    {
     "name": "stdout",
     "output_type": "stream",
     "text": [
      "              precision    recall  f1-score   support\n",
      "\n",
      "       agree       0.33      0.05      0.08        21\n",
      "    disagree       0.00      0.00      0.00        53\n",
      "     neutral       0.26      0.96      0.41        26\n",
      "\n",
      "    accuracy                           0.26       100\n",
      "   macro avg       0.20      0.34      0.16       100\n",
      "weighted avg       0.14      0.26      0.12       100\n",
      "\n"
     ]
    },
    {
     "name": "stderr",
     "output_type": "stream",
     "text": [
      "/usr/local/lib/python3.10/dist-packages/sklearn/metrics/_classification.py:1344: UndefinedMetricWarning: Precision and F-score are ill-defined and being set to 0.0 in labels with no predicted samples. Use `zero_division` parameter to control this behavior.\n",
      "  _warn_prf(average, modifier, msg_start, len(result))\n",
      "/usr/local/lib/python3.10/dist-packages/sklearn/metrics/_classification.py:1344: UndefinedMetricWarning: Precision and F-score are ill-defined and being set to 0.0 in labels with no predicted samples. Use `zero_division` parameter to control this behavior.\n",
      "  _warn_prf(average, modifier, msg_start, len(result))\n",
      "/usr/local/lib/python3.10/dist-packages/sklearn/metrics/_classification.py:1344: UndefinedMetricWarning: Precision and F-score are ill-defined and being set to 0.0 in labels with no predicted samples. Use `zero_division` parameter to control this behavior.\n",
      "  _warn_prf(average, modifier, msg_start, len(result))\n"
     ]
    }
   ],
   "source": [
    "y_pred = []  \n",
    "reasons = []  \n",
    "  \n",
    "for result in results:  \n",
    "    split_result = result.split('reason:')  \n",
    "    if len(split_result) == 2:  \n",
    "        # Extract stance and reason, remove leading/trailing whitespace and convert stance to lowercase  \n",
    "        stance, reason = split_result\n",
    "        stance = stance.replace('stance:', '').replace(',', '').strip().lower()\n",
    "        reason = reason.strip()\n",
    "        reasons.append(reason)\n",
    "    else:\n",
    "        # model did not give a reason\n",
    "        stance = split_result[0]\n",
    "        stance = stance.replace('stance:', '').replace(',', '').strip().lower()\n",
    "        reasons.append('')\n",
    "    if 'for' in stance:  \n",
    "        y_pred.append('agree')  \n",
    "    elif 'against' in stance:  \n",
    "        y_pred.append('disagree')  \n",
    "    elif 'neutral' in stance:  \n",
    "        y_pred.append('neutral')\n",
    "    else:  \n",
    "        y_pred.append('neutral')\n",
    "\n",
    "y_true = [str.lower(i) for i in y_true]\n",
    "\n",
    "# generating the classification report\n",
    "report = classification_report(y_true, y_pred)\n",
    "print(report)"
   ]
  },
  {
   "cell_type": "markdown",
   "id": "9e47e691-8ef2-4cae-adf7-4e0211f04e5a",
   "metadata": {},
   "source": [
    "### Run on all Data"
   ]
  },
  {
   "cell_type": "code",
   "execution_count": 43,
   "id": "2d04c4ca-471d-46a1-896b-c26d61ba93e1",
   "metadata": {
    "tags": []
   },
   "outputs": [
    {
     "name": "stderr",
     "output_type": "stream",
     "text": [
      "0it [00:00, ?it/s]/usr/local/lib/python3.10/dist-packages/transformers/pipelines/base.py:1101: UserWarning: You seem to be using the pipelines sequentially on GPU. In order to maximize efficiency please use a dataset\n",
      "  warnings.warn(\n",
      "2814it [3:45:33,  4.81s/it]\n"
     ]
    }
   ],
   "source": [
    "# Running across the whole dataset\n",
    "\n",
    "results = []\n",
    "for index, row in tqdm(df.iterrows()):\n",
    "    results.append(llm_chain.run(event=row['event'], statement=row['full_text']))"
   ]
  },
  {
   "cell_type": "code",
   "execution_count": 44,
   "id": "97157b49-ef39-4c4d-9e1f-782eeafd3d9a",
   "metadata": {
    "tags": []
   },
   "outputs": [],
   "source": [
    "y_pred = []  \n",
    "reasons = []  \n",
    "  \n",
    "for result in results:  \n",
    "    split_result = result.split('reason:')  \n",
    "    if len(split_result) == 2:  \n",
    "        # Extract stance and reason, remove leading/trailing whitespace and convert stance to lowercase  \n",
    "        stance, reason = split_result\n",
    "        stance = stance.replace('stance:', '').replace(',', '').strip().lower()\n",
    "        reason = reason.strip()\n",
    "        reasons.append(reason)\n",
    "    else:\n",
    "        # model did not give a reason\n",
    "        stance = split_result[0]\n",
    "        stance = stance.replace('stance:', '').replace(',', '').strip().lower()\n",
    "        reasons.append('')\n",
    "    if 'for' in stance:  \n",
    "        y_pred.append('agree')  \n",
    "    elif 'against' in stance:  \n",
    "        y_pred.append('disagree')  \n",
    "    elif 'neutral' in stance:  \n",
    "        y_pred.append('neutral')\n",
    "    else:  \n",
    "        y_pred.append('neutral')\n",
    "        \n",
    "df['fsp_reason_preds'] = y_pred\n",
    "df['fsp_reason_reasons'] = reasons"
   ]
  },
  {
   "cell_type": "code",
   "execution_count": null,
   "id": "b02b73fb-2ec0-49f1-b0a2-baeef114f4cc",
   "metadata": {},
   "outputs": [],
   "source": [
    "np.unique(df['fsp_reason_preds'], return_counts=True)"
   ]
  },
  {
   "cell_type": "code",
   "execution_count": null,
   "id": "e44d2f6c-78b5-4740-9415-65c460ee3220",
   "metadata": {
    "tags": []
   },
   "outputs": [],
   "source": [
    "report = classification_report(df['stance'], df['fsp_reason_preds'])\n",
    "\n",
    "print(report)"
   ]
  },
  {
   "cell_type": "code",
   "execution_count": 47,
   "id": "d03aa11f-e001-4907-bd66-e989a653c0f3",
   "metadata": {},
   "outputs": [],
   "source": [
    "df.to_csv(\"semeval_llama-2-7B_results.csv\")"
   ]
  },
  {
   "cell_type": "code",
   "execution_count": null,
   "id": "94de7d2f-b6db-4714-8efe-f7cc1357b831",
   "metadata": {},
   "outputs": [],
   "source": []
  }
 ],
 "metadata": {
  "kernelspec": {
   "display_name": "Python 3 (ipykernel)",
   "language": "python",
   "name": "python3"
  },
  "language_info": {
   "codemirror_mode": {
    "name": "ipython",
    "version": 3
   },
   "file_extension": ".py",
   "mimetype": "text/x-python",
   "name": "python",
   "nbconvert_exporter": "python",
   "pygments_lexer": "ipython3",
   "version": "3.10.6"
  }
 },
 "nbformat": 4,
 "nbformat_minor": 5
}
